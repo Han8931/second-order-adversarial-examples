{
  "nbformat": 4,
  "nbformat_minor": 0,
  "metadata": {
    "colab": {
      "name": "[TextAttack] [2AE p1]  constraint goal function - antonym attack: MR",
      "provenance": [],
      "collapsed_sections": [],
      "toc_visible": true
    },
    "kernelspec": {
      "name": "python3",
      "display_name": "Python 3"
    },
    "accelerator": "GPU",
    "widgets": {
      "application/vnd.jupyter.widget-state+json": {
        "589c82582e814d0ca81b7d8831911b10": {
          "model_module": "@jupyter-widgets/controls",
          "model_name": "HBoxModel",
          "state": {
            "_view_name": "HBoxView",
            "_dom_classes": [],
            "_model_name": "HBoxModel",
            "_view_module": "@jupyter-widgets/controls",
            "_model_module_version": "1.5.0",
            "_view_count": null,
            "_view_module_version": "1.5.0",
            "box_style": "",
            "layout": "IPY_MODEL_e23434a52d894f37a08fe1b15242afa6",
            "_model_module": "@jupyter-widgets/controls",
            "children": [
              "IPY_MODEL_a49f5bcb0bfd4901a6157ecf45fd3cec",
              "IPY_MODEL_de0c1bb58534408c9e8a53ee020087cd"
            ]
          }
        },
        "e23434a52d894f37a08fe1b15242afa6": {
          "model_module": "@jupyter-widgets/base",
          "model_name": "LayoutModel",
          "state": {
            "_view_name": "LayoutView",
            "grid_template_rows": null,
            "right": null,
            "justify_content": null,
            "_view_module": "@jupyter-widgets/base",
            "overflow": null,
            "_model_module_version": "1.2.0",
            "_view_count": null,
            "flex_flow": null,
            "width": null,
            "min_width": null,
            "border": null,
            "align_items": null,
            "bottom": null,
            "_model_module": "@jupyter-widgets/base",
            "top": null,
            "grid_column": null,
            "overflow_y": null,
            "overflow_x": null,
            "grid_auto_flow": null,
            "grid_area": null,
            "grid_template_columns": null,
            "flex": null,
            "_model_name": "LayoutModel",
            "justify_items": null,
            "grid_row": null,
            "max_height": null,
            "align_content": null,
            "visibility": null,
            "align_self": null,
            "height": null,
            "min_height": null,
            "padding": null,
            "grid_auto_rows": null,
            "grid_gap": null,
            "max_width": null,
            "order": null,
            "_view_module_version": "1.2.0",
            "grid_template_areas": null,
            "object_position": null,
            "object_fit": null,
            "grid_auto_columns": null,
            "margin": null,
            "display": null,
            "left": null
          }
        },
        "a49f5bcb0bfd4901a6157ecf45fd3cec": {
          "model_module": "@jupyter-widgets/controls",
          "model_name": "FloatProgressModel",
          "state": {
            "_view_name": "ProgressView",
            "style": "IPY_MODEL_d4e49034e6584d8081638710b2a5f9b7",
            "_dom_classes": [],
            "description": "Downloading: 100%",
            "_model_name": "FloatProgressModel",
            "bar_style": "success",
            "max": 487,
            "_view_module": "@jupyter-widgets/controls",
            "_model_module_version": "1.5.0",
            "value": 487,
            "_view_count": null,
            "_view_module_version": "1.5.0",
            "orientation": "horizontal",
            "min": 0,
            "description_tooltip": null,
            "_model_module": "@jupyter-widgets/controls",
            "layout": "IPY_MODEL_eb2ea66a50634c20ace7067fa8fd0d37"
          }
        },
        "de0c1bb58534408c9e8a53ee020087cd": {
          "model_module": "@jupyter-widgets/controls",
          "model_name": "HTMLModel",
          "state": {
            "_view_name": "HTMLView",
            "style": "IPY_MODEL_c932515e027d4dadb39625c77978c714",
            "_dom_classes": [],
            "description": "",
            "_model_name": "HTMLModel",
            "placeholder": "​",
            "_view_module": "@jupyter-widgets/controls",
            "_model_module_version": "1.5.0",
            "value": " 487/487 [00:00&lt;00:00, 737B/s]",
            "_view_count": null,
            "_view_module_version": "1.5.0",
            "description_tooltip": null,
            "_model_module": "@jupyter-widgets/controls",
            "layout": "IPY_MODEL_a27c8e4a389f41c98876c6f21e93ad02"
          }
        },
        "d4e49034e6584d8081638710b2a5f9b7": {
          "model_module": "@jupyter-widgets/controls",
          "model_name": "ProgressStyleModel",
          "state": {
            "_view_name": "StyleView",
            "_model_name": "ProgressStyleModel",
            "description_width": "initial",
            "_view_module": "@jupyter-widgets/base",
            "_model_module_version": "1.5.0",
            "_view_count": null,
            "_view_module_version": "1.2.0",
            "bar_color": null,
            "_model_module": "@jupyter-widgets/controls"
          }
        },
        "eb2ea66a50634c20ace7067fa8fd0d37": {
          "model_module": "@jupyter-widgets/base",
          "model_name": "LayoutModel",
          "state": {
            "_view_name": "LayoutView",
            "grid_template_rows": null,
            "right": null,
            "justify_content": null,
            "_view_module": "@jupyter-widgets/base",
            "overflow": null,
            "_model_module_version": "1.2.0",
            "_view_count": null,
            "flex_flow": null,
            "width": null,
            "min_width": null,
            "border": null,
            "align_items": null,
            "bottom": null,
            "_model_module": "@jupyter-widgets/base",
            "top": null,
            "grid_column": null,
            "overflow_y": null,
            "overflow_x": null,
            "grid_auto_flow": null,
            "grid_area": null,
            "grid_template_columns": null,
            "flex": null,
            "_model_name": "LayoutModel",
            "justify_items": null,
            "grid_row": null,
            "max_height": null,
            "align_content": null,
            "visibility": null,
            "align_self": null,
            "height": null,
            "min_height": null,
            "padding": null,
            "grid_auto_rows": null,
            "grid_gap": null,
            "max_width": null,
            "order": null,
            "_view_module_version": "1.2.0",
            "grid_template_areas": null,
            "object_position": null,
            "object_fit": null,
            "grid_auto_columns": null,
            "margin": null,
            "display": null,
            "left": null
          }
        },
        "c932515e027d4dadb39625c77978c714": {
          "model_module": "@jupyter-widgets/controls",
          "model_name": "DescriptionStyleModel",
          "state": {
            "_view_name": "StyleView",
            "_model_name": "DescriptionStyleModel",
            "description_width": "",
            "_view_module": "@jupyter-widgets/base",
            "_model_module_version": "1.5.0",
            "_view_count": null,
            "_view_module_version": "1.2.0",
            "_model_module": "@jupyter-widgets/controls"
          }
        },
        "a27c8e4a389f41c98876c6f21e93ad02": {
          "model_module": "@jupyter-widgets/base",
          "model_name": "LayoutModel",
          "state": {
            "_view_name": "LayoutView",
            "grid_template_rows": null,
            "right": null,
            "justify_content": null,
            "_view_module": "@jupyter-widgets/base",
            "overflow": null,
            "_model_module_version": "1.2.0",
            "_view_count": null,
            "flex_flow": null,
            "width": null,
            "min_width": null,
            "border": null,
            "align_items": null,
            "bottom": null,
            "_model_module": "@jupyter-widgets/base",
            "top": null,
            "grid_column": null,
            "overflow_y": null,
            "overflow_x": null,
            "grid_auto_flow": null,
            "grid_area": null,
            "grid_template_columns": null,
            "flex": null,
            "_model_name": "LayoutModel",
            "justify_items": null,
            "grid_row": null,
            "max_height": null,
            "align_content": null,
            "visibility": null,
            "align_self": null,
            "height": null,
            "min_height": null,
            "padding": null,
            "grid_auto_rows": null,
            "grid_gap": null,
            "max_width": null,
            "order": null,
            "_view_module_version": "1.2.0",
            "grid_template_areas": null,
            "object_position": null,
            "object_fit": null,
            "grid_auto_columns": null,
            "margin": null,
            "display": null,
            "left": null
          }
        },
        "7850940b24f04cebac028be9fe42f068": {
          "model_module": "@jupyter-widgets/controls",
          "model_name": "HBoxModel",
          "state": {
            "_view_name": "HBoxView",
            "_dom_classes": [],
            "_model_name": "HBoxModel",
            "_view_module": "@jupyter-widgets/controls",
            "_model_module_version": "1.5.0",
            "_view_count": null,
            "_view_module_version": "1.5.0",
            "box_style": "",
            "layout": "IPY_MODEL_11da773c9b49490ea5a3b55f55392ec7",
            "_model_module": "@jupyter-widgets/controls",
            "children": [
              "IPY_MODEL_99c815cc3e8c44829c7eee3e22a015e2",
              "IPY_MODEL_a0d798d419a442ebb5d19c004fb4b542"
            ]
          }
        },
        "11da773c9b49490ea5a3b55f55392ec7": {
          "model_module": "@jupyter-widgets/base",
          "model_name": "LayoutModel",
          "state": {
            "_view_name": "LayoutView",
            "grid_template_rows": null,
            "right": null,
            "justify_content": null,
            "_view_module": "@jupyter-widgets/base",
            "overflow": null,
            "_model_module_version": "1.2.0",
            "_view_count": null,
            "flex_flow": null,
            "width": null,
            "min_width": null,
            "border": null,
            "align_items": null,
            "bottom": null,
            "_model_module": "@jupyter-widgets/base",
            "top": null,
            "grid_column": null,
            "overflow_y": null,
            "overflow_x": null,
            "grid_auto_flow": null,
            "grid_area": null,
            "grid_template_columns": null,
            "flex": null,
            "_model_name": "LayoutModel",
            "justify_items": null,
            "grid_row": null,
            "max_height": null,
            "align_content": null,
            "visibility": null,
            "align_self": null,
            "height": null,
            "min_height": null,
            "padding": null,
            "grid_auto_rows": null,
            "grid_gap": null,
            "max_width": null,
            "order": null,
            "_view_module_version": "1.2.0",
            "grid_template_areas": null,
            "object_position": null,
            "object_fit": null,
            "grid_auto_columns": null,
            "margin": null,
            "display": null,
            "left": null
          }
        },
        "99c815cc3e8c44829c7eee3e22a015e2": {
          "model_module": "@jupyter-widgets/controls",
          "model_name": "FloatProgressModel",
          "state": {
            "_view_name": "ProgressView",
            "style": "IPY_MODEL_b0d610f635d94783bc673461f6a06392",
            "_dom_classes": [],
            "description": "Downloading: 100%",
            "_model_name": "FloatProgressModel",
            "bar_style": "success",
            "max": 231508,
            "_view_module": "@jupyter-widgets/controls",
            "_model_module_version": "1.5.0",
            "value": 231508,
            "_view_count": null,
            "_view_module_version": "1.5.0",
            "orientation": "horizontal",
            "min": 0,
            "description_tooltip": null,
            "_model_module": "@jupyter-widgets/controls",
            "layout": "IPY_MODEL_792da3f56c994320bee94cda8a6f306d"
          }
        },
        "a0d798d419a442ebb5d19c004fb4b542": {
          "model_module": "@jupyter-widgets/controls",
          "model_name": "HTMLModel",
          "state": {
            "_view_name": "HTMLView",
            "style": "IPY_MODEL_9a5203b314484e5590b229190cdc6f70",
            "_dom_classes": [],
            "description": "",
            "_model_name": "HTMLModel",
            "placeholder": "​",
            "_view_module": "@jupyter-widgets/controls",
            "_model_module_version": "1.5.0",
            "value": " 232k/232k [00:18&lt;00:00, 12.8kB/s]",
            "_view_count": null,
            "_view_module_version": "1.5.0",
            "description_tooltip": null,
            "_model_module": "@jupyter-widgets/controls",
            "layout": "IPY_MODEL_8da09f769a2e4bcb8ffdf021c2468a6d"
          }
        },
        "b0d610f635d94783bc673461f6a06392": {
          "model_module": "@jupyter-widgets/controls",
          "model_name": "ProgressStyleModel",
          "state": {
            "_view_name": "StyleView",
            "_model_name": "ProgressStyleModel",
            "description_width": "initial",
            "_view_module": "@jupyter-widgets/base",
            "_model_module_version": "1.5.0",
            "_view_count": null,
            "_view_module_version": "1.2.0",
            "bar_color": null,
            "_model_module": "@jupyter-widgets/controls"
          }
        },
        "792da3f56c994320bee94cda8a6f306d": {
          "model_module": "@jupyter-widgets/base",
          "model_name": "LayoutModel",
          "state": {
            "_view_name": "LayoutView",
            "grid_template_rows": null,
            "right": null,
            "justify_content": null,
            "_view_module": "@jupyter-widgets/base",
            "overflow": null,
            "_model_module_version": "1.2.0",
            "_view_count": null,
            "flex_flow": null,
            "width": null,
            "min_width": null,
            "border": null,
            "align_items": null,
            "bottom": null,
            "_model_module": "@jupyter-widgets/base",
            "top": null,
            "grid_column": null,
            "overflow_y": null,
            "overflow_x": null,
            "grid_auto_flow": null,
            "grid_area": null,
            "grid_template_columns": null,
            "flex": null,
            "_model_name": "LayoutModel",
            "justify_items": null,
            "grid_row": null,
            "max_height": null,
            "align_content": null,
            "visibility": null,
            "align_self": null,
            "height": null,
            "min_height": null,
            "padding": null,
            "grid_auto_rows": null,
            "grid_gap": null,
            "max_width": null,
            "order": null,
            "_view_module_version": "1.2.0",
            "grid_template_areas": null,
            "object_position": null,
            "object_fit": null,
            "grid_auto_columns": null,
            "margin": null,
            "display": null,
            "left": null
          }
        },
        "9a5203b314484e5590b229190cdc6f70": {
          "model_module": "@jupyter-widgets/controls",
          "model_name": "DescriptionStyleModel",
          "state": {
            "_view_name": "StyleView",
            "_model_name": "DescriptionStyleModel",
            "description_width": "",
            "_view_module": "@jupyter-widgets/base",
            "_model_module_version": "1.5.0",
            "_view_count": null,
            "_view_module_version": "1.2.0",
            "_model_module": "@jupyter-widgets/controls"
          }
        },
        "8da09f769a2e4bcb8ffdf021c2468a6d": {
          "model_module": "@jupyter-widgets/base",
          "model_name": "LayoutModel",
          "state": {
            "_view_name": "LayoutView",
            "grid_template_rows": null,
            "right": null,
            "justify_content": null,
            "_view_module": "@jupyter-widgets/base",
            "overflow": null,
            "_model_module_version": "1.2.0",
            "_view_count": null,
            "flex_flow": null,
            "width": null,
            "min_width": null,
            "border": null,
            "align_items": null,
            "bottom": null,
            "_model_module": "@jupyter-widgets/base",
            "top": null,
            "grid_column": null,
            "overflow_y": null,
            "overflow_x": null,
            "grid_auto_flow": null,
            "grid_area": null,
            "grid_template_columns": null,
            "flex": null,
            "_model_name": "LayoutModel",
            "justify_items": null,
            "grid_row": null,
            "max_height": null,
            "align_content": null,
            "visibility": null,
            "align_self": null,
            "height": null,
            "min_height": null,
            "padding": null,
            "grid_auto_rows": null,
            "grid_gap": null,
            "max_width": null,
            "order": null,
            "_view_module_version": "1.2.0",
            "grid_template_areas": null,
            "object_position": null,
            "object_fit": null,
            "grid_auto_columns": null,
            "margin": null,
            "display": null,
            "left": null
          }
        },
        "22737c028b894f6abc92921c09fabbdf": {
          "model_module": "@jupyter-widgets/controls",
          "model_name": "HBoxModel",
          "state": {
            "_view_name": "HBoxView",
            "_dom_classes": [],
            "_model_name": "HBoxModel",
            "_view_module": "@jupyter-widgets/controls",
            "_model_module_version": "1.5.0",
            "_view_count": null,
            "_view_module_version": "1.5.0",
            "box_style": "",
            "layout": "IPY_MODEL_bb2027d9bff648fcbb81c3776e227ac5",
            "_model_module": "@jupyter-widgets/controls",
            "children": [
              "IPY_MODEL_1828df22eb20407ab4716d5f923a65a0",
              "IPY_MODEL_8eccb1285bd6473e83557dd35f6abe66"
            ]
          }
        },
        "bb2027d9bff648fcbb81c3776e227ac5": {
          "model_module": "@jupyter-widgets/base",
          "model_name": "LayoutModel",
          "state": {
            "_view_name": "LayoutView",
            "grid_template_rows": null,
            "right": null,
            "justify_content": null,
            "_view_module": "@jupyter-widgets/base",
            "overflow": null,
            "_model_module_version": "1.2.0",
            "_view_count": null,
            "flex_flow": null,
            "width": null,
            "min_width": null,
            "border": null,
            "align_items": null,
            "bottom": null,
            "_model_module": "@jupyter-widgets/base",
            "top": null,
            "grid_column": null,
            "overflow_y": null,
            "overflow_x": null,
            "grid_auto_flow": null,
            "grid_area": null,
            "grid_template_columns": null,
            "flex": null,
            "_model_name": "LayoutModel",
            "justify_items": null,
            "grid_row": null,
            "max_height": null,
            "align_content": null,
            "visibility": null,
            "align_self": null,
            "height": null,
            "min_height": null,
            "padding": null,
            "grid_auto_rows": null,
            "grid_gap": null,
            "max_width": null,
            "order": null,
            "_view_module_version": "1.2.0",
            "grid_template_areas": null,
            "object_position": null,
            "object_fit": null,
            "grid_auto_columns": null,
            "margin": null,
            "display": null,
            "left": null
          }
        },
        "1828df22eb20407ab4716d5f923a65a0": {
          "model_module": "@jupyter-widgets/controls",
          "model_name": "FloatProgressModel",
          "state": {
            "_view_name": "ProgressView",
            "style": "IPY_MODEL_34ef0d31eee046dd806cca5d24e214a2",
            "_dom_classes": [],
            "description": "Downloading: 100%",
            "_model_name": "FloatProgressModel",
            "bar_style": "success",
            "max": 112,
            "_view_module": "@jupyter-widgets/controls",
            "_model_module_version": "1.5.0",
            "value": 112,
            "_view_count": null,
            "_view_module_version": "1.5.0",
            "orientation": "horizontal",
            "min": 0,
            "description_tooltip": null,
            "_model_module": "@jupyter-widgets/controls",
            "layout": "IPY_MODEL_215c2a10c21f4e1998c81a733e6e8ea0"
          }
        },
        "8eccb1285bd6473e83557dd35f6abe66": {
          "model_module": "@jupyter-widgets/controls",
          "model_name": "HTMLModel",
          "state": {
            "_view_name": "HTMLView",
            "style": "IPY_MODEL_911b1251ce924bf6a7e77236dd3e9125",
            "_dom_classes": [],
            "description": "",
            "_model_name": "HTMLModel",
            "placeholder": "​",
            "_view_module": "@jupyter-widgets/controls",
            "_model_module_version": "1.5.0",
            "value": " 112/112 [00:01&lt;00:00, 56.0B/s]",
            "_view_count": null,
            "_view_module_version": "1.5.0",
            "description_tooltip": null,
            "_model_module": "@jupyter-widgets/controls",
            "layout": "IPY_MODEL_8de10a3b558c4593a931b7e2e77de2c5"
          }
        },
        "34ef0d31eee046dd806cca5d24e214a2": {
          "model_module": "@jupyter-widgets/controls",
          "model_name": "ProgressStyleModel",
          "state": {
            "_view_name": "StyleView",
            "_model_name": "ProgressStyleModel",
            "description_width": "initial",
            "_view_module": "@jupyter-widgets/base",
            "_model_module_version": "1.5.0",
            "_view_count": null,
            "_view_module_version": "1.2.0",
            "bar_color": null,
            "_model_module": "@jupyter-widgets/controls"
          }
        },
        "215c2a10c21f4e1998c81a733e6e8ea0": {
          "model_module": "@jupyter-widgets/base",
          "model_name": "LayoutModel",
          "state": {
            "_view_name": "LayoutView",
            "grid_template_rows": null,
            "right": null,
            "justify_content": null,
            "_view_module": "@jupyter-widgets/base",
            "overflow": null,
            "_model_module_version": "1.2.0",
            "_view_count": null,
            "flex_flow": null,
            "width": null,
            "min_width": null,
            "border": null,
            "align_items": null,
            "bottom": null,
            "_model_module": "@jupyter-widgets/base",
            "top": null,
            "grid_column": null,
            "overflow_y": null,
            "overflow_x": null,
            "grid_auto_flow": null,
            "grid_area": null,
            "grid_template_columns": null,
            "flex": null,
            "_model_name": "LayoutModel",
            "justify_items": null,
            "grid_row": null,
            "max_height": null,
            "align_content": null,
            "visibility": null,
            "align_self": null,
            "height": null,
            "min_height": null,
            "padding": null,
            "grid_auto_rows": null,
            "grid_gap": null,
            "max_width": null,
            "order": null,
            "_view_module_version": "1.2.0",
            "grid_template_areas": null,
            "object_position": null,
            "object_fit": null,
            "grid_auto_columns": null,
            "margin": null,
            "display": null,
            "left": null
          }
        },
        "911b1251ce924bf6a7e77236dd3e9125": {
          "model_module": "@jupyter-widgets/controls",
          "model_name": "DescriptionStyleModel",
          "state": {
            "_view_name": "StyleView",
            "_model_name": "DescriptionStyleModel",
            "description_width": "",
            "_view_module": "@jupyter-widgets/base",
            "_model_module_version": "1.5.0",
            "_view_count": null,
            "_view_module_version": "1.2.0",
            "_model_module": "@jupyter-widgets/controls"
          }
        },
        "8de10a3b558c4593a931b7e2e77de2c5": {
          "model_module": "@jupyter-widgets/base",
          "model_name": "LayoutModel",
          "state": {
            "_view_name": "LayoutView",
            "grid_template_rows": null,
            "right": null,
            "justify_content": null,
            "_view_module": "@jupyter-widgets/base",
            "overflow": null,
            "_model_module_version": "1.2.0",
            "_view_count": null,
            "flex_flow": null,
            "width": null,
            "min_width": null,
            "border": null,
            "align_items": null,
            "bottom": null,
            "_model_module": "@jupyter-widgets/base",
            "top": null,
            "grid_column": null,
            "overflow_y": null,
            "overflow_x": null,
            "grid_auto_flow": null,
            "grid_area": null,
            "grid_template_columns": null,
            "flex": null,
            "_model_name": "LayoutModel",
            "justify_items": null,
            "grid_row": null,
            "max_height": null,
            "align_content": null,
            "visibility": null,
            "align_self": null,
            "height": null,
            "min_height": null,
            "padding": null,
            "grid_auto_rows": null,
            "grid_gap": null,
            "max_width": null,
            "order": null,
            "_view_module_version": "1.2.0",
            "grid_template_areas": null,
            "object_position": null,
            "object_fit": null,
            "grid_auto_columns": null,
            "margin": null,
            "display": null,
            "left": null
          }
        },
        "859da5c69368444c8bc85082c9eb8965": {
          "model_module": "@jupyter-widgets/controls",
          "model_name": "HBoxModel",
          "state": {
            "_view_name": "HBoxView",
            "_dom_classes": [],
            "_model_name": "HBoxModel",
            "_view_module": "@jupyter-widgets/controls",
            "_model_module_version": "1.5.0",
            "_view_count": null,
            "_view_module_version": "1.5.0",
            "box_style": "",
            "layout": "IPY_MODEL_2ff0749ff3d64dbd8208513a70989490",
            "_model_module": "@jupyter-widgets/controls",
            "children": [
              "IPY_MODEL_b311f6b49686468db148d47c4e265037",
              "IPY_MODEL_6dcebf835e59422488168fd11f861dbe"
            ]
          }
        },
        "2ff0749ff3d64dbd8208513a70989490": {
          "model_module": "@jupyter-widgets/base",
          "model_name": "LayoutModel",
          "state": {
            "_view_name": "LayoutView",
            "grid_template_rows": null,
            "right": null,
            "justify_content": null,
            "_view_module": "@jupyter-widgets/base",
            "overflow": null,
            "_model_module_version": "1.2.0",
            "_view_count": null,
            "flex_flow": null,
            "width": null,
            "min_width": null,
            "border": null,
            "align_items": null,
            "bottom": null,
            "_model_module": "@jupyter-widgets/base",
            "top": null,
            "grid_column": null,
            "overflow_y": null,
            "overflow_x": null,
            "grid_auto_flow": null,
            "grid_area": null,
            "grid_template_columns": null,
            "flex": null,
            "_model_name": "LayoutModel",
            "justify_items": null,
            "grid_row": null,
            "max_height": null,
            "align_content": null,
            "visibility": null,
            "align_self": null,
            "height": null,
            "min_height": null,
            "padding": null,
            "grid_auto_rows": null,
            "grid_gap": null,
            "max_width": null,
            "order": null,
            "_view_module_version": "1.2.0",
            "grid_template_areas": null,
            "object_position": null,
            "object_fit": null,
            "grid_auto_columns": null,
            "margin": null,
            "display": null,
            "left": null
          }
        },
        "b311f6b49686468db148d47c4e265037": {
          "model_module": "@jupyter-widgets/controls",
          "model_name": "FloatProgressModel",
          "state": {
            "_view_name": "ProgressView",
            "style": "IPY_MODEL_864ef6271a6d41d2aa253a0c971bb06e",
            "_dom_classes": [],
            "description": "Downloading: 100%",
            "_model_name": "FloatProgressModel",
            "bar_style": "success",
            "max": 48,
            "_view_module": "@jupyter-widgets/controls",
            "_model_module_version": "1.5.0",
            "value": 48,
            "_view_count": null,
            "_view_module_version": "1.5.0",
            "orientation": "horizontal",
            "min": 0,
            "description_tooltip": null,
            "_model_module": "@jupyter-widgets/controls",
            "layout": "IPY_MODEL_4587330b671341f083a69fbf7b745209"
          }
        },
        "6dcebf835e59422488168fd11f861dbe": {
          "model_module": "@jupyter-widgets/controls",
          "model_name": "HTMLModel",
          "state": {
            "_view_name": "HTMLView",
            "style": "IPY_MODEL_d98f65bcff364ac69c81500941452d2c",
            "_dom_classes": [],
            "description": "",
            "_model_name": "HTMLModel",
            "placeholder": "​",
            "_view_module": "@jupyter-widgets/controls",
            "_model_module_version": "1.5.0",
            "value": " 48.0/48.0 [00:01&lt;00:00, 35.3B/s]",
            "_view_count": null,
            "_view_module_version": "1.5.0",
            "description_tooltip": null,
            "_model_module": "@jupyter-widgets/controls",
            "layout": "IPY_MODEL_0e4216e5c89c4cf495781e3d7ffe3868"
          }
        },
        "864ef6271a6d41d2aa253a0c971bb06e": {
          "model_module": "@jupyter-widgets/controls",
          "model_name": "ProgressStyleModel",
          "state": {
            "_view_name": "StyleView",
            "_model_name": "ProgressStyleModel",
            "description_width": "initial",
            "_view_module": "@jupyter-widgets/base",
            "_model_module_version": "1.5.0",
            "_view_count": null,
            "_view_module_version": "1.2.0",
            "bar_color": null,
            "_model_module": "@jupyter-widgets/controls"
          }
        },
        "4587330b671341f083a69fbf7b745209": {
          "model_module": "@jupyter-widgets/base",
          "model_name": "LayoutModel",
          "state": {
            "_view_name": "LayoutView",
            "grid_template_rows": null,
            "right": null,
            "justify_content": null,
            "_view_module": "@jupyter-widgets/base",
            "overflow": null,
            "_model_module_version": "1.2.0",
            "_view_count": null,
            "flex_flow": null,
            "width": null,
            "min_width": null,
            "border": null,
            "align_items": null,
            "bottom": null,
            "_model_module": "@jupyter-widgets/base",
            "top": null,
            "grid_column": null,
            "overflow_y": null,
            "overflow_x": null,
            "grid_auto_flow": null,
            "grid_area": null,
            "grid_template_columns": null,
            "flex": null,
            "_model_name": "LayoutModel",
            "justify_items": null,
            "grid_row": null,
            "max_height": null,
            "align_content": null,
            "visibility": null,
            "align_self": null,
            "height": null,
            "min_height": null,
            "padding": null,
            "grid_auto_rows": null,
            "grid_gap": null,
            "max_width": null,
            "order": null,
            "_view_module_version": "1.2.0",
            "grid_template_areas": null,
            "object_position": null,
            "object_fit": null,
            "grid_auto_columns": null,
            "margin": null,
            "display": null,
            "left": null
          }
        },
        "d98f65bcff364ac69c81500941452d2c": {
          "model_module": "@jupyter-widgets/controls",
          "model_name": "DescriptionStyleModel",
          "state": {
            "_view_name": "StyleView",
            "_model_name": "DescriptionStyleModel",
            "description_width": "",
            "_view_module": "@jupyter-widgets/base",
            "_model_module_version": "1.5.0",
            "_view_count": null,
            "_view_module_version": "1.2.0",
            "_model_module": "@jupyter-widgets/controls"
          }
        },
        "0e4216e5c89c4cf495781e3d7ffe3868": {
          "model_module": "@jupyter-widgets/base",
          "model_name": "LayoutModel",
          "state": {
            "_view_name": "LayoutView",
            "grid_template_rows": null,
            "right": null,
            "justify_content": null,
            "_view_module": "@jupyter-widgets/base",
            "overflow": null,
            "_model_module_version": "1.2.0",
            "_view_count": null,
            "flex_flow": null,
            "width": null,
            "min_width": null,
            "border": null,
            "align_items": null,
            "bottom": null,
            "_model_module": "@jupyter-widgets/base",
            "top": null,
            "grid_column": null,
            "overflow_y": null,
            "overflow_x": null,
            "grid_auto_flow": null,
            "grid_area": null,
            "grid_template_columns": null,
            "flex": null,
            "_model_name": "LayoutModel",
            "justify_items": null,
            "grid_row": null,
            "max_height": null,
            "align_content": null,
            "visibility": null,
            "align_self": null,
            "height": null,
            "min_height": null,
            "padding": null,
            "grid_auto_rows": null,
            "grid_gap": null,
            "max_width": null,
            "order": null,
            "_view_module_version": "1.2.0",
            "grid_template_areas": null,
            "object_position": null,
            "object_fit": null,
            "grid_auto_columns": null,
            "margin": null,
            "display": null,
            "left": null
          }
        },
        "86de324a66e248bc86af95c6e7bb0668": {
          "model_module": "@jupyter-widgets/controls",
          "model_name": "HBoxModel",
          "state": {
            "_view_name": "HBoxView",
            "_dom_classes": [],
            "_model_name": "HBoxModel",
            "_view_module": "@jupyter-widgets/controls",
            "_model_module_version": "1.5.0",
            "_view_count": null,
            "_view_module_version": "1.5.0",
            "box_style": "",
            "layout": "IPY_MODEL_04c7f8d416894665a072e6b40b340804",
            "_model_module": "@jupyter-widgets/controls",
            "children": [
              "IPY_MODEL_081a0d66d847458cb85573ef7675c002",
              "IPY_MODEL_0f46ef8937784993a8157bea9ca59b2a"
            ]
          }
        },
        "04c7f8d416894665a072e6b40b340804": {
          "model_module": "@jupyter-widgets/base",
          "model_name": "LayoutModel",
          "state": {
            "_view_name": "LayoutView",
            "grid_template_rows": null,
            "right": null,
            "justify_content": null,
            "_view_module": "@jupyter-widgets/base",
            "overflow": null,
            "_model_module_version": "1.2.0",
            "_view_count": null,
            "flex_flow": null,
            "width": null,
            "min_width": null,
            "border": null,
            "align_items": null,
            "bottom": null,
            "_model_module": "@jupyter-widgets/base",
            "top": null,
            "grid_column": null,
            "overflow_y": null,
            "overflow_x": null,
            "grid_auto_flow": null,
            "grid_area": null,
            "grid_template_columns": null,
            "flex": null,
            "_model_name": "LayoutModel",
            "justify_items": null,
            "grid_row": null,
            "max_height": null,
            "align_content": null,
            "visibility": null,
            "align_self": null,
            "height": null,
            "min_height": null,
            "padding": null,
            "grid_auto_rows": null,
            "grid_gap": null,
            "max_width": null,
            "order": null,
            "_view_module_version": "1.2.0",
            "grid_template_areas": null,
            "object_position": null,
            "object_fit": null,
            "grid_auto_columns": null,
            "margin": null,
            "display": null,
            "left": null
          }
        },
        "081a0d66d847458cb85573ef7675c002": {
          "model_module": "@jupyter-widgets/controls",
          "model_name": "FloatProgressModel",
          "state": {
            "_view_name": "ProgressView",
            "style": "IPY_MODEL_5e68aa4cb3c14ec1b518b05a2f3dc272",
            "_dom_classes": [],
            "description": "Downloading: 100%",
            "_model_name": "FloatProgressModel",
            "bar_style": "success",
            "max": 437985387,
            "_view_module": "@jupyter-widgets/controls",
            "_model_module_version": "1.5.0",
            "value": 437985387,
            "_view_count": null,
            "_view_module_version": "1.5.0",
            "orientation": "horizontal",
            "min": 0,
            "description_tooltip": null,
            "_model_module": "@jupyter-widgets/controls",
            "layout": "IPY_MODEL_326cadc3eb7341819c7a68a5867d4f94"
          }
        },
        "0f46ef8937784993a8157bea9ca59b2a": {
          "model_module": "@jupyter-widgets/controls",
          "model_name": "HTMLModel",
          "state": {
            "_view_name": "HTMLView",
            "style": "IPY_MODEL_87a90d3c5a234bdcbd45fe3ed164fe10",
            "_dom_classes": [],
            "description": "",
            "_model_name": "HTMLModel",
            "placeholder": "​",
            "_view_module": "@jupyter-widgets/controls",
            "_model_module_version": "1.5.0",
            "value": " 438M/438M [00:14&lt;00:00, 29.4MB/s]",
            "_view_count": null,
            "_view_module_version": "1.5.0",
            "description_tooltip": null,
            "_model_module": "@jupyter-widgets/controls",
            "layout": "IPY_MODEL_81db9ba3ba6144c4a832f1c4d841a189"
          }
        },
        "5e68aa4cb3c14ec1b518b05a2f3dc272": {
          "model_module": "@jupyter-widgets/controls",
          "model_name": "ProgressStyleModel",
          "state": {
            "_view_name": "StyleView",
            "_model_name": "ProgressStyleModel",
            "description_width": "initial",
            "_view_module": "@jupyter-widgets/base",
            "_model_module_version": "1.5.0",
            "_view_count": null,
            "_view_module_version": "1.2.0",
            "bar_color": null,
            "_model_module": "@jupyter-widgets/controls"
          }
        },
        "326cadc3eb7341819c7a68a5867d4f94": {
          "model_module": "@jupyter-widgets/base",
          "model_name": "LayoutModel",
          "state": {
            "_view_name": "LayoutView",
            "grid_template_rows": null,
            "right": null,
            "justify_content": null,
            "_view_module": "@jupyter-widgets/base",
            "overflow": null,
            "_model_module_version": "1.2.0",
            "_view_count": null,
            "flex_flow": null,
            "width": null,
            "min_width": null,
            "border": null,
            "align_items": null,
            "bottom": null,
            "_model_module": "@jupyter-widgets/base",
            "top": null,
            "grid_column": null,
            "overflow_y": null,
            "overflow_x": null,
            "grid_auto_flow": null,
            "grid_area": null,
            "grid_template_columns": null,
            "flex": null,
            "_model_name": "LayoutModel",
            "justify_items": null,
            "grid_row": null,
            "max_height": null,
            "align_content": null,
            "visibility": null,
            "align_self": null,
            "height": null,
            "min_height": null,
            "padding": null,
            "grid_auto_rows": null,
            "grid_gap": null,
            "max_width": null,
            "order": null,
            "_view_module_version": "1.2.0",
            "grid_template_areas": null,
            "object_position": null,
            "object_fit": null,
            "grid_auto_columns": null,
            "margin": null,
            "display": null,
            "left": null
          }
        },
        "87a90d3c5a234bdcbd45fe3ed164fe10": {
          "model_module": "@jupyter-widgets/controls",
          "model_name": "DescriptionStyleModel",
          "state": {
            "_view_name": "StyleView",
            "_model_name": "DescriptionStyleModel",
            "description_width": "",
            "_view_module": "@jupyter-widgets/base",
            "_model_module_version": "1.5.0",
            "_view_count": null,
            "_view_module_version": "1.2.0",
            "_model_module": "@jupyter-widgets/controls"
          }
        },
        "81db9ba3ba6144c4a832f1c4d841a189": {
          "model_module": "@jupyter-widgets/base",
          "model_name": "LayoutModel",
          "state": {
            "_view_name": "LayoutView",
            "grid_template_rows": null,
            "right": null,
            "justify_content": null,
            "_view_module": "@jupyter-widgets/base",
            "overflow": null,
            "_model_module_version": "1.2.0",
            "_view_count": null,
            "flex_flow": null,
            "width": null,
            "min_width": null,
            "border": null,
            "align_items": null,
            "bottom": null,
            "_model_module": "@jupyter-widgets/base",
            "top": null,
            "grid_column": null,
            "overflow_y": null,
            "overflow_x": null,
            "grid_auto_flow": null,
            "grid_area": null,
            "grid_template_columns": null,
            "flex": null,
            "_model_name": "LayoutModel",
            "justify_items": null,
            "grid_row": null,
            "max_height": null,
            "align_content": null,
            "visibility": null,
            "align_self": null,
            "height": null,
            "min_height": null,
            "padding": null,
            "grid_auto_rows": null,
            "grid_gap": null,
            "max_width": null,
            "order": null,
            "_view_module_version": "1.2.0",
            "grid_template_areas": null,
            "object_position": null,
            "object_fit": null,
            "grid_auto_columns": null,
            "margin": null,
            "display": null,
            "left": null
          }
        },
        "8852625ad04d43f4bf53cd4225f093b7": {
          "model_module": "@jupyter-widgets/controls",
          "model_name": "HBoxModel",
          "state": {
            "_view_name": "HBoxView",
            "_dom_classes": [],
            "_model_name": "HBoxModel",
            "_view_module": "@jupyter-widgets/controls",
            "_model_module_version": "1.5.0",
            "_view_count": null,
            "_view_module_version": "1.5.0",
            "box_style": "",
            "layout": "IPY_MODEL_62923d6477ac4c9692ae0655331024ef",
            "_model_module": "@jupyter-widgets/controls",
            "children": [
              "IPY_MODEL_1ffd8cfbd5004aed88006530978abcaf",
              "IPY_MODEL_14c092dfc1474ca9a06acad494adca2f"
            ]
          }
        },
        "62923d6477ac4c9692ae0655331024ef": {
          "model_module": "@jupyter-widgets/base",
          "model_name": "LayoutModel",
          "state": {
            "_view_name": "LayoutView",
            "grid_template_rows": null,
            "right": null,
            "justify_content": null,
            "_view_module": "@jupyter-widgets/base",
            "overflow": null,
            "_model_module_version": "1.2.0",
            "_view_count": null,
            "flex_flow": null,
            "width": null,
            "min_width": null,
            "border": null,
            "align_items": null,
            "bottom": null,
            "_model_module": "@jupyter-widgets/base",
            "top": null,
            "grid_column": null,
            "overflow_y": null,
            "overflow_x": null,
            "grid_auto_flow": null,
            "grid_area": null,
            "grid_template_columns": null,
            "flex": null,
            "_model_name": "LayoutModel",
            "justify_items": null,
            "grid_row": null,
            "max_height": null,
            "align_content": null,
            "visibility": null,
            "align_self": null,
            "height": null,
            "min_height": null,
            "padding": null,
            "grid_auto_rows": null,
            "grid_gap": null,
            "max_width": null,
            "order": null,
            "_view_module_version": "1.2.0",
            "grid_template_areas": null,
            "object_position": null,
            "object_fit": null,
            "grid_auto_columns": null,
            "margin": null,
            "display": null,
            "left": null
          }
        },
        "1ffd8cfbd5004aed88006530978abcaf": {
          "model_module": "@jupyter-widgets/controls",
          "model_name": "FloatProgressModel",
          "state": {
            "_view_name": "ProgressView",
            "style": "IPY_MODEL_d8d9cc0c3c4b4523b0f5b4647a5e3210",
            "_dom_classes": [],
            "description": "Downloading: 100%",
            "_model_name": "FloatProgressModel",
            "bar_style": "success",
            "max": 738,
            "_view_module": "@jupyter-widgets/controls",
            "_model_module_version": "1.5.0",
            "value": 738,
            "_view_count": null,
            "_view_module_version": "1.5.0",
            "orientation": "horizontal",
            "min": 0,
            "description_tooltip": null,
            "_model_module": "@jupyter-widgets/controls",
            "layout": "IPY_MODEL_d5b933d7492a4f908f1d94b074456fab"
          }
        },
        "14c092dfc1474ca9a06acad494adca2f": {
          "model_module": "@jupyter-widgets/controls",
          "model_name": "HTMLModel",
          "state": {
            "_view_name": "HTMLView",
            "style": "IPY_MODEL_7c74c92fddd74855bd6e0d568a108024",
            "_dom_classes": [],
            "description": "",
            "_model_name": "HTMLModel",
            "placeholder": "​",
            "_view_module": "@jupyter-widgets/controls",
            "_model_module_version": "1.5.0",
            "value": " 738/738 [00:01&lt;00:00, 376B/s]",
            "_view_count": null,
            "_view_module_version": "1.5.0",
            "description_tooltip": null,
            "_model_module": "@jupyter-widgets/controls",
            "layout": "IPY_MODEL_3807b6fa4a6b4c359791e874d640ae1f"
          }
        },
        "d8d9cc0c3c4b4523b0f5b4647a5e3210": {
          "model_module": "@jupyter-widgets/controls",
          "model_name": "ProgressStyleModel",
          "state": {
            "_view_name": "StyleView",
            "_model_name": "ProgressStyleModel",
            "description_width": "initial",
            "_view_module": "@jupyter-widgets/base",
            "_model_module_version": "1.5.0",
            "_view_count": null,
            "_view_module_version": "1.2.0",
            "bar_color": null,
            "_model_module": "@jupyter-widgets/controls"
          }
        },
        "d5b933d7492a4f908f1d94b074456fab": {
          "model_module": "@jupyter-widgets/base",
          "model_name": "LayoutModel",
          "state": {
            "_view_name": "LayoutView",
            "grid_template_rows": null,
            "right": null,
            "justify_content": null,
            "_view_module": "@jupyter-widgets/base",
            "overflow": null,
            "_model_module_version": "1.2.0",
            "_view_count": null,
            "flex_flow": null,
            "width": null,
            "min_width": null,
            "border": null,
            "align_items": null,
            "bottom": null,
            "_model_module": "@jupyter-widgets/base",
            "top": null,
            "grid_column": null,
            "overflow_y": null,
            "overflow_x": null,
            "grid_auto_flow": null,
            "grid_area": null,
            "grid_template_columns": null,
            "flex": null,
            "_model_name": "LayoutModel",
            "justify_items": null,
            "grid_row": null,
            "max_height": null,
            "align_content": null,
            "visibility": null,
            "align_self": null,
            "height": null,
            "min_height": null,
            "padding": null,
            "grid_auto_rows": null,
            "grid_gap": null,
            "max_width": null,
            "order": null,
            "_view_module_version": "1.2.0",
            "grid_template_areas": null,
            "object_position": null,
            "object_fit": null,
            "grid_auto_columns": null,
            "margin": null,
            "display": null,
            "left": null
          }
        },
        "7c74c92fddd74855bd6e0d568a108024": {
          "model_module": "@jupyter-widgets/controls",
          "model_name": "DescriptionStyleModel",
          "state": {
            "_view_name": "StyleView",
            "_model_name": "DescriptionStyleModel",
            "description_width": "",
            "_view_module": "@jupyter-widgets/base",
            "_model_module_version": "1.5.0",
            "_view_count": null,
            "_view_module_version": "1.2.0",
            "_model_module": "@jupyter-widgets/controls"
          }
        },
        "3807b6fa4a6b4c359791e874d640ae1f": {
          "model_module": "@jupyter-widgets/base",
          "model_name": "LayoutModel",
          "state": {
            "_view_name": "LayoutView",
            "grid_template_rows": null,
            "right": null,
            "justify_content": null,
            "_view_module": "@jupyter-widgets/base",
            "overflow": null,
            "_model_module_version": "1.2.0",
            "_view_count": null,
            "flex_flow": null,
            "width": null,
            "min_width": null,
            "border": null,
            "align_items": null,
            "bottom": null,
            "_model_module": "@jupyter-widgets/base",
            "top": null,
            "grid_column": null,
            "overflow_y": null,
            "overflow_x": null,
            "grid_auto_flow": null,
            "grid_area": null,
            "grid_template_columns": null,
            "flex": null,
            "_model_name": "LayoutModel",
            "justify_items": null,
            "grid_row": null,
            "max_height": null,
            "align_content": null,
            "visibility": null,
            "align_self": null,
            "height": null,
            "min_height": null,
            "padding": null,
            "grid_auto_rows": null,
            "grid_gap": null,
            "max_width": null,
            "order": null,
            "_view_module_version": "1.2.0",
            "grid_template_areas": null,
            "object_position": null,
            "object_fit": null,
            "grid_auto_columns": null,
            "margin": null,
            "display": null,
            "left": null
          }
        },
        "ff7650d9a3424b2c81f6245269a116c4": {
          "model_module": "@jupyter-widgets/controls",
          "model_name": "HBoxModel",
          "state": {
            "_view_name": "HBoxView",
            "_dom_classes": [],
            "_model_name": "HBoxModel",
            "_view_module": "@jupyter-widgets/controls",
            "_model_module_version": "1.5.0",
            "_view_count": null,
            "_view_module_version": "1.5.0",
            "box_style": "",
            "layout": "IPY_MODEL_ce2847f496e444278f1e9794eaa10f0a",
            "_model_module": "@jupyter-widgets/controls",
            "children": [
              "IPY_MODEL_96306f1991a947968f226153b6e96ff0",
              "IPY_MODEL_0f3d405f04da4f48b51cb0b4ecae2938"
            ]
          }
        },
        "ce2847f496e444278f1e9794eaa10f0a": {
          "model_module": "@jupyter-widgets/base",
          "model_name": "LayoutModel",
          "state": {
            "_view_name": "LayoutView",
            "grid_template_rows": null,
            "right": null,
            "justify_content": null,
            "_view_module": "@jupyter-widgets/base",
            "overflow": null,
            "_model_module_version": "1.2.0",
            "_view_count": null,
            "flex_flow": null,
            "width": null,
            "min_width": null,
            "border": null,
            "align_items": null,
            "bottom": null,
            "_model_module": "@jupyter-widgets/base",
            "top": null,
            "grid_column": null,
            "overflow_y": null,
            "overflow_x": null,
            "grid_auto_flow": null,
            "grid_area": null,
            "grid_template_columns": null,
            "flex": null,
            "_model_name": "LayoutModel",
            "justify_items": null,
            "grid_row": null,
            "max_height": null,
            "align_content": null,
            "visibility": null,
            "align_self": null,
            "height": null,
            "min_height": null,
            "padding": null,
            "grid_auto_rows": null,
            "grid_gap": null,
            "max_width": null,
            "order": null,
            "_view_module_version": "1.2.0",
            "grid_template_areas": null,
            "object_position": null,
            "object_fit": null,
            "grid_auto_columns": null,
            "margin": null,
            "display": null,
            "left": null
          }
        },
        "96306f1991a947968f226153b6e96ff0": {
          "model_module": "@jupyter-widgets/controls",
          "model_name": "FloatProgressModel",
          "state": {
            "_view_name": "ProgressView",
            "style": "IPY_MODEL_6219241b63054602a417e0dc5aeaa943",
            "_dom_classes": [],
            "description": "Downloading: 100%",
            "_model_name": "FloatProgressModel",
            "bar_style": "success",
            "max": 760289,
            "_view_module": "@jupyter-widgets/controls",
            "_model_module_version": "1.5.0",
            "value": 760289,
            "_view_count": null,
            "_view_module_version": "1.5.0",
            "orientation": "horizontal",
            "min": 0,
            "description_tooltip": null,
            "_model_module": "@jupyter-widgets/controls",
            "layout": "IPY_MODEL_fe4246606b6848e79b00314a218a0e6c"
          }
        },
        "0f3d405f04da4f48b51cb0b4ecae2938": {
          "model_module": "@jupyter-widgets/controls",
          "model_name": "HTMLModel",
          "state": {
            "_view_name": "HTMLView",
            "style": "IPY_MODEL_63ce93896a504b2887ea674860e70dbb",
            "_dom_classes": [],
            "description": "",
            "_model_name": "HTMLModel",
            "placeholder": "​",
            "_view_module": "@jupyter-widgets/controls",
            "_model_module_version": "1.5.0",
            "value": " 760k/760k [00:01&lt;00:00, 580kB/s]",
            "_view_count": null,
            "_view_module_version": "1.5.0",
            "description_tooltip": null,
            "_model_module": "@jupyter-widgets/controls",
            "layout": "IPY_MODEL_a658320f75c94bdca882d71780696d14"
          }
        },
        "6219241b63054602a417e0dc5aeaa943": {
          "model_module": "@jupyter-widgets/controls",
          "model_name": "ProgressStyleModel",
          "state": {
            "_view_name": "StyleView",
            "_model_name": "ProgressStyleModel",
            "description_width": "initial",
            "_view_module": "@jupyter-widgets/base",
            "_model_module_version": "1.5.0",
            "_view_count": null,
            "_view_module_version": "1.2.0",
            "bar_color": null,
            "_model_module": "@jupyter-widgets/controls"
          }
        },
        "fe4246606b6848e79b00314a218a0e6c": {
          "model_module": "@jupyter-widgets/base",
          "model_name": "LayoutModel",
          "state": {
            "_view_name": "LayoutView",
            "grid_template_rows": null,
            "right": null,
            "justify_content": null,
            "_view_module": "@jupyter-widgets/base",
            "overflow": null,
            "_model_module_version": "1.2.0",
            "_view_count": null,
            "flex_flow": null,
            "width": null,
            "min_width": null,
            "border": null,
            "align_items": null,
            "bottom": null,
            "_model_module": "@jupyter-widgets/base",
            "top": null,
            "grid_column": null,
            "overflow_y": null,
            "overflow_x": null,
            "grid_auto_flow": null,
            "grid_area": null,
            "grid_template_columns": null,
            "flex": null,
            "_model_name": "LayoutModel",
            "justify_items": null,
            "grid_row": null,
            "max_height": null,
            "align_content": null,
            "visibility": null,
            "align_self": null,
            "height": null,
            "min_height": null,
            "padding": null,
            "grid_auto_rows": null,
            "grid_gap": null,
            "max_width": null,
            "order": null,
            "_view_module_version": "1.2.0",
            "grid_template_areas": null,
            "object_position": null,
            "object_fit": null,
            "grid_auto_columns": null,
            "margin": null,
            "display": null,
            "left": null
          }
        },
        "63ce93896a504b2887ea674860e70dbb": {
          "model_module": "@jupyter-widgets/controls",
          "model_name": "DescriptionStyleModel",
          "state": {
            "_view_name": "StyleView",
            "_model_name": "DescriptionStyleModel",
            "description_width": "",
            "_view_module": "@jupyter-widgets/base",
            "_model_module_version": "1.5.0",
            "_view_count": null,
            "_view_module_version": "1.2.0",
            "_model_module": "@jupyter-widgets/controls"
          }
        },
        "a658320f75c94bdca882d71780696d14": {
          "model_module": "@jupyter-widgets/base",
          "model_name": "LayoutModel",
          "state": {
            "_view_name": "LayoutView",
            "grid_template_rows": null,
            "right": null,
            "justify_content": null,
            "_view_module": "@jupyter-widgets/base",
            "overflow": null,
            "_model_module_version": "1.2.0",
            "_view_count": null,
            "flex_flow": null,
            "width": null,
            "min_width": null,
            "border": null,
            "align_items": null,
            "bottom": null,
            "_model_module": "@jupyter-widgets/base",
            "top": null,
            "grid_column": null,
            "overflow_y": null,
            "overflow_x": null,
            "grid_auto_flow": null,
            "grid_area": null,
            "grid_template_columns": null,
            "flex": null,
            "_model_name": "LayoutModel",
            "justify_items": null,
            "grid_row": null,
            "max_height": null,
            "align_content": null,
            "visibility": null,
            "align_self": null,
            "height": null,
            "min_height": null,
            "padding": null,
            "grid_auto_rows": null,
            "grid_gap": null,
            "max_width": null,
            "order": null,
            "_view_module_version": "1.2.0",
            "grid_template_areas": null,
            "object_position": null,
            "object_fit": null,
            "grid_auto_columns": null,
            "margin": null,
            "display": null,
            "left": null
          }
        },
        "12d1f092feb94c96b96c819b7e9935b3": {
          "model_module": "@jupyter-widgets/controls",
          "model_name": "HBoxModel",
          "state": {
            "_view_name": "HBoxView",
            "_dom_classes": [],
            "_model_name": "HBoxModel",
            "_view_module": "@jupyter-widgets/controls",
            "_model_module_version": "1.5.0",
            "_view_count": null,
            "_view_module_version": "1.5.0",
            "box_style": "",
            "layout": "IPY_MODEL_91cddd3bc43841dc9c2611fad47a0fb7",
            "_model_module": "@jupyter-widgets/controls",
            "children": [
              "IPY_MODEL_3a1adde1a89a4c7e998e12ad266b762b",
              "IPY_MODEL_16c0733a366f4fc39b7cb3043a5426a4"
            ]
          }
        },
        "91cddd3bc43841dc9c2611fad47a0fb7": {
          "model_module": "@jupyter-widgets/base",
          "model_name": "LayoutModel",
          "state": {
            "_view_name": "LayoutView",
            "grid_template_rows": null,
            "right": null,
            "justify_content": null,
            "_view_module": "@jupyter-widgets/base",
            "overflow": null,
            "_model_module_version": "1.2.0",
            "_view_count": null,
            "flex_flow": null,
            "width": null,
            "min_width": null,
            "border": null,
            "align_items": null,
            "bottom": null,
            "_model_module": "@jupyter-widgets/base",
            "top": null,
            "grid_column": null,
            "overflow_y": null,
            "overflow_x": null,
            "grid_auto_flow": null,
            "grid_area": null,
            "grid_template_columns": null,
            "flex": null,
            "_model_name": "LayoutModel",
            "justify_items": null,
            "grid_row": null,
            "max_height": null,
            "align_content": null,
            "visibility": null,
            "align_self": null,
            "height": null,
            "min_height": null,
            "padding": null,
            "grid_auto_rows": null,
            "grid_gap": null,
            "max_width": null,
            "order": null,
            "_view_module_version": "1.2.0",
            "grid_template_areas": null,
            "object_position": null,
            "object_fit": null,
            "grid_auto_columns": null,
            "margin": null,
            "display": null,
            "left": null
          }
        },
        "3a1adde1a89a4c7e998e12ad266b762b": {
          "model_module": "@jupyter-widgets/controls",
          "model_name": "FloatProgressModel",
          "state": {
            "_view_name": "ProgressView",
            "style": "IPY_MODEL_21685a322bbb452580d0c3d43f644449",
            "_dom_classes": [],
            "description": "Downloading: 100%",
            "_model_name": "FloatProgressModel",
            "bar_style": "success",
            "max": 156,
            "_view_module": "@jupyter-widgets/controls",
            "_model_module_version": "1.5.0",
            "value": 156,
            "_view_count": null,
            "_view_module_version": "1.5.0",
            "orientation": "horizontal",
            "min": 0,
            "description_tooltip": null,
            "_model_module": "@jupyter-widgets/controls",
            "layout": "IPY_MODEL_53571a44ef0b40e68eb08dc9d248ee80"
          }
        },
        "16c0733a366f4fc39b7cb3043a5426a4": {
          "model_module": "@jupyter-widgets/controls",
          "model_name": "HTMLModel",
          "state": {
            "_view_name": "HTMLView",
            "style": "IPY_MODEL_a52a1c8a88a54e02831984a6c14359e2",
            "_dom_classes": [],
            "description": "",
            "_model_name": "HTMLModel",
            "placeholder": "​",
            "_view_module": "@jupyter-widgets/controls",
            "_model_module_version": "1.5.0",
            "value": " 156/156 [00:04&lt;00:00, 32.2B/s]",
            "_view_count": null,
            "_view_module_version": "1.5.0",
            "description_tooltip": null,
            "_model_module": "@jupyter-widgets/controls",
            "layout": "IPY_MODEL_ce8fc08d854a4f578c4dd570492f2ce4"
          }
        },
        "21685a322bbb452580d0c3d43f644449": {
          "model_module": "@jupyter-widgets/controls",
          "model_name": "ProgressStyleModel",
          "state": {
            "_view_name": "StyleView",
            "_model_name": "ProgressStyleModel",
            "description_width": "initial",
            "_view_module": "@jupyter-widgets/base",
            "_model_module_version": "1.5.0",
            "_view_count": null,
            "_view_module_version": "1.2.0",
            "bar_color": null,
            "_model_module": "@jupyter-widgets/controls"
          }
        },
        "53571a44ef0b40e68eb08dc9d248ee80": {
          "model_module": "@jupyter-widgets/base",
          "model_name": "LayoutModel",
          "state": {
            "_view_name": "LayoutView",
            "grid_template_rows": null,
            "right": null,
            "justify_content": null,
            "_view_module": "@jupyter-widgets/base",
            "overflow": null,
            "_model_module_version": "1.2.0",
            "_view_count": null,
            "flex_flow": null,
            "width": null,
            "min_width": null,
            "border": null,
            "align_items": null,
            "bottom": null,
            "_model_module": "@jupyter-widgets/base",
            "top": null,
            "grid_column": null,
            "overflow_y": null,
            "overflow_x": null,
            "grid_auto_flow": null,
            "grid_area": null,
            "grid_template_columns": null,
            "flex": null,
            "_model_name": "LayoutModel",
            "justify_items": null,
            "grid_row": null,
            "max_height": null,
            "align_content": null,
            "visibility": null,
            "align_self": null,
            "height": null,
            "min_height": null,
            "padding": null,
            "grid_auto_rows": null,
            "grid_gap": null,
            "max_width": null,
            "order": null,
            "_view_module_version": "1.2.0",
            "grid_template_areas": null,
            "object_position": null,
            "object_fit": null,
            "grid_auto_columns": null,
            "margin": null,
            "display": null,
            "left": null
          }
        },
        "a52a1c8a88a54e02831984a6c14359e2": {
          "model_module": "@jupyter-widgets/controls",
          "model_name": "DescriptionStyleModel",
          "state": {
            "_view_name": "StyleView",
            "_model_name": "DescriptionStyleModel",
            "description_width": "",
            "_view_module": "@jupyter-widgets/base",
            "_model_module_version": "1.5.0",
            "_view_count": null,
            "_view_module_version": "1.2.0",
            "_model_module": "@jupyter-widgets/controls"
          }
        },
        "ce8fc08d854a4f578c4dd570492f2ce4": {
          "model_module": "@jupyter-widgets/base",
          "model_name": "LayoutModel",
          "state": {
            "_view_name": "LayoutView",
            "grid_template_rows": null,
            "right": null,
            "justify_content": null,
            "_view_module": "@jupyter-widgets/base",
            "overflow": null,
            "_model_module_version": "1.2.0",
            "_view_count": null,
            "flex_flow": null,
            "width": null,
            "min_width": null,
            "border": null,
            "align_items": null,
            "bottom": null,
            "_model_module": "@jupyter-widgets/base",
            "top": null,
            "grid_column": null,
            "overflow_y": null,
            "overflow_x": null,
            "grid_auto_flow": null,
            "grid_area": null,
            "grid_template_columns": null,
            "flex": null,
            "_model_name": "LayoutModel",
            "justify_items": null,
            "grid_row": null,
            "max_height": null,
            "align_content": null,
            "visibility": null,
            "align_self": null,
            "height": null,
            "min_height": null,
            "padding": null,
            "grid_auto_rows": null,
            "grid_gap": null,
            "max_width": null,
            "order": null,
            "_view_module_version": "1.2.0",
            "grid_template_areas": null,
            "object_position": null,
            "object_fit": null,
            "grid_auto_columns": null,
            "margin": null,
            "display": null,
            "left": null
          }
        },
        "1434a5cb709a4e918bcdb914e94d7e24": {
          "model_module": "@jupyter-widgets/controls",
          "model_name": "HBoxModel",
          "state": {
            "_view_name": "HBoxView",
            "_dom_classes": [],
            "_model_name": "HBoxModel",
            "_view_module": "@jupyter-widgets/controls",
            "_model_module_version": "1.5.0",
            "_view_count": null,
            "_view_module_version": "1.5.0",
            "box_style": "",
            "layout": "IPY_MODEL_cbb20dcf9c4948b8b81e6ba4c475d96a",
            "_model_module": "@jupyter-widgets/controls",
            "children": [
              "IPY_MODEL_1f6aba50ce5840ef8c4ebc4dd8e031d5",
              "IPY_MODEL_23774245000742cabbc08d26315616b2"
            ]
          }
        },
        "cbb20dcf9c4948b8b81e6ba4c475d96a": {
          "model_module": "@jupyter-widgets/base",
          "model_name": "LayoutModel",
          "state": {
            "_view_name": "LayoutView",
            "grid_template_rows": null,
            "right": null,
            "justify_content": null,
            "_view_module": "@jupyter-widgets/base",
            "overflow": null,
            "_model_module_version": "1.2.0",
            "_view_count": null,
            "flex_flow": null,
            "width": null,
            "min_width": null,
            "border": null,
            "align_items": null,
            "bottom": null,
            "_model_module": "@jupyter-widgets/base",
            "top": null,
            "grid_column": null,
            "overflow_y": null,
            "overflow_x": null,
            "grid_auto_flow": null,
            "grid_area": null,
            "grid_template_columns": null,
            "flex": null,
            "_model_name": "LayoutModel",
            "justify_items": null,
            "grid_row": null,
            "max_height": null,
            "align_content": null,
            "visibility": null,
            "align_self": null,
            "height": null,
            "min_height": null,
            "padding": null,
            "grid_auto_rows": null,
            "grid_gap": null,
            "max_width": null,
            "order": null,
            "_view_module_version": "1.2.0",
            "grid_template_areas": null,
            "object_position": null,
            "object_fit": null,
            "grid_auto_columns": null,
            "margin": null,
            "display": null,
            "left": null
          }
        },
        "1f6aba50ce5840ef8c4ebc4dd8e031d5": {
          "model_module": "@jupyter-widgets/controls",
          "model_name": "FloatProgressModel",
          "state": {
            "_view_name": "ProgressView",
            "style": "IPY_MODEL_cbc822599f9741f69e04234936257e82",
            "_dom_classes": [],
            "description": "Downloading: 100%",
            "_model_name": "FloatProgressModel",
            "bar_style": "success",
            "max": 25,
            "_view_module": "@jupyter-widgets/controls",
            "_model_module_version": "1.5.0",
            "value": 25,
            "_view_count": null,
            "_view_module_version": "1.5.0",
            "orientation": "horizontal",
            "min": 0,
            "description_tooltip": null,
            "_model_module": "@jupyter-widgets/controls",
            "layout": "IPY_MODEL_ad60926fa94145a390cc8242b0c33f0b"
          }
        },
        "23774245000742cabbc08d26315616b2": {
          "model_module": "@jupyter-widgets/controls",
          "model_name": "HTMLModel",
          "state": {
            "_view_name": "HTMLView",
            "style": "IPY_MODEL_22c8b793d86743a8867544b15d63c1f0",
            "_dom_classes": [],
            "description": "",
            "_model_name": "HTMLModel",
            "placeholder": "​",
            "_view_module": "@jupyter-widgets/controls",
            "_model_module_version": "1.5.0",
            "value": " 25.0/25.0 [00:03&lt;00:00, 7.61B/s]",
            "_view_count": null,
            "_view_module_version": "1.5.0",
            "description_tooltip": null,
            "_model_module": "@jupyter-widgets/controls",
            "layout": "IPY_MODEL_fe5c8970093a4824914f5c9b4b8a1779"
          }
        },
        "cbc822599f9741f69e04234936257e82": {
          "model_module": "@jupyter-widgets/controls",
          "model_name": "ProgressStyleModel",
          "state": {
            "_view_name": "StyleView",
            "_model_name": "ProgressStyleModel",
            "description_width": "initial",
            "_view_module": "@jupyter-widgets/base",
            "_model_module_version": "1.5.0",
            "_view_count": null,
            "_view_module_version": "1.2.0",
            "bar_color": null,
            "_model_module": "@jupyter-widgets/controls"
          }
        },
        "ad60926fa94145a390cc8242b0c33f0b": {
          "model_module": "@jupyter-widgets/base",
          "model_name": "LayoutModel",
          "state": {
            "_view_name": "LayoutView",
            "grid_template_rows": null,
            "right": null,
            "justify_content": null,
            "_view_module": "@jupyter-widgets/base",
            "overflow": null,
            "_model_module_version": "1.2.0",
            "_view_count": null,
            "flex_flow": null,
            "width": null,
            "min_width": null,
            "border": null,
            "align_items": null,
            "bottom": null,
            "_model_module": "@jupyter-widgets/base",
            "top": null,
            "grid_column": null,
            "overflow_y": null,
            "overflow_x": null,
            "grid_auto_flow": null,
            "grid_area": null,
            "grid_template_columns": null,
            "flex": null,
            "_model_name": "LayoutModel",
            "justify_items": null,
            "grid_row": null,
            "max_height": null,
            "align_content": null,
            "visibility": null,
            "align_self": null,
            "height": null,
            "min_height": null,
            "padding": null,
            "grid_auto_rows": null,
            "grid_gap": null,
            "max_width": null,
            "order": null,
            "_view_module_version": "1.2.0",
            "grid_template_areas": null,
            "object_position": null,
            "object_fit": null,
            "grid_auto_columns": null,
            "margin": null,
            "display": null,
            "left": null
          }
        },
        "22c8b793d86743a8867544b15d63c1f0": {
          "model_module": "@jupyter-widgets/controls",
          "model_name": "DescriptionStyleModel",
          "state": {
            "_view_name": "StyleView",
            "_model_name": "DescriptionStyleModel",
            "description_width": "",
            "_view_module": "@jupyter-widgets/base",
            "_model_module_version": "1.5.0",
            "_view_count": null,
            "_view_module_version": "1.2.0",
            "_model_module": "@jupyter-widgets/controls"
          }
        },
        "fe5c8970093a4824914f5c9b4b8a1779": {
          "model_module": "@jupyter-widgets/base",
          "model_name": "LayoutModel",
          "state": {
            "_view_name": "LayoutView",
            "grid_template_rows": null,
            "right": null,
            "justify_content": null,
            "_view_module": "@jupyter-widgets/base",
            "overflow": null,
            "_model_module_version": "1.2.0",
            "_view_count": null,
            "flex_flow": null,
            "width": null,
            "min_width": null,
            "border": null,
            "align_items": null,
            "bottom": null,
            "_model_module": "@jupyter-widgets/base",
            "top": null,
            "grid_column": null,
            "overflow_y": null,
            "overflow_x": null,
            "grid_auto_flow": null,
            "grid_area": null,
            "grid_template_columns": null,
            "flex": null,
            "_model_name": "LayoutModel",
            "justify_items": null,
            "grid_row": null,
            "max_height": null,
            "align_content": null,
            "visibility": null,
            "align_self": null,
            "height": null,
            "min_height": null,
            "padding": null,
            "grid_auto_rows": null,
            "grid_gap": null,
            "max_width": null,
            "order": null,
            "_view_module_version": "1.2.0",
            "grid_template_areas": null,
            "object_position": null,
            "object_fit": null,
            "grid_auto_columns": null,
            "margin": null,
            "display": null,
            "left": null
          }
        },
        "03a9e7aa6b7a4f5a934d435a371a0e00": {
          "model_module": "@jupyter-widgets/controls",
          "model_name": "HBoxModel",
          "state": {
            "_view_name": "HBoxView",
            "_dom_classes": [],
            "_model_name": "HBoxModel",
            "_view_module": "@jupyter-widgets/controls",
            "_model_module_version": "1.5.0",
            "_view_count": null,
            "_view_module_version": "1.5.0",
            "box_style": "",
            "layout": "IPY_MODEL_1a9c7f67e9a44efd85c3e4e0144c72e7",
            "_model_module": "@jupyter-widgets/controls",
            "children": [
              "IPY_MODEL_bddb802f2ef04201bf3e557455441dd4",
              "IPY_MODEL_a7c33ccfacc746ac8c6cb83776cc3e98"
            ]
          }
        },
        "1a9c7f67e9a44efd85c3e4e0144c72e7": {
          "model_module": "@jupyter-widgets/base",
          "model_name": "LayoutModel",
          "state": {
            "_view_name": "LayoutView",
            "grid_template_rows": null,
            "right": null,
            "justify_content": null,
            "_view_module": "@jupyter-widgets/base",
            "overflow": null,
            "_model_module_version": "1.2.0",
            "_view_count": null,
            "flex_flow": null,
            "width": null,
            "min_width": null,
            "border": null,
            "align_items": null,
            "bottom": null,
            "_model_module": "@jupyter-widgets/base",
            "top": null,
            "grid_column": null,
            "overflow_y": null,
            "overflow_x": null,
            "grid_auto_flow": null,
            "grid_area": null,
            "grid_template_columns": null,
            "flex": null,
            "_model_name": "LayoutModel",
            "justify_items": null,
            "grid_row": null,
            "max_height": null,
            "align_content": null,
            "visibility": null,
            "align_self": null,
            "height": null,
            "min_height": null,
            "padding": null,
            "grid_auto_rows": null,
            "grid_gap": null,
            "max_width": null,
            "order": null,
            "_view_module_version": "1.2.0",
            "grid_template_areas": null,
            "object_position": null,
            "object_fit": null,
            "grid_auto_columns": null,
            "margin": null,
            "display": null,
            "left": null
          }
        },
        "bddb802f2ef04201bf3e557455441dd4": {
          "model_module": "@jupyter-widgets/controls",
          "model_name": "FloatProgressModel",
          "state": {
            "_view_name": "ProgressView",
            "style": "IPY_MODEL_a80b0a67ecac4c5eb903f28901728458",
            "_dom_classes": [],
            "description": "Downloading: 100%",
            "_model_name": "FloatProgressModel",
            "bar_style": "success",
            "max": 46747112,
            "_view_module": "@jupyter-widgets/controls",
            "_model_module_version": "1.5.0",
            "value": 46747112,
            "_view_count": null,
            "_view_module_version": "1.5.0",
            "orientation": "horizontal",
            "min": 0,
            "description_tooltip": null,
            "_model_module": "@jupyter-widgets/controls",
            "layout": "IPY_MODEL_08ab444453e247579f2af6473d67c745"
          }
        },
        "a7c33ccfacc746ac8c6cb83776cc3e98": {
          "model_module": "@jupyter-widgets/controls",
          "model_name": "HTMLModel",
          "state": {
            "_view_name": "HTMLView",
            "style": "IPY_MODEL_0bd2458e801a4755b73e407bc4c065bd",
            "_dom_classes": [],
            "description": "",
            "_model_name": "HTMLModel",
            "placeholder": "​",
            "_view_module": "@jupyter-widgets/controls",
            "_model_module_version": "1.5.0",
            "value": " 46.7M/46.7M [00:01&lt;00:00, 25.5MB/s]",
            "_view_count": null,
            "_view_module_version": "1.5.0",
            "description_tooltip": null,
            "_model_module": "@jupyter-widgets/controls",
            "layout": "IPY_MODEL_e3e07722fc8e4012b06f52056b4bd35b"
          }
        },
        "a80b0a67ecac4c5eb903f28901728458": {
          "model_module": "@jupyter-widgets/controls",
          "model_name": "ProgressStyleModel",
          "state": {
            "_view_name": "StyleView",
            "_model_name": "ProgressStyleModel",
            "description_width": "initial",
            "_view_module": "@jupyter-widgets/base",
            "_model_module_version": "1.5.0",
            "_view_count": null,
            "_view_module_version": "1.2.0",
            "bar_color": null,
            "_model_module": "@jupyter-widgets/controls"
          }
        },
        "08ab444453e247579f2af6473d67c745": {
          "model_module": "@jupyter-widgets/base",
          "model_name": "LayoutModel",
          "state": {
            "_view_name": "LayoutView",
            "grid_template_rows": null,
            "right": null,
            "justify_content": null,
            "_view_module": "@jupyter-widgets/base",
            "overflow": null,
            "_model_module_version": "1.2.0",
            "_view_count": null,
            "flex_flow": null,
            "width": null,
            "min_width": null,
            "border": null,
            "align_items": null,
            "bottom": null,
            "_model_module": "@jupyter-widgets/base",
            "top": null,
            "grid_column": null,
            "overflow_y": null,
            "overflow_x": null,
            "grid_auto_flow": null,
            "grid_area": null,
            "grid_template_columns": null,
            "flex": null,
            "_model_name": "LayoutModel",
            "justify_items": null,
            "grid_row": null,
            "max_height": null,
            "align_content": null,
            "visibility": null,
            "align_self": null,
            "height": null,
            "min_height": null,
            "padding": null,
            "grid_auto_rows": null,
            "grid_gap": null,
            "max_width": null,
            "order": null,
            "_view_module_version": "1.2.0",
            "grid_template_areas": null,
            "object_position": null,
            "object_fit": null,
            "grid_auto_columns": null,
            "margin": null,
            "display": null,
            "left": null
          }
        },
        "0bd2458e801a4755b73e407bc4c065bd": {
          "model_module": "@jupyter-widgets/controls",
          "model_name": "DescriptionStyleModel",
          "state": {
            "_view_name": "StyleView",
            "_model_name": "DescriptionStyleModel",
            "description_width": "",
            "_view_module": "@jupyter-widgets/base",
            "_model_module_version": "1.5.0",
            "_view_count": null,
            "_view_module_version": "1.2.0",
            "_model_module": "@jupyter-widgets/controls"
          }
        },
        "e3e07722fc8e4012b06f52056b4bd35b": {
          "model_module": "@jupyter-widgets/base",
          "model_name": "LayoutModel",
          "state": {
            "_view_name": "LayoutView",
            "grid_template_rows": null,
            "right": null,
            "justify_content": null,
            "_view_module": "@jupyter-widgets/base",
            "overflow": null,
            "_model_module_version": "1.2.0",
            "_view_count": null,
            "flex_flow": null,
            "width": null,
            "min_width": null,
            "border": null,
            "align_items": null,
            "bottom": null,
            "_model_module": "@jupyter-widgets/base",
            "top": null,
            "grid_column": null,
            "overflow_y": null,
            "overflow_x": null,
            "grid_auto_flow": null,
            "grid_area": null,
            "grid_template_columns": null,
            "flex": null,
            "_model_name": "LayoutModel",
            "justify_items": null,
            "grid_row": null,
            "max_height": null,
            "align_content": null,
            "visibility": null,
            "align_self": null,
            "height": null,
            "min_height": null,
            "padding": null,
            "grid_auto_rows": null,
            "grid_gap": null,
            "max_width": null,
            "order": null,
            "_view_module_version": "1.2.0",
            "grid_template_areas": null,
            "object_position": null,
            "object_fit": null,
            "grid_auto_columns": null,
            "margin": null,
            "display": null,
            "left": null
          }
        }
      }
    }
  },
  "cells": [
    {
      "cell_type": "code",
      "metadata": {
        "id": "rZsbyxcGyoog",
        "colab_type": "code",
        "colab": {}
      },
      "source": [
        "!pip install textattack pyarrow==1.0 sentence-transformers > /dev/null"
      ],
      "execution_count": 12,
      "outputs": []
    },
    {
      "cell_type": "code",
      "metadata": {
        "id": "DtUq7q_uuxAX",
        "colab_type": "code",
        "colab": {}
      },
      "source": [
        "from nltk.corpus import wordnet\n",
        "\n",
        "import textattack\n",
        "from textattack.transformations.word_swap import WordSwap\n",
        "\n",
        "\n",
        "class WordSwapWordNetAntonym(WordSwap):\n",
        "    \"\"\"Transforms an input by replacing its words with synonyms provided by\n",
        "    WordNet.\"\"\"\n",
        "\n",
        "    def _get_replacement_words(self, word, random=False):\n",
        "        \"\"\"Returns a list containing all possible words with 1 character\n",
        "        replaced by a homoglyph.\"\"\"\n",
        "        antonyms = set()\n",
        "        for syn in wordnet.synsets(word):\n",
        "            for lemma in syn.lemmas():\n",
        "                if lemma.antonyms():\n",
        "                  for ant_lemma in lemma.antonyms():\n",
        "                    ant_word = ant_lemma.name()\n",
        "                    if (\n",
        "                        (ant_word != word)\n",
        "                        and (\"_\" not in ant_word)\n",
        "                        and (textattack.shared.utils.is_one_word(ant_word))\n",
        "                    ):\n",
        "                        # WordNet can suggest phrases that are joined by '_' but we ignore phrases.\n",
        "                        antonyms.add(ant_word)\n",
        "        return list(antonyms)"
      ],
      "execution_count": 13,
      "outputs": []
    },
    {
      "cell_type": "code",
      "metadata": {
        "id": "Fd9fCgO9_Dh0",
        "colab_type": "code",
        "colab": {}
      },
      "source": [
        "def set_seed(random_seed):\n",
        "  import random\n",
        "  random.seed(random_seed)\n",
        "  import numpy as np\n",
        "  np.random.seed(random_seed)\n",
        "  import torch\n",
        "  torch.manual_seed(random_seed)\n",
        "  torch.cuda.manual_seed(random_seed)\n",
        "\n",
        "set_seed(42)"
      ],
      "execution_count": 14,
      "outputs": []
    },
    {
      "cell_type": "code",
      "metadata": {
        "id": "7Vb4nrOv0P6O",
        "colab_type": "code",
        "colab": {}
      },
      "source": [
        "import torch\n",
        "import textattack\n",
        "\n",
        "class FoolConstraintGoalFunction(textattack.goal_functions.classification.UntargetedClassification):\n",
        "  def __init__(self, constraint, min_acceptable_score=0.8,\n",
        "                num_words_to_swap=2):\n",
        "    self.constraint = constraint\n",
        "    self.query_budget = float(\"inf\")\n",
        "    self.min_acceptable_score = min_acceptable_score\n",
        "    self.use_cache = False\n",
        "    self.num_words_to_swap = num_words_to_swap\n",
        "    self.maximizable = False\n",
        "    self.model_cache_size = 0\n",
        "  \n",
        "  def _should_skip(self, *_):\n",
        "    return False\n",
        "  \n",
        "  def _is_goal_complete(self, model_output, attacked_text):\n",
        "    num_words_swapped = len(attacked_text.attack_attrs.get('modified_indices', []))\n",
        "    model_score =  model_output.item()\n",
        "\n",
        "    return (num_words_swapped >= self.num_words_to_swap) and (model_score >= self.min_acceptable_score)\n",
        "\n",
        "  def _call_model(self, attacked_text_list):\n",
        "    \"\"\" Gets predictions for a list of `AttackedText` objects.\n",
        "\n",
        "    Gets prediction from cache if possible. If prediction is not in the \n",
        "    cache, queries model and stores prediction in cache.\n",
        "    \"\"\"\n",
        "    original_text = attacked_text_list[0]\n",
        "    while \"previous_attacked_text\" in original_text.attack_attrs:\n",
        "      original_text = original_text.attack_attrs[\"previous_attacked_text\"]\n",
        "\n",
        "    scores = []\n",
        "    for at in attacked_text_list:\n",
        "      if \"newly_modified_indices\" not in at.attack_attrs:\n",
        "        # Original text\n",
        "        scores.append([1.0])\n",
        "      else:\n",
        "        at.attack_attrs[\"last_transformation\"] = transformation\n",
        "        if isinstance(self.constraint, BERTScore):\n",
        "          # call bert scorer specially\n",
        "          model_scores = self.constraint._bert_scorer.score([original_text.text], [at.text])\n",
        "        else:\n",
        "          # otherwise, it's a sentence encoder\n",
        "          model_scores = self.constraint._score_list(original_text, [at])\n",
        "        scores.append([model_scores[0]])\n",
        "    return torch.tensor(scores)\n",
        "      \n",
        "  def _get_score(self, model_output, attacked_text):\n",
        "    model_score =  model_output.item()\n",
        "    if model_score < self.min_acceptable_score:\n",
        "      return 0.0\n",
        "\n",
        "    num_words_swapped = len(attacked_text.attack_attrs.get('modified_indices', []))\n",
        "    num_words = len(attacked_text.words)\n",
        "    num_words_score = (num_words_swapped / num_words)\n",
        "    return num_words_swapped + model_score"
      ],
      "execution_count": 15,
      "outputs": []
    },
    {
      "cell_type": "code",
      "metadata": {
        "id": "yu99zTAEyyyc",
        "colab_type": "code",
        "colab": {
          "base_uri": "https://localhost:8080/",
          "height": 1000
        },
        "outputId": "a3a251f1-62da-45b4-edd5-d609f2043c64"
      },
      "source": [
        "from textattack.constraints.grammaticality.language_models import GPT2\n",
        "from textattack.constraints.semantics import BERTScore\n",
        "from textattack.constraints.semantics.sentence_encoders import UniversalSentenceEncoder\n",
        "from textattack.constraints.pre_transformation import InputColumnModification, RepeatModification, StopwordModification\n",
        "from textattack.datasets import HuggingFaceNlpDataset\n",
        "from textattack.search_methods import BeamSearch\n",
        "from textattack.shared import Attack\n",
        "from textattack.transformations import WordSwapEmbedding\n",
        "\n",
        "import numpy as np\n",
        "import pickle\n",
        "import random\n",
        "import tqdm\n",
        "\n",
        "transformation = WordSwapWordNetAntonym()\n",
        "\n",
        "# We'll constrain modification of already modified indices and stopwords\n",
        "constraints = [RepeatModification(), StopwordModification()]\n",
        "# don't attack premise in entailment\n",
        "constraints.append(InputColumnModification([\"premise\", \"hypothesis\"], {\"premise\"}))\n",
        "# use GPT2 to try and make sentences somewhat plausible\n",
        "constraints.append(GPT2(max_log_prob_diff=2.0))\n",
        "\n",
        "# Use RTE dataset\n",
        "dataset = [(x['text'], x['label']) for x in pickle.load(open('mr.pkl', 'rb'))]\n",
        "random.shuffle(dataset)\n",
        "\n",
        "data = []\n",
        "\n",
        "num_samples = 100\n",
        "num_words_to_swap = 3\n",
        "\n",
        "all_constraints = ('bertscore', 'use')\n",
        "threshold_vals = np.arange(.50, 1.0, .01)\n",
        "for constraint_idx, constraint_name in enumerate(all_constraints):\n",
        "  tqdm.tqdm.write(f'----> constraint {constraint_name}')\n",
        "\n",
        "  # We know this second-order attack fails most of the time, and fails more as the \n",
        "  # threshold increases. Any example that fails will continue to fail. We take \n",
        "  # advantage of this fact through caching.\n",
        "  known_failure_idxs = set()\n",
        "\n",
        "  if constraint_name == 'bertscore':\n",
        "    constraint = BERTScore(\n",
        "      min_bert_score=0.0, # don't need this\n",
        "      model=\"bert-base-uncased\",\n",
        "      score_type=\"f1\",\n",
        "      compare_against_original=True,\n",
        "    )\n",
        "  else:\n",
        "    constraint = UniversalSentenceEncoder(\n",
        "      compare_against_original=True,\n",
        "      skip_text_shorter_than_window=False,\n",
        "    )\n",
        "  for threshold_idx, threshold in enumerate(threshold_vals):\n",
        "    # goal function is to fool a single constraint\n",
        "    tqdm.tqdm.write(f'--> Threshold {threshold} / Num words to swap {num_words_to_swap}')\n",
        "    goal_function = FoolConstraintGoalFunction(\n",
        "      constraint,\n",
        "      min_acceptable_score=threshold,\n",
        "      num_words_to_swap=num_words_to_swap,\n",
        "    )\n",
        "\n",
        "    # search method\n",
        "    search_method = BeamSearch(beam_width=2)\n",
        "    # Now, let's make the attack from the 4 components:\n",
        "    attack = Attack(goal_function, constraints, transformation, search_method)\n",
        "    idxs_to_attack = set(range(num_samples)) - known_failure_idxs\n",
        "    idxs_to_attack = list(sorted(idxs_to_attack))\n",
        "\n",
        "    if len(idxs_to_attack):\n",
        "      this_sample_idx = (constraint_idx * len(threshold_vals)) + threshold_idx + 1\n",
        "      total_num_samples = len(all_constraints) * len(threshold_vals)\n",
        "      results_iterable = list(tqdm.tqdm(attack.attack_dataset(dataset, \n",
        "                                      indices=idxs_to_attack), \n",
        "                                      total=len(idxs_to_attack), \n",
        "                                      position=0, \n",
        "                                      leave=True, desc=f'Sample {this_sample_idx}/{total_num_samples}'))\n",
        "    else:\n",
        "      results_iterable = []\n",
        "\n",
        "\n",
        "    num_successes = 0\n",
        "    for result_idx, result in zip(idxs_to_attack, results_iterable):\n",
        "      if isinstance(result, textattack.attack_results.FailedAttackResult):\n",
        "        known_failure_idxs.add(result_idx)\n",
        "      elif isinstance(result, textattack.attack_results.SuccessfulAttackResult):\n",
        "        num_successes += 1\n",
        "      \n",
        "    data.append({ \n",
        "        'constraint': type(constraint).__name__, \n",
        "        'threshold': threshold, \n",
        "        'num_successes': num_successes, \n",
        "        'num_words_to_swap': num_words_to_swap \n",
        "      })"
      ],
      "execution_count": 30,
      "outputs": [
        {
          "output_type": "stream",
          "text": [
            "Some weights of GPT2LMHeadModel were not initialized from the model checkpoint at gpt2 and are newly initialized: ['h.0.attn.masked_bias', 'h.1.attn.masked_bias', 'h.2.attn.masked_bias', 'h.3.attn.masked_bias', 'h.4.attn.masked_bias', 'h.5.attn.masked_bias', 'h.6.attn.masked_bias', 'h.7.attn.masked_bias', 'h.8.attn.masked_bias', 'h.9.attn.masked_bias', 'h.10.attn.masked_bias', 'h.11.attn.masked_bias', 'lm_head.weight']\n",
            "You should probably TRAIN this model on a down-stream task to be able to use it for predictions and inference.\n",
            "Sample 8/100:  35%|███▌      | 18/51 [03:43<00:17,  1.89it/s]"
          ],
          "name": "stderr"
        },
        {
          "output_type": "stream",
          "text": [
            "----> constraint bertscore\n"
          ],
          "name": "stdout"
        },
        {
          "output_type": "stream",
          "text": [
            "Sample 1/100:   0%|          | 0/100 [00:00<?, ?it/s]"
          ],
          "name": "stderr"
        },
        {
          "output_type": "stream",
          "text": [
            "--> Threshold 0.5 / Num words to swap 3\n"
          ],
          "name": "stdout"
        },
        {
          "output_type": "stream",
          "text": [
            "Sample 1/100: 100%|██████████| 100/100 [00:39<00:00,  2.52it/s]\n",
            "Sample 2/100:   0%|          | 0/48 [00:00<?, ?it/s]"
          ],
          "name": "stderr"
        },
        {
          "output_type": "stream",
          "text": [
            "--> Threshold 0.51 / Num words to swap 3\n"
          ],
          "name": "stdout"
        },
        {
          "output_type": "stream",
          "text": [
            "Sample 2/100: 100%|██████████| 48/48 [00:34<00:00,  1.41it/s]\n",
            "Sample 3/100:   0%|          | 0/48 [00:00<?, ?it/s]"
          ],
          "name": "stderr"
        },
        {
          "output_type": "stream",
          "text": [
            "--> Threshold 0.52 / Num words to swap 3\n"
          ],
          "name": "stdout"
        },
        {
          "output_type": "stream",
          "text": [
            "Sample 3/100: 100%|██████████| 48/48 [00:33<00:00,  1.42it/s]\n",
            "Sample 4/100:   0%|          | 0/48 [00:00<?, ?it/s]"
          ],
          "name": "stderr"
        },
        {
          "output_type": "stream",
          "text": [
            "--> Threshold 0.53 / Num words to swap 3\n"
          ],
          "name": "stdout"
        },
        {
          "output_type": "stream",
          "text": [
            "Sample 4/100: 100%|██████████| 48/48 [00:34<00:00,  1.40it/s]\n",
            "Sample 5/100:   0%|          | 0/48 [00:00<?, ?it/s]"
          ],
          "name": "stderr"
        },
        {
          "output_type": "stream",
          "text": [
            "--> Threshold 0.54 / Num words to swap 3\n"
          ],
          "name": "stdout"
        },
        {
          "output_type": "stream",
          "text": [
            "Sample 5/100: 100%|██████████| 48/48 [00:34<00:00,  1.40it/s]\n",
            "Sample 6/100:   0%|          | 0/48 [00:00<?, ?it/s]"
          ],
          "name": "stderr"
        },
        {
          "output_type": "stream",
          "text": [
            "--> Threshold 0.55 / Num words to swap 3\n"
          ],
          "name": "stdout"
        },
        {
          "output_type": "stream",
          "text": [
            "Sample 6/100: 100%|██████████| 48/48 [00:34<00:00,  1.40it/s]\n",
            "Sample 7/100:   0%|          | 0/48 [00:00<?, ?it/s]"
          ],
          "name": "stderr"
        },
        {
          "output_type": "stream",
          "text": [
            "--> Threshold 0.56 / Num words to swap 3\n"
          ],
          "name": "stdout"
        },
        {
          "output_type": "stream",
          "text": [
            "Sample 7/100: 100%|██████████| 48/48 [00:34<00:00,  1.41it/s]\n",
            "Sample 8/100:   0%|          | 0/48 [00:00<?, ?it/s]"
          ],
          "name": "stderr"
        },
        {
          "output_type": "stream",
          "text": [
            "--> Threshold 0.5700000000000001 / Num words to swap 3\n"
          ],
          "name": "stdout"
        },
        {
          "output_type": "stream",
          "text": [
            "Sample 8/100: 100%|██████████| 48/48 [00:33<00:00,  1.42it/s]\n",
            "Sample 9/100:   0%|          | 0/48 [00:00<?, ?it/s]"
          ],
          "name": "stderr"
        },
        {
          "output_type": "stream",
          "text": [
            "--> Threshold 0.5800000000000001 / Num words to swap 3\n"
          ],
          "name": "stdout"
        },
        {
          "output_type": "stream",
          "text": [
            "Sample 9/100: 100%|██████████| 48/48 [00:33<00:00,  1.42it/s]\n",
            "Sample 10/100:   0%|          | 0/48 [00:00<?, ?it/s]"
          ],
          "name": "stderr"
        },
        {
          "output_type": "stream",
          "text": [
            "--> Threshold 0.5900000000000001 / Num words to swap 3\n"
          ],
          "name": "stdout"
        },
        {
          "output_type": "stream",
          "text": [
            "Sample 10/100: 100%|██████████| 48/48 [00:34<00:00,  1.39it/s]\n",
            "Sample 11/100:   0%|          | 0/48 [00:00<?, ?it/s]"
          ],
          "name": "stderr"
        },
        {
          "output_type": "stream",
          "text": [
            "--> Threshold 0.6000000000000001 / Num words to swap 3\n"
          ],
          "name": "stdout"
        },
        {
          "output_type": "stream",
          "text": [
            "Sample 11/100: 100%|██████████| 48/48 [00:34<00:00,  1.40it/s]\n",
            "Sample 12/100:   0%|          | 0/48 [00:00<?, ?it/s]"
          ],
          "name": "stderr"
        },
        {
          "output_type": "stream",
          "text": [
            "--> Threshold 0.6100000000000001 / Num words to swap 3\n"
          ],
          "name": "stdout"
        },
        {
          "output_type": "stream",
          "text": [
            "Sample 12/100: 100%|██████████| 48/48 [00:34<00:00,  1.40it/s]\n",
            "Sample 13/100:   0%|          | 0/48 [00:00<?, ?it/s]"
          ],
          "name": "stderr"
        },
        {
          "output_type": "stream",
          "text": [
            "--> Threshold 0.6200000000000001 / Num words to swap 3\n"
          ],
          "name": "stdout"
        },
        {
          "output_type": "stream",
          "text": [
            "Sample 13/100: 100%|██████████| 48/48 [00:33<00:00,  1.42it/s]\n",
            "Sample 14/100:   0%|          | 0/48 [00:00<?, ?it/s]"
          ],
          "name": "stderr"
        },
        {
          "output_type": "stream",
          "text": [
            "--> Threshold 0.6300000000000001 / Num words to swap 3\n"
          ],
          "name": "stdout"
        },
        {
          "output_type": "stream",
          "text": [
            "Sample 14/100: 100%|██████████| 48/48 [00:34<00:00,  1.41it/s]\n",
            "Sample 15/100:   0%|          | 0/48 [00:00<?, ?it/s]"
          ],
          "name": "stderr"
        },
        {
          "output_type": "stream",
          "text": [
            "--> Threshold 0.6400000000000001 / Num words to swap 3\n"
          ],
          "name": "stdout"
        },
        {
          "output_type": "stream",
          "text": [
            "Sample 15/100: 100%|██████████| 48/48 [00:34<00:00,  1.40it/s]\n",
            "Sample 16/100:   0%|          | 0/48 [00:00<?, ?it/s]"
          ],
          "name": "stderr"
        },
        {
          "output_type": "stream",
          "text": [
            "--> Threshold 0.6500000000000001 / Num words to swap 3\n"
          ],
          "name": "stdout"
        },
        {
          "output_type": "stream",
          "text": [
            "Sample 16/100: 100%|██████████| 48/48 [00:33<00:00,  1.42it/s]\n",
            "Sample 17/100:   0%|          | 0/48 [00:00<?, ?it/s]"
          ],
          "name": "stderr"
        },
        {
          "output_type": "stream",
          "text": [
            "--> Threshold 0.6600000000000001 / Num words to swap 3\n"
          ],
          "name": "stdout"
        },
        {
          "output_type": "stream",
          "text": [
            "Sample 17/100: 100%|██████████| 48/48 [00:35<00:00,  1.37it/s]\n",
            "Sample 18/100:   0%|          | 0/48 [00:00<?, ?it/s]"
          ],
          "name": "stderr"
        },
        {
          "output_type": "stream",
          "text": [
            "--> Threshold 0.6700000000000002 / Num words to swap 3\n"
          ],
          "name": "stdout"
        },
        {
          "output_type": "stream",
          "text": [
            "Sample 18/100: 100%|██████████| 48/48 [00:35<00:00,  1.36it/s]\n",
            "Sample 19/100:   0%|          | 0/48 [00:00<?, ?it/s]"
          ],
          "name": "stderr"
        },
        {
          "output_type": "stream",
          "text": [
            "--> Threshold 0.6800000000000002 / Num words to swap 3\n"
          ],
          "name": "stdout"
        },
        {
          "output_type": "stream",
          "text": [
            "Sample 19/100: 100%|██████████| 48/48 [00:34<00:00,  1.38it/s]\n",
            "Sample 20/100:   0%|          | 0/48 [00:00<?, ?it/s]"
          ],
          "name": "stderr"
        },
        {
          "output_type": "stream",
          "text": [
            "--> Threshold 0.6900000000000002 / Num words to swap 3\n"
          ],
          "name": "stdout"
        },
        {
          "output_type": "stream",
          "text": [
            "Sample 20/100: 100%|██████████| 48/48 [00:34<00:00,  1.40it/s]\n",
            "Sample 21/100:   0%|          | 0/48 [00:00<?, ?it/s]"
          ],
          "name": "stderr"
        },
        {
          "output_type": "stream",
          "text": [
            "--> Threshold 0.7000000000000002 / Num words to swap 3\n"
          ],
          "name": "stdout"
        },
        {
          "output_type": "stream",
          "text": [
            "Sample 21/100: 100%|██████████| 48/48 [00:34<00:00,  1.41it/s]\n",
            "Sample 22/100:   0%|          | 0/48 [00:00<?, ?it/s]"
          ],
          "name": "stderr"
        },
        {
          "output_type": "stream",
          "text": [
            "--> Threshold 0.7100000000000002 / Num words to swap 3\n"
          ],
          "name": "stdout"
        },
        {
          "output_type": "stream",
          "text": [
            "Sample 22/100: 100%|██████████| 48/48 [00:32<00:00,  1.46it/s]\n",
            "Sample 23/100:   0%|          | 0/48 [00:00<?, ?it/s]"
          ],
          "name": "stderr"
        },
        {
          "output_type": "stream",
          "text": [
            "--> Threshold 0.7200000000000002 / Num words to swap 3\n"
          ],
          "name": "stdout"
        },
        {
          "output_type": "stream",
          "text": [
            "Sample 23/100: 100%|██████████| 48/48 [00:32<00:00,  1.47it/s]\n",
            "Sample 24/100:   0%|          | 0/48 [00:00<?, ?it/s]"
          ],
          "name": "stderr"
        },
        {
          "output_type": "stream",
          "text": [
            "--> Threshold 0.7300000000000002 / Num words to swap 3\n"
          ],
          "name": "stdout"
        },
        {
          "output_type": "stream",
          "text": [
            "Sample 24/100: 100%|██████████| 48/48 [00:32<00:00,  1.48it/s]\n",
            "Sample 25/100:   0%|          | 0/48 [00:00<?, ?it/s]"
          ],
          "name": "stderr"
        },
        {
          "output_type": "stream",
          "text": [
            "--> Threshold 0.7400000000000002 / Num words to swap 3\n"
          ],
          "name": "stdout"
        },
        {
          "output_type": "stream",
          "text": [
            "Sample 25/100: 100%|██████████| 48/48 [00:32<00:00,  1.46it/s]\n",
            "Sample 26/100:   0%|          | 0/48 [00:00<?, ?it/s]"
          ],
          "name": "stderr"
        },
        {
          "output_type": "stream",
          "text": [
            "--> Threshold 0.7500000000000002 / Num words to swap 3\n"
          ],
          "name": "stdout"
        },
        {
          "output_type": "stream",
          "text": [
            "Sample 26/100: 100%|██████████| 48/48 [00:32<00:00,  1.47it/s]\n",
            "Sample 27/100:   0%|          | 0/48 [00:00<?, ?it/s]"
          ],
          "name": "stderr"
        },
        {
          "output_type": "stream",
          "text": [
            "--> Threshold 0.7600000000000002 / Num words to swap 3\n"
          ],
          "name": "stdout"
        },
        {
          "output_type": "stream",
          "text": [
            "Sample 27/100: 100%|██████████| 48/48 [00:32<00:00,  1.47it/s]\n",
            "Sample 28/100:   0%|          | 0/48 [00:00<?, ?it/s]"
          ],
          "name": "stderr"
        },
        {
          "output_type": "stream",
          "text": [
            "--> Threshold 0.7700000000000002 / Num words to swap 3\n"
          ],
          "name": "stdout"
        },
        {
          "output_type": "stream",
          "text": [
            "Sample 28/100: 100%|██████████| 48/48 [00:33<00:00,  1.45it/s]\n",
            "Sample 29/100:   0%|          | 0/47 [00:00<?, ?it/s]"
          ],
          "name": "stderr"
        },
        {
          "output_type": "stream",
          "text": [
            "--> Threshold 0.7800000000000002 / Num words to swap 3\n"
          ],
          "name": "stdout"
        },
        {
          "output_type": "stream",
          "text": [
            "Sample 29/100: 100%|██████████| 47/47 [00:32<00:00,  1.45it/s]\n",
            "Sample 30/100:   0%|          | 0/47 [00:00<?, ?it/s]"
          ],
          "name": "stderr"
        },
        {
          "output_type": "stream",
          "text": [
            "--> Threshold 0.7900000000000003 / Num words to swap 3\n"
          ],
          "name": "stdout"
        },
        {
          "output_type": "stream",
          "text": [
            "Sample 30/100: 100%|██████████| 47/47 [00:32<00:00,  1.45it/s]\n",
            "Sample 31/100:   0%|          | 0/46 [00:00<?, ?it/s]"
          ],
          "name": "stderr"
        },
        {
          "output_type": "stream",
          "text": [
            "--> Threshold 0.8000000000000003 / Num words to swap 3\n"
          ],
          "name": "stdout"
        },
        {
          "output_type": "stream",
          "text": [
            "Sample 31/100: 100%|██████████| 46/46 [00:31<00:00,  1.44it/s]\n",
            "Sample 32/100:   0%|          | 0/46 [00:00<?, ?it/s]"
          ],
          "name": "stderr"
        },
        {
          "output_type": "stream",
          "text": [
            "--> Threshold 0.8100000000000003 / Num words to swap 3\n"
          ],
          "name": "stdout"
        },
        {
          "output_type": "stream",
          "text": [
            "Sample 32/100: 100%|██████████| 46/46 [00:32<00:00,  1.43it/s]\n",
            "Sample 33/100:   0%|          | 0/46 [00:00<?, ?it/s]"
          ],
          "name": "stderr"
        },
        {
          "output_type": "stream",
          "text": [
            "--> Threshold 0.8200000000000003 / Num words to swap 3\n"
          ],
          "name": "stdout"
        },
        {
          "output_type": "stream",
          "text": [
            "Sample 33/100: 100%|██████████| 46/46 [00:32<00:00,  1.43it/s]\n",
            "Sample 34/100:   0%|          | 0/46 [00:00<?, ?it/s]"
          ],
          "name": "stderr"
        },
        {
          "output_type": "stream",
          "text": [
            "--> Threshold 0.8300000000000003 / Num words to swap 3\n"
          ],
          "name": "stdout"
        },
        {
          "output_type": "stream",
          "text": [
            "Sample 34/100: 100%|██████████| 46/46 [00:31<00:00,  1.44it/s]\n",
            "Sample 35/100:   0%|          | 0/46 [00:00<?, ?it/s]"
          ],
          "name": "stderr"
        },
        {
          "output_type": "stream",
          "text": [
            "--> Threshold 0.8400000000000003 / Num words to swap 3\n"
          ],
          "name": "stdout"
        },
        {
          "output_type": "stream",
          "text": [
            "Sample 35/100: 100%|██████████| 46/46 [00:32<00:00,  1.43it/s]\n",
            "Sample 36/100:   0%|          | 0/46 [00:00<?, ?it/s]"
          ],
          "name": "stderr"
        },
        {
          "output_type": "stream",
          "text": [
            "--> Threshold 0.8500000000000003 / Num words to swap 3\n"
          ],
          "name": "stdout"
        },
        {
          "output_type": "stream",
          "text": [
            "Sample 36/100: 100%|██████████| 46/46 [00:32<00:00,  1.44it/s]\n",
            "Sample 37/100:   0%|          | 0/45 [00:00<?, ?it/s]"
          ],
          "name": "stderr"
        },
        {
          "output_type": "stream",
          "text": [
            "--> Threshold 0.8600000000000003 / Num words to swap 3\n"
          ],
          "name": "stdout"
        },
        {
          "output_type": "stream",
          "text": [
            "Sample 37/100: 100%|██████████| 45/45 [00:31<00:00,  1.43it/s]\n",
            "Sample 38/100:   0%|          | 0/45 [00:00<?, ?it/s]"
          ],
          "name": "stderr"
        },
        {
          "output_type": "stream",
          "text": [
            "--> Threshold 0.8700000000000003 / Num words to swap 3\n"
          ],
          "name": "stdout"
        },
        {
          "output_type": "stream",
          "text": [
            "Sample 38/100: 100%|██████████| 45/45 [00:33<00:00,  1.35it/s]\n",
            "Sample 39/100:   0%|          | 0/43 [00:00<?, ?it/s]"
          ],
          "name": "stderr"
        },
        {
          "output_type": "stream",
          "text": [
            "--> Threshold 0.8800000000000003 / Num words to swap 3\n"
          ],
          "name": "stdout"
        },
        {
          "output_type": "stream",
          "text": [
            "Sample 39/100: 100%|██████████| 43/43 [00:31<00:00,  1.37it/s]\n",
            "Sample 40/100:   0%|          | 0/42 [00:00<?, ?it/s]"
          ],
          "name": "stderr"
        },
        {
          "output_type": "stream",
          "text": [
            "--> Threshold 0.8900000000000003 / Num words to swap 3\n"
          ],
          "name": "stdout"
        },
        {
          "output_type": "stream",
          "text": [
            "Sample 40/100: 100%|██████████| 42/42 [00:31<00:00,  1.35it/s]\n",
            "Sample 41/100:   0%|          | 0/42 [00:00<?, ?it/s]"
          ],
          "name": "stderr"
        },
        {
          "output_type": "stream",
          "text": [
            "--> Threshold 0.9000000000000004 / Num words to swap 3\n"
          ],
          "name": "stdout"
        },
        {
          "output_type": "stream",
          "text": [
            "Sample 41/100: 100%|██████████| 42/42 [00:31<00:00,  1.35it/s]\n",
            "Sample 42/100:   0%|          | 0/40 [00:00<?, ?it/s]"
          ],
          "name": "stderr"
        },
        {
          "output_type": "stream",
          "text": [
            "--> Threshold 0.9100000000000004 / Num words to swap 3\n"
          ],
          "name": "stdout"
        },
        {
          "output_type": "stream",
          "text": [
            "Sample 42/100: 100%|██████████| 40/40 [00:29<00:00,  1.34it/s]\n",
            "Sample 43/100:   0%|          | 0/39 [00:00<?, ?it/s]"
          ],
          "name": "stderr"
        },
        {
          "output_type": "stream",
          "text": [
            "--> Threshold 0.9200000000000004 / Num words to swap 3\n"
          ],
          "name": "stdout"
        },
        {
          "output_type": "stream",
          "text": [
            "Sample 43/100: 100%|██████████| 39/39 [00:28<00:00,  1.35it/s]\n",
            "Sample 44/100:   0%|          | 0/38 [00:00<?, ?it/s]"
          ],
          "name": "stderr"
        },
        {
          "output_type": "stream",
          "text": [
            "--> Threshold 0.9300000000000004 / Num words to swap 3\n"
          ],
          "name": "stdout"
        },
        {
          "output_type": "stream",
          "text": [
            "Sample 44/100: 100%|██████████| 38/38 [00:29<00:00,  1.30it/s]\n",
            "Sample 45/100:   0%|          | 0/31 [00:00<?, ?it/s]"
          ],
          "name": "stderr"
        },
        {
          "output_type": "stream",
          "text": [
            "--> Threshold 0.9400000000000004 / Num words to swap 3\n"
          ],
          "name": "stdout"
        },
        {
          "output_type": "stream",
          "text": [
            "Sample 45/100: 100%|██████████| 31/31 [00:26<00:00,  1.17it/s]\n",
            "Sample 46/100:   0%|          | 0/25 [00:00<?, ?it/s]"
          ],
          "name": "stderr"
        },
        {
          "output_type": "stream",
          "text": [
            "--> Threshold 0.9500000000000004 / Num words to swap 3\n"
          ],
          "name": "stdout"
        },
        {
          "output_type": "stream",
          "text": [
            "Sample 46/100: 100%|██████████| 25/25 [00:23<00:00,  1.07it/s]\n",
            "Sample 47/100:   0%|          | 0/20 [00:00<?, ?it/s]"
          ],
          "name": "stderr"
        },
        {
          "output_type": "stream",
          "text": [
            "--> Threshold 0.9600000000000004 / Num words to swap 3\n"
          ],
          "name": "stdout"
        },
        {
          "output_type": "stream",
          "text": [
            "Sample 47/100: 100%|██████████| 20/20 [00:19<00:00,  1.04it/s]\n",
            "Sample 48/100:   0%|          | 0/15 [00:00<?, ?it/s]"
          ],
          "name": "stderr"
        },
        {
          "output_type": "stream",
          "text": [
            "--> Threshold 0.9700000000000004 / Num words to swap 3\n"
          ],
          "name": "stdout"
        },
        {
          "output_type": "stream",
          "text": [
            "Sample 48/100: 100%|██████████| 15/15 [00:21<00:00,  1.46s/it]\n",
            "Sample 49/100:   0%|          | 0/3 [00:00<?, ?it/s]"
          ],
          "name": "stderr"
        },
        {
          "output_type": "stream",
          "text": [
            "--> Threshold 0.9800000000000004 / Num words to swap 3\n"
          ],
          "name": "stdout"
        },
        {
          "output_type": "stream",
          "text": [
            "Sample 49/100: 100%|██████████| 3/3 [00:06<00:00,  2.16s/it]\n",
            "Sample 20/100:  82%|████████▏ | 64/78 [44:59<00:29,  2.09s/it]"
          ],
          "name": "stderr"
        },
        {
          "output_type": "stream",
          "text": [
            "--> Threshold 0.9900000000000004 / Num words to swap 3\n",
            "----> constraint use\n"
          ],
          "name": "stdout"
        },
        {
          "output_type": "stream",
          "text": [
            "Sample 51/100:   0%|          | 0/100 [00:00<?, ?it/s]"
          ],
          "name": "stderr"
        },
        {
          "output_type": "stream",
          "text": [
            "--> Threshold 0.5 / Num words to swap 3\n"
          ],
          "name": "stdout"
        },
        {
          "output_type": "stream",
          "text": [
            "Sample 51/100: 100%|██████████| 100/100 [00:32<00:00,  3.08it/s]\n",
            "Sample 52/100:   0%|          | 0/48 [00:00<?, ?it/s]"
          ],
          "name": "stderr"
        },
        {
          "output_type": "stream",
          "text": [
            "--> Threshold 0.51 / Num words to swap 3\n"
          ],
          "name": "stdout"
        },
        {
          "output_type": "stream",
          "text": [
            "Sample 52/100: 100%|██████████| 48/48 [00:26<00:00,  1.81it/s]\n",
            "Sample 53/100:   0%|          | 0/48 [00:00<?, ?it/s]"
          ],
          "name": "stderr"
        },
        {
          "output_type": "stream",
          "text": [
            "--> Threshold 0.52 / Num words to swap 3\n"
          ],
          "name": "stdout"
        },
        {
          "output_type": "stream",
          "text": [
            "Sample 53/100: 100%|██████████| 48/48 [00:26<00:00,  1.82it/s]\n",
            "Sample 54/100:   0%|          | 0/48 [00:00<?, ?it/s]"
          ],
          "name": "stderr"
        },
        {
          "output_type": "stream",
          "text": [
            "--> Threshold 0.53 / Num words to swap 3\n"
          ],
          "name": "stdout"
        },
        {
          "output_type": "stream",
          "text": [
            "Sample 54/100: 100%|██████████| 48/48 [00:26<00:00,  1.81it/s]\n",
            "Sample 55/100:   0%|          | 0/48 [00:00<?, ?it/s]"
          ],
          "name": "stderr"
        },
        {
          "output_type": "stream",
          "text": [
            "--> Threshold 0.54 / Num words to swap 3\n"
          ],
          "name": "stdout"
        },
        {
          "output_type": "stream",
          "text": [
            "Sample 55/100: 100%|██████████| 48/48 [00:26<00:00,  1.82it/s]\n",
            "Sample 56/100:   0%|          | 0/48 [00:00<?, ?it/s]"
          ],
          "name": "stderr"
        },
        {
          "output_type": "stream",
          "text": [
            "--> Threshold 0.55 / Num words to swap 3\n"
          ],
          "name": "stdout"
        },
        {
          "output_type": "stream",
          "text": [
            "Sample 56/100: 100%|██████████| 48/48 [00:26<00:00,  1.82it/s]\n",
            "Sample 57/100:   0%|          | 0/48 [00:00<?, ?it/s]"
          ],
          "name": "stderr"
        },
        {
          "output_type": "stream",
          "text": [
            "--> Threshold 0.56 / Num words to swap 3\n"
          ],
          "name": "stdout"
        },
        {
          "output_type": "stream",
          "text": [
            "Sample 57/100: 100%|██████████| 48/48 [00:26<00:00,  1.81it/s]\n",
            "Sample 58/100:   0%|          | 0/48 [00:00<?, ?it/s]"
          ],
          "name": "stderr"
        },
        {
          "output_type": "stream",
          "text": [
            "--> Threshold 0.5700000000000001 / Num words to swap 3\n"
          ],
          "name": "stdout"
        },
        {
          "output_type": "stream",
          "text": [
            "Sample 58/100: 100%|██████████| 48/48 [00:26<00:00,  1.81it/s]\n",
            "Sample 59/100:   0%|          | 0/48 [00:00<?, ?it/s]"
          ],
          "name": "stderr"
        },
        {
          "output_type": "stream",
          "text": [
            "--> Threshold 0.5800000000000001 / Num words to swap 3\n"
          ],
          "name": "stdout"
        },
        {
          "output_type": "stream",
          "text": [
            "Sample 59/100: 100%|██████████| 48/48 [00:26<00:00,  1.82it/s]\n",
            "Sample 60/100:   0%|          | 0/48 [00:00<?, ?it/s]"
          ],
          "name": "stderr"
        },
        {
          "output_type": "stream",
          "text": [
            "--> Threshold 0.5900000000000001 / Num words to swap 3\n"
          ],
          "name": "stdout"
        },
        {
          "output_type": "stream",
          "text": [
            "Sample 60/100: 100%|██████████| 48/48 [00:26<00:00,  1.80it/s]\n",
            "Sample 61/100:   0%|          | 0/48 [00:00<?, ?it/s]"
          ],
          "name": "stderr"
        },
        {
          "output_type": "stream",
          "text": [
            "--> Threshold 0.6000000000000001 / Num words to swap 3\n"
          ],
          "name": "stdout"
        },
        {
          "output_type": "stream",
          "text": [
            "Sample 61/100: 100%|██████████| 48/48 [00:26<00:00,  1.81it/s]\n",
            "Sample 62/100:   0%|          | 0/48 [00:00<?, ?it/s]"
          ],
          "name": "stderr"
        },
        {
          "output_type": "stream",
          "text": [
            "--> Threshold 0.6100000000000001 / Num words to swap 3\n"
          ],
          "name": "stdout"
        },
        {
          "output_type": "stream",
          "text": [
            "Sample 62/100: 100%|██████████| 48/48 [00:26<00:00,  1.81it/s]\n",
            "Sample 63/100:   0%|          | 0/48 [00:00<?, ?it/s]"
          ],
          "name": "stderr"
        },
        {
          "output_type": "stream",
          "text": [
            "--> Threshold 0.6200000000000001 / Num words to swap 3\n"
          ],
          "name": "stdout"
        },
        {
          "output_type": "stream",
          "text": [
            "Sample 63/100: 100%|██████████| 48/48 [00:26<00:00,  1.78it/s]\n",
            "Sample 64/100:   0%|          | 0/48 [00:00<?, ?it/s]"
          ],
          "name": "stderr"
        },
        {
          "output_type": "stream",
          "text": [
            "--> Threshold 0.6300000000000001 / Num words to swap 3\n"
          ],
          "name": "stdout"
        },
        {
          "output_type": "stream",
          "text": [
            "Sample 64/100: 100%|██████████| 48/48 [00:26<00:00,  1.82it/s]\n",
            "Sample 65/100:   0%|          | 0/48 [00:00<?, ?it/s]"
          ],
          "name": "stderr"
        },
        {
          "output_type": "stream",
          "text": [
            "--> Threshold 0.6400000000000001 / Num words to swap 3\n"
          ],
          "name": "stdout"
        },
        {
          "output_type": "stream",
          "text": [
            "Sample 65/100: 100%|██████████| 48/48 [00:26<00:00,  1.82it/s]\n",
            "Sample 66/100:   0%|          | 0/48 [00:00<?, ?it/s]"
          ],
          "name": "stderr"
        },
        {
          "output_type": "stream",
          "text": [
            "--> Threshold 0.6500000000000001 / Num words to swap 3\n"
          ],
          "name": "stdout"
        },
        {
          "output_type": "stream",
          "text": [
            "Sample 66/100: 100%|██████████| 48/48 [00:26<00:00,  1.81it/s]\n",
            "Sample 67/100:   0%|          | 0/48 [00:00<?, ?it/s]"
          ],
          "name": "stderr"
        },
        {
          "output_type": "stream",
          "text": [
            "--> Threshold 0.6600000000000001 / Num words to swap 3\n"
          ],
          "name": "stdout"
        },
        {
          "output_type": "stream",
          "text": [
            "Sample 67/100: 100%|██████████| 48/48 [00:26<00:00,  1.82it/s]\n",
            "Sample 68/100:   0%|          | 0/48 [00:00<?, ?it/s]"
          ],
          "name": "stderr"
        },
        {
          "output_type": "stream",
          "text": [
            "--> Threshold 0.6700000000000002 / Num words to swap 3\n"
          ],
          "name": "stdout"
        },
        {
          "output_type": "stream",
          "text": [
            "Sample 68/100: 100%|██████████| 48/48 [00:26<00:00,  1.81it/s]\n",
            "Sample 69/100:   0%|          | 0/48 [00:00<?, ?it/s]"
          ],
          "name": "stderr"
        },
        {
          "output_type": "stream",
          "text": [
            "--> Threshold 0.6800000000000002 / Num words to swap 3\n"
          ],
          "name": "stdout"
        },
        {
          "output_type": "stream",
          "text": [
            "Sample 69/100: 100%|██████████| 48/48 [00:26<00:00,  1.80it/s]\n",
            "Sample 70/100:   0%|          | 0/48 [00:00<?, ?it/s]"
          ],
          "name": "stderr"
        },
        {
          "output_type": "stream",
          "text": [
            "--> Threshold 0.6900000000000002 / Num words to swap 3\n"
          ],
          "name": "stdout"
        },
        {
          "output_type": "stream",
          "text": [
            "Sample 70/100: 100%|██████████| 48/48 [00:26<00:00,  1.81it/s]\n",
            "Sample 71/100:   0%|          | 0/47 [00:00<?, ?it/s]"
          ],
          "name": "stderr"
        },
        {
          "output_type": "stream",
          "text": [
            "--> Threshold 0.7000000000000002 / Num words to swap 3\n"
          ],
          "name": "stdout"
        },
        {
          "output_type": "stream",
          "text": [
            "Sample 71/100: 100%|██████████| 47/47 [00:26<00:00,  1.80it/s]\n",
            "Sample 72/100:   0%|          | 0/47 [00:00<?, ?it/s]"
          ],
          "name": "stderr"
        },
        {
          "output_type": "stream",
          "text": [
            "--> Threshold 0.7100000000000002 / Num words to swap 3\n"
          ],
          "name": "stdout"
        },
        {
          "output_type": "stream",
          "text": [
            "Sample 72/100: 100%|██████████| 47/47 [00:26<00:00,  1.79it/s]\n",
            "Sample 73/100:   0%|          | 0/47 [00:00<?, ?it/s]"
          ],
          "name": "stderr"
        },
        {
          "output_type": "stream",
          "text": [
            "--> Threshold 0.7200000000000002 / Num words to swap 3\n"
          ],
          "name": "stdout"
        },
        {
          "output_type": "stream",
          "text": [
            "Sample 73/100: 100%|██████████| 47/47 [00:26<00:00,  1.79it/s]\n",
            "Sample 74/100:   0%|          | 0/47 [00:00<?, ?it/s]"
          ],
          "name": "stderr"
        },
        {
          "output_type": "stream",
          "text": [
            "--> Threshold 0.7300000000000002 / Num words to swap 3\n"
          ],
          "name": "stdout"
        },
        {
          "output_type": "stream",
          "text": [
            "Sample 74/100: 100%|██████████| 47/47 [00:26<00:00,  1.77it/s]\n",
            "Sample 75/100:   0%|          | 0/46 [00:00<?, ?it/s]"
          ],
          "name": "stderr"
        },
        {
          "output_type": "stream",
          "text": [
            "--> Threshold 0.7400000000000002 / Num words to swap 3\n"
          ],
          "name": "stdout"
        },
        {
          "output_type": "stream",
          "text": [
            "Sample 75/100: 100%|██████████| 46/46 [00:26<00:00,  1.77it/s]\n",
            "Sample 76/100:   0%|          | 0/46 [00:00<?, ?it/s]"
          ],
          "name": "stderr"
        },
        {
          "output_type": "stream",
          "text": [
            "--> Threshold 0.7500000000000002 / Num words to swap 3\n"
          ],
          "name": "stdout"
        },
        {
          "output_type": "stream",
          "text": [
            "Sample 76/100: 100%|██████████| 46/46 [00:25<00:00,  1.79it/s]\n",
            "Sample 77/100:   0%|          | 0/46 [00:00<?, ?it/s]"
          ],
          "name": "stderr"
        },
        {
          "output_type": "stream",
          "text": [
            "--> Threshold 0.7600000000000002 / Num words to swap 3\n"
          ],
          "name": "stdout"
        },
        {
          "output_type": "stream",
          "text": [
            "Sample 77/100: 100%|██████████| 46/46 [00:25<00:00,  1.78it/s]\n",
            "Sample 78/100:   0%|          | 0/46 [00:00<?, ?it/s]"
          ],
          "name": "stderr"
        },
        {
          "output_type": "stream",
          "text": [
            "--> Threshold 0.7700000000000002 / Num words to swap 3\n"
          ],
          "name": "stdout"
        },
        {
          "output_type": "stream",
          "text": [
            "Sample 78/100: 100%|██████████| 46/46 [00:25<00:00,  1.78it/s]\n",
            "Sample 79/100:   0%|          | 0/46 [00:00<?, ?it/s]"
          ],
          "name": "stderr"
        },
        {
          "output_type": "stream",
          "text": [
            "--> Threshold 0.7800000000000002 / Num words to swap 3\n"
          ],
          "name": "stdout"
        },
        {
          "output_type": "stream",
          "text": [
            "Sample 79/100: 100%|██████████| 46/46 [00:26<00:00,  1.76it/s]\n",
            "Sample 80/100:   0%|          | 0/44 [00:00<?, ?it/s]"
          ],
          "name": "stderr"
        },
        {
          "output_type": "stream",
          "text": [
            "--> Threshold 0.7900000000000003 / Num words to swap 3\n"
          ],
          "name": "stdout"
        },
        {
          "output_type": "stream",
          "text": [
            "Sample 80/100: 100%|██████████| 44/44 [00:25<00:00,  1.76it/s]\n",
            "Sample 81/100:   0%|          | 0/44 [00:00<?, ?it/s]"
          ],
          "name": "stderr"
        },
        {
          "output_type": "stream",
          "text": [
            "--> Threshold 0.8000000000000003 / Num words to swap 3\n"
          ],
          "name": "stdout"
        },
        {
          "output_type": "stream",
          "text": [
            "Sample 81/100: 100%|██████████| 44/44 [00:25<00:00,  1.76it/s]\n",
            "Sample 82/100:   0%|          | 0/44 [00:00<?, ?it/s]"
          ],
          "name": "stderr"
        },
        {
          "output_type": "stream",
          "text": [
            "--> Threshold 0.8100000000000003 / Num words to swap 3\n"
          ],
          "name": "stdout"
        },
        {
          "output_type": "stream",
          "text": [
            "Sample 82/100: 100%|██████████| 44/44 [00:24<00:00,  1.77it/s]\n",
            "Sample 83/100:   0%|          | 0/44 [00:00<?, ?it/s]"
          ],
          "name": "stderr"
        },
        {
          "output_type": "stream",
          "text": [
            "--> Threshold 0.8200000000000003 / Num words to swap 3\n"
          ],
          "name": "stdout"
        },
        {
          "output_type": "stream",
          "text": [
            "Sample 83/100: 100%|██████████| 44/44 [00:24<00:00,  1.78it/s]\n",
            "Sample 84/100:   0%|          | 0/44 [00:00<?, ?it/s]"
          ],
          "name": "stderr"
        },
        {
          "output_type": "stream",
          "text": [
            "--> Threshold 0.8300000000000003 / Num words to swap 3\n"
          ],
          "name": "stdout"
        },
        {
          "output_type": "stream",
          "text": [
            "Sample 84/100: 100%|██████████| 44/44 [00:24<00:00,  1.77it/s]\n",
            "Sample 85/100:   0%|          | 0/43 [00:00<?, ?it/s]"
          ],
          "name": "stderr"
        },
        {
          "output_type": "stream",
          "text": [
            "--> Threshold 0.8400000000000003 / Num words to swap 3\n"
          ],
          "name": "stdout"
        },
        {
          "output_type": "stream",
          "text": [
            "Sample 85/100: 100%|██████████| 43/43 [00:24<00:00,  1.73it/s]\n",
            "Sample 86/100:   0%|          | 0/40 [00:00<?, ?it/s]"
          ],
          "name": "stderr"
        },
        {
          "output_type": "stream",
          "text": [
            "--> Threshold 0.8500000000000003 / Num words to swap 3\n"
          ],
          "name": "stdout"
        },
        {
          "output_type": "stream",
          "text": [
            "Sample 86/100: 100%|██████████| 40/40 [00:24<00:00,  1.65it/s]\n",
            "Sample 87/100:   0%|          | 0/39 [00:00<?, ?it/s]"
          ],
          "name": "stderr"
        },
        {
          "output_type": "stream",
          "text": [
            "--> Threshold 0.8600000000000003 / Num words to swap 3\n"
          ],
          "name": "stdout"
        },
        {
          "output_type": "stream",
          "text": [
            "Sample 87/100: 100%|██████████| 39/39 [00:24<00:00,  1.59it/s]\n",
            "Sample 88/100:   0%|          | 0/33 [00:00<?, ?it/s]"
          ],
          "name": "stderr"
        },
        {
          "output_type": "stream",
          "text": [
            "--> Threshold 0.8700000000000003 / Num words to swap 3\n"
          ],
          "name": "stdout"
        },
        {
          "output_type": "stream",
          "text": [
            "Sample 88/100: 100%|██████████| 33/33 [00:21<00:00,  1.57it/s]\n",
            "Sample 89/100:   0%|          | 0/27 [00:00<?, ?it/s]"
          ],
          "name": "stderr"
        },
        {
          "output_type": "stream",
          "text": [
            "--> Threshold 0.8800000000000003 / Num words to swap 3\n"
          ],
          "name": "stdout"
        },
        {
          "output_type": "stream",
          "text": [
            "Sample 89/100: 100%|██████████| 27/27 [00:18<00:00,  1.46it/s]\n",
            "Sample 90/100:   0%|          | 0/23 [00:00<?, ?it/s]"
          ],
          "name": "stderr"
        },
        {
          "output_type": "stream",
          "text": [
            "--> Threshold 0.8900000000000003 / Num words to swap 3\n"
          ],
          "name": "stdout"
        },
        {
          "output_type": "stream",
          "text": [
            "Sample 90/100: 100%|██████████| 23/23 [00:17<00:00,  1.33it/s]\n",
            "Sample 91/100:   0%|          | 0/15 [00:00<?, ?it/s]"
          ],
          "name": "stderr"
        },
        {
          "output_type": "stream",
          "text": [
            "--> Threshold 0.9000000000000004 / Num words to swap 3\n"
          ],
          "name": "stdout"
        },
        {
          "output_type": "stream",
          "text": [
            "Sample 91/100: 100%|██████████| 15/15 [00:13<00:00,  1.15it/s]\n",
            "Sample 92/100:   0%|          | 0/10 [00:00<?, ?it/s]"
          ],
          "name": "stderr"
        },
        {
          "output_type": "stream",
          "text": [
            "--> Threshold 0.9100000000000004 / Num words to swap 3\n"
          ],
          "name": "stdout"
        },
        {
          "output_type": "stream",
          "text": [
            "Sample 92/100: 100%|██████████| 10/10 [00:12<00:00,  1.20s/it]\n",
            "Sample 93/100:   0%|          | 0/4 [00:00<?, ?it/s]"
          ],
          "name": "stderr"
        },
        {
          "output_type": "stream",
          "text": [
            "--> Threshold 0.9200000000000004 / Num words to swap 3\n"
          ],
          "name": "stdout"
        },
        {
          "output_type": "stream",
          "text": [
            "Sample 93/100: 100%|██████████| 4/4 [00:05<00:00,  1.29s/it]\n",
            "Sample 94/100:   0%|          | 0/3 [00:00<?, ?it/s]"
          ],
          "name": "stderr"
        },
        {
          "output_type": "stream",
          "text": [
            "--> Threshold 0.9300000000000004 / Num words to swap 3\n"
          ],
          "name": "stdout"
        },
        {
          "output_type": "stream",
          "text": [
            "Sample 94/100: 100%|██████████| 3/3 [00:04<00:00,  1.50s/it]\n",
            "Sample 95/100:   0%|          | 0/2 [00:00<?, ?it/s]"
          ],
          "name": "stderr"
        },
        {
          "output_type": "stream",
          "text": [
            "--> Threshold 0.9400000000000004 / Num words to swap 3\n"
          ],
          "name": "stdout"
        },
        {
          "output_type": "stream",
          "text": [
            "Sample 95/100: 100%|██████████| 2/2 [00:02<00:00,  1.15s/it]\n",
            "Sample 96/100:   0%|          | 0/1 [00:00<?, ?it/s]"
          ],
          "name": "stderr"
        },
        {
          "output_type": "stream",
          "text": [
            "--> Threshold 0.9500000000000004 / Num words to swap 3\n"
          ],
          "name": "stdout"
        },
        {
          "output_type": "stream",
          "text": [
            "Sample 96/100: 100%|██████████| 1/1 [00:00<00:00,  1.13it/s]\n",
            "Sample 20/100:  82%|████████▏ | 64/78 [1:02:48<00:29,  2.09s/it]"
          ],
          "name": "stderr"
        },
        {
          "output_type": "stream",
          "text": [
            "--> Threshold 0.9600000000000004 / Num words to swap 3\n",
            "--> Threshold 0.9700000000000004 / Num words to swap 3\n",
            "--> Threshold 0.9800000000000004 / Num words to swap 3\n",
            "--> Threshold 0.9900000000000004 / Num words to swap 3\n"
          ],
          "name": "stdout"
        }
      ]
    },
    {
      "cell_type": "markdown",
      "metadata": {
        "id": "JYajKHNTv96Y",
        "colab_type": "text"
      },
      "source": [
        "#### Experiment 2"
      ]
    },
    {
      "cell_type": "code",
      "metadata": {
        "id": "M-gwF_Bnv9HS",
        "colab_type": "code",
        "colab": {
          "base_uri": "https://localhost:8080/",
          "height": 1000,
          "referenced_widgets": [
            "589c82582e814d0ca81b7d8831911b10",
            "e23434a52d894f37a08fe1b15242afa6",
            "a49f5bcb0bfd4901a6157ecf45fd3cec",
            "de0c1bb58534408c9e8a53ee020087cd",
            "d4e49034e6584d8081638710b2a5f9b7",
            "eb2ea66a50634c20ace7067fa8fd0d37",
            "c932515e027d4dadb39625c77978c714",
            "a27c8e4a389f41c98876c6f21e93ad02",
            "7850940b24f04cebac028be9fe42f068",
            "11da773c9b49490ea5a3b55f55392ec7",
            "99c815cc3e8c44829c7eee3e22a015e2",
            "a0d798d419a442ebb5d19c004fb4b542",
            "b0d610f635d94783bc673461f6a06392",
            "792da3f56c994320bee94cda8a6f306d",
            "9a5203b314484e5590b229190cdc6f70",
            "8da09f769a2e4bcb8ffdf021c2468a6d",
            "22737c028b894f6abc92921c09fabbdf",
            "bb2027d9bff648fcbb81c3776e227ac5",
            "1828df22eb20407ab4716d5f923a65a0",
            "8eccb1285bd6473e83557dd35f6abe66",
            "34ef0d31eee046dd806cca5d24e214a2",
            "215c2a10c21f4e1998c81a733e6e8ea0",
            "911b1251ce924bf6a7e77236dd3e9125",
            "8de10a3b558c4593a931b7e2e77de2c5",
            "859da5c69368444c8bc85082c9eb8965",
            "2ff0749ff3d64dbd8208513a70989490",
            "b311f6b49686468db148d47c4e265037",
            "6dcebf835e59422488168fd11f861dbe",
            "864ef6271a6d41d2aa253a0c971bb06e",
            "4587330b671341f083a69fbf7b745209",
            "d98f65bcff364ac69c81500941452d2c",
            "0e4216e5c89c4cf495781e3d7ffe3868",
            "86de324a66e248bc86af95c6e7bb0668",
            "04c7f8d416894665a072e6b40b340804",
            "081a0d66d847458cb85573ef7675c002",
            "0f46ef8937784993a8157bea9ca59b2a",
            "5e68aa4cb3c14ec1b518b05a2f3dc272",
            "326cadc3eb7341819c7a68a5867d4f94",
            "87a90d3c5a234bdcbd45fe3ed164fe10",
            "81db9ba3ba6144c4a832f1c4d841a189",
            "8852625ad04d43f4bf53cd4225f093b7",
            "62923d6477ac4c9692ae0655331024ef",
            "1ffd8cfbd5004aed88006530978abcaf",
            "14c092dfc1474ca9a06acad494adca2f",
            "d8d9cc0c3c4b4523b0f5b4647a5e3210",
            "d5b933d7492a4f908f1d94b074456fab",
            "7c74c92fddd74855bd6e0d568a108024",
            "3807b6fa4a6b4c359791e874d640ae1f",
            "ff7650d9a3424b2c81f6245269a116c4",
            "ce2847f496e444278f1e9794eaa10f0a",
            "96306f1991a947968f226153b6e96ff0",
            "0f3d405f04da4f48b51cb0b4ecae2938",
            "6219241b63054602a417e0dc5aeaa943",
            "fe4246606b6848e79b00314a218a0e6c",
            "63ce93896a504b2887ea674860e70dbb",
            "a658320f75c94bdca882d71780696d14",
            "12d1f092feb94c96b96c819b7e9935b3",
            "91cddd3bc43841dc9c2611fad47a0fb7",
            "3a1adde1a89a4c7e998e12ad266b762b",
            "16c0733a366f4fc39b7cb3043a5426a4",
            "21685a322bbb452580d0c3d43f644449",
            "53571a44ef0b40e68eb08dc9d248ee80",
            "a52a1c8a88a54e02831984a6c14359e2",
            "ce8fc08d854a4f578c4dd570492f2ce4",
            "1434a5cb709a4e918bcdb914e94d7e24",
            "cbb20dcf9c4948b8b81e6ba4c475d96a",
            "1f6aba50ce5840ef8c4ebc4dd8e031d5",
            "23774245000742cabbc08d26315616b2",
            "cbc822599f9741f69e04234936257e82",
            "ad60926fa94145a390cc8242b0c33f0b",
            "22c8b793d86743a8867544b15d63c1f0",
            "fe5c8970093a4824914f5c9b4b8a1779",
            "03a9e7aa6b7a4f5a934d435a371a0e00",
            "1a9c7f67e9a44efd85c3e4e0144c72e7",
            "bddb802f2ef04201bf3e557455441dd4",
            "a7c33ccfacc746ac8c6cb83776cc3e98",
            "a80b0a67ecac4c5eb903f28901728458",
            "08ab444453e247579f2af6473d67c745",
            "0bd2458e801a4755b73e407bc4c065bd",
            "e3e07722fc8e4012b06f52056b4bd35b"
          ]
        },
        "outputId": "34c8eb01-39b5-4f85-812c-646b160127fe"
      },
      "source": [
        "from textattack.constraints.grammaticality.language_models import GPT2\n",
        "from textattack.constraints.semantics import BERTScore\n",
        "from textattack.constraints.semantics.sentence_encoders import UniversalSentenceEncoder\n",
        "from textattack.constraints.pre_transformation import InputColumnModification, RepeatModification, StopwordModification\n",
        "from textattack.datasets import HuggingFaceNlpDataset\n",
        "from textattack.goal_functions import UntargetedClassification\n",
        "from textattack.search_methods import GreedyWordSwapWIR\n",
        "from textattack.shared import Attack\n",
        "from textattack.transformations import WordSwapEmbedding\n",
        "\n",
        "import numpy as np\n",
        "import random\n",
        "import torch\n",
        "import tqdm\n",
        "\n",
        "transformation = WordSwapEmbedding()\n",
        "\n",
        "import textattack\n",
        "import transformers\n",
        "\n",
        "# We'll constrain modification of already modified indices and stopwords\n",
        "constraints = [RepeatModification(), StopwordModification()]\n",
        "# don't attack premise in entailment\n",
        "constraints.append(InputColumnModification([\"premise\", \"hypothesis\"], {\"premise\"}))\n",
        "# use GPT2 to try and make sentences somewhat plausible\n",
        "constraints.append(GPT2(max_log_prob_diff=2.0))\n",
        "\n",
        "# Use RTE dataset\n",
        "dataset = [(x['text'], x['label']) for x in pickle.load(open('mr.pkl', 'rb'))]\n",
        "random.shuffle(dataset)\n",
        "\n",
        "data2 = []\n",
        "\n",
        "all_constraints = ('bertscore', 'use')\n",
        "threshold_vals = np.arange(.50, 1.0, .01)[::-1] # start with highest constraint level!\n",
        "\n",
        "all_models = (\"textattack/bert-base-uncased-rotten-tomatoes\", \"textattack/albert-base-v2-rotten-tomatoes\", \"textattack/distilbert-base-uncased-rotten-tomatoes\")\n",
        "for model_idx, model_path in enumerate(all_models):\n",
        "  # model to attack & goal function\n",
        "  print('Model -->', model_path)\n",
        "  tokenizer = textattack.models.tokenizers.AutoTokenizer(model_path)\n",
        "  model = transformers.AutoModelForSequenceClassification.from_pretrained(model_path)\n",
        "  model = textattack.models.wrappers.HuggingFaceModelWrapper(model, tokenizer, batch_size=16)\n",
        "  goal_function = UntargetedClassification(model)\n",
        "  for constraint_idx, constraint_name in enumerate(all_constraints):\n",
        "    print(f'----> constraint {constraint_name}')\n",
        "    # We know this first-order succeeds fails most of the time, and succeeds more as the \n",
        "    # threshold decreases. Any example that succeeds will continue to succeed. We take \n",
        "    # advantage of this fact through caching.\n",
        "    known_success_idxs = set()\n",
        "    if constraint_name == 'use':\n",
        "        constraint = UniversalSentenceEncoder(\n",
        "        threshold=0.0,\n",
        "        compare_against_original=True,\n",
        "        skip_text_shorter_than_window=False,\n",
        "      )\n",
        "    else:\n",
        "      constraint = BERTScore(\n",
        "        min_bert_score=0.0, # don't need this\n",
        "        model=\"bert-base-uncased\",\n",
        "        score_type=\"f1\",\n",
        "        compare_against_original=True,\n",
        "      )\n",
        "    for threshold_idx, threshold in enumerate(threshold_vals):\n",
        "      if constraint_name == 'use':\n",
        "        constraint.threshold = threshold\n",
        "      else:\n",
        "        constraint.min_bert_score = threshold\n",
        "      print(f'--> Threshold {threshold}')\n",
        "      these_constraints = constraints + [constraint]\n",
        "      # search method\n",
        "      search_method = GreedyWordSwapWIR()\n",
        "      # Now, let's make the attack from the 4 components:\n",
        "      attack = Attack(goal_function, these_constraints, transformation, search_method)\n",
        "\n",
        "      # calculate all the idxs we don't know succeed already and use this to\n",
        "      # avoid recomputing unnecessary attacks\n",
        "      idxs_to_attack = set(range(num_samples)) - known_success_idxs\n",
        "      idxs_to_attack = sorted(list(idxs_to_attack))\n",
        "\n",
        "      if len(idxs_to_attack):\n",
        "        this_sample_idx = (constraint_idx * len(threshold_vals)) + threshold_idx + 1\n",
        "        total_num_samples = len(all_constraints) * len(threshold_vals)\n",
        "        results_iterable = list(\n",
        "            tqdm.tqdm(attack.attack_dataset(dataset, indices=idxs_to_attack),\n",
        "                total=len(idxs_to_attack), \n",
        "                position=0, leave=True, \n",
        "                desc=f'Sample {this_sample_idx}/{total_num_samples}')\n",
        "            )\n",
        "      else:\n",
        "        results_iterable = []\n",
        "      \n",
        "      # num_successes = len([r for r in results_iterable if isinstance(r, textattack.attack_results.SuccessfulAttackResult)])\n",
        "      for result_idx, result in zip(idxs_to_attack, results_iterable):\n",
        "        if isinstance(result, textattack.attack_results.SuccessfulAttackResult):\n",
        "          known_success_idxs.add(result_idx)\n",
        "      num_successes = len(known_success_idxs)\n",
        "\n",
        "      data2.append({ \n",
        "          'constraint': type(constraint).__name__, \n",
        "          'threshold': threshold, \n",
        "          'model': model_path,\n",
        "          # 'results': results_iterable,\n",
        "          'num_successes': num_successes\n",
        "        })"
      ],
      "execution_count": null,
      "outputs": [
        {
          "output_type": "stream",
          "text": [
            "Some weights of GPT2LMHeadModel were not initialized from the model checkpoint at gpt2 and are newly initialized: ['h.0.attn.masked_bias', 'h.1.attn.masked_bias', 'h.2.attn.masked_bias', 'h.3.attn.masked_bias', 'h.4.attn.masked_bias', 'h.5.attn.masked_bias', 'h.6.attn.masked_bias', 'h.7.attn.masked_bias', 'h.8.attn.masked_bias', 'h.9.attn.masked_bias', 'h.10.attn.masked_bias', 'h.11.attn.masked_bias', 'lm_head.weight']\n",
            "You should probably TRAIN this model on a down-stream task to be able to use it for predictions and inference.\n"
          ],
          "name": "stderr"
        },
        {
          "output_type": "stream",
          "text": [
            "Model --> textattack/bert-base-uncased-rotten-tomatoes\n"
          ],
          "name": "stdout"
        },
        {
          "output_type": "display_data",
          "data": {
            "application/vnd.jupyter.widget-view+json": {
              "model_id": "589c82582e814d0ca81b7d8831911b10",
              "version_minor": 0,
              "version_major": 2
            },
            "text/plain": [
              "HBox(children=(FloatProgress(value=0.0, description='Downloading', max=487.0, style=ProgressStyle(description_…"
            ]
          },
          "metadata": {
            "tags": []
          }
        },
        {
          "output_type": "stream",
          "text": [
            "\n"
          ],
          "name": "stdout"
        },
        {
          "output_type": "display_data",
          "data": {
            "application/vnd.jupyter.widget-view+json": {
              "model_id": "7850940b24f04cebac028be9fe42f068",
              "version_minor": 0,
              "version_major": 2
            },
            "text/plain": [
              "HBox(children=(FloatProgress(value=0.0, description='Downloading', max=231508.0, style=ProgressStyle(descripti…"
            ]
          },
          "metadata": {
            "tags": []
          }
        },
        {
          "output_type": "stream",
          "text": [
            "\n"
          ],
          "name": "stdout"
        },
        {
          "output_type": "display_data",
          "data": {
            "application/vnd.jupyter.widget-view+json": {
              "model_id": "22737c028b894f6abc92921c09fabbdf",
              "version_minor": 0,
              "version_major": 2
            },
            "text/plain": [
              "HBox(children=(FloatProgress(value=0.0, description='Downloading', max=112.0, style=ProgressStyle(description_…"
            ]
          },
          "metadata": {
            "tags": []
          }
        },
        {
          "output_type": "stream",
          "text": [
            "\n"
          ],
          "name": "stdout"
        },
        {
          "output_type": "display_data",
          "data": {
            "application/vnd.jupyter.widget-view+json": {
              "model_id": "859da5c69368444c8bc85082c9eb8965",
              "version_minor": 0,
              "version_major": 2
            },
            "text/plain": [
              "HBox(children=(FloatProgress(value=0.0, description='Downloading', max=48.0, style=ProgressStyle(description_w…"
            ]
          },
          "metadata": {
            "tags": []
          }
        },
        {
          "output_type": "stream",
          "text": [
            "\n"
          ],
          "name": "stdout"
        },
        {
          "output_type": "display_data",
          "data": {
            "application/vnd.jupyter.widget-view+json": {
              "model_id": "86de324a66e248bc86af95c6e7bb0668",
              "version_minor": 0,
              "version_major": 2
            },
            "text/plain": [
              "HBox(children=(FloatProgress(value=0.0, description='Downloading', max=437985387.0, style=ProgressStyle(descri…"
            ]
          },
          "metadata": {
            "tags": []
          }
        },
        {
          "output_type": "stream",
          "text": [
            "\n"
          ],
          "name": "stdout"
        },
        {
          "output_type": "stream",
          "text": [
            "\u001b[34;1mtextattack\u001b[0m: Unknown if model of class <class 'textattack.models.wrappers.huggingface_model_wrapper.HuggingFaceModelWrapper'> compatible with goal function <class 'textattack.goal_functions.classification.untargeted_classification.UntargetedClassification'>.\n"
          ],
          "name": "stderr"
        },
        {
          "output_type": "stream",
          "text": [
            "----> constraint bertscore\n"
          ],
          "name": "stdout"
        },
        {
          "output_type": "stream",
          "text": [
            "\rSample 1/100:   0%|          | 0/100 [00:00<?, ?it/s]"
          ],
          "name": "stderr"
        },
        {
          "output_type": "stream",
          "text": [
            "--> Threshold 0.9900000000000004\n"
          ],
          "name": "stdout"
        },
        {
          "output_type": "stream",
          "text": [
            "Sample 1/100: 100%|██████████| 100/100 [04:01<00:00,  2.42s/it]\n",
            "Sample 2/100:   0%|          | 0/98 [00:00<?, ?it/s]"
          ],
          "name": "stderr"
        },
        {
          "output_type": "stream",
          "text": [
            "--> Threshold 0.9800000000000004\n"
          ],
          "name": "stdout"
        },
        {
          "output_type": "stream",
          "text": [
            "Sample 2/100: 100%|██████████| 98/98 [03:50<00:00,  2.35s/it]\n",
            "Sample 3/100:   0%|          | 0/94 [00:00<?, ?it/s]"
          ],
          "name": "stderr"
        },
        {
          "output_type": "stream",
          "text": [
            "--> Threshold 0.9700000000000004\n"
          ],
          "name": "stdout"
        },
        {
          "output_type": "stream",
          "text": [
            "Sample 3/100: 100%|██████████| 94/94 [03:36<00:00,  2.30s/it]\n",
            "Sample 4/100:   0%|          | 0/88 [00:00<?, ?it/s]"
          ],
          "name": "stderr"
        },
        {
          "output_type": "stream",
          "text": [
            "--> Threshold 0.9600000000000004\n"
          ],
          "name": "stdout"
        },
        {
          "output_type": "stream",
          "text": [
            "Sample 4/100: 100%|██████████| 88/88 [03:21<00:00,  2.29s/it]\n",
            "Sample 5/100:   0%|          | 0/80 [00:00<?, ?it/s]"
          ],
          "name": "stderr"
        },
        {
          "output_type": "stream",
          "text": [
            "--> Threshold 0.9500000000000004\n"
          ],
          "name": "stdout"
        },
        {
          "output_type": "stream",
          "text": [
            "Sample 5/100: 100%|██████████| 80/80 [03:08<00:00,  2.36s/it]\n",
            "Sample 6/100:   0%|          | 0/75 [00:00<?, ?it/s]"
          ],
          "name": "stderr"
        },
        {
          "output_type": "stream",
          "text": [
            "--> Threshold 0.9400000000000004\n"
          ],
          "name": "stdout"
        },
        {
          "output_type": "stream",
          "text": [
            "Sample 6/100: 100%|██████████| 75/75 [03:03<00:00,  2.44s/it]\n",
            "Sample 7/100:   0%|          | 0/74 [00:00<?, ?it/s]"
          ],
          "name": "stderr"
        },
        {
          "output_type": "stream",
          "text": [
            "--> Threshold 0.9300000000000004\n"
          ],
          "name": "stdout"
        },
        {
          "output_type": "stream",
          "text": [
            "Sample 7/100: 100%|██████████| 74/74 [02:52<00:00,  2.34s/it]\n",
            "Sample 8/100:   0%|          | 0/69 [00:00<?, ?it/s]"
          ],
          "name": "stderr"
        },
        {
          "output_type": "stream",
          "text": [
            "--> Threshold 0.9200000000000004\n"
          ],
          "name": "stdout"
        },
        {
          "output_type": "stream",
          "text": [
            "Sample 8/100: 100%|██████████| 69/69 [02:44<00:00,  2.38s/it]\n",
            "Sample 9/100:   0%|          | 0/64 [00:00<?, ?it/s]"
          ],
          "name": "stderr"
        },
        {
          "output_type": "stream",
          "text": [
            "--> Threshold 0.9100000000000004\n"
          ],
          "name": "stdout"
        },
        {
          "output_type": "stream",
          "text": [
            "Sample 9/100: 100%|██████████| 64/64 [02:35<00:00,  2.43s/it]\n",
            "Sample 10/100:   0%|          | 0/60 [00:00<?, ?it/s]"
          ],
          "name": "stderr"
        },
        {
          "output_type": "stream",
          "text": [
            "--> Threshold 0.9000000000000004\n"
          ],
          "name": "stdout"
        },
        {
          "output_type": "stream",
          "text": [
            "Sample 10/100: 100%|██████████| 60/60 [02:23<00:00,  2.40s/it]\n",
            "Sample 11/100:   0%|          | 0/56 [00:00<?, ?it/s]"
          ],
          "name": "stderr"
        },
        {
          "output_type": "stream",
          "text": [
            "--> Threshold 0.8900000000000003\n"
          ],
          "name": "stdout"
        },
        {
          "output_type": "stream",
          "text": [
            "Sample 11/100: 100%|██████████| 56/56 [02:11<00:00,  2.35s/it]\n",
            "Sample 12/100:   0%|          | 0/53 [00:00<?, ?it/s]"
          ],
          "name": "stderr"
        },
        {
          "output_type": "stream",
          "text": [
            "--> Threshold 0.8800000000000003\n"
          ],
          "name": "stdout"
        },
        {
          "output_type": "stream",
          "text": [
            "Sample 12/100: 100%|██████████| 53/53 [02:02<00:00,  2.31s/it]\n",
            "Sample 13/100:   0%|          | 0/49 [00:00<?, ?it/s]"
          ],
          "name": "stderr"
        },
        {
          "output_type": "stream",
          "text": [
            "--> Threshold 0.8700000000000003\n"
          ],
          "name": "stdout"
        },
        {
          "output_type": "stream",
          "text": [
            "Sample 13/100: 100%|██████████| 49/49 [01:49<00:00,  2.24s/it]\n",
            "Sample 14/100:   0%|          | 0/44 [00:00<?, ?it/s]"
          ],
          "name": "stderr"
        },
        {
          "output_type": "stream",
          "text": [
            "--> Threshold 0.8600000000000003\n"
          ],
          "name": "stdout"
        },
        {
          "output_type": "stream",
          "text": [
            "Sample 14/100: 100%|██████████| 44/44 [01:40<00:00,  2.28s/it]\n",
            "Sample 15/100:   0%|          | 0/42 [00:00<?, ?it/s]"
          ],
          "name": "stderr"
        },
        {
          "output_type": "stream",
          "text": [
            "--> Threshold 0.8500000000000003\n"
          ],
          "name": "stdout"
        },
        {
          "output_type": "stream",
          "text": [
            "Sample 15/100: 100%|██████████| 42/42 [01:36<00:00,  2.29s/it]\n",
            "Sample 16/100:   0%|          | 0/40 [00:00<?, ?it/s]"
          ],
          "name": "stderr"
        },
        {
          "output_type": "stream",
          "text": [
            "--> Threshold 0.8400000000000003\n"
          ],
          "name": "stdout"
        },
        {
          "output_type": "stream",
          "text": [
            "Sample 16/100: 100%|██████████| 40/40 [01:35<00:00,  2.39s/it]\n",
            "Sample 17/100:   0%|          | 0/39 [00:00<?, ?it/s]"
          ],
          "name": "stderr"
        },
        {
          "output_type": "stream",
          "text": [
            "--> Threshold 0.8300000000000003\n"
          ],
          "name": "stdout"
        },
        {
          "output_type": "stream",
          "text": [
            "Sample 17/100: 100%|██████████| 39/39 [01:31<00:00,  2.35s/it]\n",
            "Sample 18/100:   0%|          | 0/37 [00:00<?, ?it/s]"
          ],
          "name": "stderr"
        },
        {
          "output_type": "stream",
          "text": [
            "--> Threshold 0.8200000000000003\n"
          ],
          "name": "stdout"
        },
        {
          "output_type": "stream",
          "text": [
            "Sample 18/100: 100%|██████████| 37/37 [01:25<00:00,  2.32s/it]\n",
            "Sample 19/100:   0%|          | 0/36 [00:00<?, ?it/s]"
          ],
          "name": "stderr"
        },
        {
          "output_type": "stream",
          "text": [
            "--> Threshold 0.8100000000000003\n"
          ],
          "name": "stdout"
        },
        {
          "output_type": "stream",
          "text": [
            "Sample 19/100: 100%|██████████| 36/36 [01:22<00:00,  2.30s/it]\n",
            "Sample 20/100:   0%|          | 0/34 [00:00<?, ?it/s]"
          ],
          "name": "stderr"
        },
        {
          "output_type": "stream",
          "text": [
            "--> Threshold 0.8000000000000003\n"
          ],
          "name": "stdout"
        },
        {
          "output_type": "stream",
          "text": [
            "Sample 20/100: 100%|██████████| 34/34 [01:15<00:00,  2.22s/it]\n",
            "Sample 21/100:   0%|          | 0/31 [00:00<?, ?it/s]"
          ],
          "name": "stderr"
        },
        {
          "output_type": "stream",
          "text": [
            "--> Threshold 0.7900000000000003\n"
          ],
          "name": "stdout"
        },
        {
          "output_type": "stream",
          "text": [
            "Sample 21/100: 100%|██████████| 31/31 [01:10<00:00,  2.27s/it]\n",
            "Sample 22/100:   0%|          | 0/30 [00:00<?, ?it/s]"
          ],
          "name": "stderr"
        },
        {
          "output_type": "stream",
          "text": [
            "--> Threshold 0.7800000000000002\n"
          ],
          "name": "stdout"
        },
        {
          "output_type": "stream",
          "text": [
            "Sample 22/100: 100%|██████████| 30/30 [01:07<00:00,  2.23s/it]\n",
            "Sample 23/100:   0%|          | 0/29 [00:00<?, ?it/s]"
          ],
          "name": "stderr"
        },
        {
          "output_type": "stream",
          "text": [
            "--> Threshold 0.7700000000000002\n"
          ],
          "name": "stdout"
        },
        {
          "output_type": "stream",
          "text": [
            "Sample 23/100: 100%|██████████| 29/29 [01:04<00:00,  2.22s/it]\n",
            "Sample 24/100:   0%|          | 0/29 [00:00<?, ?it/s]"
          ],
          "name": "stderr"
        },
        {
          "output_type": "stream",
          "text": [
            "--> Threshold 0.7600000000000002\n"
          ],
          "name": "stdout"
        },
        {
          "output_type": "stream",
          "text": [
            "Sample 24/100: 100%|██████████| 29/29 [01:04<00:00,  2.23s/it]\n",
            "Sample 25/100:   0%|          | 0/28 [00:00<?, ?it/s]"
          ],
          "name": "stderr"
        },
        {
          "output_type": "stream",
          "text": [
            "--> Threshold 0.7500000000000002\n"
          ],
          "name": "stdout"
        },
        {
          "output_type": "stream",
          "text": [
            "Sample 25/100: 100%|██████████| 28/28 [01:04<00:00,  2.30s/it]\n",
            "Sample 26/100:   0%|          | 0/28 [00:00<?, ?it/s]"
          ],
          "name": "stderr"
        },
        {
          "output_type": "stream",
          "text": [
            "--> Threshold 0.7400000000000002\n"
          ],
          "name": "stdout"
        },
        {
          "output_type": "stream",
          "text": [
            "Sample 26/100: 100%|██████████| 28/28 [01:03<00:00,  2.27s/it]\n",
            "Sample 27/100:   0%|          | 0/27 [00:00<?, ?it/s]"
          ],
          "name": "stderr"
        },
        {
          "output_type": "stream",
          "text": [
            "--> Threshold 0.7300000000000002\n"
          ],
          "name": "stdout"
        },
        {
          "output_type": "stream",
          "text": [
            "Sample 27/100: 100%|██████████| 27/27 [01:00<00:00,  2.23s/it]\n",
            "Sample 28/100:   0%|          | 0/26 [00:00<?, ?it/s]"
          ],
          "name": "stderr"
        },
        {
          "output_type": "stream",
          "text": [
            "--> Threshold 0.7200000000000002\n"
          ],
          "name": "stdout"
        },
        {
          "output_type": "stream",
          "text": [
            "Sample 28/100: 100%|██████████| 26/26 [00:56<00:00,  2.17s/it]\n",
            "Sample 29/100:   0%|          | 0/26 [00:00<?, ?it/s]"
          ],
          "name": "stderr"
        },
        {
          "output_type": "stream",
          "text": [
            "--> Threshold 0.7100000000000002\n"
          ],
          "name": "stdout"
        },
        {
          "output_type": "stream",
          "text": [
            "Sample 29/100: 100%|██████████| 26/26 [00:56<00:00,  2.18s/it]\n",
            "Sample 30/100:   0%|          | 0/24 [00:00<?, ?it/s]"
          ],
          "name": "stderr"
        },
        {
          "output_type": "stream",
          "text": [
            "--> Threshold 0.7000000000000002\n"
          ],
          "name": "stdout"
        },
        {
          "output_type": "stream",
          "text": [
            "Sample 30/100: 100%|██████████| 24/24 [00:50<00:00,  2.09s/it]\n",
            "Sample 31/100:   0%|          | 0/24 [00:00<?, ?it/s]"
          ],
          "name": "stderr"
        },
        {
          "output_type": "stream",
          "text": [
            "--> Threshold 0.6900000000000002\n"
          ],
          "name": "stdout"
        },
        {
          "output_type": "stream",
          "text": [
            "Sample 31/100: 100%|██████████| 24/24 [00:50<00:00,  2.09s/it]\n",
            "Sample 32/100:   0%|          | 0/24 [00:00<?, ?it/s]"
          ],
          "name": "stderr"
        },
        {
          "output_type": "stream",
          "text": [
            "--> Threshold 0.6800000000000002\n"
          ],
          "name": "stdout"
        },
        {
          "output_type": "stream",
          "text": [
            "Sample 32/100: 100%|██████████| 24/24 [00:50<00:00,  2.09s/it]\n",
            "Sample 33/100:   0%|          | 0/24 [00:00<?, ?it/s]"
          ],
          "name": "stderr"
        },
        {
          "output_type": "stream",
          "text": [
            "--> Threshold 0.6700000000000002\n"
          ],
          "name": "stdout"
        },
        {
          "output_type": "stream",
          "text": [
            "Sample 33/100: 100%|██████████| 24/24 [00:50<00:00,  2.10s/it]\n",
            "Sample 34/100:   0%|          | 0/24 [00:00<?, ?it/s]"
          ],
          "name": "stderr"
        },
        {
          "output_type": "stream",
          "text": [
            "--> Threshold 0.6600000000000001\n"
          ],
          "name": "stdout"
        },
        {
          "output_type": "stream",
          "text": [
            "Sample 34/100: 100%|██████████| 24/24 [00:50<00:00,  2.11s/it]\n",
            "Sample 35/100:   0%|          | 0/24 [00:00<?, ?it/s]"
          ],
          "name": "stderr"
        },
        {
          "output_type": "stream",
          "text": [
            "--> Threshold 0.6500000000000001\n"
          ],
          "name": "stdout"
        },
        {
          "output_type": "stream",
          "text": [
            "Sample 35/100: 100%|██████████| 24/24 [00:49<00:00,  2.07s/it]\n",
            "Sample 36/100:   0%|          | 0/23 [00:00<?, ?it/s]"
          ],
          "name": "stderr"
        },
        {
          "output_type": "stream",
          "text": [
            "--> Threshold 0.6400000000000001\n"
          ],
          "name": "stdout"
        },
        {
          "output_type": "stream",
          "text": [
            "Sample 36/100: 100%|██████████| 23/23 [00:47<00:00,  2.08s/it]\n",
            "Sample 37/100:   0%|          | 0/23 [00:00<?, ?it/s]"
          ],
          "name": "stderr"
        },
        {
          "output_type": "stream",
          "text": [
            "--> Threshold 0.6300000000000001\n"
          ],
          "name": "stdout"
        },
        {
          "output_type": "stream",
          "text": [
            "Sample 37/100: 100%|██████████| 23/23 [00:48<00:00,  2.09s/it]\n",
            "Sample 38/100:   0%|          | 0/23 [00:00<?, ?it/s]"
          ],
          "name": "stderr"
        },
        {
          "output_type": "stream",
          "text": [
            "--> Threshold 0.6200000000000001\n"
          ],
          "name": "stdout"
        },
        {
          "output_type": "stream",
          "text": [
            "Sample 38/100: 100%|██████████| 23/23 [00:47<00:00,  2.08s/it]\n",
            "Sample 39/100:   0%|          | 0/23 [00:00<?, ?it/s]"
          ],
          "name": "stderr"
        },
        {
          "output_type": "stream",
          "text": [
            "--> Threshold 0.6100000000000001\n"
          ],
          "name": "stdout"
        },
        {
          "output_type": "stream",
          "text": [
            "Sample 39/100: 100%|██████████| 23/23 [00:47<00:00,  2.06s/it]\n",
            "Sample 40/100:   0%|          | 0/22 [00:00<?, ?it/s]"
          ],
          "name": "stderr"
        },
        {
          "output_type": "stream",
          "text": [
            "--> Threshold 0.6000000000000001\n"
          ],
          "name": "stdout"
        },
        {
          "output_type": "stream",
          "text": [
            "Sample 40/100: 100%|██████████| 22/22 [00:43<00:00,  1.96s/it]\n",
            "Sample 41/100:   0%|          | 0/22 [00:00<?, ?it/s]"
          ],
          "name": "stderr"
        },
        {
          "output_type": "stream",
          "text": [
            "--> Threshold 0.5900000000000001\n"
          ],
          "name": "stdout"
        },
        {
          "output_type": "stream",
          "text": [
            "Sample 41/100: 100%|██████████| 22/22 [00:43<00:00,  1.99s/it]\n",
            "Sample 42/100:   0%|          | 0/22 [00:00<?, ?it/s]"
          ],
          "name": "stderr"
        },
        {
          "output_type": "stream",
          "text": [
            "--> Threshold 0.5800000000000001\n"
          ],
          "name": "stdout"
        },
        {
          "output_type": "stream",
          "text": [
            "Sample 42/100: 100%|██████████| 22/22 [00:44<00:00,  2.01s/it]\n",
            "Sample 43/100:   0%|          | 0/22 [00:00<?, ?it/s]"
          ],
          "name": "stderr"
        },
        {
          "output_type": "stream",
          "text": [
            "--> Threshold 0.5700000000000001\n"
          ],
          "name": "stdout"
        },
        {
          "output_type": "stream",
          "text": [
            "Sample 43/100: 100%|██████████| 22/22 [00:44<00:00,  2.01s/it]\n",
            "Sample 44/100:   0%|          | 0/22 [00:00<?, ?it/s]"
          ],
          "name": "stderr"
        },
        {
          "output_type": "stream",
          "text": [
            "--> Threshold 0.56\n"
          ],
          "name": "stdout"
        },
        {
          "output_type": "stream",
          "text": [
            "Sample 44/100: 100%|██████████| 22/22 [00:44<00:00,  2.01s/it]\n",
            "Sample 45/100:   0%|          | 0/22 [00:00<?, ?it/s]"
          ],
          "name": "stderr"
        },
        {
          "output_type": "stream",
          "text": [
            "--> Threshold 0.55\n"
          ],
          "name": "stdout"
        },
        {
          "output_type": "stream",
          "text": [
            "Sample 45/100: 100%|██████████| 22/22 [00:44<00:00,  2.01s/it]\n",
            "Sample 46/100:   0%|          | 0/22 [00:00<?, ?it/s]"
          ],
          "name": "stderr"
        },
        {
          "output_type": "stream",
          "text": [
            "--> Threshold 0.54\n"
          ],
          "name": "stdout"
        },
        {
          "output_type": "stream",
          "text": [
            "Sample 46/100: 100%|██████████| 22/22 [00:44<00:00,  2.01s/it]\n",
            "Sample 47/100:   0%|          | 0/22 [00:00<?, ?it/s]"
          ],
          "name": "stderr"
        },
        {
          "output_type": "stream",
          "text": [
            "--> Threshold 0.53\n"
          ],
          "name": "stdout"
        },
        {
          "output_type": "stream",
          "text": [
            "Sample 47/100: 100%|██████████| 22/22 [00:44<00:00,  2.00s/it]\n",
            "Sample 48/100:   0%|          | 0/22 [00:00<?, ?it/s]"
          ],
          "name": "stderr"
        },
        {
          "output_type": "stream",
          "text": [
            "--> Threshold 0.52\n"
          ],
          "name": "stdout"
        },
        {
          "output_type": "stream",
          "text": [
            "Sample 48/100: 100%|██████████| 22/22 [00:43<00:00,  1.98s/it]\n",
            "Sample 49/100:   0%|          | 0/22 [00:00<?, ?it/s]"
          ],
          "name": "stderr"
        },
        {
          "output_type": "stream",
          "text": [
            "--> Threshold 0.51\n"
          ],
          "name": "stdout"
        },
        {
          "output_type": "stream",
          "text": [
            "Sample 49/100: 100%|██████████| 22/22 [00:43<00:00,  1.98s/it]\n",
            "Sample 50/100:   0%|          | 0/21 [00:00<?, ?it/s]"
          ],
          "name": "stderr"
        },
        {
          "output_type": "stream",
          "text": [
            "--> Threshold 0.5\n"
          ],
          "name": "stdout"
        },
        {
          "output_type": "stream",
          "text": [
            "Sample 50/100: 100%|██████████| 21/21 [00:41<00:00,  1.96s/it]\n"
          ],
          "name": "stderr"
        },
        {
          "output_type": "stream",
          "text": [
            "----> constraint use\n"
          ],
          "name": "stdout"
        },
        {
          "output_type": "stream",
          "text": [
            "\rSample 51/100:   0%|          | 0/100 [00:00<?, ?it/s]"
          ],
          "name": "stderr"
        },
        {
          "output_type": "stream",
          "text": [
            "--> Threshold 0.9900000000000004\n"
          ],
          "name": "stdout"
        },
        {
          "output_type": "stream",
          "text": [
            "Sample 51/100: 100%|██████████| 100/100 [02:36<00:00,  1.57s/it]\n",
            "Sample 52/100:   0%|          | 0/100 [00:00<?, ?it/s]"
          ],
          "name": "stderr"
        },
        {
          "output_type": "stream",
          "text": [
            "--> Threshold 0.9800000000000004\n"
          ],
          "name": "stdout"
        },
        {
          "output_type": "stream",
          "text": [
            "Sample 52/100: 100%|██████████| 100/100 [02:36<00:00,  1.57s/it]\n",
            "Sample 53/100:   0%|          | 0/100 [00:00<?, ?it/s]"
          ],
          "name": "stderr"
        },
        {
          "output_type": "stream",
          "text": [
            "--> Threshold 0.9700000000000004\n"
          ],
          "name": "stdout"
        },
        {
          "output_type": "stream",
          "text": [
            "Sample 53/100: 100%|██████████| 100/100 [02:37<00:00,  1.58s/it]\n",
            "Sample 54/100:   0%|          | 0/100 [00:00<?, ?it/s]"
          ],
          "name": "stderr"
        },
        {
          "output_type": "stream",
          "text": [
            "--> Threshold 0.9600000000000004\n"
          ],
          "name": "stdout"
        },
        {
          "output_type": "stream",
          "text": [
            "Sample 54/100: 100%|██████████| 100/100 [02:35<00:00,  1.55s/it]\n",
            "Sample 55/100:   0%|          | 0/99 [00:00<?, ?it/s]"
          ],
          "name": "stderr"
        },
        {
          "output_type": "stream",
          "text": [
            "--> Threshold 0.9500000000000004\n"
          ],
          "name": "stdout"
        },
        {
          "output_type": "stream",
          "text": [
            "Sample 55/100: 100%|██████████| 99/99 [02:37<00:00,  1.59s/it]\n",
            "Sample 56/100:   0%|          | 0/98 [00:00<?, ?it/s]"
          ],
          "name": "stderr"
        },
        {
          "output_type": "stream",
          "text": [
            "--> Threshold 0.9400000000000004\n"
          ],
          "name": "stdout"
        },
        {
          "output_type": "stream",
          "text": [
            "Sample 56/100: 100%|██████████| 98/98 [02:33<00:00,  1.57s/it]\n",
            "Sample 57/100:   0%|          | 0/96 [00:00<?, ?it/s]"
          ],
          "name": "stderr"
        },
        {
          "output_type": "stream",
          "text": [
            "--> Threshold 0.9300000000000004\n"
          ],
          "name": "stdout"
        },
        {
          "output_type": "stream",
          "text": [
            "Sample 57/100: 100%|██████████| 96/96 [02:25<00:00,  1.51s/it]\n",
            "Sample 58/100:   0%|          | 0/92 [00:00<?, ?it/s]"
          ],
          "name": "stderr"
        },
        {
          "output_type": "stream",
          "text": [
            "--> Threshold 0.9200000000000004\n"
          ],
          "name": "stdout"
        },
        {
          "output_type": "stream",
          "text": [
            "Sample 58/100: 100%|██████████| 92/92 [02:23<00:00,  1.56s/it]\n",
            "Sample 59/100:   0%|          | 0/91 [00:00<?, ?it/s]"
          ],
          "name": "stderr"
        },
        {
          "output_type": "stream",
          "text": [
            "--> Threshold 0.9100000000000004\n"
          ],
          "name": "stdout"
        },
        {
          "output_type": "stream",
          "text": [
            "Sample 59/100: 100%|██████████| 91/91 [02:18<00:00,  1.53s/it]\n",
            "Sample 60/100:   0%|          | 0/87 [00:00<?, ?it/s]"
          ],
          "name": "stderr"
        },
        {
          "output_type": "stream",
          "text": [
            "--> Threshold 0.9000000000000004\n"
          ],
          "name": "stdout"
        },
        {
          "output_type": "stream",
          "text": [
            "Sample 60/100: 100%|██████████| 87/87 [02:12<00:00,  1.52s/it]\n",
            "Sample 61/100:   0%|          | 0/83 [00:00<?, ?it/s]"
          ],
          "name": "stderr"
        },
        {
          "output_type": "stream",
          "text": [
            "--> Threshold 0.8900000000000003\n"
          ],
          "name": "stdout"
        },
        {
          "output_type": "stream",
          "text": [
            "Sample 61/100: 100%|██████████| 83/83 [02:09<00:00,  1.56s/it]\n",
            "Sample 62/100:   0%|          | 0/78 [00:00<?, ?it/s]"
          ],
          "name": "stderr"
        },
        {
          "output_type": "stream",
          "text": [
            "--> Threshold 0.8800000000000003\n"
          ],
          "name": "stdout"
        },
        {
          "output_type": "stream",
          "text": [
            "Sample 62/100: 100%|██████████| 78/78 [01:53<00:00,  1.45s/it]\n",
            "Sample 63/100:   0%|          | 0/69 [00:00<?, ?it/s]"
          ],
          "name": "stderr"
        },
        {
          "output_type": "stream",
          "text": [
            "--> Threshold 0.8700000000000003\n"
          ],
          "name": "stdout"
        },
        {
          "output_type": "stream",
          "text": [
            "Sample 63/100: 100%|██████████| 69/69 [01:47<00:00,  1.55s/it]\n",
            "Sample 64/100:   0%|          | 0/66 [00:00<?, ?it/s]"
          ],
          "name": "stderr"
        },
        {
          "output_type": "stream",
          "text": [
            "--> Threshold 0.8600000000000003\n"
          ],
          "name": "stdout"
        },
        {
          "output_type": "stream",
          "text": [
            "Sample 64/100: 100%|██████████| 66/66 [01:41<00:00,  1.54s/it]\n",
            "Sample 65/100:   0%|          | 0/57 [00:00<?, ?it/s]"
          ],
          "name": "stderr"
        },
        {
          "output_type": "stream",
          "text": [
            "--> Threshold 0.8500000000000003\n"
          ],
          "name": "stdout"
        },
        {
          "output_type": "stream",
          "text": [
            "Sample 65/100: 100%|██████████| 57/57 [01:30<00:00,  1.58s/it]\n",
            "Sample 66/100:   0%|          | 0/55 [00:00<?, ?it/s]"
          ],
          "name": "stderr"
        },
        {
          "output_type": "stream",
          "text": [
            "--> Threshold 0.8400000000000003\n"
          ],
          "name": "stdout"
        },
        {
          "output_type": "stream",
          "text": [
            "Sample 66/100: 100%|██████████| 55/55 [01:27<00:00,  1.60s/it]\n",
            "Sample 67/100:   0%|          | 0/51 [00:00<?, ?it/s]"
          ],
          "name": "stderr"
        },
        {
          "output_type": "stream",
          "text": [
            "--> Threshold 0.8300000000000003\n"
          ],
          "name": "stdout"
        },
        {
          "output_type": "stream",
          "text": [
            "Sample 67/100: 100%|██████████| 51/51 [01:21<00:00,  1.59s/it]\n",
            "Sample 68/100:   0%|          | 0/48 [00:00<?, ?it/s]"
          ],
          "name": "stderr"
        },
        {
          "output_type": "stream",
          "text": [
            "--> Threshold 0.8200000000000003\n"
          ],
          "name": "stdout"
        },
        {
          "output_type": "stream",
          "text": [
            "Sample 68/100: 100%|██████████| 48/48 [01:13<00:00,  1.54s/it]\n",
            "Sample 69/100:   0%|          | 0/45 [00:00<?, ?it/s]"
          ],
          "name": "stderr"
        },
        {
          "output_type": "stream",
          "text": [
            "--> Threshold 0.8100000000000003\n"
          ],
          "name": "stdout"
        },
        {
          "output_type": "stream",
          "text": [
            "Sample 69/100: 100%|██████████| 45/45 [01:08<00:00,  1.52s/it]\n",
            "Sample 70/100:   0%|          | 0/41 [00:00<?, ?it/s]"
          ],
          "name": "stderr"
        },
        {
          "output_type": "stream",
          "text": [
            "--> Threshold 0.8000000000000003\n"
          ],
          "name": "stdout"
        },
        {
          "output_type": "stream",
          "text": [
            "Sample 70/100: 100%|██████████| 41/41 [01:05<00:00,  1.59s/it]\n",
            "Sample 71/100:   0%|          | 0/41 [00:00<?, ?it/s]"
          ],
          "name": "stderr"
        },
        {
          "output_type": "stream",
          "text": [
            "--> Threshold 0.7900000000000003\n"
          ],
          "name": "stdout"
        },
        {
          "output_type": "stream",
          "text": [
            "Sample 71/100: 100%|██████████| 41/41 [01:04<00:00,  1.58s/it]\n",
            "Sample 72/100:   0%|          | 0/38 [00:00<?, ?it/s]"
          ],
          "name": "stderr"
        },
        {
          "output_type": "stream",
          "text": [
            "--> Threshold 0.7800000000000002\n"
          ],
          "name": "stdout"
        },
        {
          "output_type": "stream",
          "text": [
            "Sample 72/100: 100%|██████████| 38/38 [01:01<00:00,  1.62s/it]\n",
            "Sample 73/100:   0%|          | 0/34 [00:00<?, ?it/s]"
          ],
          "name": "stderr"
        },
        {
          "output_type": "stream",
          "text": [
            "--> Threshold 0.7700000000000002\n"
          ],
          "name": "stdout"
        },
        {
          "output_type": "stream",
          "text": [
            "Sample 73/100: 100%|██████████| 34/34 [00:52<00:00,  1.55s/it]\n",
            "Sample 74/100:   0%|          | 0/34 [00:00<?, ?it/s]"
          ],
          "name": "stderr"
        },
        {
          "output_type": "stream",
          "text": [
            "--> Threshold 0.7600000000000002\n"
          ],
          "name": "stdout"
        },
        {
          "output_type": "stream",
          "text": [
            "Sample 74/100: 100%|██████████| 34/34 [00:54<00:00,  1.59s/it]\n",
            "Sample 75/100:   0%|          | 0/32 [00:00<?, ?it/s]"
          ],
          "name": "stderr"
        },
        {
          "output_type": "stream",
          "text": [
            "--> Threshold 0.7500000000000002\n"
          ],
          "name": "stdout"
        },
        {
          "output_type": "stream",
          "text": [
            "Sample 75/100: 100%|██████████| 32/32 [00:48<00:00,  1.52s/it]\n",
            "Sample 76/100:   0%|          | 0/30 [00:00<?, ?it/s]"
          ],
          "name": "stderr"
        },
        {
          "output_type": "stream",
          "text": [
            "--> Threshold 0.7400000000000002\n"
          ],
          "name": "stdout"
        },
        {
          "output_type": "stream",
          "text": [
            "Sample 76/100: 100%|██████████| 30/30 [00:47<00:00,  1.58s/it]\n",
            "Sample 77/100:   0%|          | 0/30 [00:00<?, ?it/s]"
          ],
          "name": "stderr"
        },
        {
          "output_type": "stream",
          "text": [
            "--> Threshold 0.7300000000000002\n"
          ],
          "name": "stdout"
        },
        {
          "output_type": "stream",
          "text": [
            "Sample 77/100: 100%|██████████| 30/30 [00:47<00:00,  1.59s/it]\n",
            "Sample 78/100:   0%|          | 0/28 [00:00<?, ?it/s]"
          ],
          "name": "stderr"
        },
        {
          "output_type": "stream",
          "text": [
            "--> Threshold 0.7200000000000002\n"
          ],
          "name": "stdout"
        },
        {
          "output_type": "stream",
          "text": [
            "Sample 78/100: 100%|██████████| 28/28 [00:39<00:00,  1.43s/it]\n",
            "Sample 79/100:   0%|          | 0/26 [00:00<?, ?it/s]"
          ],
          "name": "stderr"
        },
        {
          "output_type": "stream",
          "text": [
            "--> Threshold 0.7100000000000002\n"
          ],
          "name": "stdout"
        },
        {
          "output_type": "stream",
          "text": [
            "Sample 79/100: 100%|██████████| 26/26 [00:36<00:00,  1.40s/it]\n",
            "Sample 80/100:   0%|          | 0/25 [00:00<?, ?it/s]"
          ],
          "name": "stderr"
        },
        {
          "output_type": "stream",
          "text": [
            "--> Threshold 0.7000000000000002\n"
          ],
          "name": "stdout"
        },
        {
          "output_type": "stream",
          "text": [
            "Sample 80/100: 100%|██████████| 25/25 [00:35<00:00,  1.42s/it]\n",
            "Sample 81/100:   0%|          | 0/25 [00:00<?, ?it/s]"
          ],
          "name": "stderr"
        },
        {
          "output_type": "stream",
          "text": [
            "--> Threshold 0.6900000000000002\n"
          ],
          "name": "stdout"
        },
        {
          "output_type": "stream",
          "text": [
            "Sample 81/100: 100%|██████████| 25/25 [00:36<00:00,  1.47s/it]\n",
            "Sample 82/100:   0%|          | 0/25 [00:00<?, ?it/s]"
          ],
          "name": "stderr"
        },
        {
          "output_type": "stream",
          "text": [
            "--> Threshold 0.6800000000000002\n"
          ],
          "name": "stdout"
        },
        {
          "output_type": "stream",
          "text": [
            "Sample 82/100: 100%|██████████| 25/25 [00:36<00:00,  1.46s/it]\n",
            "Sample 83/100:   0%|          | 0/24 [00:00<?, ?it/s]"
          ],
          "name": "stderr"
        },
        {
          "output_type": "stream",
          "text": [
            "--> Threshold 0.6700000000000002\n"
          ],
          "name": "stdout"
        },
        {
          "output_type": "stream",
          "text": [
            "Sample 83/100: 100%|██████████| 24/24 [00:35<00:00,  1.49s/it]\n",
            "Sample 84/100:   0%|          | 0/24 [00:00<?, ?it/s]"
          ],
          "name": "stderr"
        },
        {
          "output_type": "stream",
          "text": [
            "--> Threshold 0.6600000000000001\n"
          ],
          "name": "stdout"
        },
        {
          "output_type": "stream",
          "text": [
            "Sample 84/100: 100%|██████████| 24/24 [00:35<00:00,  1.48s/it]\n",
            "Sample 85/100:   0%|          | 0/23 [00:00<?, ?it/s]"
          ],
          "name": "stderr"
        },
        {
          "output_type": "stream",
          "text": [
            "--> Threshold 0.6500000000000001\n"
          ],
          "name": "stdout"
        },
        {
          "output_type": "stream",
          "text": [
            "Sample 85/100: 100%|██████████| 23/23 [00:32<00:00,  1.43s/it]\n",
            "Sample 86/100:   0%|          | 0/22 [00:00<?, ?it/s]"
          ],
          "name": "stderr"
        },
        {
          "output_type": "stream",
          "text": [
            "--> Threshold 0.6400000000000001\n"
          ],
          "name": "stdout"
        },
        {
          "output_type": "stream",
          "text": [
            "Sample 86/100: 100%|██████████| 22/22 [00:32<00:00,  1.47s/it]\n",
            "Sample 87/100:   0%|          | 0/22 [00:00<?, ?it/s]"
          ],
          "name": "stderr"
        },
        {
          "output_type": "stream",
          "text": [
            "--> Threshold 0.6300000000000001\n"
          ],
          "name": "stdout"
        },
        {
          "output_type": "stream",
          "text": [
            "Sample 87/100: 100%|██████████| 22/22 [00:32<00:00,  1.49s/it]\n",
            "Sample 88/100:   0%|          | 0/22 [00:00<?, ?it/s]"
          ],
          "name": "stderr"
        },
        {
          "output_type": "stream",
          "text": [
            "--> Threshold 0.6200000000000001\n"
          ],
          "name": "stdout"
        },
        {
          "output_type": "stream",
          "text": [
            "Sample 88/100: 100%|██████████| 22/22 [00:32<00:00,  1.48s/it]\n",
            "Sample 89/100:   0%|          | 0/21 [00:00<?, ?it/s]"
          ],
          "name": "stderr"
        },
        {
          "output_type": "stream",
          "text": [
            "--> Threshold 0.6100000000000001\n"
          ],
          "name": "stdout"
        },
        {
          "output_type": "stream",
          "text": [
            "Sample 89/100: 100%|██████████| 21/21 [00:30<00:00,  1.44s/it]\n",
            "Sample 90/100:   0%|          | 0/21 [00:00<?, ?it/s]"
          ],
          "name": "stderr"
        },
        {
          "output_type": "stream",
          "text": [
            "--> Threshold 0.6000000000000001\n"
          ],
          "name": "stdout"
        },
        {
          "output_type": "stream",
          "text": [
            "Sample 90/100: 100%|██████████| 21/21 [00:30<00:00,  1.43s/it]\n",
            "Sample 91/100:   0%|          | 0/21 [00:00<?, ?it/s]"
          ],
          "name": "stderr"
        },
        {
          "output_type": "stream",
          "text": [
            "--> Threshold 0.5900000000000001\n"
          ],
          "name": "stdout"
        },
        {
          "output_type": "stream",
          "text": [
            "Sample 91/100: 100%|██████████| 21/21 [00:30<00:00,  1.43s/it]\n",
            "Sample 92/100:   0%|          | 0/21 [00:00<?, ?it/s]"
          ],
          "name": "stderr"
        },
        {
          "output_type": "stream",
          "text": [
            "--> Threshold 0.5800000000000001\n"
          ],
          "name": "stdout"
        },
        {
          "output_type": "stream",
          "text": [
            "Sample 92/100: 100%|██████████| 21/21 [00:30<00:00,  1.43s/it]\n",
            "Sample 93/100:   0%|          | 0/21 [00:00<?, ?it/s]"
          ],
          "name": "stderr"
        },
        {
          "output_type": "stream",
          "text": [
            "--> Threshold 0.5700000000000001\n"
          ],
          "name": "stdout"
        },
        {
          "output_type": "stream",
          "text": [
            "Sample 93/100: 100%|██████████| 21/21 [00:30<00:00,  1.43s/it]\n",
            "Sample 94/100:   0%|          | 0/21 [00:00<?, ?it/s]"
          ],
          "name": "stderr"
        },
        {
          "output_type": "stream",
          "text": [
            "--> Threshold 0.56\n"
          ],
          "name": "stdout"
        },
        {
          "output_type": "stream",
          "text": [
            "Sample 94/100: 100%|██████████| 21/21 [00:29<00:00,  1.42s/it]\n",
            "Sample 95/100:   0%|          | 0/21 [00:00<?, ?it/s]"
          ],
          "name": "stderr"
        },
        {
          "output_type": "stream",
          "text": [
            "--> Threshold 0.55\n"
          ],
          "name": "stdout"
        },
        {
          "output_type": "stream",
          "text": [
            "Sample 95/100: 100%|██████████| 21/21 [00:30<00:00,  1.43s/it]\n",
            "Sample 96/100:   0%|          | 0/21 [00:00<?, ?it/s]"
          ],
          "name": "stderr"
        },
        {
          "output_type": "stream",
          "text": [
            "--> Threshold 0.54\n"
          ],
          "name": "stdout"
        },
        {
          "output_type": "stream",
          "text": [
            "Sample 96/100: 100%|██████████| 21/21 [00:29<00:00,  1.43s/it]\n",
            "Sample 97/100:   0%|          | 0/21 [00:00<?, ?it/s]"
          ],
          "name": "stderr"
        },
        {
          "output_type": "stream",
          "text": [
            "--> Threshold 0.53\n"
          ],
          "name": "stdout"
        },
        {
          "output_type": "stream",
          "text": [
            "Sample 97/100: 100%|██████████| 21/21 [00:30<00:00,  1.44s/it]\n",
            "Sample 98/100:   0%|          | 0/21 [00:00<?, ?it/s]"
          ],
          "name": "stderr"
        },
        {
          "output_type": "stream",
          "text": [
            "--> Threshold 0.52\n"
          ],
          "name": "stdout"
        },
        {
          "output_type": "stream",
          "text": [
            "Sample 98/100: 100%|██████████| 21/21 [00:29<00:00,  1.42s/it]\n",
            "Sample 99/100:   0%|          | 0/21 [00:00<?, ?it/s]"
          ],
          "name": "stderr"
        },
        {
          "output_type": "stream",
          "text": [
            "--> Threshold 0.51\n"
          ],
          "name": "stdout"
        },
        {
          "output_type": "stream",
          "text": [
            "Sample 99/100: 100%|██████████| 21/21 [00:30<00:00,  1.43s/it]\n",
            "Sample 100/100:   0%|          | 0/21 [00:00<?, ?it/s]"
          ],
          "name": "stderr"
        },
        {
          "output_type": "stream",
          "text": [
            "--> Threshold 0.5\n"
          ],
          "name": "stdout"
        },
        {
          "output_type": "stream",
          "text": [
            "Sample 100/100: 100%|██████████| 21/21 [00:29<00:00,  1.43s/it]\n"
          ],
          "name": "stderr"
        },
        {
          "output_type": "stream",
          "text": [
            "Model --> textattack/albert-base-v2-rotten-tomatoes\n"
          ],
          "name": "stdout"
        },
        {
          "output_type": "display_data",
          "data": {
            "application/vnd.jupyter.widget-view+json": {
              "model_id": "8852625ad04d43f4bf53cd4225f093b7",
              "version_minor": 0,
              "version_major": 2
            },
            "text/plain": [
              "HBox(children=(FloatProgress(value=0.0, description='Downloading', max=738.0, style=ProgressStyle(description_…"
            ]
          },
          "metadata": {
            "tags": []
          }
        },
        {
          "output_type": "stream",
          "text": [
            "\n"
          ],
          "name": "stdout"
        },
        {
          "output_type": "display_data",
          "data": {
            "application/vnd.jupyter.widget-view+json": {
              "model_id": "ff7650d9a3424b2c81f6245269a116c4",
              "version_minor": 0,
              "version_major": 2
            },
            "text/plain": [
              "HBox(children=(FloatProgress(value=0.0, description='Downloading', max=760289.0, style=ProgressStyle(descripti…"
            ]
          },
          "metadata": {
            "tags": []
          }
        },
        {
          "output_type": "stream",
          "text": [
            "\n"
          ],
          "name": "stdout"
        },
        {
          "output_type": "display_data",
          "data": {
            "application/vnd.jupyter.widget-view+json": {
              "model_id": "12d1f092feb94c96b96c819b7e9935b3",
              "version_minor": 0,
              "version_major": 2
            },
            "text/plain": [
              "HBox(children=(FloatProgress(value=0.0, description='Downloading', max=156.0, style=ProgressStyle(description_…"
            ]
          },
          "metadata": {
            "tags": []
          }
        },
        {
          "output_type": "stream",
          "text": [
            "\n"
          ],
          "name": "stdout"
        },
        {
          "output_type": "display_data",
          "data": {
            "application/vnd.jupyter.widget-view+json": {
              "model_id": "1434a5cb709a4e918bcdb914e94d7e24",
              "version_minor": 0,
              "version_major": 2
            },
            "text/plain": [
              "HBox(children=(FloatProgress(value=0.0, description='Downloading', max=25.0, style=ProgressStyle(description_w…"
            ]
          },
          "metadata": {
            "tags": []
          }
        },
        {
          "output_type": "stream",
          "text": [
            "\n"
          ],
          "name": "stdout"
        },
        {
          "output_type": "display_data",
          "data": {
            "application/vnd.jupyter.widget-view+json": {
              "model_id": "03a9e7aa6b7a4f5a934d435a371a0e00",
              "version_minor": 0,
              "version_major": 2
            },
            "text/plain": [
              "HBox(children=(FloatProgress(value=0.0, description='Downloading', max=46747112.0, style=ProgressStyle(descrip…"
            ]
          },
          "metadata": {
            "tags": []
          }
        },
        {
          "output_type": "stream",
          "text": [
            "\n"
          ],
          "name": "stdout"
        },
        {
          "output_type": "stream",
          "text": [
            "\u001b[34;1mtextattack\u001b[0m: Unknown if model of class <class 'textattack.models.wrappers.huggingface_model_wrapper.HuggingFaceModelWrapper'> compatible with goal function <class 'textattack.goal_functions.classification.untargeted_classification.UntargetedClassification'>.\n"
          ],
          "name": "stderr"
        },
        {
          "output_type": "stream",
          "text": [
            "----> constraint bertscore\n"
          ],
          "name": "stdout"
        },
        {
          "output_type": "stream",
          "text": [
            "\rSample 1/100:   0%|          | 0/100 [00:00<?, ?it/s]"
          ],
          "name": "stderr"
        },
        {
          "output_type": "stream",
          "text": [
            "--> Threshold 0.9900000000000004\n"
          ],
          "name": "stdout"
        },
        {
          "output_type": "stream",
          "text": [
            "Sample 1/100: 100%|██████████| 100/100 [04:01<00:00,  2.42s/it]\n",
            "Sample 2/100:   0%|          | 0/97 [00:00<?, ?it/s]"
          ],
          "name": "stderr"
        },
        {
          "output_type": "stream",
          "text": [
            "--> Threshold 0.9800000000000004\n"
          ],
          "name": "stdout"
        },
        {
          "output_type": "stream",
          "text": [
            "Sample 2/100: 100%|██████████| 97/97 [03:56<00:00,  2.44s/it]\n",
            "Sample 3/100:   0%|          | 0/94 [00:00<?, ?it/s]"
          ],
          "name": "stderr"
        },
        {
          "output_type": "stream",
          "text": [
            "--> Threshold 0.9700000000000004\n"
          ],
          "name": "stdout"
        },
        {
          "output_type": "stream",
          "text": [
            "Sample 3/100: 100%|██████████| 94/94 [03:48<00:00,  2.43s/it]\n",
            "Sample 4/100:   0%|          | 0/88 [00:00<?, ?it/s]"
          ],
          "name": "stderr"
        },
        {
          "output_type": "stream",
          "text": [
            "--> Threshold 0.9600000000000004\n"
          ],
          "name": "stdout"
        },
        {
          "output_type": "stream",
          "text": [
            "Sample 4/100: 100%|██████████| 88/88 [03:26<00:00,  2.34s/it]\n",
            "Sample 5/100:   0%|          | 0/81 [00:00<?, ?it/s]"
          ],
          "name": "stderr"
        },
        {
          "output_type": "stream",
          "text": [
            "--> Threshold 0.9500000000000004\n"
          ],
          "name": "stdout"
        },
        {
          "output_type": "stream",
          "text": [
            "Sample 5/100: 100%|██████████| 81/81 [03:03<00:00,  2.27s/it]\n",
            "Sample 6/100:   0%|          | 0/74 [00:00<?, ?it/s]"
          ],
          "name": "stderr"
        },
        {
          "output_type": "stream",
          "text": [
            "--> Threshold 0.9400000000000004\n"
          ],
          "name": "stdout"
        },
        {
          "output_type": "stream",
          "text": [
            "Sample 6/100: 100%|██████████| 74/74 [02:53<00:00,  2.34s/it]\n",
            "Sample 7/100:   0%|          | 0/71 [00:00<?, ?it/s]"
          ],
          "name": "stderr"
        },
        {
          "output_type": "stream",
          "text": [
            "--> Threshold 0.9300000000000004\n"
          ],
          "name": "stdout"
        },
        {
          "output_type": "stream",
          "text": [
            "Sample 7/100: 100%|██████████| 71/71 [02:45<00:00,  2.33s/it]\n",
            "Sample 8/100:   0%|          | 0/67 [00:00<?, ?it/s]"
          ],
          "name": "stderr"
        },
        {
          "output_type": "stream",
          "text": [
            "--> Threshold 0.9200000000000004\n"
          ],
          "name": "stdout"
        },
        {
          "output_type": "stream",
          "text": [
            "Sample 8/100: 100%|██████████| 67/67 [02:36<00:00,  2.33s/it]\n",
            "Sample 9/100:   0%|          | 0/62 [00:00<?, ?it/s]"
          ],
          "name": "stderr"
        },
        {
          "output_type": "stream",
          "text": [
            "--> Threshold 0.9100000000000004\n"
          ],
          "name": "stdout"
        },
        {
          "output_type": "stream",
          "text": [
            "Sample 9/100: 100%|██████████| 62/62 [02:17<00:00,  2.22s/it]\n",
            "Sample 10/100:   0%|          | 0/56 [00:00<?, ?it/s]"
          ],
          "name": "stderr"
        },
        {
          "output_type": "stream",
          "text": [
            "--> Threshold 0.9000000000000004\n"
          ],
          "name": "stdout"
        },
        {
          "output_type": "stream",
          "text": [
            "Sample 10/100: 100%|██████████| 56/56 [02:02<00:00,  2.19s/it]\n",
            "Sample 11/100:   0%|          | 0/54 [00:00<?, ?it/s]"
          ],
          "name": "stderr"
        },
        {
          "output_type": "stream",
          "text": [
            "--> Threshold 0.8900000000000003\n"
          ],
          "name": "stdout"
        },
        {
          "output_type": "stream",
          "text": [
            "Sample 11/100: 100%|██████████| 54/54 [01:56<00:00,  2.16s/it]\n",
            "Sample 12/100:   0%|          | 0/52 [00:00<?, ?it/s]"
          ],
          "name": "stderr"
        },
        {
          "output_type": "stream",
          "text": [
            "--> Threshold 0.8800000000000003\n"
          ],
          "name": "stdout"
        },
        {
          "output_type": "stream",
          "text": [
            "Sample 12/100: 100%|██████████| 52/52 [01:55<00:00,  2.22s/it]\n",
            "Sample 13/100:   0%|          | 0/50 [00:00<?, ?it/s]"
          ],
          "name": "stderr"
        },
        {
          "output_type": "stream",
          "text": [
            "--> Threshold 0.8700000000000003\n"
          ],
          "name": "stdout"
        },
        {
          "output_type": "stream",
          "text": [
            "Sample 13/100: 100%|██████████| 50/50 [01:48<00:00,  2.17s/it]\n",
            "Sample 14/100:   0%|          | 0/45 [00:00<?, ?it/s]"
          ],
          "name": "stderr"
        },
        {
          "output_type": "stream",
          "text": [
            "--> Threshold 0.8600000000000003\n"
          ],
          "name": "stdout"
        },
        {
          "output_type": "stream",
          "text": [
            "Sample 14/100: 100%|██████████| 45/45 [01:34<00:00,  2.09s/it]\n",
            "Sample 15/100:   0%|          | 0/40 [00:00<?, ?it/s]"
          ],
          "name": "stderr"
        },
        {
          "output_type": "stream",
          "text": [
            "--> Threshold 0.8500000000000003\n"
          ],
          "name": "stdout"
        },
        {
          "output_type": "stream",
          "text": [
            "Sample 15/100: 100%|██████████| 40/40 [01:27<00:00,  2.20s/it]\n",
            "Sample 16/100:   0%|          | 0/39 [00:00<?, ?it/s]"
          ],
          "name": "stderr"
        },
        {
          "output_type": "stream",
          "text": [
            "--> Threshold 0.8400000000000003\n"
          ],
          "name": "stdout"
        },
        {
          "output_type": "stream",
          "text": [
            "Sample 16/100: 100%|██████████| 39/39 [01:26<00:00,  2.21s/it]\n",
            "Sample 17/100:   0%|          | 0/38 [00:00<?, ?it/s]"
          ],
          "name": "stderr"
        },
        {
          "output_type": "stream",
          "text": [
            "--> Threshold 0.8300000000000003\n"
          ],
          "name": "stdout"
        },
        {
          "output_type": "stream",
          "text": [
            "Sample 17/100: 100%|██████████| 38/38 [01:19<00:00,  2.09s/it]\n",
            "Sample 18/100:   0%|          | 0/34 [00:00<?, ?it/s]"
          ],
          "name": "stderr"
        },
        {
          "output_type": "stream",
          "text": [
            "--> Threshold 0.8200000000000003\n"
          ],
          "name": "stdout"
        },
        {
          "output_type": "stream",
          "text": [
            "Sample 18/100: 100%|██████████| 34/34 [01:10<00:00,  2.09s/it]\n",
            "Sample 19/100:   0%|          | 0/32 [00:00<?, ?it/s]"
          ],
          "name": "stderr"
        },
        {
          "output_type": "stream",
          "text": [
            "--> Threshold 0.8100000000000003\n"
          ],
          "name": "stdout"
        },
        {
          "output_type": "stream",
          "text": [
            "Sample 19/100: 100%|██████████| 32/32 [01:10<00:00,  2.19s/it]\n",
            "Sample 20/100:   0%|          | 0/32 [00:00<?, ?it/s]"
          ],
          "name": "stderr"
        },
        {
          "output_type": "stream",
          "text": [
            "--> Threshold 0.8000000000000003\n"
          ],
          "name": "stdout"
        },
        {
          "output_type": "stream",
          "text": [
            "Sample 20/100: 100%|██████████| 32/32 [01:11<00:00,  2.23s/it]\n",
            "Sample 21/100:   0%|          | 0/31 [00:00<?, ?it/s]"
          ],
          "name": "stderr"
        },
        {
          "output_type": "stream",
          "text": [
            "--> Threshold 0.7900000000000003\n"
          ],
          "name": "stdout"
        },
        {
          "output_type": "stream",
          "text": [
            "Sample 21/100: 100%|██████████| 31/31 [01:04<00:00,  2.08s/it]\n",
            "Sample 22/100:   0%|          | 0/28 [00:00<?, ?it/s]"
          ],
          "name": "stderr"
        },
        {
          "output_type": "stream",
          "text": [
            "--> Threshold 0.7800000000000002\n"
          ],
          "name": "stdout"
        },
        {
          "output_type": "stream",
          "text": [
            "Sample 22/100: 100%|██████████| 28/28 [00:53<00:00,  1.92s/it]\n",
            "Sample 23/100:   0%|          | 0/24 [00:00<?, ?it/s]"
          ],
          "name": "stderr"
        },
        {
          "output_type": "stream",
          "text": [
            "--> Threshold 0.7700000000000002\n"
          ],
          "name": "stdout"
        },
        {
          "output_type": "stream",
          "text": [
            "Sample 23/100: 100%|██████████| 24/24 [00:41<00:00,  1.74s/it]\n",
            "Sample 24/100:   0%|          | 0/24 [00:00<?, ?it/s]"
          ],
          "name": "stderr"
        },
        {
          "output_type": "stream",
          "text": [
            "--> Threshold 0.7600000000000002\n"
          ],
          "name": "stdout"
        },
        {
          "output_type": "stream",
          "text": [
            "Sample 24/100: 100%|██████████| 24/24 [00:41<00:00,  1.71s/it]\n",
            "Sample 25/100:   0%|          | 0/22 [00:00<?, ?it/s]"
          ],
          "name": "stderr"
        },
        {
          "output_type": "stream",
          "text": [
            "--> Threshold 0.7500000000000002\n"
          ],
          "name": "stdout"
        },
        {
          "output_type": "stream",
          "text": [
            "Sample 25/100: 100%|██████████| 22/22 [00:37<00:00,  1.73s/it]\n",
            "Sample 26/100:   0%|          | 0/21 [00:00<?, ?it/s]"
          ],
          "name": "stderr"
        },
        {
          "output_type": "stream",
          "text": [
            "--> Threshold 0.7400000000000002\n"
          ],
          "name": "stdout"
        },
        {
          "output_type": "stream",
          "text": [
            "Sample 26/100: 100%|██████████| 21/21 [00:37<00:00,  1.78s/it]\n",
            "Sample 27/100:   0%|          | 0/21 [00:00<?, ?it/s]"
          ],
          "name": "stderr"
        },
        {
          "output_type": "stream",
          "text": [
            "--> Threshold 0.7300000000000002\n"
          ],
          "name": "stdout"
        },
        {
          "output_type": "stream",
          "text": [
            "Sample 27/100: 100%|██████████| 21/21 [00:37<00:00,  1.78s/it]\n",
            "Sample 28/100:   0%|          | 0/21 [00:00<?, ?it/s]"
          ],
          "name": "stderr"
        },
        {
          "output_type": "stream",
          "text": [
            "--> Threshold 0.7200000000000002\n"
          ],
          "name": "stdout"
        },
        {
          "output_type": "stream",
          "text": [
            "Sample 28/100: 100%|██████████| 21/21 [00:37<00:00,  1.80s/it]\n",
            "Sample 29/100:   0%|          | 0/21 [00:00<?, ?it/s]"
          ],
          "name": "stderr"
        },
        {
          "output_type": "stream",
          "text": [
            "--> Threshold 0.7100000000000002\n"
          ],
          "name": "stdout"
        },
        {
          "output_type": "stream",
          "text": [
            "Sample 29/100: 100%|██████████| 21/21 [00:38<00:00,  1.82s/it]\n",
            "Sample 30/100:   0%|          | 0/21 [00:00<?, ?it/s]"
          ],
          "name": "stderr"
        },
        {
          "output_type": "stream",
          "text": [
            "--> Threshold 0.7000000000000002\n"
          ],
          "name": "stdout"
        },
        {
          "output_type": "stream",
          "text": [
            "Sample 30/100: 100%|██████████| 21/21 [00:38<00:00,  1.82s/it]\n",
            "Sample 31/100:   0%|          | 0/21 [00:00<?, ?it/s]"
          ],
          "name": "stderr"
        },
        {
          "output_type": "stream",
          "text": [
            "--> Threshold 0.6900000000000002\n"
          ],
          "name": "stdout"
        },
        {
          "output_type": "stream",
          "text": [
            "Sample 31/100: 100%|██████████| 21/21 [00:38<00:00,  1.84s/it]\n",
            "Sample 32/100:   0%|          | 0/21 [00:00<?, ?it/s]"
          ],
          "name": "stderr"
        },
        {
          "output_type": "stream",
          "text": [
            "--> Threshold 0.6800000000000002\n"
          ],
          "name": "stdout"
        },
        {
          "output_type": "stream",
          "text": [
            "Sample 32/100: 100%|██████████| 21/21 [00:38<00:00,  1.83s/it]\n",
            "Sample 33/100:   0%|          | 0/20 [00:00<?, ?it/s]"
          ],
          "name": "stderr"
        },
        {
          "output_type": "stream",
          "text": [
            "--> Threshold 0.6700000000000002\n"
          ],
          "name": "stdout"
        },
        {
          "output_type": "stream",
          "text": [
            "Sample 33/100: 100%|██████████| 20/20 [00:34<00:00,  1.71s/it]\n",
            "Sample 34/100:   0%|          | 0/19 [00:00<?, ?it/s]"
          ],
          "name": "stderr"
        },
        {
          "output_type": "stream",
          "text": [
            "--> Threshold 0.6600000000000001\n"
          ],
          "name": "stdout"
        },
        {
          "output_type": "stream",
          "text": [
            "Sample 34/100: 100%|██████████| 19/19 [00:33<00:00,  1.75s/it]\n",
            "Sample 35/100:   0%|          | 0/18 [00:00<?, ?it/s]"
          ],
          "name": "stderr"
        },
        {
          "output_type": "stream",
          "text": [
            "--> Threshold 0.6500000000000001\n"
          ],
          "name": "stdout"
        },
        {
          "output_type": "stream",
          "text": [
            "Sample 35/100: 100%|██████████| 18/18 [00:30<00:00,  1.71s/it]\n",
            "Sample 36/100:   0%|          | 0/18 [00:00<?, ?it/s]"
          ],
          "name": "stderr"
        },
        {
          "output_type": "stream",
          "text": [
            "--> Threshold 0.6400000000000001\n"
          ],
          "name": "stdout"
        },
        {
          "output_type": "stream",
          "text": [
            "Sample 36/100: 100%|██████████| 18/18 [00:30<00:00,  1.71s/it]\n",
            "Sample 37/100:   0%|          | 0/18 [00:00<?, ?it/s]"
          ],
          "name": "stderr"
        },
        {
          "output_type": "stream",
          "text": [
            "--> Threshold 0.6300000000000001\n"
          ],
          "name": "stdout"
        },
        {
          "output_type": "stream",
          "text": [
            "Sample 37/100: 100%|██████████| 18/18 [00:30<00:00,  1.71s/it]\n",
            "Sample 38/100:   0%|          | 0/18 [00:00<?, ?it/s]"
          ],
          "name": "stderr"
        },
        {
          "output_type": "stream",
          "text": [
            "--> Threshold 0.6200000000000001\n"
          ],
          "name": "stdout"
        },
        {
          "output_type": "stream",
          "text": [
            "Sample 38/100: 100%|██████████| 18/18 [00:30<00:00,  1.72s/it]\n",
            "Sample 39/100:   0%|          | 0/18 [00:00<?, ?it/s]"
          ],
          "name": "stderr"
        },
        {
          "output_type": "stream",
          "text": [
            "--> Threshold 0.6100000000000001\n"
          ],
          "name": "stdout"
        },
        {
          "output_type": "stream",
          "text": [
            "Sample 39/100: 100%|██████████| 18/18 [00:30<00:00,  1.72s/it]\n",
            "Sample 40/100:   0%|          | 0/18 [00:00<?, ?it/s]"
          ],
          "name": "stderr"
        },
        {
          "output_type": "stream",
          "text": [
            "--> Threshold 0.6000000000000001\n"
          ],
          "name": "stdout"
        },
        {
          "output_type": "stream",
          "text": [
            "Sample 40/100: 100%|██████████| 18/18 [00:31<00:00,  1.73s/it]\n",
            "Sample 41/100:   0%|          | 0/18 [00:00<?, ?it/s]"
          ],
          "name": "stderr"
        },
        {
          "output_type": "stream",
          "text": [
            "--> Threshold 0.5900000000000001\n"
          ],
          "name": "stdout"
        },
        {
          "output_type": "stream",
          "text": [
            "Sample 41/100: 100%|██████████| 18/18 [00:31<00:00,  1.73s/it]\n",
            "Sample 42/100:   0%|          | 0/18 [00:00<?, ?it/s]"
          ],
          "name": "stderr"
        },
        {
          "output_type": "stream",
          "text": [
            "--> Threshold 0.5800000000000001\n"
          ],
          "name": "stdout"
        },
        {
          "output_type": "stream",
          "text": [
            "Sample 42/100: 100%|██████████| 18/18 [00:31<00:00,  1.72s/it]\n",
            "Sample 43/100:   0%|          | 0/18 [00:00<?, ?it/s]"
          ],
          "name": "stderr"
        },
        {
          "output_type": "stream",
          "text": [
            "--> Threshold 0.5700000000000001\n"
          ],
          "name": "stdout"
        },
        {
          "output_type": "stream",
          "text": [
            "Sample 43/100: 100%|██████████| 18/18 [00:31<00:00,  1.73s/it]\n",
            "Sample 44/100:   0%|          | 0/18 [00:00<?, ?it/s]"
          ],
          "name": "stderr"
        },
        {
          "output_type": "stream",
          "text": [
            "--> Threshold 0.56\n"
          ],
          "name": "stdout"
        },
        {
          "output_type": "stream",
          "text": [
            "Sample 44/100: 100%|██████████| 18/18 [00:31<00:00,  1.73s/it]\n",
            "Sample 45/100:   0%|          | 0/17 [00:00<?, ?it/s]"
          ],
          "name": "stderr"
        },
        {
          "output_type": "stream",
          "text": [
            "--> Threshold 0.55\n"
          ],
          "name": "stdout"
        },
        {
          "output_type": "stream",
          "text": [
            "Sample 45/100: 100%|██████████| 17/17 [00:28<00:00,  1.67s/it]\n",
            "Sample 46/100:   0%|          | 0/17 [00:00<?, ?it/s]"
          ],
          "name": "stderr"
        },
        {
          "output_type": "stream",
          "text": [
            "--> Threshold 0.54\n"
          ],
          "name": "stdout"
        },
        {
          "output_type": "stream",
          "text": [
            "Sample 46/100: 100%|██████████| 17/17 [00:28<00:00,  1.67s/it]\n",
            "Sample 47/100:   0%|          | 0/17 [00:00<?, ?it/s]"
          ],
          "name": "stderr"
        },
        {
          "output_type": "stream",
          "text": [
            "--> Threshold 0.53\n"
          ],
          "name": "stdout"
        },
        {
          "output_type": "stream",
          "text": [
            "Sample 47/100: 100%|██████████| 17/17 [00:28<00:00,  1.67s/it]\n",
            "Sample 48/100:   0%|          | 0/17 [00:00<?, ?it/s]"
          ],
          "name": "stderr"
        },
        {
          "output_type": "stream",
          "text": [
            "--> Threshold 0.52\n"
          ],
          "name": "stdout"
        },
        {
          "output_type": "stream",
          "text": [
            "Sample 48/100: 100%|██████████| 17/17 [00:28<00:00,  1.69s/it]\n",
            "Sample 49/100:   0%|          | 0/17 [00:00<?, ?it/s]"
          ],
          "name": "stderr"
        },
        {
          "output_type": "stream",
          "text": [
            "--> Threshold 0.51\n"
          ],
          "name": "stdout"
        },
        {
          "output_type": "stream",
          "text": [
            "Sample 49/100: 100%|██████████| 17/17 [00:30<00:00,  1.77s/it]\n",
            "Sample 50/100:   0%|          | 0/17 [00:00<?, ?it/s]"
          ],
          "name": "stderr"
        },
        {
          "output_type": "stream",
          "text": [
            "--> Threshold 0.5\n"
          ],
          "name": "stdout"
        },
        {
          "output_type": "stream",
          "text": [
            "Sample 50/100: 100%|██████████| 17/17 [00:29<00:00,  1.72s/it]\n"
          ],
          "name": "stderr"
        },
        {
          "output_type": "stream",
          "text": [
            "----> constraint use\n"
          ],
          "name": "stdout"
        },
        {
          "output_type": "stream",
          "text": [
            "\rSample 51/100:   0%|          | 0/100 [00:00<?, ?it/s]"
          ],
          "name": "stderr"
        },
        {
          "output_type": "stream",
          "text": [
            "--> Threshold 0.9900000000000004\n"
          ],
          "name": "stdout"
        },
        {
          "output_type": "stream",
          "text": [
            "Sample 51/100: 100%|██████████| 100/100 [02:41<00:00,  1.61s/it]\n",
            "Sample 52/100:   0%|          | 0/100 [00:00<?, ?it/s]"
          ],
          "name": "stderr"
        },
        {
          "output_type": "stream",
          "text": [
            "--> Threshold 0.9800000000000004\n"
          ],
          "name": "stdout"
        },
        {
          "output_type": "stream",
          "text": [
            "Sample 52/100: 100%|██████████| 100/100 [02:39<00:00,  1.60s/it]\n",
            "Sample 53/100:   0%|          | 0/100 [00:00<?, ?it/s]"
          ],
          "name": "stderr"
        },
        {
          "output_type": "stream",
          "text": [
            "--> Threshold 0.9700000000000004\n"
          ],
          "name": "stdout"
        },
        {
          "output_type": "stream",
          "text": [
            "Sample 53/100: 100%|██████████| 100/100 [02:38<00:00,  1.59s/it]\n",
            "Sample 54/100:   0%|          | 0/100 [00:00<?, ?it/s]"
          ],
          "name": "stderr"
        },
        {
          "output_type": "stream",
          "text": [
            "--> Threshold 0.9600000000000004\n"
          ],
          "name": "stdout"
        },
        {
          "output_type": "stream",
          "text": [
            "Sample 54/100:  39%|███▉      | 39/100 [01:00<01:39,  1.63s/it]"
          ],
          "name": "stderr"
        }
      ]
    },
    {
      "cell_type": "code",
      "metadata": {
        "id": "K2nOfbvZNVQM",
        "colab_type": "code",
        "colab": {}
      },
      "source": [
        "##\n",
        "## PLOT AUC AND STUFF\n",
        "##\n",
        "\n",
        "import matplotlib.pyplot as plt\n",
        "import pandas as pd\n",
        "import seaborn as sns\n",
        "import sklearn\n",
        "\n",
        "sns.set()\n",
        "\n",
        "second_order_df = pd.DataFrame(data) \\\n",
        "                    .rename(columns={'num_successes': 'num_second_order_successes'}) \\\n",
        "                    .drop('num_words_to_swap', axis=1)\n",
        "first_order_df = pd.DataFrame(data2) \\\n",
        "                    .rename(columns={'num_successes': 'num_first_order_successes'})\n",
        "\n",
        "full_df = pd.merge(first_order_df, second_order_df)\n",
        "\n",
        "df_models = full_df['model'].unique()\n",
        "fig, ax = plt.subplots(1, len(df_models), figsize=(24, 6))\n",
        "\n",
        "for model_idx, model in enumerate(df_models):\n",
        "  df = full_df[full_df['model'] == model].reset_index()\n",
        "  # Add datapoints where eps=1.0 and success rate is zero, instead of actually running\n",
        "  # futile attacks.\n",
        "  for constraint in df['constraint'].unique():\n",
        "    zero_data_point = df[df['constraint'] == constraint] \\\n",
        "                         [df['num_first_order_successes'] == 0.0] \\\n",
        "                         [df['num_second_order_successes'] == 0.0]\n",
        "    if zero_data_point.empty:\n",
        "      extra_data_point = { 'constraint': constraint, 'num_first_order_successes': 0.0, 'num_second_order_successes': 0.0 } # The \\eps=1.0 datapoint\n",
        "      extra_data_point_row = [extra_data_point.get(c) for c in df.columns]\n",
        "      df.loc[-1] = extra_data_point_row # add row\n",
        "      df.index = df.index + 1  # shifting index\n",
        "      df.sort_index(inplace=True) \n",
        "\n",
        "  # Calculate rate in terms of num successes\n",
        "  df['first_order_success_rate'] = df['num_first_order_successes'] / num_samples\n",
        "  df['second_order_success_rate'] = df['num_second_order_successes'] / num_samples\n",
        "\n",
        "  labels = []\n",
        "  # Calculate AUC.\n",
        "  for constraint in df['constraint'].unique():\n",
        "    x = df[df['constraint'] == constraint]['second_order_success_rate']\n",
        "    y = df[df['constraint'] == constraint]['first_order_success_rate']\n",
        "    auc = sklearn.metrics.auc(x, y)\n",
        "    accs = auc / (max(x) * max(y))\n",
        "    print(constraint)\n",
        "    print(f'--> AUC: {auc}')\n",
        "    print(f'--> ACCS: {accs}')\n",
        "    \n",
        "    labels.append(f'{constraint} (ACCS = {accs:.3f})')\n",
        "  print('labels', labels)\n",
        "  # Plot curve.\n",
        "  sns.lineplot(df['second_order_success_rate'], df['first_order_success_rate'], \n",
        "                hue=df['constraint'], ci=0, ax=ax[model_idx], lw=4)\n",
        "\n",
        "  ax[model_idx].get_lines()[1].set_linestyle('--')\n",
        "  \n",
        "  ax[model_idx].legend(labels, loc=4, prop={'size': 18}) # bottom right, see https://matplotlib.org/api/_as_gen/matplotlib.axes.Axes.legend.html\n",
        "  ax[model_idx].set_title(model, fontsize=22)\n",
        "  ax[model_idx].set_xlabel('Second-order attack success rate', fontsize=18)\n",
        "  ax[model_idx].set_ylabel('First-order attack success rate',  fontsize=18)\n",
        "  # ax[model_idx].set_xlabel('')\n",
        "  # ax[model_idx].set_ylabel('')\n",
        "\n",
        "plt.tight_layout()\n",
        "plt.savefig('attack_curve_rte.pdf')"
      ],
      "execution_count": null,
      "outputs": []
    },
    {
      "cell_type": "code",
      "metadata": {
        "id": "5WnNGk__sXGb",
        "colab_type": "code",
        "colab": {}
      },
      "source": [
        "df.plot(x='threshold', y='num_second_order_successes')"
      ],
      "execution_count": null,
      "outputs": []
    },
    {
      "cell_type": "code",
      "metadata": {
        "id": "r6M0nd0cKapq",
        "colab_type": "code",
        "colab": {}
      },
      "source": [
        "##\n",
        "## PLOT ATTACK SUCCESS AND STUFF\n",
        "##\n",
        "\n",
        "import matplotlib.pyplot as plt\n",
        "import pandas as pd\n",
        "import seaborn as sns\n",
        "import sklearn\n",
        "\n",
        "df_models = full_df['model'].unique()\n",
        "fig, ax = plt.subplots(1, len(df_models), figsize=(24, 6))\n",
        "\n",
        "LINE_WIDTH = 2.5    # thickish\n",
        "COLOR_1 = \"#9b59b6\" # purplish\n",
        "COLOR_2 = \"#34495e\" # blackish\n",
        "\n",
        "print('models -> ', df_models)\n",
        "for model_idx, model in enumerate(df_models):\n",
        "  df = full_df[full_df['model'] == model].reset_index()\n",
        "\n",
        "  # Calculate rate in terms of num successes\n",
        "  df['first_order_success_rate'] = df['num_first_order_successes'] / num_samples\n",
        "  df['second_order_success_rate'] = df['num_second_order_successes'] / num_samples\n",
        "  \n",
        "  # Add datapoints where eps=1.0 and success rate is zero, instead of actually running\n",
        "  # futile attacks.\n",
        "  for constraint in df['constraint'].unique():\n",
        "    zero_data_point = df[df['constraint'] == constraint] \\\n",
        "                         [df['num_first_order_successes'] == 0.0] \\\n",
        "                         [df['num_second_order_successes'] == 0.0]\n",
        "    if zero_data_point.empty:\n",
        "      extra_data_point = { 'constraint': constraint, 'num_first_order_successes': 0.0, 'num_second_order_successes': 0.0 } # The \\eps=1.0 datapoint\n",
        "      extra_data_point_row = [extra_data_point.get(c) for c in df.columns]\n",
        "      df.loc[-1] = extra_data_point_row # add row\n",
        "      df.index = df.index + 1  # shifting index\n",
        "      df.sort_index(inplace=True)\n",
        "\n",
        "  # Plot curve.\n",
        "  sns.lineplot(df['threshold'].astype(float), df['first_order_success_rate'].astype(float), \n",
        "                color=COLOR_1, ci=0, lw=LINE_WIDTH, ax=ax[model_idx])\n",
        "  \n",
        "  sns.lineplot(df['threshold'].astype(float), df['second_order_success_rate'].astype(float), \n",
        "                color=COLOR_2, ci=0, lw=LINE_WIDTH, ax=ax[model_idx])\n",
        "  \n",
        "  # ax[model_idx].get_lines()[-1].set_linestyle('--')\n",
        "  ax[model_idx].legend(['First-order attack', 'Second-order attack'], loc=4) # bottom right, see https://matplotlib.org/api/_as_gen/matplotlib.axes.Axes.legend.html\n",
        "  ax[model_idx].set_title(model)\n",
        "\n",
        "  ax[model_idx].set_xlabel('Threshold (ε)')\n",
        "  ax[model_idx].set_ylabel('Attack Success Rate')\n",
        "\n",
        "  # plt.xlabel('Second-order attack success rate')\n",
        "  # plt.ylabel('First-order attack success rate')\n",
        "  # plt.title('SNLI')\n",
        "  plt.savefig('attack_successes_rte.pdf')"
      ],
      "execution_count": null,
      "outputs": []
    }
  ]
}