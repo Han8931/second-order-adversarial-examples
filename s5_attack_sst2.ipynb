{
  "nbformat": 4,
  "nbformat_minor": 0,
  "metadata": {
    "colab": {
      "name": "[TextAttack] [2AE p1]  constraint goal function - antonym attack: SST-2",
      "provenance": [],
      "collapsed_sections": [],
      "toc_visible": true
    },
    "kernelspec": {
      "name": "python3",
      "display_name": "Python 3"
    },
    "accelerator": "GPU",
    "widgets": {
      "application/vnd.jupyter.widget-state+json": {
        "fc3acc9b1e2646a58437753dfc4ca309": {
          "model_module": "@jupyter-widgets/controls",
          "model_name": "HBoxModel",
          "state": {
            "_view_name": "HBoxView",
            "_dom_classes": [],
            "_model_name": "HBoxModel",
            "_view_module": "@jupyter-widgets/controls",
            "_model_module_version": "1.5.0",
            "_view_count": null,
            "_view_module_version": "1.5.0",
            "box_style": "",
            "layout": "IPY_MODEL_6acd33e68bc64ad0a28c1c3fb3fbf97d",
            "_model_module": "@jupyter-widgets/controls",
            "children": [
              "IPY_MODEL_c3dbc57cda954bad85fc168246336c92",
              "IPY_MODEL_d6835947b6424bf2a2dffda8099af4f8"
            ]
          }
        },
        "6acd33e68bc64ad0a28c1c3fb3fbf97d": {
          "model_module": "@jupyter-widgets/base",
          "model_name": "LayoutModel",
          "state": {
            "_view_name": "LayoutView",
            "grid_template_rows": null,
            "right": null,
            "justify_content": null,
            "_view_module": "@jupyter-widgets/base",
            "overflow": null,
            "_model_module_version": "1.2.0",
            "_view_count": null,
            "flex_flow": null,
            "width": null,
            "min_width": null,
            "border": null,
            "align_items": null,
            "bottom": null,
            "_model_module": "@jupyter-widgets/base",
            "top": null,
            "grid_column": null,
            "overflow_y": null,
            "overflow_x": null,
            "grid_auto_flow": null,
            "grid_area": null,
            "grid_template_columns": null,
            "flex": null,
            "_model_name": "LayoutModel",
            "justify_items": null,
            "grid_row": null,
            "max_height": null,
            "align_content": null,
            "visibility": null,
            "align_self": null,
            "height": null,
            "min_height": null,
            "padding": null,
            "grid_auto_rows": null,
            "grid_gap": null,
            "max_width": null,
            "order": null,
            "_view_module_version": "1.2.0",
            "grid_template_areas": null,
            "object_position": null,
            "object_fit": null,
            "grid_auto_columns": null,
            "margin": null,
            "display": null,
            "left": null
          }
        },
        "c3dbc57cda954bad85fc168246336c92": {
          "model_module": "@jupyter-widgets/controls",
          "model_name": "FloatProgressModel",
          "state": {
            "_view_name": "ProgressView",
            "style": "IPY_MODEL_52c8f89b982e458a9e8ef7c5860fdfd8",
            "_dom_classes": [],
            "description": "Downloading: 100%",
            "_model_name": "FloatProgressModel",
            "bar_style": "success",
            "max": 477,
            "_view_module": "@jupyter-widgets/controls",
            "_model_module_version": "1.5.0",
            "value": 477,
            "_view_count": null,
            "_view_module_version": "1.5.0",
            "orientation": "horizontal",
            "min": 0,
            "description_tooltip": null,
            "_model_module": "@jupyter-widgets/controls",
            "layout": "IPY_MODEL_64e3a228f69a44ba8046335a86637e69"
          }
        },
        "d6835947b6424bf2a2dffda8099af4f8": {
          "model_module": "@jupyter-widgets/controls",
          "model_name": "HTMLModel",
          "state": {
            "_view_name": "HTMLView",
            "style": "IPY_MODEL_522aae5aaa0a47aba5ff02f04c108435",
            "_dom_classes": [],
            "description": "",
            "_model_name": "HTMLModel",
            "placeholder": "​",
            "_view_module": "@jupyter-widgets/controls",
            "_model_module_version": "1.5.0",
            "value": " 477/477 [00:00&lt;00:00, 717B/s]",
            "_view_count": null,
            "_view_module_version": "1.5.0",
            "description_tooltip": null,
            "_model_module": "@jupyter-widgets/controls",
            "layout": "IPY_MODEL_c25d3ec1101e4c1fb4eebf76d6a4706b"
          }
        },
        "52c8f89b982e458a9e8ef7c5860fdfd8": {
          "model_module": "@jupyter-widgets/controls",
          "model_name": "ProgressStyleModel",
          "state": {
            "_view_name": "StyleView",
            "_model_name": "ProgressStyleModel",
            "description_width": "initial",
            "_view_module": "@jupyter-widgets/base",
            "_model_module_version": "1.5.0",
            "_view_count": null,
            "_view_module_version": "1.2.0",
            "bar_color": null,
            "_model_module": "@jupyter-widgets/controls"
          }
        },
        "64e3a228f69a44ba8046335a86637e69": {
          "model_module": "@jupyter-widgets/base",
          "model_name": "LayoutModel",
          "state": {
            "_view_name": "LayoutView",
            "grid_template_rows": null,
            "right": null,
            "justify_content": null,
            "_view_module": "@jupyter-widgets/base",
            "overflow": null,
            "_model_module_version": "1.2.0",
            "_view_count": null,
            "flex_flow": null,
            "width": null,
            "min_width": null,
            "border": null,
            "align_items": null,
            "bottom": null,
            "_model_module": "@jupyter-widgets/base",
            "top": null,
            "grid_column": null,
            "overflow_y": null,
            "overflow_x": null,
            "grid_auto_flow": null,
            "grid_area": null,
            "grid_template_columns": null,
            "flex": null,
            "_model_name": "LayoutModel",
            "justify_items": null,
            "grid_row": null,
            "max_height": null,
            "align_content": null,
            "visibility": null,
            "align_self": null,
            "height": null,
            "min_height": null,
            "padding": null,
            "grid_auto_rows": null,
            "grid_gap": null,
            "max_width": null,
            "order": null,
            "_view_module_version": "1.2.0",
            "grid_template_areas": null,
            "object_position": null,
            "object_fit": null,
            "grid_auto_columns": null,
            "margin": null,
            "display": null,
            "left": null
          }
        },
        "522aae5aaa0a47aba5ff02f04c108435": {
          "model_module": "@jupyter-widgets/controls",
          "model_name": "DescriptionStyleModel",
          "state": {
            "_view_name": "StyleView",
            "_model_name": "DescriptionStyleModel",
            "description_width": "",
            "_view_module": "@jupyter-widgets/base",
            "_model_module_version": "1.5.0",
            "_view_count": null,
            "_view_module_version": "1.2.0",
            "_model_module": "@jupyter-widgets/controls"
          }
        },
        "c25d3ec1101e4c1fb4eebf76d6a4706b": {
          "model_module": "@jupyter-widgets/base",
          "model_name": "LayoutModel",
          "state": {
            "_view_name": "LayoutView",
            "grid_template_rows": null,
            "right": null,
            "justify_content": null,
            "_view_module": "@jupyter-widgets/base",
            "overflow": null,
            "_model_module_version": "1.2.0",
            "_view_count": null,
            "flex_flow": null,
            "width": null,
            "min_width": null,
            "border": null,
            "align_items": null,
            "bottom": null,
            "_model_module": "@jupyter-widgets/base",
            "top": null,
            "grid_column": null,
            "overflow_y": null,
            "overflow_x": null,
            "grid_auto_flow": null,
            "grid_area": null,
            "grid_template_columns": null,
            "flex": null,
            "_model_name": "LayoutModel",
            "justify_items": null,
            "grid_row": null,
            "max_height": null,
            "align_content": null,
            "visibility": null,
            "align_self": null,
            "height": null,
            "min_height": null,
            "padding": null,
            "grid_auto_rows": null,
            "grid_gap": null,
            "max_width": null,
            "order": null,
            "_view_module_version": "1.2.0",
            "grid_template_areas": null,
            "object_position": null,
            "object_fit": null,
            "grid_auto_columns": null,
            "margin": null,
            "display": null,
            "left": null
          }
        },
        "4242ce0a162e4556ab1cf58d3f8d9406": {
          "model_module": "@jupyter-widgets/controls",
          "model_name": "HBoxModel",
          "state": {
            "_view_name": "HBoxView",
            "_dom_classes": [],
            "_model_name": "HBoxModel",
            "_view_module": "@jupyter-widgets/controls",
            "_model_module_version": "1.5.0",
            "_view_count": null,
            "_view_module_version": "1.5.0",
            "box_style": "",
            "layout": "IPY_MODEL_eacc29f0342b43a6a4c61167cee1a702",
            "_model_module": "@jupyter-widgets/controls",
            "children": [
              "IPY_MODEL_fa3f2dca9e9c42f08d5ac83d39ee27f7",
              "IPY_MODEL_061ad76cded0405daf7b125225b0d58d"
            ]
          }
        },
        "eacc29f0342b43a6a4c61167cee1a702": {
          "model_module": "@jupyter-widgets/base",
          "model_name": "LayoutModel",
          "state": {
            "_view_name": "LayoutView",
            "grid_template_rows": null,
            "right": null,
            "justify_content": null,
            "_view_module": "@jupyter-widgets/base",
            "overflow": null,
            "_model_module_version": "1.2.0",
            "_view_count": null,
            "flex_flow": null,
            "width": null,
            "min_width": null,
            "border": null,
            "align_items": null,
            "bottom": null,
            "_model_module": "@jupyter-widgets/base",
            "top": null,
            "grid_column": null,
            "overflow_y": null,
            "overflow_x": null,
            "grid_auto_flow": null,
            "grid_area": null,
            "grid_template_columns": null,
            "flex": null,
            "_model_name": "LayoutModel",
            "justify_items": null,
            "grid_row": null,
            "max_height": null,
            "align_content": null,
            "visibility": null,
            "align_self": null,
            "height": null,
            "min_height": null,
            "padding": null,
            "grid_auto_rows": null,
            "grid_gap": null,
            "max_width": null,
            "order": null,
            "_view_module_version": "1.2.0",
            "grid_template_areas": null,
            "object_position": null,
            "object_fit": null,
            "grid_auto_columns": null,
            "margin": null,
            "display": null,
            "left": null
          }
        },
        "fa3f2dca9e9c42f08d5ac83d39ee27f7": {
          "model_module": "@jupyter-widgets/controls",
          "model_name": "FloatProgressModel",
          "state": {
            "_view_name": "ProgressView",
            "style": "IPY_MODEL_3f7f0ee9f7d0496baf892e22cb89dbe7",
            "_dom_classes": [],
            "description": "Downloading: 100%",
            "_model_name": "FloatProgressModel",
            "bar_style": "success",
            "max": 231508,
            "_view_module": "@jupyter-widgets/controls",
            "_model_module_version": "1.5.0",
            "value": 231508,
            "_view_count": null,
            "_view_module_version": "1.5.0",
            "orientation": "horizontal",
            "min": 0,
            "description_tooltip": null,
            "_model_module": "@jupyter-widgets/controls",
            "layout": "IPY_MODEL_d0dad9bc887f4d1496d60860dddc988f"
          }
        },
        "061ad76cded0405daf7b125225b0d58d": {
          "model_module": "@jupyter-widgets/controls",
          "model_name": "HTMLModel",
          "state": {
            "_view_name": "HTMLView",
            "style": "IPY_MODEL_486c08b5416e45b9ba9f51be3d8df2d6",
            "_dom_classes": [],
            "description": "",
            "_model_name": "HTMLModel",
            "placeholder": "​",
            "_view_module": "@jupyter-widgets/controls",
            "_model_module_version": "1.5.0",
            "value": " 232k/232k [00:16&lt;00:00, 13.7kB/s]",
            "_view_count": null,
            "_view_module_version": "1.5.0",
            "description_tooltip": null,
            "_model_module": "@jupyter-widgets/controls",
            "layout": "IPY_MODEL_729d08ee4a944311b2ec4eaabf26eb48"
          }
        },
        "3f7f0ee9f7d0496baf892e22cb89dbe7": {
          "model_module": "@jupyter-widgets/controls",
          "model_name": "ProgressStyleModel",
          "state": {
            "_view_name": "StyleView",
            "_model_name": "ProgressStyleModel",
            "description_width": "initial",
            "_view_module": "@jupyter-widgets/base",
            "_model_module_version": "1.5.0",
            "_view_count": null,
            "_view_module_version": "1.2.0",
            "bar_color": null,
            "_model_module": "@jupyter-widgets/controls"
          }
        },
        "d0dad9bc887f4d1496d60860dddc988f": {
          "model_module": "@jupyter-widgets/base",
          "model_name": "LayoutModel",
          "state": {
            "_view_name": "LayoutView",
            "grid_template_rows": null,
            "right": null,
            "justify_content": null,
            "_view_module": "@jupyter-widgets/base",
            "overflow": null,
            "_model_module_version": "1.2.0",
            "_view_count": null,
            "flex_flow": null,
            "width": null,
            "min_width": null,
            "border": null,
            "align_items": null,
            "bottom": null,
            "_model_module": "@jupyter-widgets/base",
            "top": null,
            "grid_column": null,
            "overflow_y": null,
            "overflow_x": null,
            "grid_auto_flow": null,
            "grid_area": null,
            "grid_template_columns": null,
            "flex": null,
            "_model_name": "LayoutModel",
            "justify_items": null,
            "grid_row": null,
            "max_height": null,
            "align_content": null,
            "visibility": null,
            "align_self": null,
            "height": null,
            "min_height": null,
            "padding": null,
            "grid_auto_rows": null,
            "grid_gap": null,
            "max_width": null,
            "order": null,
            "_view_module_version": "1.2.0",
            "grid_template_areas": null,
            "object_position": null,
            "object_fit": null,
            "grid_auto_columns": null,
            "margin": null,
            "display": null,
            "left": null
          }
        },
        "486c08b5416e45b9ba9f51be3d8df2d6": {
          "model_module": "@jupyter-widgets/controls",
          "model_name": "DescriptionStyleModel",
          "state": {
            "_view_name": "StyleView",
            "_model_name": "DescriptionStyleModel",
            "description_width": "",
            "_view_module": "@jupyter-widgets/base",
            "_model_module_version": "1.5.0",
            "_view_count": null,
            "_view_module_version": "1.2.0",
            "_model_module": "@jupyter-widgets/controls"
          }
        },
        "729d08ee4a944311b2ec4eaabf26eb48": {
          "model_module": "@jupyter-widgets/base",
          "model_name": "LayoutModel",
          "state": {
            "_view_name": "LayoutView",
            "grid_template_rows": null,
            "right": null,
            "justify_content": null,
            "_view_module": "@jupyter-widgets/base",
            "overflow": null,
            "_model_module_version": "1.2.0",
            "_view_count": null,
            "flex_flow": null,
            "width": null,
            "min_width": null,
            "border": null,
            "align_items": null,
            "bottom": null,
            "_model_module": "@jupyter-widgets/base",
            "top": null,
            "grid_column": null,
            "overflow_y": null,
            "overflow_x": null,
            "grid_auto_flow": null,
            "grid_area": null,
            "grid_template_columns": null,
            "flex": null,
            "_model_name": "LayoutModel",
            "justify_items": null,
            "grid_row": null,
            "max_height": null,
            "align_content": null,
            "visibility": null,
            "align_self": null,
            "height": null,
            "min_height": null,
            "padding": null,
            "grid_auto_rows": null,
            "grid_gap": null,
            "max_width": null,
            "order": null,
            "_view_module_version": "1.2.0",
            "grid_template_areas": null,
            "object_position": null,
            "object_fit": null,
            "grid_auto_columns": null,
            "margin": null,
            "display": null,
            "left": null
          }
        },
        "89c320adb26e41a08bfc04b34f3609bd": {
          "model_module": "@jupyter-widgets/controls",
          "model_name": "HBoxModel",
          "state": {
            "_view_name": "HBoxView",
            "_dom_classes": [],
            "_model_name": "HBoxModel",
            "_view_module": "@jupyter-widgets/controls",
            "_model_module_version": "1.5.0",
            "_view_count": null,
            "_view_module_version": "1.5.0",
            "box_style": "",
            "layout": "IPY_MODEL_a8b4757e650f46b8b7142df72f1919d1",
            "_model_module": "@jupyter-widgets/controls",
            "children": [
              "IPY_MODEL_b374e05df29a4b58b171969fa6e4c60a",
              "IPY_MODEL_198a7899c36c490a908cf6311a85a845"
            ]
          }
        },
        "a8b4757e650f46b8b7142df72f1919d1": {
          "model_module": "@jupyter-widgets/base",
          "model_name": "LayoutModel",
          "state": {
            "_view_name": "LayoutView",
            "grid_template_rows": null,
            "right": null,
            "justify_content": null,
            "_view_module": "@jupyter-widgets/base",
            "overflow": null,
            "_model_module_version": "1.2.0",
            "_view_count": null,
            "flex_flow": null,
            "width": null,
            "min_width": null,
            "border": null,
            "align_items": null,
            "bottom": null,
            "_model_module": "@jupyter-widgets/base",
            "top": null,
            "grid_column": null,
            "overflow_y": null,
            "overflow_x": null,
            "grid_auto_flow": null,
            "grid_area": null,
            "grid_template_columns": null,
            "flex": null,
            "_model_name": "LayoutModel",
            "justify_items": null,
            "grid_row": null,
            "max_height": null,
            "align_content": null,
            "visibility": null,
            "align_self": null,
            "height": null,
            "min_height": null,
            "padding": null,
            "grid_auto_rows": null,
            "grid_gap": null,
            "max_width": null,
            "order": null,
            "_view_module_version": "1.2.0",
            "grid_template_areas": null,
            "object_position": null,
            "object_fit": null,
            "grid_auto_columns": null,
            "margin": null,
            "display": null,
            "left": null
          }
        },
        "b374e05df29a4b58b171969fa6e4c60a": {
          "model_module": "@jupyter-widgets/controls",
          "model_name": "FloatProgressModel",
          "state": {
            "_view_name": "ProgressView",
            "style": "IPY_MODEL_8d75a6715f2041359ddc1dce5b6f5210",
            "_dom_classes": [],
            "description": "Downloading: 100%",
            "_model_name": "FloatProgressModel",
            "bar_style": "success",
            "max": 112,
            "_view_module": "@jupyter-widgets/controls",
            "_model_module_version": "1.5.0",
            "value": 112,
            "_view_count": null,
            "_view_module_version": "1.5.0",
            "orientation": "horizontal",
            "min": 0,
            "description_tooltip": null,
            "_model_module": "@jupyter-widgets/controls",
            "layout": "IPY_MODEL_ca724a863c77467d8db84a303efd4b4f"
          }
        },
        "198a7899c36c490a908cf6311a85a845": {
          "model_module": "@jupyter-widgets/controls",
          "model_name": "HTMLModel",
          "state": {
            "_view_name": "HTMLView",
            "style": "IPY_MODEL_0a31b01fc6ad4ea7a4006def9177d330",
            "_dom_classes": [],
            "description": "",
            "_model_name": "HTMLModel",
            "placeholder": "​",
            "_view_module": "@jupyter-widgets/controls",
            "_model_module_version": "1.5.0",
            "value": " 112/112 [00:01&lt;00:00, 61.7B/s]",
            "_view_count": null,
            "_view_module_version": "1.5.0",
            "description_tooltip": null,
            "_model_module": "@jupyter-widgets/controls",
            "layout": "IPY_MODEL_87b824f3fd3b4a3bb9a29fff091be445"
          }
        },
        "8d75a6715f2041359ddc1dce5b6f5210": {
          "model_module": "@jupyter-widgets/controls",
          "model_name": "ProgressStyleModel",
          "state": {
            "_view_name": "StyleView",
            "_model_name": "ProgressStyleModel",
            "description_width": "initial",
            "_view_module": "@jupyter-widgets/base",
            "_model_module_version": "1.5.0",
            "_view_count": null,
            "_view_module_version": "1.2.0",
            "bar_color": null,
            "_model_module": "@jupyter-widgets/controls"
          }
        },
        "ca724a863c77467d8db84a303efd4b4f": {
          "model_module": "@jupyter-widgets/base",
          "model_name": "LayoutModel",
          "state": {
            "_view_name": "LayoutView",
            "grid_template_rows": null,
            "right": null,
            "justify_content": null,
            "_view_module": "@jupyter-widgets/base",
            "overflow": null,
            "_model_module_version": "1.2.0",
            "_view_count": null,
            "flex_flow": null,
            "width": null,
            "min_width": null,
            "border": null,
            "align_items": null,
            "bottom": null,
            "_model_module": "@jupyter-widgets/base",
            "top": null,
            "grid_column": null,
            "overflow_y": null,
            "overflow_x": null,
            "grid_auto_flow": null,
            "grid_area": null,
            "grid_template_columns": null,
            "flex": null,
            "_model_name": "LayoutModel",
            "justify_items": null,
            "grid_row": null,
            "max_height": null,
            "align_content": null,
            "visibility": null,
            "align_self": null,
            "height": null,
            "min_height": null,
            "padding": null,
            "grid_auto_rows": null,
            "grid_gap": null,
            "max_width": null,
            "order": null,
            "_view_module_version": "1.2.0",
            "grid_template_areas": null,
            "object_position": null,
            "object_fit": null,
            "grid_auto_columns": null,
            "margin": null,
            "display": null,
            "left": null
          }
        },
        "0a31b01fc6ad4ea7a4006def9177d330": {
          "model_module": "@jupyter-widgets/controls",
          "model_name": "DescriptionStyleModel",
          "state": {
            "_view_name": "StyleView",
            "_model_name": "DescriptionStyleModel",
            "description_width": "",
            "_view_module": "@jupyter-widgets/base",
            "_model_module_version": "1.5.0",
            "_view_count": null,
            "_view_module_version": "1.2.0",
            "_model_module": "@jupyter-widgets/controls"
          }
        },
        "87b824f3fd3b4a3bb9a29fff091be445": {
          "model_module": "@jupyter-widgets/base",
          "model_name": "LayoutModel",
          "state": {
            "_view_name": "LayoutView",
            "grid_template_rows": null,
            "right": null,
            "justify_content": null,
            "_view_module": "@jupyter-widgets/base",
            "overflow": null,
            "_model_module_version": "1.2.0",
            "_view_count": null,
            "flex_flow": null,
            "width": null,
            "min_width": null,
            "border": null,
            "align_items": null,
            "bottom": null,
            "_model_module": "@jupyter-widgets/base",
            "top": null,
            "grid_column": null,
            "overflow_y": null,
            "overflow_x": null,
            "grid_auto_flow": null,
            "grid_area": null,
            "grid_template_columns": null,
            "flex": null,
            "_model_name": "LayoutModel",
            "justify_items": null,
            "grid_row": null,
            "max_height": null,
            "align_content": null,
            "visibility": null,
            "align_self": null,
            "height": null,
            "min_height": null,
            "padding": null,
            "grid_auto_rows": null,
            "grid_gap": null,
            "max_width": null,
            "order": null,
            "_view_module_version": "1.2.0",
            "grid_template_areas": null,
            "object_position": null,
            "object_fit": null,
            "grid_auto_columns": null,
            "margin": null,
            "display": null,
            "left": null
          }
        },
        "edfa46dedec54e2db3780e4e22c98361": {
          "model_module": "@jupyter-widgets/controls",
          "model_name": "HBoxModel",
          "state": {
            "_view_name": "HBoxView",
            "_dom_classes": [],
            "_model_name": "HBoxModel",
            "_view_module": "@jupyter-widgets/controls",
            "_model_module_version": "1.5.0",
            "_view_count": null,
            "_view_module_version": "1.5.0",
            "box_style": "",
            "layout": "IPY_MODEL_0f83236ffb3847d9aae0703cdd1dd5ca",
            "_model_module": "@jupyter-widgets/controls",
            "children": [
              "IPY_MODEL_d024631d7f9e4faf98d2040b31570a2c",
              "IPY_MODEL_9630eacba60c48638e5114d7966f83de"
            ]
          }
        },
        "0f83236ffb3847d9aae0703cdd1dd5ca": {
          "model_module": "@jupyter-widgets/base",
          "model_name": "LayoutModel",
          "state": {
            "_view_name": "LayoutView",
            "grid_template_rows": null,
            "right": null,
            "justify_content": null,
            "_view_module": "@jupyter-widgets/base",
            "overflow": null,
            "_model_module_version": "1.2.0",
            "_view_count": null,
            "flex_flow": null,
            "width": null,
            "min_width": null,
            "border": null,
            "align_items": null,
            "bottom": null,
            "_model_module": "@jupyter-widgets/base",
            "top": null,
            "grid_column": null,
            "overflow_y": null,
            "overflow_x": null,
            "grid_auto_flow": null,
            "grid_area": null,
            "grid_template_columns": null,
            "flex": null,
            "_model_name": "LayoutModel",
            "justify_items": null,
            "grid_row": null,
            "max_height": null,
            "align_content": null,
            "visibility": null,
            "align_self": null,
            "height": null,
            "min_height": null,
            "padding": null,
            "grid_auto_rows": null,
            "grid_gap": null,
            "max_width": null,
            "order": null,
            "_view_module_version": "1.2.0",
            "grid_template_areas": null,
            "object_position": null,
            "object_fit": null,
            "grid_auto_columns": null,
            "margin": null,
            "display": null,
            "left": null
          }
        },
        "d024631d7f9e4faf98d2040b31570a2c": {
          "model_module": "@jupyter-widgets/controls",
          "model_name": "FloatProgressModel",
          "state": {
            "_view_name": "ProgressView",
            "style": "IPY_MODEL_28331363dabf4e7494830ab97fb5aa3e",
            "_dom_classes": [],
            "description": "Downloading: 100%",
            "_model_name": "FloatProgressModel",
            "bar_style": "success",
            "max": 48,
            "_view_module": "@jupyter-widgets/controls",
            "_model_module_version": "1.5.0",
            "value": 48,
            "_view_count": null,
            "_view_module_version": "1.5.0",
            "orientation": "horizontal",
            "min": 0,
            "description_tooltip": null,
            "_model_module": "@jupyter-widgets/controls",
            "layout": "IPY_MODEL_0af9dc4abb404dc38a163364523052c1"
          }
        },
        "9630eacba60c48638e5114d7966f83de": {
          "model_module": "@jupyter-widgets/controls",
          "model_name": "HTMLModel",
          "state": {
            "_view_name": "HTMLView",
            "style": "IPY_MODEL_5977c5865e40405a8d857284edc799b3",
            "_dom_classes": [],
            "description": "",
            "_model_name": "HTMLModel",
            "placeholder": "​",
            "_view_module": "@jupyter-widgets/controls",
            "_model_module_version": "1.5.0",
            "value": " 48.0/48.0 [00:01&lt;00:00, 39.4B/s]",
            "_view_count": null,
            "_view_module_version": "1.5.0",
            "description_tooltip": null,
            "_model_module": "@jupyter-widgets/controls",
            "layout": "IPY_MODEL_78daa6148dd7445aa3ff178cc83e5e52"
          }
        },
        "28331363dabf4e7494830ab97fb5aa3e": {
          "model_module": "@jupyter-widgets/controls",
          "model_name": "ProgressStyleModel",
          "state": {
            "_view_name": "StyleView",
            "_model_name": "ProgressStyleModel",
            "description_width": "initial",
            "_view_module": "@jupyter-widgets/base",
            "_model_module_version": "1.5.0",
            "_view_count": null,
            "_view_module_version": "1.2.0",
            "bar_color": null,
            "_model_module": "@jupyter-widgets/controls"
          }
        },
        "0af9dc4abb404dc38a163364523052c1": {
          "model_module": "@jupyter-widgets/base",
          "model_name": "LayoutModel",
          "state": {
            "_view_name": "LayoutView",
            "grid_template_rows": null,
            "right": null,
            "justify_content": null,
            "_view_module": "@jupyter-widgets/base",
            "overflow": null,
            "_model_module_version": "1.2.0",
            "_view_count": null,
            "flex_flow": null,
            "width": null,
            "min_width": null,
            "border": null,
            "align_items": null,
            "bottom": null,
            "_model_module": "@jupyter-widgets/base",
            "top": null,
            "grid_column": null,
            "overflow_y": null,
            "overflow_x": null,
            "grid_auto_flow": null,
            "grid_area": null,
            "grid_template_columns": null,
            "flex": null,
            "_model_name": "LayoutModel",
            "justify_items": null,
            "grid_row": null,
            "max_height": null,
            "align_content": null,
            "visibility": null,
            "align_self": null,
            "height": null,
            "min_height": null,
            "padding": null,
            "grid_auto_rows": null,
            "grid_gap": null,
            "max_width": null,
            "order": null,
            "_view_module_version": "1.2.0",
            "grid_template_areas": null,
            "object_position": null,
            "object_fit": null,
            "grid_auto_columns": null,
            "margin": null,
            "display": null,
            "left": null
          }
        },
        "5977c5865e40405a8d857284edc799b3": {
          "model_module": "@jupyter-widgets/controls",
          "model_name": "DescriptionStyleModel",
          "state": {
            "_view_name": "StyleView",
            "_model_name": "DescriptionStyleModel",
            "description_width": "",
            "_view_module": "@jupyter-widgets/base",
            "_model_module_version": "1.5.0",
            "_view_count": null,
            "_view_module_version": "1.2.0",
            "_model_module": "@jupyter-widgets/controls"
          }
        },
        "78daa6148dd7445aa3ff178cc83e5e52": {
          "model_module": "@jupyter-widgets/base",
          "model_name": "LayoutModel",
          "state": {
            "_view_name": "LayoutView",
            "grid_template_rows": null,
            "right": null,
            "justify_content": null,
            "_view_module": "@jupyter-widgets/base",
            "overflow": null,
            "_model_module_version": "1.2.0",
            "_view_count": null,
            "flex_flow": null,
            "width": null,
            "min_width": null,
            "border": null,
            "align_items": null,
            "bottom": null,
            "_model_module": "@jupyter-widgets/base",
            "top": null,
            "grid_column": null,
            "overflow_y": null,
            "overflow_x": null,
            "grid_auto_flow": null,
            "grid_area": null,
            "grid_template_columns": null,
            "flex": null,
            "_model_name": "LayoutModel",
            "justify_items": null,
            "grid_row": null,
            "max_height": null,
            "align_content": null,
            "visibility": null,
            "align_self": null,
            "height": null,
            "min_height": null,
            "padding": null,
            "grid_auto_rows": null,
            "grid_gap": null,
            "max_width": null,
            "order": null,
            "_view_module_version": "1.2.0",
            "grid_template_areas": null,
            "object_position": null,
            "object_fit": null,
            "grid_auto_columns": null,
            "margin": null,
            "display": null,
            "left": null
          }
        },
        "1ca4934817dd47e098dc683b5babe7ec": {
          "model_module": "@jupyter-widgets/controls",
          "model_name": "HBoxModel",
          "state": {
            "_view_name": "HBoxView",
            "_dom_classes": [],
            "_model_name": "HBoxModel",
            "_view_module": "@jupyter-widgets/controls",
            "_model_module_version": "1.5.0",
            "_view_count": null,
            "_view_module_version": "1.5.0",
            "box_style": "",
            "layout": "IPY_MODEL_4c7b8d89f50640e0bbe508fe8ff63ad9",
            "_model_module": "@jupyter-widgets/controls",
            "children": [
              "IPY_MODEL_7b03337ed7b24075b12b1e696ec70c46",
              "IPY_MODEL_264d4d947e82418cacc992322a17e948"
            ]
          }
        },
        "4c7b8d89f50640e0bbe508fe8ff63ad9": {
          "model_module": "@jupyter-widgets/base",
          "model_name": "LayoutModel",
          "state": {
            "_view_name": "LayoutView",
            "grid_template_rows": null,
            "right": null,
            "justify_content": null,
            "_view_module": "@jupyter-widgets/base",
            "overflow": null,
            "_model_module_version": "1.2.0",
            "_view_count": null,
            "flex_flow": null,
            "width": null,
            "min_width": null,
            "border": null,
            "align_items": null,
            "bottom": null,
            "_model_module": "@jupyter-widgets/base",
            "top": null,
            "grid_column": null,
            "overflow_y": null,
            "overflow_x": null,
            "grid_auto_flow": null,
            "grid_area": null,
            "grid_template_columns": null,
            "flex": null,
            "_model_name": "LayoutModel",
            "justify_items": null,
            "grid_row": null,
            "max_height": null,
            "align_content": null,
            "visibility": null,
            "align_self": null,
            "height": null,
            "min_height": null,
            "padding": null,
            "grid_auto_rows": null,
            "grid_gap": null,
            "max_width": null,
            "order": null,
            "_view_module_version": "1.2.0",
            "grid_template_areas": null,
            "object_position": null,
            "object_fit": null,
            "grid_auto_columns": null,
            "margin": null,
            "display": null,
            "left": null
          }
        },
        "7b03337ed7b24075b12b1e696ec70c46": {
          "model_module": "@jupyter-widgets/controls",
          "model_name": "FloatProgressModel",
          "state": {
            "_view_name": "ProgressView",
            "style": "IPY_MODEL_8e5a95eeba4843d1bbc36f4e37aa6940",
            "_dom_classes": [],
            "description": "Downloading: 100%",
            "_model_name": "FloatProgressModel",
            "bar_style": "success",
            "max": 437985387,
            "_view_module": "@jupyter-widgets/controls",
            "_model_module_version": "1.5.0",
            "value": 437985387,
            "_view_count": null,
            "_view_module_version": "1.5.0",
            "orientation": "horizontal",
            "min": 0,
            "description_tooltip": null,
            "_model_module": "@jupyter-widgets/controls",
            "layout": "IPY_MODEL_4ef22d5f1bb24aa4a2fbeb81868a4145"
          }
        },
        "264d4d947e82418cacc992322a17e948": {
          "model_module": "@jupyter-widgets/controls",
          "model_name": "HTMLModel",
          "state": {
            "_view_name": "HTMLView",
            "style": "IPY_MODEL_af8578678f6a4de8bb4f9fe991116f71",
            "_dom_classes": [],
            "description": "",
            "_model_name": "HTMLModel",
            "placeholder": "​",
            "_view_module": "@jupyter-widgets/controls",
            "_model_module_version": "1.5.0",
            "value": " 438M/438M [00:13&lt;00:00, 31.5MB/s]",
            "_view_count": null,
            "_view_module_version": "1.5.0",
            "description_tooltip": null,
            "_model_module": "@jupyter-widgets/controls",
            "layout": "IPY_MODEL_43fe4078ae4045a7a9d97ba4743ac0e1"
          }
        },
        "8e5a95eeba4843d1bbc36f4e37aa6940": {
          "model_module": "@jupyter-widgets/controls",
          "model_name": "ProgressStyleModel",
          "state": {
            "_view_name": "StyleView",
            "_model_name": "ProgressStyleModel",
            "description_width": "initial",
            "_view_module": "@jupyter-widgets/base",
            "_model_module_version": "1.5.0",
            "_view_count": null,
            "_view_module_version": "1.2.0",
            "bar_color": null,
            "_model_module": "@jupyter-widgets/controls"
          }
        },
        "4ef22d5f1bb24aa4a2fbeb81868a4145": {
          "model_module": "@jupyter-widgets/base",
          "model_name": "LayoutModel",
          "state": {
            "_view_name": "LayoutView",
            "grid_template_rows": null,
            "right": null,
            "justify_content": null,
            "_view_module": "@jupyter-widgets/base",
            "overflow": null,
            "_model_module_version": "1.2.0",
            "_view_count": null,
            "flex_flow": null,
            "width": null,
            "min_width": null,
            "border": null,
            "align_items": null,
            "bottom": null,
            "_model_module": "@jupyter-widgets/base",
            "top": null,
            "grid_column": null,
            "overflow_y": null,
            "overflow_x": null,
            "grid_auto_flow": null,
            "grid_area": null,
            "grid_template_columns": null,
            "flex": null,
            "_model_name": "LayoutModel",
            "justify_items": null,
            "grid_row": null,
            "max_height": null,
            "align_content": null,
            "visibility": null,
            "align_self": null,
            "height": null,
            "min_height": null,
            "padding": null,
            "grid_auto_rows": null,
            "grid_gap": null,
            "max_width": null,
            "order": null,
            "_view_module_version": "1.2.0",
            "grid_template_areas": null,
            "object_position": null,
            "object_fit": null,
            "grid_auto_columns": null,
            "margin": null,
            "display": null,
            "left": null
          }
        },
        "af8578678f6a4de8bb4f9fe991116f71": {
          "model_module": "@jupyter-widgets/controls",
          "model_name": "DescriptionStyleModel",
          "state": {
            "_view_name": "StyleView",
            "_model_name": "DescriptionStyleModel",
            "description_width": "",
            "_view_module": "@jupyter-widgets/base",
            "_model_module_version": "1.5.0",
            "_view_count": null,
            "_view_module_version": "1.2.0",
            "_model_module": "@jupyter-widgets/controls"
          }
        },
        "43fe4078ae4045a7a9d97ba4743ac0e1": {
          "model_module": "@jupyter-widgets/base",
          "model_name": "LayoutModel",
          "state": {
            "_view_name": "LayoutView",
            "grid_template_rows": null,
            "right": null,
            "justify_content": null,
            "_view_module": "@jupyter-widgets/base",
            "overflow": null,
            "_model_module_version": "1.2.0",
            "_view_count": null,
            "flex_flow": null,
            "width": null,
            "min_width": null,
            "border": null,
            "align_items": null,
            "bottom": null,
            "_model_module": "@jupyter-widgets/base",
            "top": null,
            "grid_column": null,
            "overflow_y": null,
            "overflow_x": null,
            "grid_auto_flow": null,
            "grid_area": null,
            "grid_template_columns": null,
            "flex": null,
            "_model_name": "LayoutModel",
            "justify_items": null,
            "grid_row": null,
            "max_height": null,
            "align_content": null,
            "visibility": null,
            "align_self": null,
            "height": null,
            "min_height": null,
            "padding": null,
            "grid_auto_rows": null,
            "grid_gap": null,
            "max_width": null,
            "order": null,
            "_view_module_version": "1.2.0",
            "grid_template_areas": null,
            "object_position": null,
            "object_fit": null,
            "grid_auto_columns": null,
            "margin": null,
            "display": null,
            "left": null
          }
        },
        "125b293683f84c8cb588e02e3eedef81": {
          "model_module": "@jupyter-widgets/controls",
          "model_name": "HBoxModel",
          "state": {
            "_view_name": "HBoxView",
            "_dom_classes": [],
            "_model_name": "HBoxModel",
            "_view_module": "@jupyter-widgets/controls",
            "_model_module_version": "1.5.0",
            "_view_count": null,
            "_view_module_version": "1.5.0",
            "box_style": "",
            "layout": "IPY_MODEL_15e61242838144d899ea0f662f9745b4",
            "_model_module": "@jupyter-widgets/controls",
            "children": [
              "IPY_MODEL_554c8cf1aee64dd7b9fc6fe33d72a129",
              "IPY_MODEL_36bffe0da5a0495791db0dae509c0e7a"
            ]
          }
        },
        "15e61242838144d899ea0f662f9745b4": {
          "model_module": "@jupyter-widgets/base",
          "model_name": "LayoutModel",
          "state": {
            "_view_name": "LayoutView",
            "grid_template_rows": null,
            "right": null,
            "justify_content": null,
            "_view_module": "@jupyter-widgets/base",
            "overflow": null,
            "_model_module_version": "1.2.0",
            "_view_count": null,
            "flex_flow": null,
            "width": null,
            "min_width": null,
            "border": null,
            "align_items": null,
            "bottom": null,
            "_model_module": "@jupyter-widgets/base",
            "top": null,
            "grid_column": null,
            "overflow_y": null,
            "overflow_x": null,
            "grid_auto_flow": null,
            "grid_area": null,
            "grid_template_columns": null,
            "flex": null,
            "_model_name": "LayoutModel",
            "justify_items": null,
            "grid_row": null,
            "max_height": null,
            "align_content": null,
            "visibility": null,
            "align_self": null,
            "height": null,
            "min_height": null,
            "padding": null,
            "grid_auto_rows": null,
            "grid_gap": null,
            "max_width": null,
            "order": null,
            "_view_module_version": "1.2.0",
            "grid_template_areas": null,
            "object_position": null,
            "object_fit": null,
            "grid_auto_columns": null,
            "margin": null,
            "display": null,
            "left": null
          }
        },
        "554c8cf1aee64dd7b9fc6fe33d72a129": {
          "model_module": "@jupyter-widgets/controls",
          "model_name": "FloatProgressModel",
          "state": {
            "_view_name": "ProgressView",
            "style": "IPY_MODEL_2b6824e7a0d2422dabc1383928198a44",
            "_dom_classes": [],
            "description": "Downloading: 100%",
            "_model_name": "FloatProgressModel",
            "bar_style": "success",
            "max": 732,
            "_view_module": "@jupyter-widgets/controls",
            "_model_module_version": "1.5.0",
            "value": 732,
            "_view_count": null,
            "_view_module_version": "1.5.0",
            "orientation": "horizontal",
            "min": 0,
            "description_tooltip": null,
            "_model_module": "@jupyter-widgets/controls",
            "layout": "IPY_MODEL_27f91bc4cb214eb8ba25264c8a9e4a04"
          }
        },
        "36bffe0da5a0495791db0dae509c0e7a": {
          "model_module": "@jupyter-widgets/controls",
          "model_name": "HTMLModel",
          "state": {
            "_view_name": "HTMLView",
            "style": "IPY_MODEL_723596a1312b460bbe82055cd4aff8c3",
            "_dom_classes": [],
            "description": "",
            "_model_name": "HTMLModel",
            "placeholder": "​",
            "_view_module": "@jupyter-widgets/controls",
            "_model_module_version": "1.5.0",
            "value": " 732/732 [00:01&lt;00:00, 377B/s]",
            "_view_count": null,
            "_view_module_version": "1.5.0",
            "description_tooltip": null,
            "_model_module": "@jupyter-widgets/controls",
            "layout": "IPY_MODEL_4cc46ea3d6bc488abf4d6d80768aee1c"
          }
        },
        "2b6824e7a0d2422dabc1383928198a44": {
          "model_module": "@jupyter-widgets/controls",
          "model_name": "ProgressStyleModel",
          "state": {
            "_view_name": "StyleView",
            "_model_name": "ProgressStyleModel",
            "description_width": "initial",
            "_view_module": "@jupyter-widgets/base",
            "_model_module_version": "1.5.0",
            "_view_count": null,
            "_view_module_version": "1.2.0",
            "bar_color": null,
            "_model_module": "@jupyter-widgets/controls"
          }
        },
        "27f91bc4cb214eb8ba25264c8a9e4a04": {
          "model_module": "@jupyter-widgets/base",
          "model_name": "LayoutModel",
          "state": {
            "_view_name": "LayoutView",
            "grid_template_rows": null,
            "right": null,
            "justify_content": null,
            "_view_module": "@jupyter-widgets/base",
            "overflow": null,
            "_model_module_version": "1.2.0",
            "_view_count": null,
            "flex_flow": null,
            "width": null,
            "min_width": null,
            "border": null,
            "align_items": null,
            "bottom": null,
            "_model_module": "@jupyter-widgets/base",
            "top": null,
            "grid_column": null,
            "overflow_y": null,
            "overflow_x": null,
            "grid_auto_flow": null,
            "grid_area": null,
            "grid_template_columns": null,
            "flex": null,
            "_model_name": "LayoutModel",
            "justify_items": null,
            "grid_row": null,
            "max_height": null,
            "align_content": null,
            "visibility": null,
            "align_self": null,
            "height": null,
            "min_height": null,
            "padding": null,
            "grid_auto_rows": null,
            "grid_gap": null,
            "max_width": null,
            "order": null,
            "_view_module_version": "1.2.0",
            "grid_template_areas": null,
            "object_position": null,
            "object_fit": null,
            "grid_auto_columns": null,
            "margin": null,
            "display": null,
            "left": null
          }
        },
        "723596a1312b460bbe82055cd4aff8c3": {
          "model_module": "@jupyter-widgets/controls",
          "model_name": "DescriptionStyleModel",
          "state": {
            "_view_name": "StyleView",
            "_model_name": "DescriptionStyleModel",
            "description_width": "",
            "_view_module": "@jupyter-widgets/base",
            "_model_module_version": "1.5.0",
            "_view_count": null,
            "_view_module_version": "1.2.0",
            "_model_module": "@jupyter-widgets/controls"
          }
        },
        "4cc46ea3d6bc488abf4d6d80768aee1c": {
          "model_module": "@jupyter-widgets/base",
          "model_name": "LayoutModel",
          "state": {
            "_view_name": "LayoutView",
            "grid_template_rows": null,
            "right": null,
            "justify_content": null,
            "_view_module": "@jupyter-widgets/base",
            "overflow": null,
            "_model_module_version": "1.2.0",
            "_view_count": null,
            "flex_flow": null,
            "width": null,
            "min_width": null,
            "border": null,
            "align_items": null,
            "bottom": null,
            "_model_module": "@jupyter-widgets/base",
            "top": null,
            "grid_column": null,
            "overflow_y": null,
            "overflow_x": null,
            "grid_auto_flow": null,
            "grid_area": null,
            "grid_template_columns": null,
            "flex": null,
            "_model_name": "LayoutModel",
            "justify_items": null,
            "grid_row": null,
            "max_height": null,
            "align_content": null,
            "visibility": null,
            "align_self": null,
            "height": null,
            "min_height": null,
            "padding": null,
            "grid_auto_rows": null,
            "grid_gap": null,
            "max_width": null,
            "order": null,
            "_view_module_version": "1.2.0",
            "grid_template_areas": null,
            "object_position": null,
            "object_fit": null,
            "grid_auto_columns": null,
            "margin": null,
            "display": null,
            "left": null
          }
        },
        "07cc621c194d400cafffe8676e16e894": {
          "model_module": "@jupyter-widgets/controls",
          "model_name": "HBoxModel",
          "state": {
            "_view_name": "HBoxView",
            "_dom_classes": [],
            "_model_name": "HBoxModel",
            "_view_module": "@jupyter-widgets/controls",
            "_model_module_version": "1.5.0",
            "_view_count": null,
            "_view_module_version": "1.5.0",
            "box_style": "",
            "layout": "IPY_MODEL_cf0f95e497a04c028130ba9d6363ea98",
            "_model_module": "@jupyter-widgets/controls",
            "children": [
              "IPY_MODEL_af78fc32389a45d6bf4bf588ba6e0f0b",
              "IPY_MODEL_43316ad01aa34e97b03bfa5b1f442bf3"
            ]
          }
        },
        "cf0f95e497a04c028130ba9d6363ea98": {
          "model_module": "@jupyter-widgets/base",
          "model_name": "LayoutModel",
          "state": {
            "_view_name": "LayoutView",
            "grid_template_rows": null,
            "right": null,
            "justify_content": null,
            "_view_module": "@jupyter-widgets/base",
            "overflow": null,
            "_model_module_version": "1.2.0",
            "_view_count": null,
            "flex_flow": null,
            "width": null,
            "min_width": null,
            "border": null,
            "align_items": null,
            "bottom": null,
            "_model_module": "@jupyter-widgets/base",
            "top": null,
            "grid_column": null,
            "overflow_y": null,
            "overflow_x": null,
            "grid_auto_flow": null,
            "grid_area": null,
            "grid_template_columns": null,
            "flex": null,
            "_model_name": "LayoutModel",
            "justify_items": null,
            "grid_row": null,
            "max_height": null,
            "align_content": null,
            "visibility": null,
            "align_self": null,
            "height": null,
            "min_height": null,
            "padding": null,
            "grid_auto_rows": null,
            "grid_gap": null,
            "max_width": null,
            "order": null,
            "_view_module_version": "1.2.0",
            "grid_template_areas": null,
            "object_position": null,
            "object_fit": null,
            "grid_auto_columns": null,
            "margin": null,
            "display": null,
            "left": null
          }
        },
        "af78fc32389a45d6bf4bf588ba6e0f0b": {
          "model_module": "@jupyter-widgets/controls",
          "model_name": "FloatProgressModel",
          "state": {
            "_view_name": "ProgressView",
            "style": "IPY_MODEL_802d274a6527472896f63bc40c7fd57a",
            "_dom_classes": [],
            "description": "Downloading: 100%",
            "_model_name": "FloatProgressModel",
            "bar_style": "success",
            "max": 760289,
            "_view_module": "@jupyter-widgets/controls",
            "_model_module_version": "1.5.0",
            "value": 760289,
            "_view_count": null,
            "_view_module_version": "1.5.0",
            "orientation": "horizontal",
            "min": 0,
            "description_tooltip": null,
            "_model_module": "@jupyter-widgets/controls",
            "layout": "IPY_MODEL_8ccc13b0bf6a4f0ab5218999dea603dd"
          }
        },
        "43316ad01aa34e97b03bfa5b1f442bf3": {
          "model_module": "@jupyter-widgets/controls",
          "model_name": "HTMLModel",
          "state": {
            "_view_name": "HTMLView",
            "style": "IPY_MODEL_fbe19e0d84bb4d97b4dce68f6e8d9a83",
            "_dom_classes": [],
            "description": "",
            "_model_name": "HTMLModel",
            "placeholder": "​",
            "_view_module": "@jupyter-widgets/controls",
            "_model_module_version": "1.5.0",
            "value": " 760k/760k [00:01&lt;00:00, 585kB/s]",
            "_view_count": null,
            "_view_module_version": "1.5.0",
            "description_tooltip": null,
            "_model_module": "@jupyter-widgets/controls",
            "layout": "IPY_MODEL_06d230edb15943eb915b6ca800fe941e"
          }
        },
        "802d274a6527472896f63bc40c7fd57a": {
          "model_module": "@jupyter-widgets/controls",
          "model_name": "ProgressStyleModel",
          "state": {
            "_view_name": "StyleView",
            "_model_name": "ProgressStyleModel",
            "description_width": "initial",
            "_view_module": "@jupyter-widgets/base",
            "_model_module_version": "1.5.0",
            "_view_count": null,
            "_view_module_version": "1.2.0",
            "bar_color": null,
            "_model_module": "@jupyter-widgets/controls"
          }
        },
        "8ccc13b0bf6a4f0ab5218999dea603dd": {
          "model_module": "@jupyter-widgets/base",
          "model_name": "LayoutModel",
          "state": {
            "_view_name": "LayoutView",
            "grid_template_rows": null,
            "right": null,
            "justify_content": null,
            "_view_module": "@jupyter-widgets/base",
            "overflow": null,
            "_model_module_version": "1.2.0",
            "_view_count": null,
            "flex_flow": null,
            "width": null,
            "min_width": null,
            "border": null,
            "align_items": null,
            "bottom": null,
            "_model_module": "@jupyter-widgets/base",
            "top": null,
            "grid_column": null,
            "overflow_y": null,
            "overflow_x": null,
            "grid_auto_flow": null,
            "grid_area": null,
            "grid_template_columns": null,
            "flex": null,
            "_model_name": "LayoutModel",
            "justify_items": null,
            "grid_row": null,
            "max_height": null,
            "align_content": null,
            "visibility": null,
            "align_self": null,
            "height": null,
            "min_height": null,
            "padding": null,
            "grid_auto_rows": null,
            "grid_gap": null,
            "max_width": null,
            "order": null,
            "_view_module_version": "1.2.0",
            "grid_template_areas": null,
            "object_position": null,
            "object_fit": null,
            "grid_auto_columns": null,
            "margin": null,
            "display": null,
            "left": null
          }
        },
        "fbe19e0d84bb4d97b4dce68f6e8d9a83": {
          "model_module": "@jupyter-widgets/controls",
          "model_name": "DescriptionStyleModel",
          "state": {
            "_view_name": "StyleView",
            "_model_name": "DescriptionStyleModel",
            "description_width": "",
            "_view_module": "@jupyter-widgets/base",
            "_model_module_version": "1.5.0",
            "_view_count": null,
            "_view_module_version": "1.2.0",
            "_model_module": "@jupyter-widgets/controls"
          }
        },
        "06d230edb15943eb915b6ca800fe941e": {
          "model_module": "@jupyter-widgets/base",
          "model_name": "LayoutModel",
          "state": {
            "_view_name": "LayoutView",
            "grid_template_rows": null,
            "right": null,
            "justify_content": null,
            "_view_module": "@jupyter-widgets/base",
            "overflow": null,
            "_model_module_version": "1.2.0",
            "_view_count": null,
            "flex_flow": null,
            "width": null,
            "min_width": null,
            "border": null,
            "align_items": null,
            "bottom": null,
            "_model_module": "@jupyter-widgets/base",
            "top": null,
            "grid_column": null,
            "overflow_y": null,
            "overflow_x": null,
            "grid_auto_flow": null,
            "grid_area": null,
            "grid_template_columns": null,
            "flex": null,
            "_model_name": "LayoutModel",
            "justify_items": null,
            "grid_row": null,
            "max_height": null,
            "align_content": null,
            "visibility": null,
            "align_self": null,
            "height": null,
            "min_height": null,
            "padding": null,
            "grid_auto_rows": null,
            "grid_gap": null,
            "max_width": null,
            "order": null,
            "_view_module_version": "1.2.0",
            "grid_template_areas": null,
            "object_position": null,
            "object_fit": null,
            "grid_auto_columns": null,
            "margin": null,
            "display": null,
            "left": null
          }
        },
        "3aa3de7eb1234ad19563c4f0ff6abf3d": {
          "model_module": "@jupyter-widgets/controls",
          "model_name": "HBoxModel",
          "state": {
            "_view_name": "HBoxView",
            "_dom_classes": [],
            "_model_name": "HBoxModel",
            "_view_module": "@jupyter-widgets/controls",
            "_model_module_version": "1.5.0",
            "_view_count": null,
            "_view_module_version": "1.5.0",
            "box_style": "",
            "layout": "IPY_MODEL_0063992f865a4899bf7e118624cdb72a",
            "_model_module": "@jupyter-widgets/controls",
            "children": [
              "IPY_MODEL_823524ec32af45da92185b551e9eec99",
              "IPY_MODEL_30769eef88094e92be44371c87b15675"
            ]
          }
        },
        "0063992f865a4899bf7e118624cdb72a": {
          "model_module": "@jupyter-widgets/base",
          "model_name": "LayoutModel",
          "state": {
            "_view_name": "LayoutView",
            "grid_template_rows": null,
            "right": null,
            "justify_content": null,
            "_view_module": "@jupyter-widgets/base",
            "overflow": null,
            "_model_module_version": "1.2.0",
            "_view_count": null,
            "flex_flow": null,
            "width": null,
            "min_width": null,
            "border": null,
            "align_items": null,
            "bottom": null,
            "_model_module": "@jupyter-widgets/base",
            "top": null,
            "grid_column": null,
            "overflow_y": null,
            "overflow_x": null,
            "grid_auto_flow": null,
            "grid_area": null,
            "grid_template_columns": null,
            "flex": null,
            "_model_name": "LayoutModel",
            "justify_items": null,
            "grid_row": null,
            "max_height": null,
            "align_content": null,
            "visibility": null,
            "align_self": null,
            "height": null,
            "min_height": null,
            "padding": null,
            "grid_auto_rows": null,
            "grid_gap": null,
            "max_width": null,
            "order": null,
            "_view_module_version": "1.2.0",
            "grid_template_areas": null,
            "object_position": null,
            "object_fit": null,
            "grid_auto_columns": null,
            "margin": null,
            "display": null,
            "left": null
          }
        },
        "823524ec32af45da92185b551e9eec99": {
          "model_module": "@jupyter-widgets/controls",
          "model_name": "FloatProgressModel",
          "state": {
            "_view_name": "ProgressView",
            "style": "IPY_MODEL_2322f78c7f7f4b8eb886a2c59c451970",
            "_dom_classes": [],
            "description": "Downloading: 100%",
            "_model_name": "FloatProgressModel",
            "bar_style": "success",
            "max": 156,
            "_view_module": "@jupyter-widgets/controls",
            "_model_module_version": "1.5.0",
            "value": 156,
            "_view_count": null,
            "_view_module_version": "1.5.0",
            "orientation": "horizontal",
            "min": 0,
            "description_tooltip": null,
            "_model_module": "@jupyter-widgets/controls",
            "layout": "IPY_MODEL_ac22d94ce2ed484189f18d2c3ffbf42b"
          }
        },
        "30769eef88094e92be44371c87b15675": {
          "model_module": "@jupyter-widgets/controls",
          "model_name": "HTMLModel",
          "state": {
            "_view_name": "HTMLView",
            "style": "IPY_MODEL_ca06df3b846b46c5a9e40ac75fb67478",
            "_dom_classes": [],
            "description": "",
            "_model_name": "HTMLModel",
            "placeholder": "​",
            "_view_module": "@jupyter-widgets/controls",
            "_model_module_version": "1.5.0",
            "value": " 156/156 [00:03&lt;00:00, 46.0B/s]",
            "_view_count": null,
            "_view_module_version": "1.5.0",
            "description_tooltip": null,
            "_model_module": "@jupyter-widgets/controls",
            "layout": "IPY_MODEL_4cdc5fb068d74c86b7f4975c36342da3"
          }
        },
        "2322f78c7f7f4b8eb886a2c59c451970": {
          "model_module": "@jupyter-widgets/controls",
          "model_name": "ProgressStyleModel",
          "state": {
            "_view_name": "StyleView",
            "_model_name": "ProgressStyleModel",
            "description_width": "initial",
            "_view_module": "@jupyter-widgets/base",
            "_model_module_version": "1.5.0",
            "_view_count": null,
            "_view_module_version": "1.2.0",
            "bar_color": null,
            "_model_module": "@jupyter-widgets/controls"
          }
        },
        "ac22d94ce2ed484189f18d2c3ffbf42b": {
          "model_module": "@jupyter-widgets/base",
          "model_name": "LayoutModel",
          "state": {
            "_view_name": "LayoutView",
            "grid_template_rows": null,
            "right": null,
            "justify_content": null,
            "_view_module": "@jupyter-widgets/base",
            "overflow": null,
            "_model_module_version": "1.2.0",
            "_view_count": null,
            "flex_flow": null,
            "width": null,
            "min_width": null,
            "border": null,
            "align_items": null,
            "bottom": null,
            "_model_module": "@jupyter-widgets/base",
            "top": null,
            "grid_column": null,
            "overflow_y": null,
            "overflow_x": null,
            "grid_auto_flow": null,
            "grid_area": null,
            "grid_template_columns": null,
            "flex": null,
            "_model_name": "LayoutModel",
            "justify_items": null,
            "grid_row": null,
            "max_height": null,
            "align_content": null,
            "visibility": null,
            "align_self": null,
            "height": null,
            "min_height": null,
            "padding": null,
            "grid_auto_rows": null,
            "grid_gap": null,
            "max_width": null,
            "order": null,
            "_view_module_version": "1.2.0",
            "grid_template_areas": null,
            "object_position": null,
            "object_fit": null,
            "grid_auto_columns": null,
            "margin": null,
            "display": null,
            "left": null
          }
        },
        "ca06df3b846b46c5a9e40ac75fb67478": {
          "model_module": "@jupyter-widgets/controls",
          "model_name": "DescriptionStyleModel",
          "state": {
            "_view_name": "StyleView",
            "_model_name": "DescriptionStyleModel",
            "description_width": "",
            "_view_module": "@jupyter-widgets/base",
            "_model_module_version": "1.5.0",
            "_view_count": null,
            "_view_module_version": "1.2.0",
            "_model_module": "@jupyter-widgets/controls"
          }
        },
        "4cdc5fb068d74c86b7f4975c36342da3": {
          "model_module": "@jupyter-widgets/base",
          "model_name": "LayoutModel",
          "state": {
            "_view_name": "LayoutView",
            "grid_template_rows": null,
            "right": null,
            "justify_content": null,
            "_view_module": "@jupyter-widgets/base",
            "overflow": null,
            "_model_module_version": "1.2.0",
            "_view_count": null,
            "flex_flow": null,
            "width": null,
            "min_width": null,
            "border": null,
            "align_items": null,
            "bottom": null,
            "_model_module": "@jupyter-widgets/base",
            "top": null,
            "grid_column": null,
            "overflow_y": null,
            "overflow_x": null,
            "grid_auto_flow": null,
            "grid_area": null,
            "grid_template_columns": null,
            "flex": null,
            "_model_name": "LayoutModel",
            "justify_items": null,
            "grid_row": null,
            "max_height": null,
            "align_content": null,
            "visibility": null,
            "align_self": null,
            "height": null,
            "min_height": null,
            "padding": null,
            "grid_auto_rows": null,
            "grid_gap": null,
            "max_width": null,
            "order": null,
            "_view_module_version": "1.2.0",
            "grid_template_areas": null,
            "object_position": null,
            "object_fit": null,
            "grid_auto_columns": null,
            "margin": null,
            "display": null,
            "left": null
          }
        },
        "6b192c0ef8c34ae9aa418a11bad0bc80": {
          "model_module": "@jupyter-widgets/controls",
          "model_name": "HBoxModel",
          "state": {
            "_view_name": "HBoxView",
            "_dom_classes": [],
            "_model_name": "HBoxModel",
            "_view_module": "@jupyter-widgets/controls",
            "_model_module_version": "1.5.0",
            "_view_count": null,
            "_view_module_version": "1.5.0",
            "box_style": "",
            "layout": "IPY_MODEL_0dc0b815eefd4916b0696aafb2c38e63",
            "_model_module": "@jupyter-widgets/controls",
            "children": [
              "IPY_MODEL_a1228f647d2340038b2e192a5c83593d",
              "IPY_MODEL_1398a45a33ee4622869467eadf34951a"
            ]
          }
        },
        "0dc0b815eefd4916b0696aafb2c38e63": {
          "model_module": "@jupyter-widgets/base",
          "model_name": "LayoutModel",
          "state": {
            "_view_name": "LayoutView",
            "grid_template_rows": null,
            "right": null,
            "justify_content": null,
            "_view_module": "@jupyter-widgets/base",
            "overflow": null,
            "_model_module_version": "1.2.0",
            "_view_count": null,
            "flex_flow": null,
            "width": null,
            "min_width": null,
            "border": null,
            "align_items": null,
            "bottom": null,
            "_model_module": "@jupyter-widgets/base",
            "top": null,
            "grid_column": null,
            "overflow_y": null,
            "overflow_x": null,
            "grid_auto_flow": null,
            "grid_area": null,
            "grid_template_columns": null,
            "flex": null,
            "_model_name": "LayoutModel",
            "justify_items": null,
            "grid_row": null,
            "max_height": null,
            "align_content": null,
            "visibility": null,
            "align_self": null,
            "height": null,
            "min_height": null,
            "padding": null,
            "grid_auto_rows": null,
            "grid_gap": null,
            "max_width": null,
            "order": null,
            "_view_module_version": "1.2.0",
            "grid_template_areas": null,
            "object_position": null,
            "object_fit": null,
            "grid_auto_columns": null,
            "margin": null,
            "display": null,
            "left": null
          }
        },
        "a1228f647d2340038b2e192a5c83593d": {
          "model_module": "@jupyter-widgets/controls",
          "model_name": "FloatProgressModel",
          "state": {
            "_view_name": "ProgressView",
            "style": "IPY_MODEL_5cc056ccf9b041ea816cde8ecbf7e8d4",
            "_dom_classes": [],
            "description": "Downloading: 100%",
            "_model_name": "FloatProgressModel",
            "bar_style": "success",
            "max": 25,
            "_view_module": "@jupyter-widgets/controls",
            "_model_module_version": "1.5.0",
            "value": 25,
            "_view_count": null,
            "_view_module_version": "1.5.0",
            "orientation": "horizontal",
            "min": 0,
            "description_tooltip": null,
            "_model_module": "@jupyter-widgets/controls",
            "layout": "IPY_MODEL_334fbad4dd9145bb9436c783d6c82a9f"
          }
        },
        "1398a45a33ee4622869467eadf34951a": {
          "model_module": "@jupyter-widgets/controls",
          "model_name": "HTMLModel",
          "state": {
            "_view_name": "HTMLView",
            "style": "IPY_MODEL_5462a8b47f244942a18459f0eeec776c",
            "_dom_classes": [],
            "description": "",
            "_model_name": "HTMLModel",
            "placeholder": "​",
            "_view_module": "@jupyter-widgets/controls",
            "_model_module_version": "1.5.0",
            "value": " 25.0/25.0 [00:01&lt;00:00, 13.7B/s]",
            "_view_count": null,
            "_view_module_version": "1.5.0",
            "description_tooltip": null,
            "_model_module": "@jupyter-widgets/controls",
            "layout": "IPY_MODEL_9c311902514d4328a182c22c68490308"
          }
        },
        "5cc056ccf9b041ea816cde8ecbf7e8d4": {
          "model_module": "@jupyter-widgets/controls",
          "model_name": "ProgressStyleModel",
          "state": {
            "_view_name": "StyleView",
            "_model_name": "ProgressStyleModel",
            "description_width": "initial",
            "_view_module": "@jupyter-widgets/base",
            "_model_module_version": "1.5.0",
            "_view_count": null,
            "_view_module_version": "1.2.0",
            "bar_color": null,
            "_model_module": "@jupyter-widgets/controls"
          }
        },
        "334fbad4dd9145bb9436c783d6c82a9f": {
          "model_module": "@jupyter-widgets/base",
          "model_name": "LayoutModel",
          "state": {
            "_view_name": "LayoutView",
            "grid_template_rows": null,
            "right": null,
            "justify_content": null,
            "_view_module": "@jupyter-widgets/base",
            "overflow": null,
            "_model_module_version": "1.2.0",
            "_view_count": null,
            "flex_flow": null,
            "width": null,
            "min_width": null,
            "border": null,
            "align_items": null,
            "bottom": null,
            "_model_module": "@jupyter-widgets/base",
            "top": null,
            "grid_column": null,
            "overflow_y": null,
            "overflow_x": null,
            "grid_auto_flow": null,
            "grid_area": null,
            "grid_template_columns": null,
            "flex": null,
            "_model_name": "LayoutModel",
            "justify_items": null,
            "grid_row": null,
            "max_height": null,
            "align_content": null,
            "visibility": null,
            "align_self": null,
            "height": null,
            "min_height": null,
            "padding": null,
            "grid_auto_rows": null,
            "grid_gap": null,
            "max_width": null,
            "order": null,
            "_view_module_version": "1.2.0",
            "grid_template_areas": null,
            "object_position": null,
            "object_fit": null,
            "grid_auto_columns": null,
            "margin": null,
            "display": null,
            "left": null
          }
        },
        "5462a8b47f244942a18459f0eeec776c": {
          "model_module": "@jupyter-widgets/controls",
          "model_name": "DescriptionStyleModel",
          "state": {
            "_view_name": "StyleView",
            "_model_name": "DescriptionStyleModel",
            "description_width": "",
            "_view_module": "@jupyter-widgets/base",
            "_model_module_version": "1.5.0",
            "_view_count": null,
            "_view_module_version": "1.2.0",
            "_model_module": "@jupyter-widgets/controls"
          }
        },
        "9c311902514d4328a182c22c68490308": {
          "model_module": "@jupyter-widgets/base",
          "model_name": "LayoutModel",
          "state": {
            "_view_name": "LayoutView",
            "grid_template_rows": null,
            "right": null,
            "justify_content": null,
            "_view_module": "@jupyter-widgets/base",
            "overflow": null,
            "_model_module_version": "1.2.0",
            "_view_count": null,
            "flex_flow": null,
            "width": null,
            "min_width": null,
            "border": null,
            "align_items": null,
            "bottom": null,
            "_model_module": "@jupyter-widgets/base",
            "top": null,
            "grid_column": null,
            "overflow_y": null,
            "overflow_x": null,
            "grid_auto_flow": null,
            "grid_area": null,
            "grid_template_columns": null,
            "flex": null,
            "_model_name": "LayoutModel",
            "justify_items": null,
            "grid_row": null,
            "max_height": null,
            "align_content": null,
            "visibility": null,
            "align_self": null,
            "height": null,
            "min_height": null,
            "padding": null,
            "grid_auto_rows": null,
            "grid_gap": null,
            "max_width": null,
            "order": null,
            "_view_module_version": "1.2.0",
            "grid_template_areas": null,
            "object_position": null,
            "object_fit": null,
            "grid_auto_columns": null,
            "margin": null,
            "display": null,
            "left": null
          }
        },
        "86e7b665d4184707ad4c52246244f4ea": {
          "model_module": "@jupyter-widgets/controls",
          "model_name": "HBoxModel",
          "state": {
            "_view_name": "HBoxView",
            "_dom_classes": [],
            "_model_name": "HBoxModel",
            "_view_module": "@jupyter-widgets/controls",
            "_model_module_version": "1.5.0",
            "_view_count": null,
            "_view_module_version": "1.5.0",
            "box_style": "",
            "layout": "IPY_MODEL_a873ee7f57824e6898525661e68053d8",
            "_model_module": "@jupyter-widgets/controls",
            "children": [
              "IPY_MODEL_eda5a71f2a3d4beba1c53f8d10093d3e",
              "IPY_MODEL_3717fbd0813247368495b48e27d2d429"
            ]
          }
        },
        "a873ee7f57824e6898525661e68053d8": {
          "model_module": "@jupyter-widgets/base",
          "model_name": "LayoutModel",
          "state": {
            "_view_name": "LayoutView",
            "grid_template_rows": null,
            "right": null,
            "justify_content": null,
            "_view_module": "@jupyter-widgets/base",
            "overflow": null,
            "_model_module_version": "1.2.0",
            "_view_count": null,
            "flex_flow": null,
            "width": null,
            "min_width": null,
            "border": null,
            "align_items": null,
            "bottom": null,
            "_model_module": "@jupyter-widgets/base",
            "top": null,
            "grid_column": null,
            "overflow_y": null,
            "overflow_x": null,
            "grid_auto_flow": null,
            "grid_area": null,
            "grid_template_columns": null,
            "flex": null,
            "_model_name": "LayoutModel",
            "justify_items": null,
            "grid_row": null,
            "max_height": null,
            "align_content": null,
            "visibility": null,
            "align_self": null,
            "height": null,
            "min_height": null,
            "padding": null,
            "grid_auto_rows": null,
            "grid_gap": null,
            "max_width": null,
            "order": null,
            "_view_module_version": "1.2.0",
            "grid_template_areas": null,
            "object_position": null,
            "object_fit": null,
            "grid_auto_columns": null,
            "margin": null,
            "display": null,
            "left": null
          }
        },
        "eda5a71f2a3d4beba1c53f8d10093d3e": {
          "model_module": "@jupyter-widgets/controls",
          "model_name": "FloatProgressModel",
          "state": {
            "_view_name": "ProgressView",
            "style": "IPY_MODEL_ee2e002aae0f4310ac193f034d9fddc3",
            "_dom_classes": [],
            "description": "Downloading: 100%",
            "_model_name": "FloatProgressModel",
            "bar_style": "success",
            "max": 46747112,
            "_view_module": "@jupyter-widgets/controls",
            "_model_module_version": "1.5.0",
            "value": 46747112,
            "_view_count": null,
            "_view_module_version": "1.5.0",
            "orientation": "horizontal",
            "min": 0,
            "description_tooltip": null,
            "_model_module": "@jupyter-widgets/controls",
            "layout": "IPY_MODEL_84b72e7d2a1a4e3d8f2bb4f1198c6894"
          }
        },
        "3717fbd0813247368495b48e27d2d429": {
          "model_module": "@jupyter-widgets/controls",
          "model_name": "HTMLModel",
          "state": {
            "_view_name": "HTMLView",
            "style": "IPY_MODEL_c01b3515e2154411b6412a98424aa37e",
            "_dom_classes": [],
            "description": "",
            "_model_name": "HTMLModel",
            "placeholder": "​",
            "_view_module": "@jupyter-widgets/controls",
            "_model_module_version": "1.5.0",
            "value": " 46.7M/46.7M [00:01&lt;00:00, 46.2MB/s]",
            "_view_count": null,
            "_view_module_version": "1.5.0",
            "description_tooltip": null,
            "_model_module": "@jupyter-widgets/controls",
            "layout": "IPY_MODEL_c7dbd3d7128d47dbb0fcc0e498f800c4"
          }
        },
        "ee2e002aae0f4310ac193f034d9fddc3": {
          "model_module": "@jupyter-widgets/controls",
          "model_name": "ProgressStyleModel",
          "state": {
            "_view_name": "StyleView",
            "_model_name": "ProgressStyleModel",
            "description_width": "initial",
            "_view_module": "@jupyter-widgets/base",
            "_model_module_version": "1.5.0",
            "_view_count": null,
            "_view_module_version": "1.2.0",
            "bar_color": null,
            "_model_module": "@jupyter-widgets/controls"
          }
        },
        "84b72e7d2a1a4e3d8f2bb4f1198c6894": {
          "model_module": "@jupyter-widgets/base",
          "model_name": "LayoutModel",
          "state": {
            "_view_name": "LayoutView",
            "grid_template_rows": null,
            "right": null,
            "justify_content": null,
            "_view_module": "@jupyter-widgets/base",
            "overflow": null,
            "_model_module_version": "1.2.0",
            "_view_count": null,
            "flex_flow": null,
            "width": null,
            "min_width": null,
            "border": null,
            "align_items": null,
            "bottom": null,
            "_model_module": "@jupyter-widgets/base",
            "top": null,
            "grid_column": null,
            "overflow_y": null,
            "overflow_x": null,
            "grid_auto_flow": null,
            "grid_area": null,
            "grid_template_columns": null,
            "flex": null,
            "_model_name": "LayoutModel",
            "justify_items": null,
            "grid_row": null,
            "max_height": null,
            "align_content": null,
            "visibility": null,
            "align_self": null,
            "height": null,
            "min_height": null,
            "padding": null,
            "grid_auto_rows": null,
            "grid_gap": null,
            "max_width": null,
            "order": null,
            "_view_module_version": "1.2.0",
            "grid_template_areas": null,
            "object_position": null,
            "object_fit": null,
            "grid_auto_columns": null,
            "margin": null,
            "display": null,
            "left": null
          }
        },
        "c01b3515e2154411b6412a98424aa37e": {
          "model_module": "@jupyter-widgets/controls",
          "model_name": "DescriptionStyleModel",
          "state": {
            "_view_name": "StyleView",
            "_model_name": "DescriptionStyleModel",
            "description_width": "",
            "_view_module": "@jupyter-widgets/base",
            "_model_module_version": "1.5.0",
            "_view_count": null,
            "_view_module_version": "1.2.0",
            "_model_module": "@jupyter-widgets/controls"
          }
        },
        "c7dbd3d7128d47dbb0fcc0e498f800c4": {
          "model_module": "@jupyter-widgets/base",
          "model_name": "LayoutModel",
          "state": {
            "_view_name": "LayoutView",
            "grid_template_rows": null,
            "right": null,
            "justify_content": null,
            "_view_module": "@jupyter-widgets/base",
            "overflow": null,
            "_model_module_version": "1.2.0",
            "_view_count": null,
            "flex_flow": null,
            "width": null,
            "min_width": null,
            "border": null,
            "align_items": null,
            "bottom": null,
            "_model_module": "@jupyter-widgets/base",
            "top": null,
            "grid_column": null,
            "overflow_y": null,
            "overflow_x": null,
            "grid_auto_flow": null,
            "grid_area": null,
            "grid_template_columns": null,
            "flex": null,
            "_model_name": "LayoutModel",
            "justify_items": null,
            "grid_row": null,
            "max_height": null,
            "align_content": null,
            "visibility": null,
            "align_self": null,
            "height": null,
            "min_height": null,
            "padding": null,
            "grid_auto_rows": null,
            "grid_gap": null,
            "max_width": null,
            "order": null,
            "_view_module_version": "1.2.0",
            "grid_template_areas": null,
            "object_position": null,
            "object_fit": null,
            "grid_auto_columns": null,
            "margin": null,
            "display": null,
            "left": null
          }
        },
        "124845c85d4a454e8dcea0eff0056d64": {
          "model_module": "@jupyter-widgets/controls",
          "model_name": "HBoxModel",
          "state": {
            "_view_name": "HBoxView",
            "_dom_classes": [],
            "_model_name": "HBoxModel",
            "_view_module": "@jupyter-widgets/controls",
            "_model_module_version": "1.5.0",
            "_view_count": null,
            "_view_module_version": "1.5.0",
            "box_style": "",
            "layout": "IPY_MODEL_92a1b37d71184f5295dd251b0dbc0181",
            "_model_module": "@jupyter-widgets/controls",
            "children": [
              "IPY_MODEL_e690c67018a7403486513823113c0eb7",
              "IPY_MODEL_11ee65fa18e640d6afa2fd0a80e79e9d"
            ]
          }
        },
        "92a1b37d71184f5295dd251b0dbc0181": {
          "model_module": "@jupyter-widgets/base",
          "model_name": "LayoutModel",
          "state": {
            "_view_name": "LayoutView",
            "grid_template_rows": null,
            "right": null,
            "justify_content": null,
            "_view_module": "@jupyter-widgets/base",
            "overflow": null,
            "_model_module_version": "1.2.0",
            "_view_count": null,
            "flex_flow": null,
            "width": null,
            "min_width": null,
            "border": null,
            "align_items": null,
            "bottom": null,
            "_model_module": "@jupyter-widgets/base",
            "top": null,
            "grid_column": null,
            "overflow_y": null,
            "overflow_x": null,
            "grid_auto_flow": null,
            "grid_area": null,
            "grid_template_columns": null,
            "flex": null,
            "_model_name": "LayoutModel",
            "justify_items": null,
            "grid_row": null,
            "max_height": null,
            "align_content": null,
            "visibility": null,
            "align_self": null,
            "height": null,
            "min_height": null,
            "padding": null,
            "grid_auto_rows": null,
            "grid_gap": null,
            "max_width": null,
            "order": null,
            "_view_module_version": "1.2.0",
            "grid_template_areas": null,
            "object_position": null,
            "object_fit": null,
            "grid_auto_columns": null,
            "margin": null,
            "display": null,
            "left": null
          }
        },
        "e690c67018a7403486513823113c0eb7": {
          "model_module": "@jupyter-widgets/controls",
          "model_name": "FloatProgressModel",
          "state": {
            "_view_name": "ProgressView",
            "style": "IPY_MODEL_2747a86094d141a9b1667a7e50801429",
            "_dom_classes": [],
            "description": "Downloading: 100%",
            "_model_name": "FloatProgressModel",
            "bar_style": "success",
            "max": 509,
            "_view_module": "@jupyter-widgets/controls",
            "_model_module_version": "1.5.0",
            "value": 509,
            "_view_count": null,
            "_view_module_version": "1.5.0",
            "orientation": "horizontal",
            "min": 0,
            "description_tooltip": null,
            "_model_module": "@jupyter-widgets/controls",
            "layout": "IPY_MODEL_35f2133006a64e0dae142e0cf3ce5d7c"
          }
        },
        "11ee65fa18e640d6afa2fd0a80e79e9d": {
          "model_module": "@jupyter-widgets/controls",
          "model_name": "HTMLModel",
          "state": {
            "_view_name": "HTMLView",
            "style": "IPY_MODEL_b2a225af7f8d4fe0ab1f542648acc3c3",
            "_dom_classes": [],
            "description": "",
            "_model_name": "HTMLModel",
            "placeholder": "​",
            "_view_module": "@jupyter-widgets/controls",
            "_model_module_version": "1.5.0",
            "value": " 509/509 [00:02&lt;00:00, 248B/s]",
            "_view_count": null,
            "_view_module_version": "1.5.0",
            "description_tooltip": null,
            "_model_module": "@jupyter-widgets/controls",
            "layout": "IPY_MODEL_df34ee04b44a4cfda281187877b65436"
          }
        },
        "2747a86094d141a9b1667a7e50801429": {
          "model_module": "@jupyter-widgets/controls",
          "model_name": "ProgressStyleModel",
          "state": {
            "_view_name": "StyleView",
            "_model_name": "ProgressStyleModel",
            "description_width": "initial",
            "_view_module": "@jupyter-widgets/base",
            "_model_module_version": "1.5.0",
            "_view_count": null,
            "_view_module_version": "1.2.0",
            "bar_color": null,
            "_model_module": "@jupyter-widgets/controls"
          }
        },
        "35f2133006a64e0dae142e0cf3ce5d7c": {
          "model_module": "@jupyter-widgets/base",
          "model_name": "LayoutModel",
          "state": {
            "_view_name": "LayoutView",
            "grid_template_rows": null,
            "right": null,
            "justify_content": null,
            "_view_module": "@jupyter-widgets/base",
            "overflow": null,
            "_model_module_version": "1.2.0",
            "_view_count": null,
            "flex_flow": null,
            "width": null,
            "min_width": null,
            "border": null,
            "align_items": null,
            "bottom": null,
            "_model_module": "@jupyter-widgets/base",
            "top": null,
            "grid_column": null,
            "overflow_y": null,
            "overflow_x": null,
            "grid_auto_flow": null,
            "grid_area": null,
            "grid_template_columns": null,
            "flex": null,
            "_model_name": "LayoutModel",
            "justify_items": null,
            "grid_row": null,
            "max_height": null,
            "align_content": null,
            "visibility": null,
            "align_self": null,
            "height": null,
            "min_height": null,
            "padding": null,
            "grid_auto_rows": null,
            "grid_gap": null,
            "max_width": null,
            "order": null,
            "_view_module_version": "1.2.0",
            "grid_template_areas": null,
            "object_position": null,
            "object_fit": null,
            "grid_auto_columns": null,
            "margin": null,
            "display": null,
            "left": null
          }
        },
        "b2a225af7f8d4fe0ab1f542648acc3c3": {
          "model_module": "@jupyter-widgets/controls",
          "model_name": "DescriptionStyleModel",
          "state": {
            "_view_name": "StyleView",
            "_model_name": "DescriptionStyleModel",
            "description_width": "",
            "_view_module": "@jupyter-widgets/base",
            "_model_module_version": "1.5.0",
            "_view_count": null,
            "_view_module_version": "1.2.0",
            "_model_module": "@jupyter-widgets/controls"
          }
        },
        "df34ee04b44a4cfda281187877b65436": {
          "model_module": "@jupyter-widgets/base",
          "model_name": "LayoutModel",
          "state": {
            "_view_name": "LayoutView",
            "grid_template_rows": null,
            "right": null,
            "justify_content": null,
            "_view_module": "@jupyter-widgets/base",
            "overflow": null,
            "_model_module_version": "1.2.0",
            "_view_count": null,
            "flex_flow": null,
            "width": null,
            "min_width": null,
            "border": null,
            "align_items": null,
            "bottom": null,
            "_model_module": "@jupyter-widgets/base",
            "top": null,
            "grid_column": null,
            "overflow_y": null,
            "overflow_x": null,
            "grid_auto_flow": null,
            "grid_area": null,
            "grid_template_columns": null,
            "flex": null,
            "_model_name": "LayoutModel",
            "justify_items": null,
            "grid_row": null,
            "max_height": null,
            "align_content": null,
            "visibility": null,
            "align_self": null,
            "height": null,
            "min_height": null,
            "padding": null,
            "grid_auto_rows": null,
            "grid_gap": null,
            "max_width": null,
            "order": null,
            "_view_module_version": "1.2.0",
            "grid_template_areas": null,
            "object_position": null,
            "object_fit": null,
            "grid_auto_columns": null,
            "margin": null,
            "display": null,
            "left": null
          }
        },
        "e9fd456483264bb39dbb64595a4363f6": {
          "model_module": "@jupyter-widgets/controls",
          "model_name": "HBoxModel",
          "state": {
            "_view_name": "HBoxView",
            "_dom_classes": [],
            "_model_name": "HBoxModel",
            "_view_module": "@jupyter-widgets/controls",
            "_model_module_version": "1.5.0",
            "_view_count": null,
            "_view_module_version": "1.5.0",
            "box_style": "",
            "layout": "IPY_MODEL_4503714400a14c6b9feeb40e4f4b6940",
            "_model_module": "@jupyter-widgets/controls",
            "children": [
              "IPY_MODEL_13d3cfbdcca448ce83b5f52d255c4f24",
              "IPY_MODEL_2a6d2be5330140c9b1542770ad621180"
            ]
          }
        },
        "4503714400a14c6b9feeb40e4f4b6940": {
          "model_module": "@jupyter-widgets/base",
          "model_name": "LayoutModel",
          "state": {
            "_view_name": "LayoutView",
            "grid_template_rows": null,
            "right": null,
            "justify_content": null,
            "_view_module": "@jupyter-widgets/base",
            "overflow": null,
            "_model_module_version": "1.2.0",
            "_view_count": null,
            "flex_flow": null,
            "width": null,
            "min_width": null,
            "border": null,
            "align_items": null,
            "bottom": null,
            "_model_module": "@jupyter-widgets/base",
            "top": null,
            "grid_column": null,
            "overflow_y": null,
            "overflow_x": null,
            "grid_auto_flow": null,
            "grid_area": null,
            "grid_template_columns": null,
            "flex": null,
            "_model_name": "LayoutModel",
            "justify_items": null,
            "grid_row": null,
            "max_height": null,
            "align_content": null,
            "visibility": null,
            "align_self": null,
            "height": null,
            "min_height": null,
            "padding": null,
            "grid_auto_rows": null,
            "grid_gap": null,
            "max_width": null,
            "order": null,
            "_view_module_version": "1.2.0",
            "grid_template_areas": null,
            "object_position": null,
            "object_fit": null,
            "grid_auto_columns": null,
            "margin": null,
            "display": null,
            "left": null
          }
        },
        "13d3cfbdcca448ce83b5f52d255c4f24": {
          "model_module": "@jupyter-widgets/controls",
          "model_name": "FloatProgressModel",
          "state": {
            "_view_name": "ProgressView",
            "style": "IPY_MODEL_5b6e20163f184536881b47be399d5f91",
            "_dom_classes": [],
            "description": "Downloading: 100%",
            "_model_name": "FloatProgressModel",
            "bar_style": "success",
            "max": 213450,
            "_view_module": "@jupyter-widgets/controls",
            "_model_module_version": "1.5.0",
            "value": 213450,
            "_view_count": null,
            "_view_module_version": "1.5.0",
            "orientation": "horizontal",
            "min": 0,
            "description_tooltip": null,
            "_model_module": "@jupyter-widgets/controls",
            "layout": "IPY_MODEL_78bc9ca108694d399fcfb372a2879f48"
          }
        },
        "2a6d2be5330140c9b1542770ad621180": {
          "model_module": "@jupyter-widgets/controls",
          "model_name": "HTMLModel",
          "state": {
            "_view_name": "HTMLView",
            "style": "IPY_MODEL_e118a5ffa2a1467cb6a394285d1d02cd",
            "_dom_classes": [],
            "description": "",
            "_model_name": "HTMLModel",
            "placeholder": "​",
            "_view_module": "@jupyter-widgets/controls",
            "_model_module_version": "1.5.0",
            "value": " 213k/213k [00:01&lt;00:00, 172kB/s]",
            "_view_count": null,
            "_view_module_version": "1.5.0",
            "description_tooltip": null,
            "_model_module": "@jupyter-widgets/controls",
            "layout": "IPY_MODEL_7ad6a0b0e4ac4d179762a1c6c67b9d31"
          }
        },
        "5b6e20163f184536881b47be399d5f91": {
          "model_module": "@jupyter-widgets/controls",
          "model_name": "ProgressStyleModel",
          "state": {
            "_view_name": "StyleView",
            "_model_name": "ProgressStyleModel",
            "description_width": "initial",
            "_view_module": "@jupyter-widgets/base",
            "_model_module_version": "1.5.0",
            "_view_count": null,
            "_view_module_version": "1.2.0",
            "bar_color": null,
            "_model_module": "@jupyter-widgets/controls"
          }
        },
        "78bc9ca108694d399fcfb372a2879f48": {
          "model_module": "@jupyter-widgets/base",
          "model_name": "LayoutModel",
          "state": {
            "_view_name": "LayoutView",
            "grid_template_rows": null,
            "right": null,
            "justify_content": null,
            "_view_module": "@jupyter-widgets/base",
            "overflow": null,
            "_model_module_version": "1.2.0",
            "_view_count": null,
            "flex_flow": null,
            "width": null,
            "min_width": null,
            "border": null,
            "align_items": null,
            "bottom": null,
            "_model_module": "@jupyter-widgets/base",
            "top": null,
            "grid_column": null,
            "overflow_y": null,
            "overflow_x": null,
            "grid_auto_flow": null,
            "grid_area": null,
            "grid_template_columns": null,
            "flex": null,
            "_model_name": "LayoutModel",
            "justify_items": null,
            "grid_row": null,
            "max_height": null,
            "align_content": null,
            "visibility": null,
            "align_self": null,
            "height": null,
            "min_height": null,
            "padding": null,
            "grid_auto_rows": null,
            "grid_gap": null,
            "max_width": null,
            "order": null,
            "_view_module_version": "1.2.0",
            "grid_template_areas": null,
            "object_position": null,
            "object_fit": null,
            "grid_auto_columns": null,
            "margin": null,
            "display": null,
            "left": null
          }
        },
        "e118a5ffa2a1467cb6a394285d1d02cd": {
          "model_module": "@jupyter-widgets/controls",
          "model_name": "DescriptionStyleModel",
          "state": {
            "_view_name": "StyleView",
            "_model_name": "DescriptionStyleModel",
            "description_width": "",
            "_view_module": "@jupyter-widgets/base",
            "_model_module_version": "1.5.0",
            "_view_count": null,
            "_view_module_version": "1.2.0",
            "_model_module": "@jupyter-widgets/controls"
          }
        },
        "7ad6a0b0e4ac4d179762a1c6c67b9d31": {
          "model_module": "@jupyter-widgets/base",
          "model_name": "LayoutModel",
          "state": {
            "_view_name": "LayoutView",
            "grid_template_rows": null,
            "right": null,
            "justify_content": null,
            "_view_module": "@jupyter-widgets/base",
            "overflow": null,
            "_model_module_version": "1.2.0",
            "_view_count": null,
            "flex_flow": null,
            "width": null,
            "min_width": null,
            "border": null,
            "align_items": null,
            "bottom": null,
            "_model_module": "@jupyter-widgets/base",
            "top": null,
            "grid_column": null,
            "overflow_y": null,
            "overflow_x": null,
            "grid_auto_flow": null,
            "grid_area": null,
            "grid_template_columns": null,
            "flex": null,
            "_model_name": "LayoutModel",
            "justify_items": null,
            "grid_row": null,
            "max_height": null,
            "align_content": null,
            "visibility": null,
            "align_self": null,
            "height": null,
            "min_height": null,
            "padding": null,
            "grid_auto_rows": null,
            "grid_gap": null,
            "max_width": null,
            "order": null,
            "_view_module_version": "1.2.0",
            "grid_template_areas": null,
            "object_position": null,
            "object_fit": null,
            "grid_auto_columns": null,
            "margin": null,
            "display": null,
            "left": null
          }
        },
        "7840155ddf4043f2812abb6f8c4e0146": {
          "model_module": "@jupyter-widgets/controls",
          "model_name": "HBoxModel",
          "state": {
            "_view_name": "HBoxView",
            "_dom_classes": [],
            "_model_name": "HBoxModel",
            "_view_module": "@jupyter-widgets/controls",
            "_model_module_version": "1.5.0",
            "_view_count": null,
            "_view_module_version": "1.5.0",
            "box_style": "",
            "layout": "IPY_MODEL_793df9bae6c84630aa44d345a6e74896",
            "_model_module": "@jupyter-widgets/controls",
            "children": [
              "IPY_MODEL_aeb18d79ea4c4dd1a3c3cdc1edf10100",
              "IPY_MODEL_4ab30b042376481fa9c418e3c1f874e3"
            ]
          }
        },
        "793df9bae6c84630aa44d345a6e74896": {
          "model_module": "@jupyter-widgets/base",
          "model_name": "LayoutModel",
          "state": {
            "_view_name": "LayoutView",
            "grid_template_rows": null,
            "right": null,
            "justify_content": null,
            "_view_module": "@jupyter-widgets/base",
            "overflow": null,
            "_model_module_version": "1.2.0",
            "_view_count": null,
            "flex_flow": null,
            "width": null,
            "min_width": null,
            "border": null,
            "align_items": null,
            "bottom": null,
            "_model_module": "@jupyter-widgets/base",
            "top": null,
            "grid_column": null,
            "overflow_y": null,
            "overflow_x": null,
            "grid_auto_flow": null,
            "grid_area": null,
            "grid_template_columns": null,
            "flex": null,
            "_model_name": "LayoutModel",
            "justify_items": null,
            "grid_row": null,
            "max_height": null,
            "align_content": null,
            "visibility": null,
            "align_self": null,
            "height": null,
            "min_height": null,
            "padding": null,
            "grid_auto_rows": null,
            "grid_gap": null,
            "max_width": null,
            "order": null,
            "_view_module_version": "1.2.0",
            "grid_template_areas": null,
            "object_position": null,
            "object_fit": null,
            "grid_auto_columns": null,
            "margin": null,
            "display": null,
            "left": null
          }
        },
        "aeb18d79ea4c4dd1a3c3cdc1edf10100": {
          "model_module": "@jupyter-widgets/controls",
          "model_name": "FloatProgressModel",
          "state": {
            "_view_name": "ProgressView",
            "style": "IPY_MODEL_e8bd5b5c6578449281e640a4e7e4d191",
            "_dom_classes": [],
            "description": "Downloading: 100%",
            "_model_name": "FloatProgressModel",
            "bar_style": "success",
            "max": 112,
            "_view_module": "@jupyter-widgets/controls",
            "_model_module_version": "1.5.0",
            "value": 112,
            "_view_count": null,
            "_view_module_version": "1.5.0",
            "orientation": "horizontal",
            "min": 0,
            "description_tooltip": null,
            "_model_module": "@jupyter-widgets/controls",
            "layout": "IPY_MODEL_ae17dd78117f48139f408d3a7f8f947b"
          }
        },
        "4ab30b042376481fa9c418e3c1f874e3": {
          "model_module": "@jupyter-widgets/controls",
          "model_name": "HTMLModel",
          "state": {
            "_view_name": "HTMLView",
            "style": "IPY_MODEL_85ff5a5db6b845e9849e067d0e8488df",
            "_dom_classes": [],
            "description": "",
            "_model_name": "HTMLModel",
            "placeholder": "​",
            "_view_module": "@jupyter-widgets/controls",
            "_model_module_version": "1.5.0",
            "value": " 112/112 [00:07&lt;00:00, 15.9B/s]",
            "_view_count": null,
            "_view_module_version": "1.5.0",
            "description_tooltip": null,
            "_model_module": "@jupyter-widgets/controls",
            "layout": "IPY_MODEL_374fe6859bd744f9b6307729367455a9"
          }
        },
        "e8bd5b5c6578449281e640a4e7e4d191": {
          "model_module": "@jupyter-widgets/controls",
          "model_name": "ProgressStyleModel",
          "state": {
            "_view_name": "StyleView",
            "_model_name": "ProgressStyleModel",
            "description_width": "initial",
            "_view_module": "@jupyter-widgets/base",
            "_model_module_version": "1.5.0",
            "_view_count": null,
            "_view_module_version": "1.2.0",
            "bar_color": null,
            "_model_module": "@jupyter-widgets/controls"
          }
        },
        "ae17dd78117f48139f408d3a7f8f947b": {
          "model_module": "@jupyter-widgets/base",
          "model_name": "LayoutModel",
          "state": {
            "_view_name": "LayoutView",
            "grid_template_rows": null,
            "right": null,
            "justify_content": null,
            "_view_module": "@jupyter-widgets/base",
            "overflow": null,
            "_model_module_version": "1.2.0",
            "_view_count": null,
            "flex_flow": null,
            "width": null,
            "min_width": null,
            "border": null,
            "align_items": null,
            "bottom": null,
            "_model_module": "@jupyter-widgets/base",
            "top": null,
            "grid_column": null,
            "overflow_y": null,
            "overflow_x": null,
            "grid_auto_flow": null,
            "grid_area": null,
            "grid_template_columns": null,
            "flex": null,
            "_model_name": "LayoutModel",
            "justify_items": null,
            "grid_row": null,
            "max_height": null,
            "align_content": null,
            "visibility": null,
            "align_self": null,
            "height": null,
            "min_height": null,
            "padding": null,
            "grid_auto_rows": null,
            "grid_gap": null,
            "max_width": null,
            "order": null,
            "_view_module_version": "1.2.0",
            "grid_template_areas": null,
            "object_position": null,
            "object_fit": null,
            "grid_auto_columns": null,
            "margin": null,
            "display": null,
            "left": null
          }
        },
        "85ff5a5db6b845e9849e067d0e8488df": {
          "model_module": "@jupyter-widgets/controls",
          "model_name": "DescriptionStyleModel",
          "state": {
            "_view_name": "StyleView",
            "_model_name": "DescriptionStyleModel",
            "description_width": "",
            "_view_module": "@jupyter-widgets/base",
            "_model_module_version": "1.5.0",
            "_view_count": null,
            "_view_module_version": "1.2.0",
            "_model_module": "@jupyter-widgets/controls"
          }
        },
        "374fe6859bd744f9b6307729367455a9": {
          "model_module": "@jupyter-widgets/base",
          "model_name": "LayoutModel",
          "state": {
            "_view_name": "LayoutView",
            "grid_template_rows": null,
            "right": null,
            "justify_content": null,
            "_view_module": "@jupyter-widgets/base",
            "overflow": null,
            "_model_module_version": "1.2.0",
            "_view_count": null,
            "flex_flow": null,
            "width": null,
            "min_width": null,
            "border": null,
            "align_items": null,
            "bottom": null,
            "_model_module": "@jupyter-widgets/base",
            "top": null,
            "grid_column": null,
            "overflow_y": null,
            "overflow_x": null,
            "grid_auto_flow": null,
            "grid_area": null,
            "grid_template_columns": null,
            "flex": null,
            "_model_name": "LayoutModel",
            "justify_items": null,
            "grid_row": null,
            "max_height": null,
            "align_content": null,
            "visibility": null,
            "align_self": null,
            "height": null,
            "min_height": null,
            "padding": null,
            "grid_auto_rows": null,
            "grid_gap": null,
            "max_width": null,
            "order": null,
            "_view_module_version": "1.2.0",
            "grid_template_areas": null,
            "object_position": null,
            "object_fit": null,
            "grid_auto_columns": null,
            "margin": null,
            "display": null,
            "left": null
          }
        },
        "976d5d1f80884ed18ac6b1c3e5b02a7e": {
          "model_module": "@jupyter-widgets/controls",
          "model_name": "HBoxModel",
          "state": {
            "_view_name": "HBoxView",
            "_dom_classes": [],
            "_model_name": "HBoxModel",
            "_view_module": "@jupyter-widgets/controls",
            "_model_module_version": "1.5.0",
            "_view_count": null,
            "_view_module_version": "1.5.0",
            "box_style": "",
            "layout": "IPY_MODEL_3e980dae44304788a7da023ee273a731",
            "_model_module": "@jupyter-widgets/controls",
            "children": [
              "IPY_MODEL_933f0cf028e34a4aa511eea66ecdd3f9",
              "IPY_MODEL_97148e7ba834462791c5f165787d295c"
            ]
          }
        },
        "3e980dae44304788a7da023ee273a731": {
          "model_module": "@jupyter-widgets/base",
          "model_name": "LayoutModel",
          "state": {
            "_view_name": "LayoutView",
            "grid_template_rows": null,
            "right": null,
            "justify_content": null,
            "_view_module": "@jupyter-widgets/base",
            "overflow": null,
            "_model_module_version": "1.2.0",
            "_view_count": null,
            "flex_flow": null,
            "width": null,
            "min_width": null,
            "border": null,
            "align_items": null,
            "bottom": null,
            "_model_module": "@jupyter-widgets/base",
            "top": null,
            "grid_column": null,
            "overflow_y": null,
            "overflow_x": null,
            "grid_auto_flow": null,
            "grid_area": null,
            "grid_template_columns": null,
            "flex": null,
            "_model_name": "LayoutModel",
            "justify_items": null,
            "grid_row": null,
            "max_height": null,
            "align_content": null,
            "visibility": null,
            "align_self": null,
            "height": null,
            "min_height": null,
            "padding": null,
            "grid_auto_rows": null,
            "grid_gap": null,
            "max_width": null,
            "order": null,
            "_view_module_version": "1.2.0",
            "grid_template_areas": null,
            "object_position": null,
            "object_fit": null,
            "grid_auto_columns": null,
            "margin": null,
            "display": null,
            "left": null
          }
        },
        "933f0cf028e34a4aa511eea66ecdd3f9": {
          "model_module": "@jupyter-widgets/controls",
          "model_name": "FloatProgressModel",
          "state": {
            "_view_name": "ProgressView",
            "style": "IPY_MODEL_230b3440267e4e8b8c421b5a2a350e6a",
            "_dom_classes": [],
            "description": "Downloading: 100%",
            "_model_name": "FloatProgressModel",
            "bar_style": "success",
            "max": 49,
            "_view_module": "@jupyter-widgets/controls",
            "_model_module_version": "1.5.0",
            "value": 49,
            "_view_count": null,
            "_view_module_version": "1.5.0",
            "orientation": "horizontal",
            "min": 0,
            "description_tooltip": null,
            "_model_module": "@jupyter-widgets/controls",
            "layout": "IPY_MODEL_2229140f23004145a258e6e24ad2067b"
          }
        },
        "97148e7ba834462791c5f165787d295c": {
          "model_module": "@jupyter-widgets/controls",
          "model_name": "HTMLModel",
          "state": {
            "_view_name": "HTMLView",
            "style": "IPY_MODEL_3eb911823339445694001123319a28a8",
            "_dom_classes": [],
            "description": "",
            "_model_name": "HTMLModel",
            "placeholder": "​",
            "_view_module": "@jupyter-widgets/controls",
            "_model_module_version": "1.5.0",
            "value": " 49.0/49.0 [00:05&lt;00:00, 9.76B/s]",
            "_view_count": null,
            "_view_module_version": "1.5.0",
            "description_tooltip": null,
            "_model_module": "@jupyter-widgets/controls",
            "layout": "IPY_MODEL_bd8a585cbd404e56a3dae1bc2e83ccfb"
          }
        },
        "230b3440267e4e8b8c421b5a2a350e6a": {
          "model_module": "@jupyter-widgets/controls",
          "model_name": "ProgressStyleModel",
          "state": {
            "_view_name": "StyleView",
            "_model_name": "ProgressStyleModel",
            "description_width": "initial",
            "_view_module": "@jupyter-widgets/base",
            "_model_module_version": "1.5.0",
            "_view_count": null,
            "_view_module_version": "1.2.0",
            "bar_color": null,
            "_model_module": "@jupyter-widgets/controls"
          }
        },
        "2229140f23004145a258e6e24ad2067b": {
          "model_module": "@jupyter-widgets/base",
          "model_name": "LayoutModel",
          "state": {
            "_view_name": "LayoutView",
            "grid_template_rows": null,
            "right": null,
            "justify_content": null,
            "_view_module": "@jupyter-widgets/base",
            "overflow": null,
            "_model_module_version": "1.2.0",
            "_view_count": null,
            "flex_flow": null,
            "width": null,
            "min_width": null,
            "border": null,
            "align_items": null,
            "bottom": null,
            "_model_module": "@jupyter-widgets/base",
            "top": null,
            "grid_column": null,
            "overflow_y": null,
            "overflow_x": null,
            "grid_auto_flow": null,
            "grid_area": null,
            "grid_template_columns": null,
            "flex": null,
            "_model_name": "LayoutModel",
            "justify_items": null,
            "grid_row": null,
            "max_height": null,
            "align_content": null,
            "visibility": null,
            "align_self": null,
            "height": null,
            "min_height": null,
            "padding": null,
            "grid_auto_rows": null,
            "grid_gap": null,
            "max_width": null,
            "order": null,
            "_view_module_version": "1.2.0",
            "grid_template_areas": null,
            "object_position": null,
            "object_fit": null,
            "grid_auto_columns": null,
            "margin": null,
            "display": null,
            "left": null
          }
        },
        "3eb911823339445694001123319a28a8": {
          "model_module": "@jupyter-widgets/controls",
          "model_name": "DescriptionStyleModel",
          "state": {
            "_view_name": "StyleView",
            "_model_name": "DescriptionStyleModel",
            "description_width": "",
            "_view_module": "@jupyter-widgets/base",
            "_model_module_version": "1.5.0",
            "_view_count": null,
            "_view_module_version": "1.2.0",
            "_model_module": "@jupyter-widgets/controls"
          }
        },
        "bd8a585cbd404e56a3dae1bc2e83ccfb": {
          "model_module": "@jupyter-widgets/base",
          "model_name": "LayoutModel",
          "state": {
            "_view_name": "LayoutView",
            "grid_template_rows": null,
            "right": null,
            "justify_content": null,
            "_view_module": "@jupyter-widgets/base",
            "overflow": null,
            "_model_module_version": "1.2.0",
            "_view_count": null,
            "flex_flow": null,
            "width": null,
            "min_width": null,
            "border": null,
            "align_items": null,
            "bottom": null,
            "_model_module": "@jupyter-widgets/base",
            "top": null,
            "grid_column": null,
            "overflow_y": null,
            "overflow_x": null,
            "grid_auto_flow": null,
            "grid_area": null,
            "grid_template_columns": null,
            "flex": null,
            "_model_name": "LayoutModel",
            "justify_items": null,
            "grid_row": null,
            "max_height": null,
            "align_content": null,
            "visibility": null,
            "align_self": null,
            "height": null,
            "min_height": null,
            "padding": null,
            "grid_auto_rows": null,
            "grid_gap": null,
            "max_width": null,
            "order": null,
            "_view_module_version": "1.2.0",
            "grid_template_areas": null,
            "object_position": null,
            "object_fit": null,
            "grid_auto_columns": null,
            "margin": null,
            "display": null,
            "left": null
          }
        },
        "5cee71e0d900444d958e0a16764a810c": {
          "model_module": "@jupyter-widgets/controls",
          "model_name": "HBoxModel",
          "state": {
            "_view_name": "HBoxView",
            "_dom_classes": [],
            "_model_name": "HBoxModel",
            "_view_module": "@jupyter-widgets/controls",
            "_model_module_version": "1.5.0",
            "_view_count": null,
            "_view_module_version": "1.5.0",
            "box_style": "",
            "layout": "IPY_MODEL_aff06071e0c54d78a6fbfb5fe935493c",
            "_model_module": "@jupyter-widgets/controls",
            "children": [
              "IPY_MODEL_87e63b04a6fa4e84bc08b90f572125fc",
              "IPY_MODEL_e56b38dc1b114d0eab81f4180390e000"
            ]
          }
        },
        "aff06071e0c54d78a6fbfb5fe935493c": {
          "model_module": "@jupyter-widgets/base",
          "model_name": "LayoutModel",
          "state": {
            "_view_name": "LayoutView",
            "grid_template_rows": null,
            "right": null,
            "justify_content": null,
            "_view_module": "@jupyter-widgets/base",
            "overflow": null,
            "_model_module_version": "1.2.0",
            "_view_count": null,
            "flex_flow": null,
            "width": null,
            "min_width": null,
            "border": null,
            "align_items": null,
            "bottom": null,
            "_model_module": "@jupyter-widgets/base",
            "top": null,
            "grid_column": null,
            "overflow_y": null,
            "overflow_x": null,
            "grid_auto_flow": null,
            "grid_area": null,
            "grid_template_columns": null,
            "flex": null,
            "_model_name": "LayoutModel",
            "justify_items": null,
            "grid_row": null,
            "max_height": null,
            "align_content": null,
            "visibility": null,
            "align_self": null,
            "height": null,
            "min_height": null,
            "padding": null,
            "grid_auto_rows": null,
            "grid_gap": null,
            "max_width": null,
            "order": null,
            "_view_module_version": "1.2.0",
            "grid_template_areas": null,
            "object_position": null,
            "object_fit": null,
            "grid_auto_columns": null,
            "margin": null,
            "display": null,
            "left": null
          }
        },
        "87e63b04a6fa4e84bc08b90f572125fc": {
          "model_module": "@jupyter-widgets/controls",
          "model_name": "FloatProgressModel",
          "state": {
            "_view_name": "ProgressView",
            "style": "IPY_MODEL_5dfb276823084f1f90de4ab707e8133c",
            "_dom_classes": [],
            "description": "Downloading: 100%",
            "_model_name": "FloatProgressModel",
            "bar_style": "success",
            "max": 263157278,
            "_view_module": "@jupyter-widgets/controls",
            "_model_module_version": "1.5.0",
            "value": 263157278,
            "_view_count": null,
            "_view_module_version": "1.5.0",
            "orientation": "horizontal",
            "min": 0,
            "description_tooltip": null,
            "_model_module": "@jupyter-widgets/controls",
            "layout": "IPY_MODEL_f6c8098c572a44359f6ce88844bf5020"
          }
        },
        "e56b38dc1b114d0eab81f4180390e000": {
          "model_module": "@jupyter-widgets/controls",
          "model_name": "HTMLModel",
          "state": {
            "_view_name": "HTMLView",
            "style": "IPY_MODEL_27f5668fa30d4b5681a65fb9ade61d3d",
            "_dom_classes": [],
            "description": "",
            "_model_name": "HTMLModel",
            "placeholder": "​",
            "_view_module": "@jupyter-widgets/controls",
            "_model_module_version": "1.5.0",
            "value": " 263M/263M [00:04&lt;00:00, 63.1MB/s]",
            "_view_count": null,
            "_view_module_version": "1.5.0",
            "description_tooltip": null,
            "_model_module": "@jupyter-widgets/controls",
            "layout": "IPY_MODEL_4850fddeda12499696477d3a655e498f"
          }
        },
        "5dfb276823084f1f90de4ab707e8133c": {
          "model_module": "@jupyter-widgets/controls",
          "model_name": "ProgressStyleModel",
          "state": {
            "_view_name": "StyleView",
            "_model_name": "ProgressStyleModel",
            "description_width": "initial",
            "_view_module": "@jupyter-widgets/base",
            "_model_module_version": "1.5.0",
            "_view_count": null,
            "_view_module_version": "1.2.0",
            "bar_color": null,
            "_model_module": "@jupyter-widgets/controls"
          }
        },
        "f6c8098c572a44359f6ce88844bf5020": {
          "model_module": "@jupyter-widgets/base",
          "model_name": "LayoutModel",
          "state": {
            "_view_name": "LayoutView",
            "grid_template_rows": null,
            "right": null,
            "justify_content": null,
            "_view_module": "@jupyter-widgets/base",
            "overflow": null,
            "_model_module_version": "1.2.0",
            "_view_count": null,
            "flex_flow": null,
            "width": null,
            "min_width": null,
            "border": null,
            "align_items": null,
            "bottom": null,
            "_model_module": "@jupyter-widgets/base",
            "top": null,
            "grid_column": null,
            "overflow_y": null,
            "overflow_x": null,
            "grid_auto_flow": null,
            "grid_area": null,
            "grid_template_columns": null,
            "flex": null,
            "_model_name": "LayoutModel",
            "justify_items": null,
            "grid_row": null,
            "max_height": null,
            "align_content": null,
            "visibility": null,
            "align_self": null,
            "height": null,
            "min_height": null,
            "padding": null,
            "grid_auto_rows": null,
            "grid_gap": null,
            "max_width": null,
            "order": null,
            "_view_module_version": "1.2.0",
            "grid_template_areas": null,
            "object_position": null,
            "object_fit": null,
            "grid_auto_columns": null,
            "margin": null,
            "display": null,
            "left": null
          }
        },
        "27f5668fa30d4b5681a65fb9ade61d3d": {
          "model_module": "@jupyter-widgets/controls",
          "model_name": "DescriptionStyleModel",
          "state": {
            "_view_name": "StyleView",
            "_model_name": "DescriptionStyleModel",
            "description_width": "",
            "_view_module": "@jupyter-widgets/base",
            "_model_module_version": "1.5.0",
            "_view_count": null,
            "_view_module_version": "1.2.0",
            "_model_module": "@jupyter-widgets/controls"
          }
        },
        "4850fddeda12499696477d3a655e498f": {
          "model_module": "@jupyter-widgets/base",
          "model_name": "LayoutModel",
          "state": {
            "_view_name": "LayoutView",
            "grid_template_rows": null,
            "right": null,
            "justify_content": null,
            "_view_module": "@jupyter-widgets/base",
            "overflow": null,
            "_model_module_version": "1.2.0",
            "_view_count": null,
            "flex_flow": null,
            "width": null,
            "min_width": null,
            "border": null,
            "align_items": null,
            "bottom": null,
            "_model_module": "@jupyter-widgets/base",
            "top": null,
            "grid_column": null,
            "overflow_y": null,
            "overflow_x": null,
            "grid_auto_flow": null,
            "grid_area": null,
            "grid_template_columns": null,
            "flex": null,
            "_model_name": "LayoutModel",
            "justify_items": null,
            "grid_row": null,
            "max_height": null,
            "align_content": null,
            "visibility": null,
            "align_self": null,
            "height": null,
            "min_height": null,
            "padding": null,
            "grid_auto_rows": null,
            "grid_gap": null,
            "max_width": null,
            "order": null,
            "_view_module_version": "1.2.0",
            "grid_template_areas": null,
            "object_position": null,
            "object_fit": null,
            "grid_auto_columns": null,
            "margin": null,
            "display": null,
            "left": null
          }
        }
      }
    }
  },
  "cells": [
    {
      "cell_type": "code",
      "metadata": {
        "id": "rZsbyxcGyoog",
        "colab_type": "code",
        "colab": {}
      },
      "source": [
        "!pip install textattack pyarrow==1.0 sentence-transformers > /dev/null"
      ],
      "execution_count": 10,
      "outputs": []
    },
    {
      "cell_type": "code",
      "metadata": {
        "id": "DtUq7q_uuxAX",
        "colab_type": "code",
        "colab": {}
      },
      "source": [
        "from nltk.corpus import wordnet\n",
        "\n",
        "import textattack\n",
        "from textattack.transformations.word_swap import WordSwap\n",
        "\n",
        "\n",
        "class WordSwapWordNetAntonym(WordSwap):\n",
        "    \"\"\"Transforms an input by replacing its words with synonyms provided by\n",
        "    WordNet.\"\"\"\n",
        "\n",
        "    def _get_replacement_words(self, word, random=False):\n",
        "        \"\"\"Returns a list containing all possible words with 1 character\n",
        "        replaced by a homoglyph.\"\"\"\n",
        "        antonyms = set()\n",
        "        for syn in wordnet.synsets(word):\n",
        "            for lemma in syn.lemmas():\n",
        "                if lemma.antonyms():\n",
        "                  for ant_lemma in lemma.antonyms():\n",
        "                    ant_word = ant_lemma.name()\n",
        "                    if (\n",
        "                        (ant_word != word)\n",
        "                        and (\"_\" not in ant_word)\n",
        "                        and (textattack.shared.utils.is_one_word(ant_word))\n",
        "                    ):\n",
        "                        # WordNet can suggest phrases that are joined by '_' but we ignore phrases.\n",
        "                        antonyms.add(ant_word)\n",
        "        return list(antonyms)"
      ],
      "execution_count": 11,
      "outputs": []
    },
    {
      "cell_type": "code",
      "metadata": {
        "id": "Fd9fCgO9_Dh0",
        "colab_type": "code",
        "colab": {}
      },
      "source": [
        "def set_seed(random_seed):\n",
        "  import random\n",
        "  random.seed(random_seed)\n",
        "  import numpy as np\n",
        "  np.random.seed(random_seed)\n",
        "  import torch\n",
        "  torch.manual_seed(random_seed)\n",
        "  torch.cuda.manual_seed(random_seed)\n",
        "\n",
        "set_seed(42)"
      ],
      "execution_count": 12,
      "outputs": []
    },
    {
      "cell_type": "code",
      "metadata": {
        "id": "7Vb4nrOv0P6O",
        "colab_type": "code",
        "colab": {}
      },
      "source": [
        "import torch\n",
        "import textattack\n",
        "\n",
        "class FoolConstraintGoalFunction(textattack.goal_functions.classification.UntargetedClassification):\n",
        "  def __init__(self, constraint, min_acceptable_score=0.8,\n",
        "                num_words_to_swap=2):\n",
        "    self.constraint = constraint\n",
        "    self.query_budget = float(\"inf\")\n",
        "    self.min_acceptable_score = min_acceptable_score\n",
        "    self.use_cache = False\n",
        "    self.num_words_to_swap = num_words_to_swap\n",
        "    self.maximizable = False\n",
        "    self.model_cache_size = 0\n",
        "  \n",
        "  def _should_skip(self, *_):\n",
        "    return False\n",
        "  \n",
        "  def _is_goal_complete(self, model_output, attacked_text):\n",
        "    num_words_swapped = len(attacked_text.attack_attrs.get('modified_indices', []))\n",
        "    model_score =  model_output.item()\n",
        "\n",
        "    return (num_words_swapped >= self.num_words_to_swap) and (model_score >= self.min_acceptable_score)\n",
        "\n",
        "  def _call_model(self, attacked_text_list):\n",
        "    \"\"\" Gets predictions for a list of `AttackedText` objects.\n",
        "\n",
        "    Gets prediction from cache if possible. If prediction is not in the \n",
        "    cache, queries model and stores prediction in cache.\n",
        "    \"\"\"\n",
        "    original_text = attacked_text_list[0]\n",
        "    while \"previous_attacked_text\" in original_text.attack_attrs:\n",
        "      original_text = original_text.attack_attrs[\"previous_attacked_text\"]\n",
        "\n",
        "    scores = []\n",
        "    for at in attacked_text_list:\n",
        "      if \"newly_modified_indices\" not in at.attack_attrs:\n",
        "        # Original text\n",
        "        scores.append([1.0])\n",
        "      else:\n",
        "        at.attack_attrs[\"last_transformation\"] = transformation\n",
        "        if isinstance(self.constraint, BERTScore):\n",
        "          # call bert scorer specially\n",
        "          model_scores = self.constraint._bert_scorer.score([original_text.text], [at.text])\n",
        "        else:\n",
        "          # otherwise, it's a sentence encoder\n",
        "          model_scores = self.constraint._score_list(original_text, [at])\n",
        "        scores.append([model_scores[0]])\n",
        "    return torch.tensor(scores)\n",
        "      \n",
        "  def _get_score(self, model_output, attacked_text):\n",
        "    model_score =  model_output.item()\n",
        "    if model_score < self.min_acceptable_score:\n",
        "      return 0.0\n",
        "\n",
        "    num_words_swapped = len(attacked_text.attack_attrs.get('modified_indices', []))\n",
        "    num_words = len(attacked_text.words)\n",
        "    num_words_score = (num_words_swapped / num_words)\n",
        "    return num_words_swapped + model_score"
      ],
      "execution_count": 13,
      "outputs": []
    },
    {
      "cell_type": "code",
      "metadata": {
        "id": "yu99zTAEyyyc",
        "colab_type": "code",
        "colab": {
          "base_uri": "https://localhost:8080/",
          "height": 1000
        },
        "outputId": "72e5f1b8-ad6f-491c-c44f-9b9189bd01b8"
      },
      "source": [
        "from textattack.constraints.grammaticality.language_models import GPT2\n",
        "from textattack.constraints.semantics import BERTScore\n",
        "from textattack.constraints.semantics.sentence_encoders import UniversalSentenceEncoder\n",
        "from textattack.constraints.pre_transformation import InputColumnModification, RepeatModification, StopwordModification\n",
        "from textattack.datasets import HuggingFaceNlpDataset\n",
        "from textattack.search_methods import BeamSearch\n",
        "from textattack.shared import Attack\n",
        "from textattack.transformations import WordSwapEmbedding\n",
        "\n",
        "import numpy as np\n",
        "import tqdm\n",
        "\n",
        "transformation = WordSwapWordNetAntonym()\n",
        "\n",
        "# We'll constrain modification of already modified indices and stopwords\n",
        "constraints = [RepeatModification(), StopwordModification()]\n",
        "# don't attack premise in entailment\n",
        "constraints.append(InputColumnModification([\"premise\", \"hypothesis\"], {\"premise\"}))\n",
        "# use GPT2 to try and make sentences somewhat plausible\n",
        "constraints.append(GPT2(max_log_prob_diff=2.0))\n",
        "\n",
        "# Use SST-2 dataset\n",
        "dataset = HuggingFaceNlpDataset(\"glue\", \"sst2\", \"validation\", shuffle=True)\n",
        "\n",
        "data = []\n",
        "\n",
        "num_samples = 100\n",
        "num_words_to_swap = 3\n",
        "\n",
        "all_constraints = ('bertscore', 'use')\n",
        "threshold_vals = np.arange(.50, 1.0, .01)\n",
        "for constraint_idx, constraint_name in enumerate(all_constraints):\n",
        "  tqdm.tqdm.write(f'----> constraint {constraint_name}')\n",
        "\n",
        "  # We know this second-order attack fails most of the time, and fails more as the \n",
        "  # threshold increases. Any example that fails will continue to fail. We take \n",
        "  # advantage of this fact through caching.\n",
        "  known_failure_idxs = set()\n",
        "\n",
        "  if constraint_name == 'bertscore':\n",
        "    constraint = BERTScore(\n",
        "      min_bert_score=0.0, # don't need this\n",
        "      model=\"bert-base-uncased\",\n",
        "      score_type=\"f1\",\n",
        "      compare_against_original=True,\n",
        "    )\n",
        "  else:\n",
        "    constraint = UniversalSentenceEncoder(\n",
        "      compare_against_original=True,\n",
        "      skip_text_shorter_than_window=False,\n",
        "    )\n",
        "  for threshold_idx, threshold in enumerate(threshold_vals):\n",
        "    # goal function is to fool a single constraint\n",
        "    tqdm.tqdm.write(f'--> Threshold {threshold} / Num words to swap {num_words_to_swap}')\n",
        "    goal_function = FoolConstraintGoalFunction(\n",
        "      constraint,\n",
        "      min_acceptable_score=threshold,\n",
        "      num_words_to_swap=num_words_to_swap,\n",
        "    )\n",
        "\n",
        "    # search method\n",
        "    search_method = BeamSearch(beam_width=2)\n",
        "    # Now, let's make the attack from the 4 components:\n",
        "    attack = Attack(goal_function, constraints, transformation, search_method)\n",
        "    idxs_to_attack = set(range(num_samples)) - known_failure_idxs\n",
        "    idxs_to_attack = list(sorted(idxs_to_attack))\n",
        "\n",
        "    if len(idxs_to_attack):\n",
        "      this_sample_idx = (constraint_idx * len(threshold_vals)) + threshold_idx + 1\n",
        "      total_num_samples = len(all_constraints) * len(threshold_vals)\n",
        "      results_iterable = list(tqdm.tqdm(attack.attack_dataset(dataset, \n",
        "                                      indices=idxs_to_attack), \n",
        "                                      total=len(idxs_to_attack), \n",
        "                                      position=0, \n",
        "                                      leave=True, desc=f'Sample {this_sample_idx}/{total_num_samples}'))\n",
        "    else:\n",
        "      results_iterable = []\n",
        "\n",
        "\n",
        "    num_successes = 0\n",
        "    for result_idx, result in zip(idxs_to_attack, results_iterable):\n",
        "      if isinstance(result, textattack.attack_results.FailedAttackResult):\n",
        "        known_failure_idxs.add(result_idx)\n",
        "      elif isinstance(result, textattack.attack_results.SuccessfulAttackResult):\n",
        "        num_successes += 1\n",
        "      \n",
        "    data.append({ \n",
        "        'constraint': type(constraint).__name__, \n",
        "        'threshold': threshold, \n",
        "        'num_successes': num_successes, \n",
        "        'num_words_to_swap': num_words_to_swap \n",
        "      })"
      ],
      "execution_count": 14,
      "outputs": [
        {
          "output_type": "stream",
          "text": [
            "Some weights of GPT2LMHeadModel were not initialized from the model checkpoint at gpt2 and are newly initialized: ['h.0.attn.masked_bias', 'h.1.attn.masked_bias', 'h.2.attn.masked_bias', 'h.3.attn.masked_bias', 'h.4.attn.masked_bias', 'h.5.attn.masked_bias', 'h.6.attn.masked_bias', 'h.7.attn.masked_bias', 'h.8.attn.masked_bias', 'h.9.attn.masked_bias', 'h.10.attn.masked_bias', 'h.11.attn.masked_bias', 'lm_head.weight']\n",
            "You should probably TRAIN this model on a down-stream task to be able to use it for predictions and inference.\n",
            "\u001b[34;1mtextattack\u001b[0m: Loading \u001b[94mnlp\u001b[0m dataset \u001b[94mglue\u001b[0m, subset \u001b[94msst2\u001b[0m, split \u001b[94mvalidation\u001b[0m.\n"
          ],
          "name": "stderr"
        },
        {
          "output_type": "stream",
          "text": [
            "----> constraint bertscore\n"
          ],
          "name": "stdout"
        },
        {
          "output_type": "stream",
          "text": [
            "\rSample 1/100:   0%|          | 0/100 [00:00<?, ?it/s]"
          ],
          "name": "stderr"
        },
        {
          "output_type": "stream",
          "text": [
            "--> Threshold 0.5 / Num words to swap 3\n"
          ],
          "name": "stdout"
        },
        {
          "output_type": "stream",
          "text": [
            "Sample 1/100: 100%|██████████| 100/100 [00:40<00:00,  2.45it/s]\n",
            "Sample 2/100:   0%|          | 0/50 [00:00<?, ?it/s]"
          ],
          "name": "stderr"
        },
        {
          "output_type": "stream",
          "text": [
            "--> Threshold 0.51 / Num words to swap 3\n"
          ],
          "name": "stdout"
        },
        {
          "output_type": "stream",
          "text": [
            "Sample 2/100: 100%|██████████| 50/50 [00:34<00:00,  1.46it/s]\n",
            "Sample 3/100:   0%|          | 0/50 [00:00<?, ?it/s]"
          ],
          "name": "stderr"
        },
        {
          "output_type": "stream",
          "text": [
            "--> Threshold 0.52 / Num words to swap 3\n"
          ],
          "name": "stdout"
        },
        {
          "output_type": "stream",
          "text": [
            "Sample 3/100: 100%|██████████| 50/50 [00:34<00:00,  1.46it/s]\n",
            "Sample 4/100:   0%|          | 0/50 [00:00<?, ?it/s]"
          ],
          "name": "stderr"
        },
        {
          "output_type": "stream",
          "text": [
            "--> Threshold 0.53 / Num words to swap 3\n"
          ],
          "name": "stdout"
        },
        {
          "output_type": "stream",
          "text": [
            "Sample 4/100: 100%|██████████| 50/50 [00:34<00:00,  1.46it/s]\n",
            "Sample 5/100:   0%|          | 0/50 [00:00<?, ?it/s]"
          ],
          "name": "stderr"
        },
        {
          "output_type": "stream",
          "text": [
            "--> Threshold 0.54 / Num words to swap 3\n"
          ],
          "name": "stdout"
        },
        {
          "output_type": "stream",
          "text": [
            "Sample 5/100: 100%|██████████| 50/50 [00:34<00:00,  1.46it/s]\n",
            "Sample 6/100:   0%|          | 0/50 [00:00<?, ?it/s]"
          ],
          "name": "stderr"
        },
        {
          "output_type": "stream",
          "text": [
            "--> Threshold 0.55 / Num words to swap 3\n"
          ],
          "name": "stdout"
        },
        {
          "output_type": "stream",
          "text": [
            "Sample 6/100: 100%|██████████| 50/50 [00:34<00:00,  1.46it/s]\n",
            "Sample 7/100:   0%|          | 0/50 [00:00<?, ?it/s]"
          ],
          "name": "stderr"
        },
        {
          "output_type": "stream",
          "text": [
            "--> Threshold 0.56 / Num words to swap 3\n"
          ],
          "name": "stdout"
        },
        {
          "output_type": "stream",
          "text": [
            "Sample 7/100: 100%|██████████| 50/50 [00:34<00:00,  1.45it/s]\n",
            "Sample 8/100:   0%|          | 0/50 [00:00<?, ?it/s]"
          ],
          "name": "stderr"
        },
        {
          "output_type": "stream",
          "text": [
            "--> Threshold 0.5700000000000001 / Num words to swap 3\n"
          ],
          "name": "stdout"
        },
        {
          "output_type": "stream",
          "text": [
            "Sample 8/100: 100%|██████████| 50/50 [00:34<00:00,  1.44it/s]\n",
            "Sample 9/100:   0%|          | 0/50 [00:00<?, ?it/s]"
          ],
          "name": "stderr"
        },
        {
          "output_type": "stream",
          "text": [
            "--> Threshold 0.5800000000000001 / Num words to swap 3\n"
          ],
          "name": "stdout"
        },
        {
          "output_type": "stream",
          "text": [
            "Sample 9/100: 100%|██████████| 50/50 [00:34<00:00,  1.45it/s]\n",
            "Sample 10/100:   0%|          | 0/50 [00:00<?, ?it/s]"
          ],
          "name": "stderr"
        },
        {
          "output_type": "stream",
          "text": [
            "--> Threshold 0.5900000000000001 / Num words to swap 3\n"
          ],
          "name": "stdout"
        },
        {
          "output_type": "stream",
          "text": [
            "Sample 10/100: 100%|██████████| 50/50 [00:34<00:00,  1.45it/s]\n",
            "Sample 11/100:   0%|          | 0/50 [00:00<?, ?it/s]"
          ],
          "name": "stderr"
        },
        {
          "output_type": "stream",
          "text": [
            "--> Threshold 0.6000000000000001 / Num words to swap 3\n"
          ],
          "name": "stdout"
        },
        {
          "output_type": "stream",
          "text": [
            "Sample 11/100: 100%|██████████| 50/50 [00:34<00:00,  1.45it/s]\n",
            "Sample 12/100:   0%|          | 0/50 [00:00<?, ?it/s]"
          ],
          "name": "stderr"
        },
        {
          "output_type": "stream",
          "text": [
            "--> Threshold 0.6100000000000001 / Num words to swap 3\n"
          ],
          "name": "stdout"
        },
        {
          "output_type": "stream",
          "text": [
            "Sample 12/100: 100%|██████████| 50/50 [00:34<00:00,  1.45it/s]\n",
            "Sample 13/100:   0%|          | 0/50 [00:00<?, ?it/s]"
          ],
          "name": "stderr"
        },
        {
          "output_type": "stream",
          "text": [
            "--> Threshold 0.6200000000000001 / Num words to swap 3\n"
          ],
          "name": "stdout"
        },
        {
          "output_type": "stream",
          "text": [
            "Sample 13/100: 100%|██████████| 50/50 [00:34<00:00,  1.45it/s]\n",
            "Sample 14/100:   0%|          | 0/50 [00:00<?, ?it/s]"
          ],
          "name": "stderr"
        },
        {
          "output_type": "stream",
          "text": [
            "--> Threshold 0.6300000000000001 / Num words to swap 3\n"
          ],
          "name": "stdout"
        },
        {
          "output_type": "stream",
          "text": [
            "Sample 14/100: 100%|██████████| 50/50 [00:34<00:00,  1.45it/s]\n",
            "Sample 15/100:   0%|          | 0/50 [00:00<?, ?it/s]"
          ],
          "name": "stderr"
        },
        {
          "output_type": "stream",
          "text": [
            "--> Threshold 0.6400000000000001 / Num words to swap 3\n"
          ],
          "name": "stdout"
        },
        {
          "output_type": "stream",
          "text": [
            "Sample 15/100: 100%|██████████| 50/50 [00:34<00:00,  1.46it/s]\n",
            "Sample 16/100:   0%|          | 0/50 [00:00<?, ?it/s]"
          ],
          "name": "stderr"
        },
        {
          "output_type": "stream",
          "text": [
            "--> Threshold 0.6500000000000001 / Num words to swap 3\n"
          ],
          "name": "stdout"
        },
        {
          "output_type": "stream",
          "text": [
            "Sample 16/100: 100%|██████████| 50/50 [00:34<00:00,  1.45it/s]\n",
            "Sample 17/100:   0%|          | 0/50 [00:00<?, ?it/s]"
          ],
          "name": "stderr"
        },
        {
          "output_type": "stream",
          "text": [
            "--> Threshold 0.6600000000000001 / Num words to swap 3\n"
          ],
          "name": "stdout"
        },
        {
          "output_type": "stream",
          "text": [
            "Sample 17/100: 100%|██████████| 50/50 [00:34<00:00,  1.45it/s]\n",
            "Sample 18/100:   0%|          | 0/50 [00:00<?, ?it/s]"
          ],
          "name": "stderr"
        },
        {
          "output_type": "stream",
          "text": [
            "--> Threshold 0.6700000000000002 / Num words to swap 3\n"
          ],
          "name": "stdout"
        },
        {
          "output_type": "stream",
          "text": [
            "Sample 18/100: 100%|██████████| 50/50 [00:34<00:00,  1.46it/s]\n",
            "Sample 19/100:   0%|          | 0/50 [00:00<?, ?it/s]"
          ],
          "name": "stderr"
        },
        {
          "output_type": "stream",
          "text": [
            "--> Threshold 0.6800000000000002 / Num words to swap 3\n"
          ],
          "name": "stdout"
        },
        {
          "output_type": "stream",
          "text": [
            "Sample 19/100: 100%|██████████| 50/50 [00:34<00:00,  1.46it/s]\n",
            "Sample 20/100:   0%|          | 0/50 [00:00<?, ?it/s]"
          ],
          "name": "stderr"
        },
        {
          "output_type": "stream",
          "text": [
            "--> Threshold 0.6900000000000002 / Num words to swap 3\n"
          ],
          "name": "stdout"
        },
        {
          "output_type": "stream",
          "text": [
            "Sample 20/100: 100%|██████████| 50/50 [00:34<00:00,  1.47it/s]\n",
            "Sample 21/100:   0%|          | 0/50 [00:00<?, ?it/s]"
          ],
          "name": "stderr"
        },
        {
          "output_type": "stream",
          "text": [
            "--> Threshold 0.7000000000000002 / Num words to swap 3\n"
          ],
          "name": "stdout"
        },
        {
          "output_type": "stream",
          "text": [
            "Sample 21/100: 100%|██████████| 50/50 [00:34<00:00,  1.46it/s]\n",
            "Sample 22/100:   0%|          | 0/50 [00:00<?, ?it/s]"
          ],
          "name": "stderr"
        },
        {
          "output_type": "stream",
          "text": [
            "--> Threshold 0.7100000000000002 / Num words to swap 3\n"
          ],
          "name": "stdout"
        },
        {
          "output_type": "stream",
          "text": [
            "Sample 22/100: 100%|██████████| 50/50 [00:34<00:00,  1.45it/s]\n",
            "Sample 23/100:   0%|          | 0/50 [00:00<?, ?it/s]"
          ],
          "name": "stderr"
        },
        {
          "output_type": "stream",
          "text": [
            "--> Threshold 0.7200000000000002 / Num words to swap 3\n"
          ],
          "name": "stdout"
        },
        {
          "output_type": "stream",
          "text": [
            "Sample 23/100: 100%|██████████| 50/50 [00:34<00:00,  1.46it/s]\n",
            "Sample 24/100:   0%|          | 0/50 [00:00<?, ?it/s]"
          ],
          "name": "stderr"
        },
        {
          "output_type": "stream",
          "text": [
            "--> Threshold 0.7300000000000002 / Num words to swap 3\n"
          ],
          "name": "stdout"
        },
        {
          "output_type": "stream",
          "text": [
            "Sample 24/100: 100%|██████████| 50/50 [00:34<00:00,  1.46it/s]\n",
            "Sample 25/100:   0%|          | 0/50 [00:00<?, ?it/s]"
          ],
          "name": "stderr"
        },
        {
          "output_type": "stream",
          "text": [
            "--> Threshold 0.7400000000000002 / Num words to swap 3\n"
          ],
          "name": "stdout"
        },
        {
          "output_type": "stream",
          "text": [
            "Sample 25/100: 100%|██████████| 50/50 [00:34<00:00,  1.46it/s]\n",
            "Sample 26/100:   0%|          | 0/50 [00:00<?, ?it/s]"
          ],
          "name": "stderr"
        },
        {
          "output_type": "stream",
          "text": [
            "--> Threshold 0.7500000000000002 / Num words to swap 3\n"
          ],
          "name": "stdout"
        },
        {
          "output_type": "stream",
          "text": [
            "Sample 26/100: 100%|██████████| 50/50 [00:34<00:00,  1.45it/s]\n",
            "Sample 27/100:   0%|          | 0/50 [00:00<?, ?it/s]"
          ],
          "name": "stderr"
        },
        {
          "output_type": "stream",
          "text": [
            "--> Threshold 0.7600000000000002 / Num words to swap 3\n"
          ],
          "name": "stdout"
        },
        {
          "output_type": "stream",
          "text": [
            "Sample 27/100: 100%|██████████| 50/50 [00:34<00:00,  1.46it/s]\n",
            "Sample 28/100:   0%|          | 0/50 [00:00<?, ?it/s]"
          ],
          "name": "stderr"
        },
        {
          "output_type": "stream",
          "text": [
            "--> Threshold 0.7700000000000002 / Num words to swap 3\n"
          ],
          "name": "stdout"
        },
        {
          "output_type": "stream",
          "text": [
            "Sample 28/100: 100%|██████████| 50/50 [00:34<00:00,  1.46it/s]\n",
            "Sample 29/100:   0%|          | 0/50 [00:00<?, ?it/s]"
          ],
          "name": "stderr"
        },
        {
          "output_type": "stream",
          "text": [
            "--> Threshold 0.7800000000000002 / Num words to swap 3\n"
          ],
          "name": "stdout"
        },
        {
          "output_type": "stream",
          "text": [
            "Sample 29/100: 100%|██████████| 50/50 [00:34<00:00,  1.47it/s]\n",
            "Sample 30/100:   0%|          | 0/50 [00:00<?, ?it/s]"
          ],
          "name": "stderr"
        },
        {
          "output_type": "stream",
          "text": [
            "--> Threshold 0.7900000000000003 / Num words to swap 3\n"
          ],
          "name": "stdout"
        },
        {
          "output_type": "stream",
          "text": [
            "Sample 30/100: 100%|██████████| 50/50 [00:34<00:00,  1.46it/s]\n",
            "Sample 31/100:   0%|          | 0/50 [00:00<?, ?it/s]"
          ],
          "name": "stderr"
        },
        {
          "output_type": "stream",
          "text": [
            "--> Threshold 0.8000000000000003 / Num words to swap 3\n"
          ],
          "name": "stdout"
        },
        {
          "output_type": "stream",
          "text": [
            "Sample 31/100: 100%|██████████| 50/50 [00:34<00:00,  1.47it/s]\n",
            "Sample 32/100:   0%|          | 0/49 [00:00<?, ?it/s]"
          ],
          "name": "stderr"
        },
        {
          "output_type": "stream",
          "text": [
            "--> Threshold 0.8100000000000003 / Num words to swap 3\n"
          ],
          "name": "stdout"
        },
        {
          "output_type": "stream",
          "text": [
            "Sample 32/100: 100%|██████████| 49/49 [00:33<00:00,  1.44it/s]\n",
            "Sample 33/100:   0%|          | 0/49 [00:00<?, ?it/s]"
          ],
          "name": "stderr"
        },
        {
          "output_type": "stream",
          "text": [
            "--> Threshold 0.8200000000000003 / Num words to swap 3\n"
          ],
          "name": "stdout"
        },
        {
          "output_type": "stream",
          "text": [
            "Sample 33/100: 100%|██████████| 49/49 [00:33<00:00,  1.44it/s]\n",
            "Sample 34/100:   0%|          | 0/48 [00:00<?, ?it/s]"
          ],
          "name": "stderr"
        },
        {
          "output_type": "stream",
          "text": [
            "--> Threshold 0.8300000000000003 / Num words to swap 3\n"
          ],
          "name": "stdout"
        },
        {
          "output_type": "stream",
          "text": [
            "Sample 34/100: 100%|██████████| 48/48 [00:33<00:00,  1.44it/s]\n",
            "Sample 35/100:   0%|          | 0/48 [00:00<?, ?it/s]"
          ],
          "name": "stderr"
        },
        {
          "output_type": "stream",
          "text": [
            "--> Threshold 0.8400000000000003 / Num words to swap 3\n"
          ],
          "name": "stdout"
        },
        {
          "output_type": "stream",
          "text": [
            "Sample 35/100: 100%|██████████| 48/48 [00:33<00:00,  1.43it/s]\n",
            "Sample 36/100:   0%|          | 0/48 [00:00<?, ?it/s]"
          ],
          "name": "stderr"
        },
        {
          "output_type": "stream",
          "text": [
            "--> Threshold 0.8500000000000003 / Num words to swap 3\n"
          ],
          "name": "stdout"
        },
        {
          "output_type": "stream",
          "text": [
            "Sample 36/100: 100%|██████████| 48/48 [00:33<00:00,  1.43it/s]\n",
            "Sample 37/100:   0%|          | 0/47 [00:00<?, ?it/s]"
          ],
          "name": "stderr"
        },
        {
          "output_type": "stream",
          "text": [
            "--> Threshold 0.8600000000000003 / Num words to swap 3\n"
          ],
          "name": "stdout"
        },
        {
          "output_type": "stream",
          "text": [
            "Sample 37/100: 100%|██████████| 47/47 [00:33<00:00,  1.42it/s]\n",
            "Sample 38/100:   0%|          | 0/45 [00:00<?, ?it/s]"
          ],
          "name": "stderr"
        },
        {
          "output_type": "stream",
          "text": [
            "--> Threshold 0.8700000000000003 / Num words to swap 3\n"
          ],
          "name": "stdout"
        },
        {
          "output_type": "stream",
          "text": [
            "Sample 38/100: 100%|██████████| 45/45 [00:32<00:00,  1.40it/s]\n",
            "Sample 39/100:   0%|          | 0/44 [00:00<?, ?it/s]"
          ],
          "name": "stderr"
        },
        {
          "output_type": "stream",
          "text": [
            "--> Threshold 0.8800000000000003 / Num words to swap 3\n"
          ],
          "name": "stdout"
        },
        {
          "output_type": "stream",
          "text": [
            "Sample 39/100: 100%|██████████| 44/44 [00:31<00:00,  1.39it/s]\n",
            "Sample 40/100:   0%|          | 0/43 [00:00<?, ?it/s]"
          ],
          "name": "stderr"
        },
        {
          "output_type": "stream",
          "text": [
            "--> Threshold 0.8900000000000003 / Num words to swap 3\n"
          ],
          "name": "stdout"
        },
        {
          "output_type": "stream",
          "text": [
            "Sample 40/100: 100%|██████████| 43/43 [00:30<00:00,  1.39it/s]\n",
            "Sample 41/100:   0%|          | 0/41 [00:00<?, ?it/s]"
          ],
          "name": "stderr"
        },
        {
          "output_type": "stream",
          "text": [
            "--> Threshold 0.9000000000000004 / Num words to swap 3\n"
          ],
          "name": "stdout"
        },
        {
          "output_type": "stream",
          "text": [
            "Sample 41/100: 100%|██████████| 41/41 [00:30<00:00,  1.36it/s]\n",
            "Sample 42/100:   0%|          | 0/39 [00:00<?, ?it/s]"
          ],
          "name": "stderr"
        },
        {
          "output_type": "stream",
          "text": [
            "--> Threshold 0.9100000000000004 / Num words to swap 3\n"
          ],
          "name": "stdout"
        },
        {
          "output_type": "stream",
          "text": [
            "Sample 42/100: 100%|██████████| 39/39 [00:28<00:00,  1.36it/s]\n",
            "Sample 43/100:   0%|          | 0/38 [00:00<?, ?it/s]"
          ],
          "name": "stderr"
        },
        {
          "output_type": "stream",
          "text": [
            "--> Threshold 0.9200000000000004 / Num words to swap 3\n"
          ],
          "name": "stdout"
        },
        {
          "output_type": "stream",
          "text": [
            "Sample 43/100: 100%|██████████| 38/38 [00:28<00:00,  1.35it/s]\n",
            "Sample 44/100:   0%|          | 0/35 [00:00<?, ?it/s]"
          ],
          "name": "stderr"
        },
        {
          "output_type": "stream",
          "text": [
            "--> Threshold 0.9300000000000004 / Num words to swap 3\n"
          ],
          "name": "stdout"
        },
        {
          "output_type": "stream",
          "text": [
            "Sample 44/100: 100%|██████████| 35/35 [00:27<00:00,  1.27it/s]\n",
            "Sample 45/100:   0%|          | 0/32 [00:00<?, ?it/s]"
          ],
          "name": "stderr"
        },
        {
          "output_type": "stream",
          "text": [
            "--> Threshold 0.9400000000000004 / Num words to swap 3\n"
          ],
          "name": "stdout"
        },
        {
          "output_type": "stream",
          "text": [
            "Sample 45/100: 100%|██████████| 32/32 [00:26<00:00,  1.20it/s]\n",
            "Sample 46/100:   0%|          | 0/22 [00:00<?, ?it/s]"
          ],
          "name": "stderr"
        },
        {
          "output_type": "stream",
          "text": [
            "--> Threshold 0.9500000000000004 / Num words to swap 3\n"
          ],
          "name": "stdout"
        },
        {
          "output_type": "stream",
          "text": [
            "Sample 46/100: 100%|██████████| 22/22 [00:21<00:00,  1.03it/s]\n",
            "Sample 47/100:   0%|          | 0/16 [00:00<?, ?it/s]"
          ],
          "name": "stderr"
        },
        {
          "output_type": "stream",
          "text": [
            "--> Threshold 0.9600000000000004 / Num words to swap 3\n"
          ],
          "name": "stdout"
        },
        {
          "output_type": "stream",
          "text": [
            "Sample 47/100: 100%|██████████| 16/16 [00:15<00:00,  1.05it/s]\n",
            "Sample 48/100:   0%|          | 0/9 [00:00<?, ?it/s]"
          ],
          "name": "stderr"
        },
        {
          "output_type": "stream",
          "text": [
            "--> Threshold 0.9700000000000004 / Num words to swap 3\n"
          ],
          "name": "stdout"
        },
        {
          "output_type": "stream",
          "text": [
            "Sample 48/100: 100%|██████████| 9/9 [00:10<00:00,  1.14s/it]\n",
            "Sample 49/100:   0%|          | 0/2 [00:00<?, ?it/s]"
          ],
          "name": "stderr"
        },
        {
          "output_type": "stream",
          "text": [
            "--> Threshold 0.9800000000000004 / Num words to swap 3\n"
          ],
          "name": "stdout"
        },
        {
          "output_type": "stream",
          "text": [
            "Sample 49/100: 100%|██████████| 2/2 [00:02<00:00,  1.11s/it]\n"
          ],
          "name": "stderr"
        },
        {
          "output_type": "stream",
          "text": [
            "--> Threshold 0.9900000000000004 / Num words to swap 3\n",
            "----> constraint use\n"
          ],
          "name": "stdout"
        },
        {
          "output_type": "stream",
          "text": [
            "\rSample 51/100:   0%|          | 0/100 [00:00<?, ?it/s]"
          ],
          "name": "stderr"
        },
        {
          "output_type": "stream",
          "text": [
            "--> Threshold 0.5 / Num words to swap 3\n"
          ],
          "name": "stdout"
        },
        {
          "output_type": "stream",
          "text": [
            "Sample 51/100: 100%|██████████| 100/100 [00:32<00:00,  3.07it/s]\n",
            "Sample 52/100:   0%|          | 0/50 [00:00<?, ?it/s]"
          ],
          "name": "stderr"
        },
        {
          "output_type": "stream",
          "text": [
            "--> Threshold 0.51 / Num words to swap 3\n"
          ],
          "name": "stdout"
        },
        {
          "output_type": "stream",
          "text": [
            "Sample 52/100: 100%|██████████| 50/50 [00:27<00:00,  1.80it/s]\n",
            "Sample 53/100:   0%|          | 0/50 [00:00<?, ?it/s]"
          ],
          "name": "stderr"
        },
        {
          "output_type": "stream",
          "text": [
            "--> Threshold 0.52 / Num words to swap 3\n"
          ],
          "name": "stdout"
        },
        {
          "output_type": "stream",
          "text": [
            "Sample 53/100: 100%|██████████| 50/50 [00:27<00:00,  1.81it/s]\n",
            "Sample 54/100:   0%|          | 0/50 [00:00<?, ?it/s]"
          ],
          "name": "stderr"
        },
        {
          "output_type": "stream",
          "text": [
            "--> Threshold 0.53 / Num words to swap 3\n"
          ],
          "name": "stdout"
        },
        {
          "output_type": "stream",
          "text": [
            "Sample 54/100: 100%|██████████| 50/50 [00:27<00:00,  1.81it/s]\n",
            "Sample 55/100:   0%|          | 0/50 [00:00<?, ?it/s]"
          ],
          "name": "stderr"
        },
        {
          "output_type": "stream",
          "text": [
            "--> Threshold 0.54 / Num words to swap 3\n"
          ],
          "name": "stdout"
        },
        {
          "output_type": "stream",
          "text": [
            "Sample 55/100: 100%|██████████| 50/50 [00:28<00:00,  1.78it/s]\n",
            "Sample 56/100:   0%|          | 0/50 [00:00<?, ?it/s]"
          ],
          "name": "stderr"
        },
        {
          "output_type": "stream",
          "text": [
            "--> Threshold 0.55 / Num words to swap 3\n"
          ],
          "name": "stdout"
        },
        {
          "output_type": "stream",
          "text": [
            "Sample 56/100: 100%|██████████| 50/50 [00:27<00:00,  1.80it/s]\n",
            "Sample 57/100:   0%|          | 0/50 [00:00<?, ?it/s]"
          ],
          "name": "stderr"
        },
        {
          "output_type": "stream",
          "text": [
            "--> Threshold 0.56 / Num words to swap 3\n"
          ],
          "name": "stdout"
        },
        {
          "output_type": "stream",
          "text": [
            "Sample 57/100: 100%|██████████| 50/50 [00:27<00:00,  1.83it/s]\n",
            "Sample 58/100:   0%|          | 0/50 [00:00<?, ?it/s]"
          ],
          "name": "stderr"
        },
        {
          "output_type": "stream",
          "text": [
            "--> Threshold 0.5700000000000001 / Num words to swap 3\n"
          ],
          "name": "stdout"
        },
        {
          "output_type": "stream",
          "text": [
            "Sample 58/100: 100%|██████████| 50/50 [00:27<00:00,  1.85it/s]\n",
            "Sample 59/100:   0%|          | 0/50 [00:00<?, ?it/s]"
          ],
          "name": "stderr"
        },
        {
          "output_type": "stream",
          "text": [
            "--> Threshold 0.5800000000000001 / Num words to swap 3\n"
          ],
          "name": "stdout"
        },
        {
          "output_type": "stream",
          "text": [
            "Sample 59/100: 100%|██████████| 50/50 [00:27<00:00,  1.79it/s]\n",
            "Sample 60/100:   0%|          | 0/50 [00:00<?, ?it/s]"
          ],
          "name": "stderr"
        },
        {
          "output_type": "stream",
          "text": [
            "--> Threshold 0.5900000000000001 / Num words to swap 3\n"
          ],
          "name": "stdout"
        },
        {
          "output_type": "stream",
          "text": [
            "Sample 60/100: 100%|██████████| 50/50 [00:28<00:00,  1.77it/s]\n",
            "Sample 61/100:   0%|          | 0/50 [00:00<?, ?it/s]"
          ],
          "name": "stderr"
        },
        {
          "output_type": "stream",
          "text": [
            "--> Threshold 0.6000000000000001 / Num words to swap 3\n"
          ],
          "name": "stdout"
        },
        {
          "output_type": "stream",
          "text": [
            "Sample 61/100: 100%|██████████| 50/50 [00:28<00:00,  1.77it/s]\n",
            "Sample 62/100:   0%|          | 0/50 [00:00<?, ?it/s]"
          ],
          "name": "stderr"
        },
        {
          "output_type": "stream",
          "text": [
            "--> Threshold 0.6100000000000001 / Num words to swap 3\n"
          ],
          "name": "stdout"
        },
        {
          "output_type": "stream",
          "text": [
            "Sample 62/100: 100%|██████████| 50/50 [00:27<00:00,  1.80it/s]\n",
            "Sample 63/100:   0%|          | 0/50 [00:00<?, ?it/s]"
          ],
          "name": "stderr"
        },
        {
          "output_type": "stream",
          "text": [
            "--> Threshold 0.6200000000000001 / Num words to swap 3\n"
          ],
          "name": "stdout"
        },
        {
          "output_type": "stream",
          "text": [
            "Sample 63/100: 100%|██████████| 50/50 [00:27<00:00,  1.79it/s]\n",
            "Sample 64/100:   0%|          | 0/50 [00:00<?, ?it/s]"
          ],
          "name": "stderr"
        },
        {
          "output_type": "stream",
          "text": [
            "--> Threshold 0.6300000000000001 / Num words to swap 3\n"
          ],
          "name": "stdout"
        },
        {
          "output_type": "stream",
          "text": [
            "Sample 64/100: 100%|██████████| 50/50 [00:27<00:00,  1.80it/s]\n",
            "Sample 65/100:   0%|          | 0/50 [00:00<?, ?it/s]"
          ],
          "name": "stderr"
        },
        {
          "output_type": "stream",
          "text": [
            "--> Threshold 0.6400000000000001 / Num words to swap 3\n"
          ],
          "name": "stdout"
        },
        {
          "output_type": "stream",
          "text": [
            "Sample 65/100: 100%|██████████| 50/50 [00:27<00:00,  1.81it/s]\n",
            "Sample 66/100:   0%|          | 0/50 [00:00<?, ?it/s]"
          ],
          "name": "stderr"
        },
        {
          "output_type": "stream",
          "text": [
            "--> Threshold 0.6500000000000001 / Num words to swap 3\n"
          ],
          "name": "stdout"
        },
        {
          "output_type": "stream",
          "text": [
            "Sample 66/100: 100%|██████████| 50/50 [00:27<00:00,  1.81it/s]\n",
            "Sample 67/100:   0%|          | 0/50 [00:00<?, ?it/s]"
          ],
          "name": "stderr"
        },
        {
          "output_type": "stream",
          "text": [
            "--> Threshold 0.6600000000000001 / Num words to swap 3\n"
          ],
          "name": "stdout"
        },
        {
          "output_type": "stream",
          "text": [
            "Sample 67/100: 100%|██████████| 50/50 [00:27<00:00,  1.80it/s]\n",
            "Sample 68/100:   0%|          | 0/50 [00:00<?, ?it/s]"
          ],
          "name": "stderr"
        },
        {
          "output_type": "stream",
          "text": [
            "--> Threshold 0.6700000000000002 / Num words to swap 3\n"
          ],
          "name": "stdout"
        },
        {
          "output_type": "stream",
          "text": [
            "Sample 68/100: 100%|██████████| 50/50 [00:27<00:00,  1.81it/s]\n",
            "Sample 69/100:   0%|          | 0/50 [00:00<?, ?it/s]"
          ],
          "name": "stderr"
        },
        {
          "output_type": "stream",
          "text": [
            "--> Threshold 0.6800000000000002 / Num words to swap 3\n"
          ],
          "name": "stdout"
        },
        {
          "output_type": "stream",
          "text": [
            "Sample 69/100: 100%|██████████| 50/50 [00:27<00:00,  1.80it/s]\n",
            "Sample 70/100:   0%|          | 0/50 [00:00<?, ?it/s]"
          ],
          "name": "stderr"
        },
        {
          "output_type": "stream",
          "text": [
            "--> Threshold 0.6900000000000002 / Num words to swap 3\n"
          ],
          "name": "stdout"
        },
        {
          "output_type": "stream",
          "text": [
            "Sample 70/100: 100%|██████████| 50/50 [00:27<00:00,  1.79it/s]\n",
            "Sample 71/100:   0%|          | 0/50 [00:00<?, ?it/s]"
          ],
          "name": "stderr"
        },
        {
          "output_type": "stream",
          "text": [
            "--> Threshold 0.7000000000000002 / Num words to swap 3\n"
          ],
          "name": "stdout"
        },
        {
          "output_type": "stream",
          "text": [
            "Sample 71/100: 100%|██████████| 50/50 [00:27<00:00,  1.80it/s]\n",
            "Sample 72/100:   0%|          | 0/50 [00:00<?, ?it/s]"
          ],
          "name": "stderr"
        },
        {
          "output_type": "stream",
          "text": [
            "--> Threshold 0.7100000000000002 / Num words to swap 3\n"
          ],
          "name": "stdout"
        },
        {
          "output_type": "stream",
          "text": [
            "Sample 72/100: 100%|██████████| 50/50 [00:27<00:00,  1.81it/s]\n",
            "Sample 73/100:   0%|          | 0/50 [00:00<?, ?it/s]"
          ],
          "name": "stderr"
        },
        {
          "output_type": "stream",
          "text": [
            "--> Threshold 0.7200000000000002 / Num words to swap 3\n"
          ],
          "name": "stdout"
        },
        {
          "output_type": "stream",
          "text": [
            "Sample 73/100: 100%|██████████| 50/50 [00:27<00:00,  1.81it/s]\n",
            "Sample 74/100:   0%|          | 0/50 [00:00<?, ?it/s]"
          ],
          "name": "stderr"
        },
        {
          "output_type": "stream",
          "text": [
            "--> Threshold 0.7300000000000002 / Num words to swap 3\n"
          ],
          "name": "stdout"
        },
        {
          "output_type": "stream",
          "text": [
            "Sample 74/100: 100%|██████████| 50/50 [00:27<00:00,  1.81it/s]\n",
            "Sample 75/100:   0%|          | 0/50 [00:00<?, ?it/s]"
          ],
          "name": "stderr"
        },
        {
          "output_type": "stream",
          "text": [
            "--> Threshold 0.7400000000000002 / Num words to swap 3\n"
          ],
          "name": "stdout"
        },
        {
          "output_type": "stream",
          "text": [
            "Sample 75/100: 100%|██████████| 50/50 [00:27<00:00,  1.82it/s]\n",
            "Sample 76/100:   0%|          | 0/50 [00:00<?, ?it/s]"
          ],
          "name": "stderr"
        },
        {
          "output_type": "stream",
          "text": [
            "--> Threshold 0.7500000000000002 / Num words to swap 3\n"
          ],
          "name": "stdout"
        },
        {
          "output_type": "stream",
          "text": [
            "Sample 76/100: 100%|██████████| 50/50 [00:26<00:00,  1.85it/s]\n",
            "Sample 77/100:   0%|          | 0/50 [00:00<?, ?it/s]"
          ],
          "name": "stderr"
        },
        {
          "output_type": "stream",
          "text": [
            "--> Threshold 0.7600000000000002 / Num words to swap 3\n"
          ],
          "name": "stdout"
        },
        {
          "output_type": "stream",
          "text": [
            "Sample 77/100: 100%|██████████| 50/50 [00:27<00:00,  1.85it/s]\n",
            "Sample 78/100:   0%|          | 0/49 [00:00<?, ?it/s]"
          ],
          "name": "stderr"
        },
        {
          "output_type": "stream",
          "text": [
            "--> Threshold 0.7700000000000002 / Num words to swap 3\n"
          ],
          "name": "stdout"
        },
        {
          "output_type": "stream",
          "text": [
            "Sample 78/100: 100%|██████████| 49/49 [00:26<00:00,  1.83it/s]\n",
            "Sample 79/100:   0%|          | 0/49 [00:00<?, ?it/s]"
          ],
          "name": "stderr"
        },
        {
          "output_type": "stream",
          "text": [
            "--> Threshold 0.7800000000000002 / Num words to swap 3\n"
          ],
          "name": "stdout"
        },
        {
          "output_type": "stream",
          "text": [
            "Sample 79/100: 100%|██████████| 49/49 [00:27<00:00,  1.81it/s]\n",
            "Sample 80/100:   0%|          | 0/49 [00:00<?, ?it/s]"
          ],
          "name": "stderr"
        },
        {
          "output_type": "stream",
          "text": [
            "--> Threshold 0.7900000000000003 / Num words to swap 3\n"
          ],
          "name": "stdout"
        },
        {
          "output_type": "stream",
          "text": [
            "Sample 80/100: 100%|██████████| 49/49 [00:26<00:00,  1.82it/s]\n",
            "Sample 81/100:   0%|          | 0/49 [00:00<?, ?it/s]"
          ],
          "name": "stderr"
        },
        {
          "output_type": "stream",
          "text": [
            "--> Threshold 0.8000000000000003 / Num words to swap 3\n"
          ],
          "name": "stdout"
        },
        {
          "output_type": "stream",
          "text": [
            "Sample 81/100: 100%|██████████| 49/49 [00:26<00:00,  1.82it/s]\n",
            "Sample 82/100:   0%|          | 0/48 [00:00<?, ?it/s]"
          ],
          "name": "stderr"
        },
        {
          "output_type": "stream",
          "text": [
            "--> Threshold 0.8100000000000003 / Num words to swap 3\n"
          ],
          "name": "stdout"
        },
        {
          "output_type": "stream",
          "text": [
            "Sample 82/100: 100%|██████████| 48/48 [00:26<00:00,  1.79it/s]\n",
            "Sample 83/100:   0%|          | 0/44 [00:00<?, ?it/s]"
          ],
          "name": "stderr"
        },
        {
          "output_type": "stream",
          "text": [
            "--> Threshold 0.8200000000000003 / Num words to swap 3\n"
          ],
          "name": "stdout"
        },
        {
          "output_type": "stream",
          "text": [
            "Sample 83/100: 100%|██████████| 44/44 [00:25<00:00,  1.74it/s]\n",
            "Sample 84/100:   0%|          | 0/40 [00:00<?, ?it/s]"
          ],
          "name": "stderr"
        },
        {
          "output_type": "stream",
          "text": [
            "--> Threshold 0.8300000000000003 / Num words to swap 3\n"
          ],
          "name": "stdout"
        },
        {
          "output_type": "stream",
          "text": [
            "Sample 84/100: 100%|██████████| 40/40 [00:24<00:00,  1.63it/s]\n",
            "Sample 85/100:   0%|          | 0/36 [00:00<?, ?it/s]"
          ],
          "name": "stderr"
        },
        {
          "output_type": "stream",
          "text": [
            "--> Threshold 0.8400000000000003 / Num words to swap 3\n"
          ],
          "name": "stdout"
        },
        {
          "output_type": "stream",
          "text": [
            "Sample 85/100: 100%|██████████| 36/36 [00:22<00:00,  1.59it/s]\n",
            "Sample 86/100:   0%|          | 0/32 [00:00<?, ?it/s]"
          ],
          "name": "stderr"
        },
        {
          "output_type": "stream",
          "text": [
            "--> Threshold 0.8500000000000003 / Num words to swap 3\n"
          ],
          "name": "stdout"
        },
        {
          "output_type": "stream",
          "text": [
            "Sample 86/100: 100%|██████████| 32/32 [00:20<00:00,  1.54it/s]\n",
            "Sample 87/100:   0%|          | 0/31 [00:00<?, ?it/s]"
          ],
          "name": "stderr"
        },
        {
          "output_type": "stream",
          "text": [
            "--> Threshold 0.8600000000000003 / Num words to swap 3\n"
          ],
          "name": "stdout"
        },
        {
          "output_type": "stream",
          "text": [
            "Sample 87/100: 100%|██████████| 31/31 [00:20<00:00,  1.53it/s]\n",
            "Sample 88/100:   0%|          | 0/29 [00:00<?, ?it/s]"
          ],
          "name": "stderr"
        },
        {
          "output_type": "stream",
          "text": [
            "--> Threshold 0.8700000000000003 / Num words to swap 3\n"
          ],
          "name": "stdout"
        },
        {
          "output_type": "stream",
          "text": [
            "Sample 88/100: 100%|██████████| 29/29 [00:21<00:00,  1.37it/s]\n",
            "Sample 89/100:   0%|          | 0/23 [00:00<?, ?it/s]"
          ],
          "name": "stderr"
        },
        {
          "output_type": "stream",
          "text": [
            "--> Threshold 0.8800000000000003 / Num words to swap 3\n"
          ],
          "name": "stdout"
        },
        {
          "output_type": "stream",
          "text": [
            "Sample 89/100: 100%|██████████| 23/23 [00:15<00:00,  1.48it/s]\n",
            "Sample 90/100:   0%|          | 0/20 [00:00<?, ?it/s]"
          ],
          "name": "stderr"
        },
        {
          "output_type": "stream",
          "text": [
            "--> Threshold 0.8900000000000003 / Num words to swap 3\n"
          ],
          "name": "stdout"
        },
        {
          "output_type": "stream",
          "text": [
            "Sample 90/100: 100%|██████████| 20/20 [00:15<00:00,  1.27it/s]\n",
            "Sample 91/100:   0%|          | 0/16 [00:00<?, ?it/s]"
          ],
          "name": "stderr"
        },
        {
          "output_type": "stream",
          "text": [
            "--> Threshold 0.9000000000000004 / Num words to swap 3\n"
          ],
          "name": "stdout"
        },
        {
          "output_type": "stream",
          "text": [
            "Sample 91/100: 100%|██████████| 16/16 [00:13<00:00,  1.22it/s]\n",
            "Sample 92/100:   0%|          | 0/8 [00:00<?, ?it/s]"
          ],
          "name": "stderr"
        },
        {
          "output_type": "stream",
          "text": [
            "--> Threshold 0.9100000000000004 / Num words to swap 3\n"
          ],
          "name": "stdout"
        },
        {
          "output_type": "stream",
          "text": [
            "Sample 92/100: 100%|██████████| 8/8 [00:06<00:00,  1.18it/s]\n",
            "Sample 93/100:   0%|          | 0/4 [00:00<?, ?it/s]"
          ],
          "name": "stderr"
        },
        {
          "output_type": "stream",
          "text": [
            "--> Threshold 0.9200000000000004 / Num words to swap 3\n"
          ],
          "name": "stdout"
        },
        {
          "output_type": "stream",
          "text": [
            "Sample 93/100: 100%|██████████| 4/4 [00:04<00:00,  1.04s/it]\n",
            "Sample 94/100:   0%|          | 0/2 [00:00<?, ?it/s]"
          ],
          "name": "stderr"
        },
        {
          "output_type": "stream",
          "text": [
            "--> Threshold 0.9300000000000004 / Num words to swap 3\n"
          ],
          "name": "stdout"
        },
        {
          "output_type": "stream",
          "text": [
            "Sample 94/100: 100%|██████████| 2/2 [00:02<00:00,  1.10s/it]\n",
            "Sample 95/100:   0%|          | 0/1 [00:00<?, ?it/s]"
          ],
          "name": "stderr"
        },
        {
          "output_type": "stream",
          "text": [
            "--> Threshold 0.9400000000000004 / Num words to swap 3\n"
          ],
          "name": "stdout"
        },
        {
          "output_type": "stream",
          "text": [
            "Sample 95/100: 100%|██████████| 1/1 [00:01<00:00,  1.69s/it]"
          ],
          "name": "stderr"
        },
        {
          "output_type": "stream",
          "text": [
            "--> Threshold 0.9500000000000004 / Num words to swap 3\n",
            "--> Threshold 0.9600000000000004 / Num words to swap 3\n",
            "--> Threshold 0.9700000000000004 / Num words to swap 3\n",
            "--> Threshold 0.9800000000000004 / Num words to swap 3\n",
            "--> Threshold 0.9900000000000004 / Num words to swap 3\n"
          ],
          "name": "stdout"
        },
        {
          "output_type": "stream",
          "text": [
            "\n"
          ],
          "name": "stderr"
        }
      ]
    },
    {
      "cell_type": "markdown",
      "metadata": {
        "id": "JYajKHNTv96Y",
        "colab_type": "text"
      },
      "source": [
        "#### Experiment 2"
      ]
    },
    {
      "cell_type": "code",
      "metadata": {
        "id": "M-gwF_Bnv9HS",
        "colab_type": "code",
        "colab": {
          "base_uri": "https://localhost:8080/",
          "height": 1000,
          "referenced_widgets": [
            "fc3acc9b1e2646a58437753dfc4ca309",
            "6acd33e68bc64ad0a28c1c3fb3fbf97d",
            "c3dbc57cda954bad85fc168246336c92",
            "d6835947b6424bf2a2dffda8099af4f8",
            "52c8f89b982e458a9e8ef7c5860fdfd8",
            "64e3a228f69a44ba8046335a86637e69",
            "522aae5aaa0a47aba5ff02f04c108435",
            "c25d3ec1101e4c1fb4eebf76d6a4706b",
            "4242ce0a162e4556ab1cf58d3f8d9406",
            "eacc29f0342b43a6a4c61167cee1a702",
            "fa3f2dca9e9c42f08d5ac83d39ee27f7",
            "061ad76cded0405daf7b125225b0d58d",
            "3f7f0ee9f7d0496baf892e22cb89dbe7",
            "d0dad9bc887f4d1496d60860dddc988f",
            "486c08b5416e45b9ba9f51be3d8df2d6",
            "729d08ee4a944311b2ec4eaabf26eb48",
            "89c320adb26e41a08bfc04b34f3609bd",
            "a8b4757e650f46b8b7142df72f1919d1",
            "b374e05df29a4b58b171969fa6e4c60a",
            "198a7899c36c490a908cf6311a85a845",
            "8d75a6715f2041359ddc1dce5b6f5210",
            "ca724a863c77467d8db84a303efd4b4f",
            "0a31b01fc6ad4ea7a4006def9177d330",
            "87b824f3fd3b4a3bb9a29fff091be445",
            "edfa46dedec54e2db3780e4e22c98361",
            "0f83236ffb3847d9aae0703cdd1dd5ca",
            "d024631d7f9e4faf98d2040b31570a2c",
            "9630eacba60c48638e5114d7966f83de",
            "28331363dabf4e7494830ab97fb5aa3e",
            "0af9dc4abb404dc38a163364523052c1",
            "5977c5865e40405a8d857284edc799b3",
            "78daa6148dd7445aa3ff178cc83e5e52",
            "1ca4934817dd47e098dc683b5babe7ec",
            "4c7b8d89f50640e0bbe508fe8ff63ad9",
            "7b03337ed7b24075b12b1e696ec70c46",
            "264d4d947e82418cacc992322a17e948",
            "8e5a95eeba4843d1bbc36f4e37aa6940",
            "4ef22d5f1bb24aa4a2fbeb81868a4145",
            "af8578678f6a4de8bb4f9fe991116f71",
            "43fe4078ae4045a7a9d97ba4743ac0e1",
            "125b293683f84c8cb588e02e3eedef81",
            "15e61242838144d899ea0f662f9745b4",
            "554c8cf1aee64dd7b9fc6fe33d72a129",
            "36bffe0da5a0495791db0dae509c0e7a",
            "2b6824e7a0d2422dabc1383928198a44",
            "27f91bc4cb214eb8ba25264c8a9e4a04",
            "723596a1312b460bbe82055cd4aff8c3",
            "4cc46ea3d6bc488abf4d6d80768aee1c",
            "07cc621c194d400cafffe8676e16e894",
            "cf0f95e497a04c028130ba9d6363ea98",
            "af78fc32389a45d6bf4bf588ba6e0f0b",
            "43316ad01aa34e97b03bfa5b1f442bf3",
            "802d274a6527472896f63bc40c7fd57a",
            "8ccc13b0bf6a4f0ab5218999dea603dd",
            "fbe19e0d84bb4d97b4dce68f6e8d9a83",
            "06d230edb15943eb915b6ca800fe941e",
            "3aa3de7eb1234ad19563c4f0ff6abf3d",
            "0063992f865a4899bf7e118624cdb72a",
            "823524ec32af45da92185b551e9eec99",
            "30769eef88094e92be44371c87b15675",
            "2322f78c7f7f4b8eb886a2c59c451970",
            "ac22d94ce2ed484189f18d2c3ffbf42b",
            "ca06df3b846b46c5a9e40ac75fb67478",
            "4cdc5fb068d74c86b7f4975c36342da3",
            "6b192c0ef8c34ae9aa418a11bad0bc80",
            "0dc0b815eefd4916b0696aafb2c38e63",
            "a1228f647d2340038b2e192a5c83593d",
            "1398a45a33ee4622869467eadf34951a",
            "5cc056ccf9b041ea816cde8ecbf7e8d4",
            "334fbad4dd9145bb9436c783d6c82a9f",
            "5462a8b47f244942a18459f0eeec776c",
            "9c311902514d4328a182c22c68490308",
            "86e7b665d4184707ad4c52246244f4ea",
            "a873ee7f57824e6898525661e68053d8",
            "eda5a71f2a3d4beba1c53f8d10093d3e",
            "3717fbd0813247368495b48e27d2d429",
            "ee2e002aae0f4310ac193f034d9fddc3",
            "84b72e7d2a1a4e3d8f2bb4f1198c6894",
            "c01b3515e2154411b6412a98424aa37e",
            "c7dbd3d7128d47dbb0fcc0e498f800c4",
            "124845c85d4a454e8dcea0eff0056d64",
            "92a1b37d71184f5295dd251b0dbc0181",
            "e690c67018a7403486513823113c0eb7",
            "11ee65fa18e640d6afa2fd0a80e79e9d",
            "2747a86094d141a9b1667a7e50801429",
            "35f2133006a64e0dae142e0cf3ce5d7c",
            "b2a225af7f8d4fe0ab1f542648acc3c3",
            "df34ee04b44a4cfda281187877b65436",
            "e9fd456483264bb39dbb64595a4363f6",
            "4503714400a14c6b9feeb40e4f4b6940",
            "13d3cfbdcca448ce83b5f52d255c4f24",
            "2a6d2be5330140c9b1542770ad621180",
            "5b6e20163f184536881b47be399d5f91",
            "78bc9ca108694d399fcfb372a2879f48",
            "e118a5ffa2a1467cb6a394285d1d02cd",
            "7ad6a0b0e4ac4d179762a1c6c67b9d31",
            "7840155ddf4043f2812abb6f8c4e0146",
            "793df9bae6c84630aa44d345a6e74896",
            "aeb18d79ea4c4dd1a3c3cdc1edf10100",
            "4ab30b042376481fa9c418e3c1f874e3",
            "e8bd5b5c6578449281e640a4e7e4d191",
            "ae17dd78117f48139f408d3a7f8f947b",
            "85ff5a5db6b845e9849e067d0e8488df",
            "374fe6859bd744f9b6307729367455a9",
            "976d5d1f80884ed18ac6b1c3e5b02a7e",
            "3e980dae44304788a7da023ee273a731",
            "933f0cf028e34a4aa511eea66ecdd3f9",
            "97148e7ba834462791c5f165787d295c",
            "230b3440267e4e8b8c421b5a2a350e6a",
            "2229140f23004145a258e6e24ad2067b",
            "3eb911823339445694001123319a28a8",
            "bd8a585cbd404e56a3dae1bc2e83ccfb",
            "5cee71e0d900444d958e0a16764a810c",
            "aff06071e0c54d78a6fbfb5fe935493c",
            "87e63b04a6fa4e84bc08b90f572125fc",
            "e56b38dc1b114d0eab81f4180390e000",
            "5dfb276823084f1f90de4ab707e8133c",
            "f6c8098c572a44359f6ce88844bf5020",
            "27f5668fa30d4b5681a65fb9ade61d3d",
            "4850fddeda12499696477d3a655e498f"
          ]
        },
        "outputId": "9c8cd1d9-917b-4b6f-9f51-886caace44a2"
      },
      "source": [
        "from textattack.constraints.grammaticality.language_models import GPT2\n",
        "from textattack.constraints.semantics import BERTScore\n",
        "from textattack.constraints.semantics.sentence_encoders import UniversalSentenceEncoder\n",
        "from textattack.constraints.pre_transformation import InputColumnModification, RepeatModification, StopwordModification\n",
        "from textattack.datasets import HuggingFaceNlpDataset\n",
        "from textattack.goal_functions import UntargetedClassification\n",
        "from textattack.search_methods import GreedyWordSwapWIR\n",
        "from textattack.shared import Attack\n",
        "from textattack.transformations import WordSwapEmbedding\n",
        "\n",
        "import numpy as np\n",
        "import torch\n",
        "import tqdm\n",
        "\n",
        "transformation = WordSwapEmbedding()\n",
        "\n",
        "import textattack\n",
        "import transformers\n",
        "\n",
        "# We'll constrain modification of already modified indices and stopwords\n",
        "constraints = [RepeatModification(), StopwordModification()]\n",
        "# don't attack premise in entailment\n",
        "constraints.append(InputColumnModification([\"premise\", \"hypothesis\"], {\"premise\"}))\n",
        "# use GPT2 to try and make sentences somewhat plausible\n",
        "constraints.append(GPT2(max_log_prob_diff=2.0))\n",
        "\n",
        "# Use SST-2 dataset\n",
        "dataset = HuggingFaceNlpDataset(\"glue\", \"sst2\", \"validation\", shuffle=True)\n",
        "\n",
        "data2 = []\n",
        "\n",
        "all_constraints = ('bertscore', 'use')\n",
        "threshold_vals = np.arange(.50, 1.0, .01)[::-1] # start with highest constraint level!\n",
        "\n",
        "all_models = (\"textattack/bert-base-uncased-SST-2\", \"textattack/albert-base-v2-SST-2\", \"textattack/distilbert-base-cased-SST-2\")\n",
        "for model_idx, model_path in enumerate(all_models):\n",
        "  # model to attack & goal function\n",
        "  print('Model -->', model_path)\n",
        "  tokenizer = textattack.models.tokenizers.AutoTokenizer(model_path)\n",
        "  model = transformers.AutoModelForSequenceClassification.from_pretrained(model_path)\n",
        "  model = textattack.models.wrappers.HuggingFaceModelWrapper(model, tokenizer, batch_size=16)\n",
        "  goal_function = UntargetedClassification(model)\n",
        "  for constraint_idx, constraint_name in enumerate(all_constraints):\n",
        "    print(f'----> constraint {constraint_name}')\n",
        "    # We know this first-order succeeds fails most of the time, and succeeds more as the \n",
        "    # threshold decreases. Any example that succeeds will continue to succeed. We take \n",
        "    # advantage of this fact through caching.\n",
        "    known_success_idxs = set()\n",
        "    if constraint_name == 'use':\n",
        "        constraint = UniversalSentenceEncoder(\n",
        "        threshold=0.0,\n",
        "        compare_against_original=True,\n",
        "        skip_text_shorter_than_window=False,\n",
        "      )\n",
        "    else:\n",
        "      constraint = BERTScore(\n",
        "        min_bert_score=0.0, # don't need this\n",
        "        model=\"bert-base-uncased\",\n",
        "        score_type=\"f1\",\n",
        "        compare_against_original=True,\n",
        "      )\n",
        "    for threshold_idx, threshold in enumerate(threshold_vals):\n",
        "      if constraint_name == 'use':\n",
        "        constraint.threshold = threshold\n",
        "      else:\n",
        "        constraint.min_bert_score = threshold\n",
        "      print(f'--> Threshold {threshold}')\n",
        "      these_constraints = constraints + [constraint]\n",
        "      # search method\n",
        "      search_method = GreedyWordSwapWIR()\n",
        "      # Now, let's make the attack from the 4 components:\n",
        "      attack = Attack(goal_function, these_constraints, transformation, search_method)\n",
        "\n",
        "      # calculate all the idxs we don't know succeed already and use this to\n",
        "      # avoid recomputing unnecessary attacks\n",
        "      idxs_to_attack = set(range(num_samples)) - known_success_idxs\n",
        "      idxs_to_attack = sorted(list(idxs_to_attack))\n",
        "\n",
        "      if len(idxs_to_attack):\n",
        "        this_sample_idx = (constraint_idx * len(threshold_vals)) + threshold_idx + 1\n",
        "        total_num_samples = len(all_constraints) * len(threshold_vals)\n",
        "        results_iterable = list(\n",
        "            tqdm.tqdm(attack.attack_dataset(dataset, indices=idxs_to_attack),\n",
        "                total=len(idxs_to_attack), \n",
        "                position=0, leave=True, \n",
        "                desc=f'Sample {this_sample_idx}/{total_num_samples}')\n",
        "            )\n",
        "      else:\n",
        "        results_iterable = []\n",
        "      \n",
        "      # num_successes = len([r for r in results_iterable if isinstance(r, textattack.attack_results.SuccessfulAttackResult)])\n",
        "      for result_idx, result in zip(idxs_to_attack, results_iterable):\n",
        "        if isinstance(result, textattack.attack_results.SuccessfulAttackResult):\n",
        "          known_success_idxs.add(result_idx)\n",
        "      num_successes = len(known_success_idxs)\n",
        "\n",
        "      data2.append({ \n",
        "          'constraint': type(constraint).__name__, \n",
        "          'threshold': threshold, \n",
        "          'model': model_path,\n",
        "          # 'results': results_iterable,\n",
        "          'num_successes': num_successes\n",
        "        })"
      ],
      "execution_count": 6,
      "outputs": [
        {
          "output_type": "stream",
          "text": [
            "\u001b[34;1mtextattack\u001b[0m: Downloading https://textattack.s3.amazonaws.com/word_embeddings/paragramcf.\n",
            "100%|██████████| 481M/481M [00:12<00:00, 38.5MB/s]\n",
            "\u001b[34;1mtextattack\u001b[0m: Unzipping file /root/.cache/textattack/tmpvg1wm747.zip to /root/.cache/textattack/word_embeddings/paragramcf.\n",
            "\u001b[34;1mtextattack\u001b[0m: Successfully saved word_embeddings/paragramcf to cache.\n",
            "Some weights of GPT2LMHeadModel were not initialized from the model checkpoint at gpt2 and are newly initialized: ['h.0.attn.masked_bias', 'h.1.attn.masked_bias', 'h.2.attn.masked_bias', 'h.3.attn.masked_bias', 'h.4.attn.masked_bias', 'h.5.attn.masked_bias', 'h.6.attn.masked_bias', 'h.7.attn.masked_bias', 'h.8.attn.masked_bias', 'h.9.attn.masked_bias', 'h.10.attn.masked_bias', 'h.11.attn.masked_bias', 'lm_head.weight']\n",
            "You should probably TRAIN this model on a down-stream task to be able to use it for predictions and inference.\n",
            "\u001b[34;1mtextattack\u001b[0m: Loading \u001b[94mnlp\u001b[0m dataset \u001b[94mglue\u001b[0m, subset \u001b[94msst2\u001b[0m, split \u001b[94mvalidation\u001b[0m.\n"
          ],
          "name": "stderr"
        },
        {
          "output_type": "stream",
          "text": [
            "Model --> textattack/bert-base-uncased-SST-2\n"
          ],
          "name": "stdout"
        },
        {
          "output_type": "display_data",
          "data": {
            "application/vnd.jupyter.widget-view+json": {
              "model_id": "fc3acc9b1e2646a58437753dfc4ca309",
              "version_minor": 0,
              "version_major": 2
            },
            "text/plain": [
              "HBox(children=(FloatProgress(value=0.0, description='Downloading', max=477.0, style=ProgressStyle(description_…"
            ]
          },
          "metadata": {
            "tags": []
          }
        },
        {
          "output_type": "stream",
          "text": [
            "\n"
          ],
          "name": "stdout"
        },
        {
          "output_type": "display_data",
          "data": {
            "application/vnd.jupyter.widget-view+json": {
              "model_id": "4242ce0a162e4556ab1cf58d3f8d9406",
              "version_minor": 0,
              "version_major": 2
            },
            "text/plain": [
              "HBox(children=(FloatProgress(value=0.0, description='Downloading', max=231508.0, style=ProgressStyle(descripti…"
            ]
          },
          "metadata": {
            "tags": []
          }
        },
        {
          "output_type": "stream",
          "text": [
            "\n"
          ],
          "name": "stdout"
        },
        {
          "output_type": "display_data",
          "data": {
            "application/vnd.jupyter.widget-view+json": {
              "model_id": "89c320adb26e41a08bfc04b34f3609bd",
              "version_minor": 0,
              "version_major": 2
            },
            "text/plain": [
              "HBox(children=(FloatProgress(value=0.0, description='Downloading', max=112.0, style=ProgressStyle(description_…"
            ]
          },
          "metadata": {
            "tags": []
          }
        },
        {
          "output_type": "stream",
          "text": [
            "\n"
          ],
          "name": "stdout"
        },
        {
          "output_type": "display_data",
          "data": {
            "application/vnd.jupyter.widget-view+json": {
              "model_id": "edfa46dedec54e2db3780e4e22c98361",
              "version_minor": 0,
              "version_major": 2
            },
            "text/plain": [
              "HBox(children=(FloatProgress(value=0.0, description='Downloading', max=48.0, style=ProgressStyle(description_w…"
            ]
          },
          "metadata": {
            "tags": []
          }
        },
        {
          "output_type": "stream",
          "text": [
            "\n"
          ],
          "name": "stdout"
        },
        {
          "output_type": "display_data",
          "data": {
            "application/vnd.jupyter.widget-view+json": {
              "model_id": "1ca4934817dd47e098dc683b5babe7ec",
              "version_minor": 0,
              "version_major": 2
            },
            "text/plain": [
              "HBox(children=(FloatProgress(value=0.0, description='Downloading', max=437985387.0, style=ProgressStyle(descri…"
            ]
          },
          "metadata": {
            "tags": []
          }
        },
        {
          "output_type": "stream",
          "text": [
            "\n"
          ],
          "name": "stdout"
        },
        {
          "output_type": "stream",
          "text": [
            "\u001b[34;1mtextattack\u001b[0m: Unknown if model of class <class 'textattack.models.wrappers.huggingface_model_wrapper.HuggingFaceModelWrapper'> compatible with goal function <class 'textattack.goal_functions.classification.untargeted_classification.UntargetedClassification'>.\n"
          ],
          "name": "stderr"
        },
        {
          "output_type": "stream",
          "text": [
            "----> constraint bertscore\n"
          ],
          "name": "stdout"
        },
        {
          "output_type": "stream",
          "text": [
            "\rSample 1/100:   0%|          | 0/50 [00:00<?, ?it/s]"
          ],
          "name": "stderr"
        },
        {
          "output_type": "stream",
          "text": [
            "--> Threshold 0.9900000000000004\n"
          ],
          "name": "stdout"
        },
        {
          "output_type": "stream",
          "text": [
            "Sample 1/100: 100%|██████████| 50/50 [02:02<00:00,  2.45s/it]\n",
            "Sample 2/100:   0%|          | 0/50 [00:00<?, ?it/s]"
          ],
          "name": "stderr"
        },
        {
          "output_type": "stream",
          "text": [
            "--> Threshold 0.9800000000000004\n"
          ],
          "name": "stdout"
        },
        {
          "output_type": "stream",
          "text": [
            "Sample 2/100: 100%|██████████| 50/50 [01:55<00:00,  2.30s/it]\n",
            "Sample 3/100:   0%|          | 0/48 [00:00<?, ?it/s]"
          ],
          "name": "stderr"
        },
        {
          "output_type": "stream",
          "text": [
            "--> Threshold 0.9700000000000004\n"
          ],
          "name": "stdout"
        },
        {
          "output_type": "stream",
          "text": [
            "Sample 3/100: 100%|██████████| 48/48 [01:47<00:00,  2.23s/it]\n",
            "Sample 4/100:   0%|          | 0/45 [00:00<?, ?it/s]"
          ],
          "name": "stderr"
        },
        {
          "output_type": "stream",
          "text": [
            "--> Threshold 0.9600000000000004\n"
          ],
          "name": "stdout"
        },
        {
          "output_type": "stream",
          "text": [
            "Sample 4/100: 100%|██████████| 45/45 [01:45<00:00,  2.35s/it]\n",
            "Sample 5/100:   0%|          | 0/44 [00:00<?, ?it/s]"
          ],
          "name": "stderr"
        },
        {
          "output_type": "stream",
          "text": [
            "--> Threshold 0.9500000000000004\n"
          ],
          "name": "stdout"
        },
        {
          "output_type": "stream",
          "text": [
            "Sample 5/100: 100%|██████████| 44/44 [01:38<00:00,  2.23s/it]\n",
            "Sample 6/100:   0%|          | 0/41 [00:00<?, ?it/s]"
          ],
          "name": "stderr"
        },
        {
          "output_type": "stream",
          "text": [
            "--> Threshold 0.9400000000000004\n"
          ],
          "name": "stdout"
        },
        {
          "output_type": "stream",
          "text": [
            "Sample 6/100: 100%|██████████| 41/41 [01:33<00:00,  2.28s/it]\n",
            "Sample 7/100:   0%|          | 0/40 [00:00<?, ?it/s]"
          ],
          "name": "stderr"
        },
        {
          "output_type": "stream",
          "text": [
            "--> Threshold 0.9300000000000004\n"
          ],
          "name": "stdout"
        },
        {
          "output_type": "stream",
          "text": [
            "Sample 7/100: 100%|██████████| 40/40 [01:31<00:00,  2.29s/it]\n",
            "Sample 8/100:   0%|          | 0/38 [00:00<?, ?it/s]"
          ],
          "name": "stderr"
        },
        {
          "output_type": "stream",
          "text": [
            "--> Threshold 0.9200000000000004\n"
          ],
          "name": "stdout"
        },
        {
          "output_type": "stream",
          "text": [
            "Sample 8/100: 100%|██████████| 38/38 [01:24<00:00,  2.23s/it]\n",
            "Sample 9/100:   0%|          | 0/36 [00:00<?, ?it/s]"
          ],
          "name": "stderr"
        },
        {
          "output_type": "stream",
          "text": [
            "--> Threshold 0.9100000000000004\n"
          ],
          "name": "stdout"
        },
        {
          "output_type": "stream",
          "text": [
            "Sample 9/100: 100%|██████████| 36/36 [01:18<00:00,  2.18s/it]\n",
            "Sample 10/100:   0%|          | 0/34 [00:00<?, ?it/s]"
          ],
          "name": "stderr"
        },
        {
          "output_type": "stream",
          "text": [
            "--> Threshold 0.9000000000000004\n"
          ],
          "name": "stdout"
        },
        {
          "output_type": "stream",
          "text": [
            "Sample 10/100: 100%|██████████| 34/34 [01:15<00:00,  2.22s/it]\n",
            "Sample 11/100:   0%|          | 0/32 [00:00<?, ?it/s]"
          ],
          "name": "stderr"
        },
        {
          "output_type": "stream",
          "text": [
            "--> Threshold 0.8900000000000003\n"
          ],
          "name": "stdout"
        },
        {
          "output_type": "stream",
          "text": [
            "Sample 11/100: 100%|██████████| 32/32 [01:10<00:00,  2.20s/it]\n",
            "Sample 12/100:   0%|          | 0/31 [00:00<?, ?it/s]"
          ],
          "name": "stderr"
        },
        {
          "output_type": "stream",
          "text": [
            "--> Threshold 0.8800000000000003\n"
          ],
          "name": "stdout"
        },
        {
          "output_type": "stream",
          "text": [
            "Sample 12/100: 100%|██████████| 31/31 [01:09<00:00,  2.26s/it]\n",
            "Sample 13/100:   0%|          | 0/31 [00:00<?, ?it/s]"
          ],
          "name": "stderr"
        },
        {
          "output_type": "stream",
          "text": [
            "--> Threshold 0.8700000000000003\n"
          ],
          "name": "stdout"
        },
        {
          "output_type": "stream",
          "text": [
            "Sample 13/100: 100%|██████████| 31/31 [01:10<00:00,  2.27s/it]\n",
            "Sample 14/100:   0%|          | 0/31 [00:00<?, ?it/s]"
          ],
          "name": "stderr"
        },
        {
          "output_type": "stream",
          "text": [
            "--> Threshold 0.8600000000000003\n"
          ],
          "name": "stdout"
        },
        {
          "output_type": "stream",
          "text": [
            "Sample 14/100: 100%|██████████| 31/31 [01:09<00:00,  2.24s/it]\n",
            "Sample 15/100:   0%|          | 0/29 [00:00<?, ?it/s]"
          ],
          "name": "stderr"
        },
        {
          "output_type": "stream",
          "text": [
            "--> Threshold 0.8500000000000003\n"
          ],
          "name": "stdout"
        },
        {
          "output_type": "stream",
          "text": [
            "Sample 15/100: 100%|██████████| 29/29 [01:01<00:00,  2.13s/it]\n",
            "Sample 16/100:   0%|          | 0/27 [00:00<?, ?it/s]"
          ],
          "name": "stderr"
        },
        {
          "output_type": "stream",
          "text": [
            "--> Threshold 0.8400000000000003\n"
          ],
          "name": "stdout"
        },
        {
          "output_type": "stream",
          "text": [
            "Sample 16/100: 100%|██████████| 27/27 [00:58<00:00,  2.15s/it]\n",
            "Sample 17/100:   0%|          | 0/25 [00:00<?, ?it/s]"
          ],
          "name": "stderr"
        },
        {
          "output_type": "stream",
          "text": [
            "--> Threshold 0.8300000000000003\n"
          ],
          "name": "stdout"
        },
        {
          "output_type": "stream",
          "text": [
            "Sample 17/100: 100%|██████████| 25/25 [00:54<00:00,  2.20s/it]\n",
            "Sample 18/100:   0%|          | 0/24 [00:00<?, ?it/s]"
          ],
          "name": "stderr"
        },
        {
          "output_type": "stream",
          "text": [
            "--> Threshold 0.8200000000000003\n"
          ],
          "name": "stdout"
        },
        {
          "output_type": "stream",
          "text": [
            "Sample 18/100: 100%|██████████| 24/24 [00:51<00:00,  2.16s/it]\n",
            "Sample 19/100:   0%|          | 0/22 [00:00<?, ?it/s]"
          ],
          "name": "stderr"
        },
        {
          "output_type": "stream",
          "text": [
            "--> Threshold 0.8100000000000003\n"
          ],
          "name": "stdout"
        },
        {
          "output_type": "stream",
          "text": [
            "Sample 19/100: 100%|██████████| 22/22 [00:44<00:00,  2.03s/it]\n",
            "Sample 20/100:   0%|          | 0/20 [00:00<?, ?it/s]"
          ],
          "name": "stderr"
        },
        {
          "output_type": "stream",
          "text": [
            "--> Threshold 0.8000000000000003\n"
          ],
          "name": "stdout"
        },
        {
          "output_type": "stream",
          "text": [
            "Sample 20/100: 100%|██████████| 20/20 [00:40<00:00,  2.04s/it]\n",
            "Sample 21/100:   0%|          | 0/19 [00:00<?, ?it/s]"
          ],
          "name": "stderr"
        },
        {
          "output_type": "stream",
          "text": [
            "--> Threshold 0.7900000000000003\n"
          ],
          "name": "stdout"
        },
        {
          "output_type": "stream",
          "text": [
            "Sample 21/100: 100%|██████████| 19/19 [00:40<00:00,  2.14s/it]\n",
            "Sample 22/100:   0%|          | 0/19 [00:00<?, ?it/s]"
          ],
          "name": "stderr"
        },
        {
          "output_type": "stream",
          "text": [
            "--> Threshold 0.7800000000000002\n"
          ],
          "name": "stdout"
        },
        {
          "output_type": "stream",
          "text": [
            "Sample 22/100: 100%|██████████| 19/19 [00:40<00:00,  2.14s/it]\n",
            "Sample 23/100:   0%|          | 0/18 [00:00<?, ?it/s]"
          ],
          "name": "stderr"
        },
        {
          "output_type": "stream",
          "text": [
            "--> Threshold 0.7700000000000002\n"
          ],
          "name": "stdout"
        },
        {
          "output_type": "stream",
          "text": [
            "Sample 23/100: 100%|██████████| 18/18 [00:38<00:00,  2.17s/it]\n",
            "Sample 24/100:   0%|          | 0/18 [00:00<?, ?it/s]"
          ],
          "name": "stderr"
        },
        {
          "output_type": "stream",
          "text": [
            "--> Threshold 0.7600000000000002\n"
          ],
          "name": "stdout"
        },
        {
          "output_type": "stream",
          "text": [
            "Sample 24/100: 100%|██████████| 18/18 [00:38<00:00,  2.11s/it]\n",
            "Sample 25/100:   0%|          | 0/17 [00:00<?, ?it/s]"
          ],
          "name": "stderr"
        },
        {
          "output_type": "stream",
          "text": [
            "--> Threshold 0.7500000000000002\n"
          ],
          "name": "stdout"
        },
        {
          "output_type": "stream",
          "text": [
            "Sample 25/100: 100%|██████████| 17/17 [00:33<00:00,  1.99s/it]\n",
            "Sample 26/100:   0%|          | 0/17 [00:00<?, ?it/s]"
          ],
          "name": "stderr"
        },
        {
          "output_type": "stream",
          "text": [
            "--> Threshold 0.7400000000000002\n"
          ],
          "name": "stdout"
        },
        {
          "output_type": "stream",
          "text": [
            "Sample 26/100: 100%|██████████| 17/17 [00:33<00:00,  1.99s/it]\n",
            "Sample 27/100:   0%|          | 0/15 [00:00<?, ?it/s]"
          ],
          "name": "stderr"
        },
        {
          "output_type": "stream",
          "text": [
            "--> Threshold 0.7300000000000002\n"
          ],
          "name": "stdout"
        },
        {
          "output_type": "stream",
          "text": [
            "Sample 27/100: 100%|██████████| 15/15 [00:29<00:00,  1.98s/it]\n",
            "Sample 28/100:   0%|          | 0/15 [00:00<?, ?it/s]"
          ],
          "name": "stderr"
        },
        {
          "output_type": "stream",
          "text": [
            "--> Threshold 0.7200000000000002\n"
          ],
          "name": "stdout"
        },
        {
          "output_type": "stream",
          "text": [
            "Sample 28/100: 100%|██████████| 15/15 [00:29<00:00,  1.98s/it]\n",
            "Sample 29/100:   0%|          | 0/15 [00:00<?, ?it/s]"
          ],
          "name": "stderr"
        },
        {
          "output_type": "stream",
          "text": [
            "--> Threshold 0.7100000000000002\n"
          ],
          "name": "stdout"
        },
        {
          "output_type": "stream",
          "text": [
            "Sample 29/100: 100%|██████████| 15/15 [00:29<00:00,  1.96s/it]\n",
            "Sample 30/100:   0%|          | 0/14 [00:00<?, ?it/s]"
          ],
          "name": "stderr"
        },
        {
          "output_type": "stream",
          "text": [
            "--> Threshold 0.7000000000000002\n"
          ],
          "name": "stdout"
        },
        {
          "output_type": "stream",
          "text": [
            "Sample 30/100: 100%|██████████| 14/14 [00:28<00:00,  2.06s/it]\n",
            "Sample 31/100:   0%|          | 0/14 [00:00<?, ?it/s]"
          ],
          "name": "stderr"
        },
        {
          "output_type": "stream",
          "text": [
            "--> Threshold 0.6900000000000002\n"
          ],
          "name": "stdout"
        },
        {
          "output_type": "stream",
          "text": [
            "Sample 31/100: 100%|██████████| 14/14 [00:28<00:00,  2.07s/it]\n",
            "Sample 32/100:   0%|          | 0/14 [00:00<?, ?it/s]"
          ],
          "name": "stderr"
        },
        {
          "output_type": "stream",
          "text": [
            "--> Threshold 0.6800000000000002\n"
          ],
          "name": "stdout"
        },
        {
          "output_type": "stream",
          "text": [
            "Sample 32/100: 100%|██████████| 14/14 [00:29<00:00,  2.09s/it]\n",
            "Sample 33/100:   0%|          | 0/14 [00:00<?, ?it/s]"
          ],
          "name": "stderr"
        },
        {
          "output_type": "stream",
          "text": [
            "--> Threshold 0.6700000000000002\n"
          ],
          "name": "stdout"
        },
        {
          "output_type": "stream",
          "text": [
            "Sample 33/100: 100%|██████████| 14/14 [00:28<00:00,  2.06s/it]\n",
            "Sample 34/100:   0%|          | 0/13 [00:00<?, ?it/s]"
          ],
          "name": "stderr"
        },
        {
          "output_type": "stream",
          "text": [
            "--> Threshold 0.6600000000000001\n"
          ],
          "name": "stdout"
        },
        {
          "output_type": "stream",
          "text": [
            "Sample 34/100: 100%|██████████| 13/13 [00:27<00:00,  2.09s/it]\n",
            "Sample 35/100:   0%|          | 0/13 [00:00<?, ?it/s]"
          ],
          "name": "stderr"
        },
        {
          "output_type": "stream",
          "text": [
            "--> Threshold 0.6500000000000001\n"
          ],
          "name": "stdout"
        },
        {
          "output_type": "stream",
          "text": [
            "Sample 35/100: 100%|██████████| 13/13 [00:27<00:00,  2.10s/it]\n",
            "Sample 36/100:   0%|          | 0/12 [00:00<?, ?it/s]"
          ],
          "name": "stderr"
        },
        {
          "output_type": "stream",
          "text": [
            "--> Threshold 0.6400000000000001\n"
          ],
          "name": "stdout"
        },
        {
          "output_type": "stream",
          "text": [
            "Sample 36/100: 100%|██████████| 12/12 [00:24<00:00,  2.07s/it]\n",
            "Sample 37/100:   0%|          | 0/12 [00:00<?, ?it/s]"
          ],
          "name": "stderr"
        },
        {
          "output_type": "stream",
          "text": [
            "--> Threshold 0.6300000000000001\n"
          ],
          "name": "stdout"
        },
        {
          "output_type": "stream",
          "text": [
            "Sample 37/100: 100%|██████████| 12/12 [00:23<00:00,  1.97s/it]\n",
            "Sample 38/100:   0%|          | 0/11 [00:00<?, ?it/s]"
          ],
          "name": "stderr"
        },
        {
          "output_type": "stream",
          "text": [
            "--> Threshold 0.6200000000000001\n"
          ],
          "name": "stdout"
        },
        {
          "output_type": "stream",
          "text": [
            "Sample 38/100: 100%|██████████| 11/11 [00:19<00:00,  1.79s/it]\n",
            "Sample 39/100:   0%|          | 0/11 [00:00<?, ?it/s]"
          ],
          "name": "stderr"
        },
        {
          "output_type": "stream",
          "text": [
            "--> Threshold 0.6100000000000001\n"
          ],
          "name": "stdout"
        },
        {
          "output_type": "stream",
          "text": [
            "Sample 39/100: 100%|██████████| 11/11 [00:19<00:00,  1.79s/it]\n",
            "Sample 40/100:   0%|          | 0/11 [00:00<?, ?it/s]"
          ],
          "name": "stderr"
        },
        {
          "output_type": "stream",
          "text": [
            "--> Threshold 0.6000000000000001\n"
          ],
          "name": "stdout"
        },
        {
          "output_type": "stream",
          "text": [
            "Sample 40/100: 100%|██████████| 11/11 [00:19<00:00,  1.79s/it]\n",
            "Sample 41/100:   0%|          | 0/11 [00:00<?, ?it/s]"
          ],
          "name": "stderr"
        },
        {
          "output_type": "stream",
          "text": [
            "--> Threshold 0.5900000000000001\n"
          ],
          "name": "stdout"
        },
        {
          "output_type": "stream",
          "text": [
            "Sample 41/100: 100%|██████████| 11/11 [00:19<00:00,  1.79s/it]\n",
            "Sample 42/100:   0%|          | 0/11 [00:00<?, ?it/s]"
          ],
          "name": "stderr"
        },
        {
          "output_type": "stream",
          "text": [
            "--> Threshold 0.5800000000000001\n"
          ],
          "name": "stdout"
        },
        {
          "output_type": "stream",
          "text": [
            "Sample 42/100: 100%|██████████| 11/11 [00:19<00:00,  1.79s/it]\n",
            "Sample 43/100:   0%|          | 0/11 [00:00<?, ?it/s]"
          ],
          "name": "stderr"
        },
        {
          "output_type": "stream",
          "text": [
            "--> Threshold 0.5700000000000001\n"
          ],
          "name": "stdout"
        },
        {
          "output_type": "stream",
          "text": [
            "Sample 43/100: 100%|██████████| 11/11 [00:19<00:00,  1.79s/it]\n",
            "Sample 44/100:   0%|          | 0/11 [00:00<?, ?it/s]"
          ],
          "name": "stderr"
        },
        {
          "output_type": "stream",
          "text": [
            "--> Threshold 0.56\n"
          ],
          "name": "stdout"
        },
        {
          "output_type": "stream",
          "text": [
            "Sample 44/100: 100%|██████████| 11/11 [00:19<00:00,  1.79s/it]\n",
            "Sample 45/100:   0%|          | 0/11 [00:00<?, ?it/s]"
          ],
          "name": "stderr"
        },
        {
          "output_type": "stream",
          "text": [
            "--> Threshold 0.55\n"
          ],
          "name": "stdout"
        },
        {
          "output_type": "stream",
          "text": [
            "Sample 45/100: 100%|██████████| 11/11 [00:19<00:00,  1.78s/it]\n",
            "Sample 46/100:   0%|          | 0/11 [00:00<?, ?it/s]"
          ],
          "name": "stderr"
        },
        {
          "output_type": "stream",
          "text": [
            "--> Threshold 0.54\n"
          ],
          "name": "stdout"
        },
        {
          "output_type": "stream",
          "text": [
            "Sample 46/100: 100%|██████████| 11/11 [00:19<00:00,  1.80s/it]\n",
            "Sample 47/100:   0%|          | 0/11 [00:00<?, ?it/s]"
          ],
          "name": "stderr"
        },
        {
          "output_type": "stream",
          "text": [
            "--> Threshold 0.53\n"
          ],
          "name": "stdout"
        },
        {
          "output_type": "stream",
          "text": [
            "Sample 47/100: 100%|██████████| 11/11 [00:19<00:00,  1.80s/it]\n",
            "Sample 48/100:   0%|          | 0/11 [00:00<?, ?it/s]"
          ],
          "name": "stderr"
        },
        {
          "output_type": "stream",
          "text": [
            "--> Threshold 0.52\n"
          ],
          "name": "stdout"
        },
        {
          "output_type": "stream",
          "text": [
            "Sample 48/100: 100%|██████████| 11/11 [00:19<00:00,  1.79s/it]\n",
            "Sample 49/100:   0%|          | 0/11 [00:00<?, ?it/s]"
          ],
          "name": "stderr"
        },
        {
          "output_type": "stream",
          "text": [
            "--> Threshold 0.51\n"
          ],
          "name": "stdout"
        },
        {
          "output_type": "stream",
          "text": [
            "Sample 49/100: 100%|██████████| 11/11 [00:19<00:00,  1.79s/it]\n",
            "Sample 50/100:   0%|          | 0/11 [00:00<?, ?it/s]"
          ],
          "name": "stderr"
        },
        {
          "output_type": "stream",
          "text": [
            "--> Threshold 0.5\n"
          ],
          "name": "stdout"
        },
        {
          "output_type": "stream",
          "text": [
            "Sample 50/100: 100%|██████████| 11/11 [00:19<00:00,  1.79s/it]\n"
          ],
          "name": "stderr"
        },
        {
          "output_type": "stream",
          "text": [
            "----> constraint use\n"
          ],
          "name": "stdout"
        },
        {
          "output_type": "stream",
          "text": [
            "Exception ignored in: <bound method CapturableResourceDeleter.__del__ of <tensorflow.python.training.tracking.tracking.CapturableResourceDeleter object at 0x7f422fe28d68>>\n",
            "Traceback (most recent call last):\n",
            "  File \"/usr/local/lib/python3.6/dist-packages/tensorflow/python/training/tracking/tracking.py\", line 202, in __del__\n",
            "    self._destroy_resource()\n",
            "  File \"/usr/local/lib/python3.6/dist-packages/tensorflow/python/eager/def_function.py\", line 780, in __call__\n",
            "    result = self._call(*args, **kwds)\n",
            "  File \"/usr/local/lib/python3.6/dist-packages/tensorflow/python/eager/def_function.py\", line 823, in _call\n",
            "    self._initialize(args, kwds, add_initializers_to=initializers)\n",
            "  File \"/usr/local/lib/python3.6/dist-packages/tensorflow/python/eager/def_function.py\", line 697, in _initialize\n",
            "    *args, **kwds))\n",
            "  File \"/usr/local/lib/python3.6/dist-packages/tensorflow/python/eager/function.py\", line 2855, in _get_concrete_function_internal_garbage_collected\n",
            "    graph_function, _, _ = self._maybe_define_function(args, kwargs)\n",
            "  File \"/usr/local/lib/python3.6/dist-packages/tensorflow/python/eager/function.py\", line 3213, in _maybe_define_function\n",
            "    graph_function = self._create_graph_function(args, kwargs)\n",
            "  File \"/usr/local/lib/python3.6/dist-packages/tensorflow/python/eager/function.py\", line 3075, in _create_graph_function\n",
            "    capture_by_value=self._capture_by_value),\n",
            "  File \"/usr/local/lib/python3.6/dist-packages/tensorflow/python/framework/func_graph.py\", line 986, in func_graph_from_py_func\n",
            "    func_outputs = python_func(*func_args, **func_kwargs)\n",
            "  File \"/usr/local/lib/python3.6/dist-packages/tensorflow/python/eager/def_function.py\", line 600, in wrapped_fn\n",
            "    return weak_wrapped_fn().__wrapped__(*args, **kwds)\n",
            "  File \"/usr/local/lib/python3.6/dist-packages/tensorflow/python/saved_model/function_deserialization.py\", line 237, in restored_function_body\n",
            "    return _call_concrete_function(function, inputs)\n",
            "  File \"/usr/local/lib/python3.6/dist-packages/tensorflow/python/saved_model/function_deserialization.py\", line 74, in _call_concrete_function\n",
            "    result = function._call_flat(tensor_inputs, function._captured_inputs)  # pylint: disable=protected-access\n",
            "  File \"/usr/local/lib/python3.6/dist-packages/tensorflow/python/saved_model/load.py\", line 106, in _call_flat\n",
            "    cancellation_manager)\n",
            "  File \"/usr/local/lib/python3.6/dist-packages/tensorflow/python/eager/function.py\", line 1938, in _call_flat\n",
            "    flat_outputs = forward_function.call(ctx, args_with_tangents)\n",
            "  File \"/usr/local/lib/python3.6/dist-packages/tensorflow/python/eager/function.py\", line 579, in call\n",
            "    executor_type=executor_type)\n",
            "  File \"/usr/local/lib/python3.6/dist-packages/tensorflow/python/ops/functional_ops.py\", line 1192, in partitioned_call\n",
            "    f.add_to_graph(graph)\n",
            "  File \"/usr/local/lib/python3.6/dist-packages/tensorflow/python/eager/function.py\", line 495, in add_to_graph\n",
            "    g._add_function(self)\n",
            "  File \"/usr/local/lib/python3.6/dist-packages/tensorflow/python/framework/ops.py\", line 3345, in _add_function\n",
            "    gradient)\n",
            "tensorflow.python.framework.errors_impl.InvalidArgumentError: 'func' argument to TF_GraphCopyFunction cannot be null\n",
            "Sample 51/100:   0%|          | 0/50 [00:00<?, ?it/s]"
          ],
          "name": "stderr"
        },
        {
          "output_type": "stream",
          "text": [
            "--> Threshold 0.9900000000000004\n"
          ],
          "name": "stdout"
        },
        {
          "output_type": "stream",
          "text": [
            "Sample 51/100: 100%|██████████| 50/50 [01:18<00:00,  1.56s/it]\n",
            "Sample 52/100:   0%|          | 0/50 [00:00<?, ?it/s]"
          ],
          "name": "stderr"
        },
        {
          "output_type": "stream",
          "text": [
            "--> Threshold 0.9800000000000004\n"
          ],
          "name": "stdout"
        },
        {
          "output_type": "stream",
          "text": [
            "Sample 52/100: 100%|██████████| 50/50 [01:18<00:00,  1.56s/it]\n",
            "Sample 53/100:   0%|          | 0/50 [00:00<?, ?it/s]"
          ],
          "name": "stderr"
        },
        {
          "output_type": "stream",
          "text": [
            "--> Threshold 0.9700000000000004\n"
          ],
          "name": "stdout"
        },
        {
          "output_type": "stream",
          "text": [
            "Sample 53/100: 100%|██████████| 50/50 [01:18<00:00,  1.57s/it]\n",
            "Sample 54/100:   0%|          | 0/50 [00:00<?, ?it/s]"
          ],
          "name": "stderr"
        },
        {
          "output_type": "stream",
          "text": [
            "--> Threshold 0.9600000000000004\n"
          ],
          "name": "stdout"
        },
        {
          "output_type": "stream",
          "text": [
            "Sample 54/100: 100%|██████████| 50/50 [01:18<00:00,  1.57s/it]\n",
            "Sample 55/100:   0%|          | 0/50 [00:00<?, ?it/s]"
          ],
          "name": "stderr"
        },
        {
          "output_type": "stream",
          "text": [
            "--> Threshold 0.9500000000000004\n"
          ],
          "name": "stdout"
        },
        {
          "output_type": "stream",
          "text": [
            "Sample 55/100: 100%|██████████| 50/50 [01:15<00:00,  1.51s/it]\n",
            "Sample 56/100:   0%|          | 0/49 [00:00<?, ?it/s]"
          ],
          "name": "stderr"
        },
        {
          "output_type": "stream",
          "text": [
            "--> Threshold 0.9400000000000004\n"
          ],
          "name": "stdout"
        },
        {
          "output_type": "stream",
          "text": [
            "Sample 56/100: 100%|██████████| 49/49 [01:13<00:00,  1.49s/it]\n",
            "Sample 57/100:   0%|          | 0/48 [00:00<?, ?it/s]"
          ],
          "name": "stderr"
        },
        {
          "output_type": "stream",
          "text": [
            "--> Threshold 0.9300000000000004\n"
          ],
          "name": "stdout"
        },
        {
          "output_type": "stream",
          "text": [
            "Sample 57/100: 100%|██████████| 48/48 [01:13<00:00,  1.54s/it]\n",
            "Sample 58/100:   0%|          | 0/48 [00:00<?, ?it/s]"
          ],
          "name": "stderr"
        },
        {
          "output_type": "stream",
          "text": [
            "--> Threshold 0.9200000000000004\n"
          ],
          "name": "stdout"
        },
        {
          "output_type": "stream",
          "text": [
            "Sample 58/100: 100%|██████████| 48/48 [01:09<00:00,  1.44s/it]\n",
            "Sample 59/100:   0%|          | 0/45 [00:00<?, ?it/s]"
          ],
          "name": "stderr"
        },
        {
          "output_type": "stream",
          "text": [
            "--> Threshold 0.9100000000000004\n"
          ],
          "name": "stdout"
        },
        {
          "output_type": "stream",
          "text": [
            "Sample 59/100: 100%|██████████| 45/45 [01:08<00:00,  1.53s/it]\n",
            "Sample 60/100:   0%|          | 0/45 [00:00<?, ?it/s]"
          ],
          "name": "stderr"
        },
        {
          "output_type": "stream",
          "text": [
            "--> Threshold 0.9000000000000004\n"
          ],
          "name": "stdout"
        },
        {
          "output_type": "stream",
          "text": [
            "Sample 60/100: 100%|██████████| 45/45 [01:09<00:00,  1.54s/it]\n",
            "Sample 61/100:   0%|          | 0/45 [00:00<?, ?it/s]"
          ],
          "name": "stderr"
        },
        {
          "output_type": "stream",
          "text": [
            "--> Threshold 0.8900000000000003\n"
          ],
          "name": "stdout"
        },
        {
          "output_type": "stream",
          "text": [
            "Sample 61/100: 100%|██████████| 45/45 [01:04<00:00,  1.43s/it]\n",
            "Sample 62/100:   0%|          | 0/41 [00:00<?, ?it/s]"
          ],
          "name": "stderr"
        },
        {
          "output_type": "stream",
          "text": [
            "--> Threshold 0.8800000000000003\n"
          ],
          "name": "stdout"
        },
        {
          "output_type": "stream",
          "text": [
            "Sample 62/100: 100%|██████████| 41/41 [00:55<00:00,  1.35s/it]\n",
            "Sample 63/100:   0%|          | 0/37 [00:00<?, ?it/s]"
          ],
          "name": "stderr"
        },
        {
          "output_type": "stream",
          "text": [
            "--> Threshold 0.8700000000000003\n"
          ],
          "name": "stdout"
        },
        {
          "output_type": "stream",
          "text": [
            "Sample 63/100: 100%|██████████| 37/37 [00:51<00:00,  1.39s/it]\n",
            "Sample 64/100:   0%|          | 0/36 [00:00<?, ?it/s]"
          ],
          "name": "stderr"
        },
        {
          "output_type": "stream",
          "text": [
            "--> Threshold 0.8600000000000003\n"
          ],
          "name": "stdout"
        },
        {
          "output_type": "stream",
          "text": [
            "Sample 64/100: 100%|██████████| 36/36 [00:51<00:00,  1.43s/it]\n",
            "Sample 65/100:   0%|          | 0/35 [00:00<?, ?it/s]"
          ],
          "name": "stderr"
        },
        {
          "output_type": "stream",
          "text": [
            "--> Threshold 0.8500000000000003\n"
          ],
          "name": "stdout"
        },
        {
          "output_type": "stream",
          "text": [
            "Sample 65/100: 100%|██████████| 35/35 [00:48<00:00,  1.38s/it]\n",
            "Sample 66/100:   0%|          | 0/32 [00:00<?, ?it/s]"
          ],
          "name": "stderr"
        },
        {
          "output_type": "stream",
          "text": [
            "--> Threshold 0.8400000000000003\n"
          ],
          "name": "stdout"
        },
        {
          "output_type": "stream",
          "text": [
            "Sample 66/100: 100%|██████████| 32/32 [00:44<00:00,  1.39s/it]\n",
            "Sample 67/100:   0%|          | 0/29 [00:00<?, ?it/s]"
          ],
          "name": "stderr"
        },
        {
          "output_type": "stream",
          "text": [
            "--> Threshold 0.8300000000000003\n"
          ],
          "name": "stdout"
        },
        {
          "output_type": "stream",
          "text": [
            "Sample 67/100: 100%|██████████| 29/29 [00:38<00:00,  1.31s/it]\n",
            "Sample 68/100:   0%|          | 0/26 [00:00<?, ?it/s]"
          ],
          "name": "stderr"
        },
        {
          "output_type": "stream",
          "text": [
            "--> Threshold 0.8200000000000003\n"
          ],
          "name": "stdout"
        },
        {
          "output_type": "stream",
          "text": [
            "Sample 68/100: 100%|██████████| 26/26 [00:33<00:00,  1.28s/it]\n",
            "Sample 69/100:   0%|          | 0/25 [00:00<?, ?it/s]"
          ],
          "name": "stderr"
        },
        {
          "output_type": "stream",
          "text": [
            "--> Threshold 0.8100000000000003\n"
          ],
          "name": "stdout"
        },
        {
          "output_type": "stream",
          "text": [
            "Sample 69/100: 100%|██████████| 25/25 [00:32<00:00,  1.31s/it]\n",
            "Sample 70/100:   0%|          | 0/24 [00:00<?, ?it/s]"
          ],
          "name": "stderr"
        },
        {
          "output_type": "stream",
          "text": [
            "--> Threshold 0.8000000000000003\n"
          ],
          "name": "stdout"
        },
        {
          "output_type": "stream",
          "text": [
            "Sample 70/100: 100%|██████████| 24/24 [00:31<00:00,  1.31s/it]\n",
            "Sample 71/100:   0%|          | 0/23 [00:00<?, ?it/s]"
          ],
          "name": "stderr"
        },
        {
          "output_type": "stream",
          "text": [
            "--> Threshold 0.7900000000000003\n"
          ],
          "name": "stdout"
        },
        {
          "output_type": "stream",
          "text": [
            "Sample 71/100: 100%|██████████| 23/23 [00:30<00:00,  1.33s/it]\n",
            "Sample 72/100:   0%|          | 0/22 [00:00<?, ?it/s]"
          ],
          "name": "stderr"
        },
        {
          "output_type": "stream",
          "text": [
            "--> Threshold 0.7800000000000002\n"
          ],
          "name": "stdout"
        },
        {
          "output_type": "stream",
          "text": [
            "Sample 72/100: 100%|██████████| 22/22 [00:28<00:00,  1.28s/it]\n",
            "Sample 73/100:   0%|          | 0/22 [00:00<?, ?it/s]"
          ],
          "name": "stderr"
        },
        {
          "output_type": "stream",
          "text": [
            "--> Threshold 0.7700000000000002\n"
          ],
          "name": "stdout"
        },
        {
          "output_type": "stream",
          "text": [
            "Sample 73/100: 100%|██████████| 22/22 [00:28<00:00,  1.30s/it]\n",
            "Sample 74/100:   0%|          | 0/22 [00:00<?, ?it/s]"
          ],
          "name": "stderr"
        },
        {
          "output_type": "stream",
          "text": [
            "--> Threshold 0.7600000000000002\n"
          ],
          "name": "stdout"
        },
        {
          "output_type": "stream",
          "text": [
            "Sample 74/100: 100%|██████████| 22/22 [00:28<00:00,  1.31s/it]\n",
            "Sample 75/100:   0%|          | 0/22 [00:00<?, ?it/s]"
          ],
          "name": "stderr"
        },
        {
          "output_type": "stream",
          "text": [
            "--> Threshold 0.7500000000000002\n"
          ],
          "name": "stdout"
        },
        {
          "output_type": "stream",
          "text": [
            "Sample 75/100: 100%|██████████| 22/22 [00:28<00:00,  1.29s/it]\n",
            "Sample 76/100:   0%|          | 0/19 [00:00<?, ?it/s]"
          ],
          "name": "stderr"
        },
        {
          "output_type": "stream",
          "text": [
            "--> Threshold 0.7400000000000002\n"
          ],
          "name": "stdout"
        },
        {
          "output_type": "stream",
          "text": [
            "Sample 76/100: 100%|██████████| 19/19 [00:23<00:00,  1.21s/it]\n",
            "Sample 77/100:   0%|          | 0/19 [00:00<?, ?it/s]"
          ],
          "name": "stderr"
        },
        {
          "output_type": "stream",
          "text": [
            "--> Threshold 0.7300000000000002\n"
          ],
          "name": "stdout"
        },
        {
          "output_type": "stream",
          "text": [
            "Sample 77/100: 100%|██████████| 19/19 [00:23<00:00,  1.22s/it]\n",
            "Sample 78/100:   0%|          | 0/18 [00:00<?, ?it/s]"
          ],
          "name": "stderr"
        },
        {
          "output_type": "stream",
          "text": [
            "--> Threshold 0.7200000000000002\n"
          ],
          "name": "stdout"
        },
        {
          "output_type": "stream",
          "text": [
            "Sample 78/100: 100%|██████████| 18/18 [00:21<00:00,  1.22s/it]\n",
            "Sample 79/100:   0%|          | 0/17 [00:00<?, ?it/s]"
          ],
          "name": "stderr"
        },
        {
          "output_type": "stream",
          "text": [
            "--> Threshold 0.7100000000000002\n"
          ],
          "name": "stdout"
        },
        {
          "output_type": "stream",
          "text": [
            "Sample 79/100: 100%|██████████| 17/17 [00:19<00:00,  1.17s/it]\n",
            "Sample 80/100:   0%|          | 0/17 [00:00<?, ?it/s]"
          ],
          "name": "stderr"
        },
        {
          "output_type": "stream",
          "text": [
            "--> Threshold 0.7000000000000002\n"
          ],
          "name": "stdout"
        },
        {
          "output_type": "stream",
          "text": [
            "Sample 80/100: 100%|██████████| 17/17 [00:20<00:00,  1.18s/it]\n",
            "Sample 81/100:   0%|          | 0/16 [00:00<?, ?it/s]"
          ],
          "name": "stderr"
        },
        {
          "output_type": "stream",
          "text": [
            "--> Threshold 0.6900000000000002\n"
          ],
          "name": "stdout"
        },
        {
          "output_type": "stream",
          "text": [
            "Sample 81/100: 100%|██████████| 16/16 [00:19<00:00,  1.20s/it]\n",
            "Sample 82/100:   0%|          | 0/13 [00:00<?, ?it/s]"
          ],
          "name": "stderr"
        },
        {
          "output_type": "stream",
          "text": [
            "--> Threshold 0.6800000000000002\n"
          ],
          "name": "stdout"
        },
        {
          "output_type": "stream",
          "text": [
            "Sample 82/100: 100%|██████████| 13/13 [00:15<00:00,  1.20s/it]\n",
            "Sample 83/100:   0%|          | 0/13 [00:00<?, ?it/s]"
          ],
          "name": "stderr"
        },
        {
          "output_type": "stream",
          "text": [
            "--> Threshold 0.6700000000000002\n"
          ],
          "name": "stdout"
        },
        {
          "output_type": "stream",
          "text": [
            "Sample 83/100: 100%|██████████| 13/13 [00:15<00:00,  1.18s/it]\n",
            "Sample 84/100:   0%|          | 0/12 [00:00<?, ?it/s]"
          ],
          "name": "stderr"
        },
        {
          "output_type": "stream",
          "text": [
            "--> Threshold 0.6600000000000001\n"
          ],
          "name": "stdout"
        },
        {
          "output_type": "stream",
          "text": [
            "Sample 84/100: 100%|██████████| 12/12 [00:14<00:00,  1.24s/it]\n",
            "Sample 85/100:   0%|          | 0/12 [00:00<?, ?it/s]"
          ],
          "name": "stderr"
        },
        {
          "output_type": "stream",
          "text": [
            "--> Threshold 0.6500000000000001\n"
          ],
          "name": "stdout"
        },
        {
          "output_type": "stream",
          "text": [
            "Sample 85/100: 100%|██████████| 12/12 [00:15<00:00,  1.25s/it]\n",
            "Sample 86/100:   0%|          | 0/11 [00:00<?, ?it/s]"
          ],
          "name": "stderr"
        },
        {
          "output_type": "stream",
          "text": [
            "--> Threshold 0.6400000000000001\n"
          ],
          "name": "stdout"
        },
        {
          "output_type": "stream",
          "text": [
            "Sample 86/100: 100%|██████████| 11/11 [00:14<00:00,  1.31s/it]\n",
            "Sample 87/100:   0%|          | 0/11 [00:00<?, ?it/s]"
          ],
          "name": "stderr"
        },
        {
          "output_type": "stream",
          "text": [
            "--> Threshold 0.6300000000000001\n"
          ],
          "name": "stdout"
        },
        {
          "output_type": "stream",
          "text": [
            "Sample 87/100: 100%|██████████| 11/11 [00:14<00:00,  1.32s/it]\n",
            "Sample 88/100:   0%|          | 0/11 [00:00<?, ?it/s]"
          ],
          "name": "stderr"
        },
        {
          "output_type": "stream",
          "text": [
            "--> Threshold 0.6200000000000001\n"
          ],
          "name": "stdout"
        },
        {
          "output_type": "stream",
          "text": [
            "Sample 88/100: 100%|██████████| 11/11 [00:14<00:00,  1.32s/it]\n",
            "Sample 89/100:   0%|          | 0/11 [00:00<?, ?it/s]"
          ],
          "name": "stderr"
        },
        {
          "output_type": "stream",
          "text": [
            "--> Threshold 0.6100000000000001\n"
          ],
          "name": "stdout"
        },
        {
          "output_type": "stream",
          "text": [
            "Sample 89/100: 100%|██████████| 11/11 [00:14<00:00,  1.33s/it]\n",
            "Sample 90/100:   0%|          | 0/11 [00:00<?, ?it/s]"
          ],
          "name": "stderr"
        },
        {
          "output_type": "stream",
          "text": [
            "--> Threshold 0.6000000000000001\n"
          ],
          "name": "stdout"
        },
        {
          "output_type": "stream",
          "text": [
            "Sample 90/100: 100%|██████████| 11/11 [00:14<00:00,  1.33s/it]\n",
            "Sample 91/100:   0%|          | 0/11 [00:00<?, ?it/s]"
          ],
          "name": "stderr"
        },
        {
          "output_type": "stream",
          "text": [
            "--> Threshold 0.5900000000000001\n"
          ],
          "name": "stdout"
        },
        {
          "output_type": "stream",
          "text": [
            "Sample 91/100: 100%|██████████| 11/11 [00:14<00:00,  1.33s/it]\n",
            "Sample 92/100:   0%|          | 0/11 [00:00<?, ?it/s]"
          ],
          "name": "stderr"
        },
        {
          "output_type": "stream",
          "text": [
            "--> Threshold 0.5800000000000001\n"
          ],
          "name": "stdout"
        },
        {
          "output_type": "stream",
          "text": [
            "Sample 92/100: 100%|██████████| 11/11 [00:14<00:00,  1.32s/it]\n",
            "Sample 93/100:   0%|          | 0/11 [00:00<?, ?it/s]"
          ],
          "name": "stderr"
        },
        {
          "output_type": "stream",
          "text": [
            "--> Threshold 0.5700000000000001\n"
          ],
          "name": "stdout"
        },
        {
          "output_type": "stream",
          "text": [
            "Sample 93/100: 100%|██████████| 11/11 [00:14<00:00,  1.34s/it]\n",
            "Sample 94/100:   0%|          | 0/11 [00:00<?, ?it/s]"
          ],
          "name": "stderr"
        },
        {
          "output_type": "stream",
          "text": [
            "--> Threshold 0.56\n"
          ],
          "name": "stdout"
        },
        {
          "output_type": "stream",
          "text": [
            "Sample 94/100: 100%|██████████| 11/11 [00:14<00:00,  1.34s/it]\n",
            "Sample 95/100:   0%|          | 0/11 [00:00<?, ?it/s]"
          ],
          "name": "stderr"
        },
        {
          "output_type": "stream",
          "text": [
            "--> Threshold 0.55\n"
          ],
          "name": "stdout"
        },
        {
          "output_type": "stream",
          "text": [
            "Sample 95/100: 100%|██████████| 11/11 [00:14<00:00,  1.34s/it]\n",
            "Sample 96/100:   0%|          | 0/11 [00:00<?, ?it/s]"
          ],
          "name": "stderr"
        },
        {
          "output_type": "stream",
          "text": [
            "--> Threshold 0.54\n"
          ],
          "name": "stdout"
        },
        {
          "output_type": "stream",
          "text": [
            "Sample 96/100: 100%|██████████| 11/11 [00:14<00:00,  1.33s/it]\n",
            "Sample 97/100:   0%|          | 0/11 [00:00<?, ?it/s]"
          ],
          "name": "stderr"
        },
        {
          "output_type": "stream",
          "text": [
            "--> Threshold 0.53\n"
          ],
          "name": "stdout"
        },
        {
          "output_type": "stream",
          "text": [
            "Sample 97/100: 100%|██████████| 11/11 [00:14<00:00,  1.33s/it]\n",
            "Sample 98/100:   0%|          | 0/11 [00:00<?, ?it/s]"
          ],
          "name": "stderr"
        },
        {
          "output_type": "stream",
          "text": [
            "--> Threshold 0.52\n"
          ],
          "name": "stdout"
        },
        {
          "output_type": "stream",
          "text": [
            "Sample 98/100: 100%|██████████| 11/11 [00:14<00:00,  1.33s/it]\n",
            "Sample 99/100:   0%|          | 0/11 [00:00<?, ?it/s]"
          ],
          "name": "stderr"
        },
        {
          "output_type": "stream",
          "text": [
            "--> Threshold 0.51\n"
          ],
          "name": "stdout"
        },
        {
          "output_type": "stream",
          "text": [
            "Sample 99/100: 100%|██████████| 11/11 [00:14<00:00,  1.33s/it]\n",
            "Sample 100/100:   0%|          | 0/11 [00:00<?, ?it/s]"
          ],
          "name": "stderr"
        },
        {
          "output_type": "stream",
          "text": [
            "--> Threshold 0.5\n"
          ],
          "name": "stdout"
        },
        {
          "output_type": "stream",
          "text": [
            "Sample 100/100: 100%|██████████| 11/11 [00:14<00:00,  1.33s/it]\n"
          ],
          "name": "stderr"
        },
        {
          "output_type": "stream",
          "text": [
            "Model --> textattack/albert-base-v2-SST-2\n"
          ],
          "name": "stdout"
        },
        {
          "output_type": "display_data",
          "data": {
            "application/vnd.jupyter.widget-view+json": {
              "model_id": "125b293683f84c8cb588e02e3eedef81",
              "version_minor": 0,
              "version_major": 2
            },
            "text/plain": [
              "HBox(children=(FloatProgress(value=0.0, description='Downloading', max=732.0, style=ProgressStyle(description_…"
            ]
          },
          "metadata": {
            "tags": []
          }
        },
        {
          "output_type": "stream",
          "text": [
            "\n"
          ],
          "name": "stdout"
        },
        {
          "output_type": "display_data",
          "data": {
            "application/vnd.jupyter.widget-view+json": {
              "model_id": "07cc621c194d400cafffe8676e16e894",
              "version_minor": 0,
              "version_major": 2
            },
            "text/plain": [
              "HBox(children=(FloatProgress(value=0.0, description='Downloading', max=760289.0, style=ProgressStyle(descripti…"
            ]
          },
          "metadata": {
            "tags": []
          }
        },
        {
          "output_type": "stream",
          "text": [
            "\n"
          ],
          "name": "stdout"
        },
        {
          "output_type": "display_data",
          "data": {
            "application/vnd.jupyter.widget-view+json": {
              "model_id": "3aa3de7eb1234ad19563c4f0ff6abf3d",
              "version_minor": 0,
              "version_major": 2
            },
            "text/plain": [
              "HBox(children=(FloatProgress(value=0.0, description='Downloading', max=156.0, style=ProgressStyle(description_…"
            ]
          },
          "metadata": {
            "tags": []
          }
        },
        {
          "output_type": "stream",
          "text": [
            "\n"
          ],
          "name": "stdout"
        },
        {
          "output_type": "display_data",
          "data": {
            "application/vnd.jupyter.widget-view+json": {
              "model_id": "6b192c0ef8c34ae9aa418a11bad0bc80",
              "version_minor": 0,
              "version_major": 2
            },
            "text/plain": [
              "HBox(children=(FloatProgress(value=0.0, description='Downloading', max=25.0, style=ProgressStyle(description_w…"
            ]
          },
          "metadata": {
            "tags": []
          }
        },
        {
          "output_type": "stream",
          "text": [
            "\n"
          ],
          "name": "stdout"
        },
        {
          "output_type": "display_data",
          "data": {
            "application/vnd.jupyter.widget-view+json": {
              "model_id": "86e7b665d4184707ad4c52246244f4ea",
              "version_minor": 0,
              "version_major": 2
            },
            "text/plain": [
              "HBox(children=(FloatProgress(value=0.0, description='Downloading', max=46747112.0, style=ProgressStyle(descrip…"
            ]
          },
          "metadata": {
            "tags": []
          }
        },
        {
          "output_type": "stream",
          "text": [
            "\n"
          ],
          "name": "stdout"
        },
        {
          "output_type": "stream",
          "text": [
            "\u001b[34;1mtextattack\u001b[0m: Unknown if model of class <class 'textattack.models.wrappers.huggingface_model_wrapper.HuggingFaceModelWrapper'> compatible with goal function <class 'textattack.goal_functions.classification.untargeted_classification.UntargetedClassification'>.\n"
          ],
          "name": "stderr"
        },
        {
          "output_type": "stream",
          "text": [
            "----> constraint bertscore\n"
          ],
          "name": "stdout"
        },
        {
          "output_type": "stream",
          "text": [
            "\rSample 1/100:   0%|          | 0/50 [00:00<?, ?it/s]"
          ],
          "name": "stderr"
        },
        {
          "output_type": "stream",
          "text": [
            "--> Threshold 0.9900000000000004\n"
          ],
          "name": "stdout"
        },
        {
          "output_type": "stream",
          "text": [
            "Sample 1/100: 100%|██████████| 50/50 [02:03<00:00,  2.47s/it]\n",
            "Sample 2/100:   0%|          | 0/50 [00:00<?, ?it/s]"
          ],
          "name": "stderr"
        },
        {
          "output_type": "stream",
          "text": [
            "--> Threshold 0.9800000000000004\n"
          ],
          "name": "stdout"
        },
        {
          "output_type": "stream",
          "text": [
            "Sample 2/100: 100%|██████████| 50/50 [02:03<00:00,  2.47s/it]\n",
            "Sample 3/100:   0%|          | 0/49 [00:00<?, ?it/s]"
          ],
          "name": "stderr"
        },
        {
          "output_type": "stream",
          "text": [
            "--> Threshold 0.9700000000000004\n"
          ],
          "name": "stdout"
        },
        {
          "output_type": "stream",
          "text": [
            "Sample 3/100: 100%|██████████| 49/49 [01:57<00:00,  2.40s/it]\n",
            "Sample 4/100:   0%|          | 0/46 [00:00<?, ?it/s]"
          ],
          "name": "stderr"
        },
        {
          "output_type": "stream",
          "text": [
            "--> Threshold 0.9600000000000004\n"
          ],
          "name": "stdout"
        },
        {
          "output_type": "stream",
          "text": [
            "Sample 4/100: 100%|██████████| 46/46 [01:54<00:00,  2.49s/it]\n",
            "Sample 5/100:   0%|          | 0/45 [00:00<?, ?it/s]"
          ],
          "name": "stderr"
        },
        {
          "output_type": "stream",
          "text": [
            "--> Threshold 0.9500000000000004\n"
          ],
          "name": "stdout"
        },
        {
          "output_type": "stream",
          "text": [
            "Sample 5/100: 100%|██████████| 45/45 [01:42<00:00,  2.27s/it]\n",
            "Sample 6/100:   0%|          | 0/39 [00:00<?, ?it/s]"
          ],
          "name": "stderr"
        },
        {
          "output_type": "stream",
          "text": [
            "--> Threshold 0.9400000000000004\n"
          ],
          "name": "stdout"
        },
        {
          "output_type": "stream",
          "text": [
            "Sample 6/100: 100%|██████████| 39/39 [01:36<00:00,  2.48s/it]\n",
            "Sample 7/100:   0%|          | 0/39 [00:00<?, ?it/s]"
          ],
          "name": "stderr"
        },
        {
          "output_type": "stream",
          "text": [
            "--> Threshold 0.9300000000000004\n"
          ],
          "name": "stdout"
        },
        {
          "output_type": "stream",
          "text": [
            "Sample 7/100: 100%|██████████| 39/39 [01:36<00:00,  2.48s/it]\n",
            "Sample 8/100:   0%|          | 0/38 [00:00<?, ?it/s]"
          ],
          "name": "stderr"
        },
        {
          "output_type": "stream",
          "text": [
            "--> Threshold 0.9200000000000004\n"
          ],
          "name": "stdout"
        },
        {
          "output_type": "stream",
          "text": [
            "Sample 8/100: 100%|██████████| 38/38 [01:33<00:00,  2.45s/it]\n",
            "Sample 9/100:   0%|          | 0/38 [00:00<?, ?it/s]"
          ],
          "name": "stderr"
        },
        {
          "output_type": "stream",
          "text": [
            "--> Threshold 0.9100000000000004\n"
          ],
          "name": "stdout"
        },
        {
          "output_type": "stream",
          "text": [
            "Sample 9/100:  55%|█████▌    | 21/38 [00:46<00:28,  1.66s/it]Exception ignored in: <bound method CapturableResourceDeleter.__del__ of <tensorflow.python.training.tracking.tracking.CapturableResourceDeleter object at 0x7f4180a19fd0>>\n",
            "Traceback (most recent call last):\n",
            "  File \"/usr/local/lib/python3.6/dist-packages/tensorflow/python/training/tracking/tracking.py\", line 202, in __del__\n",
            "    self._destroy_resource()\n",
            "  File \"/usr/local/lib/python3.6/dist-packages/tensorflow/python/eager/def_function.py\", line 780, in __call__\n",
            "    result = self._call(*args, **kwds)\n",
            "  File \"/usr/local/lib/python3.6/dist-packages/tensorflow/python/eager/def_function.py\", line 823, in _call\n",
            "    self._initialize(args, kwds, add_initializers_to=initializers)\n",
            "  File \"/usr/local/lib/python3.6/dist-packages/tensorflow/python/eager/def_function.py\", line 697, in _initialize\n",
            "    *args, **kwds))\n",
            "  File \"/usr/local/lib/python3.6/dist-packages/tensorflow/python/eager/function.py\", line 2855, in _get_concrete_function_internal_garbage_collected\n",
            "    graph_function, _, _ = self._maybe_define_function(args, kwargs)\n",
            "  File \"/usr/local/lib/python3.6/dist-packages/tensorflow/python/eager/function.py\", line 3213, in _maybe_define_function\n",
            "    graph_function = self._create_graph_function(args, kwargs)\n",
            "  File \"/usr/local/lib/python3.6/dist-packages/tensorflow/python/eager/function.py\", line 3075, in _create_graph_function\n",
            "    capture_by_value=self._capture_by_value),\n",
            "  File \"/usr/local/lib/python3.6/dist-packages/tensorflow/python/framework/func_graph.py\", line 986, in func_graph_from_py_func\n",
            "    func_outputs = python_func(*func_args, **func_kwargs)\n",
            "  File \"/usr/local/lib/python3.6/dist-packages/tensorflow/python/eager/def_function.py\", line 600, in wrapped_fn\n",
            "    return weak_wrapped_fn().__wrapped__(*args, **kwds)\n",
            "  File \"/usr/local/lib/python3.6/dist-packages/tensorflow/python/saved_model/function_deserialization.py\", line 237, in restored_function_body\n",
            "    return _call_concrete_function(function, inputs)\n",
            "  File \"/usr/local/lib/python3.6/dist-packages/tensorflow/python/saved_model/function_deserialization.py\", line 74, in _call_concrete_function\n",
            "    result = function._call_flat(tensor_inputs, function._captured_inputs)  # pylint: disable=protected-access\n",
            "  File \"/usr/local/lib/python3.6/dist-packages/tensorflow/python/saved_model/load.py\", line 106, in _call_flat\n",
            "    cancellation_manager)\n",
            "  File \"/usr/local/lib/python3.6/dist-packages/tensorflow/python/eager/function.py\", line 1938, in _call_flat\n",
            "    flat_outputs = forward_function.call(ctx, args_with_tangents)\n",
            "  File \"/usr/local/lib/python3.6/dist-packages/tensorflow/python/eager/function.py\", line 579, in call\n",
            "    executor_type=executor_type)\n",
            "  File \"/usr/local/lib/python3.6/dist-packages/tensorflow/python/ops/functional_ops.py\", line 1192, in partitioned_call\n",
            "    f.add_to_graph(graph)\n",
            "  File \"/usr/local/lib/python3.6/dist-packages/tensorflow/python/eager/function.py\", line 495, in add_to_graph\n",
            "    g._add_function(self)\n",
            "  File \"/usr/local/lib/python3.6/dist-packages/tensorflow/python/framework/ops.py\", line 3345, in _add_function\n",
            "    gradient)\n",
            "tensorflow.python.framework.errors_impl.InvalidArgumentError: 'func' argument to TF_GraphCopyFunction cannot be null\n",
            "Sample 9/100: 100%|██████████| 38/38 [01:29<00:00,  2.35s/it]\n",
            "Sample 10/100:   0%|          | 0/34 [00:00<?, ?it/s]"
          ],
          "name": "stderr"
        },
        {
          "output_type": "stream",
          "text": [
            "--> Threshold 0.9000000000000004\n"
          ],
          "name": "stdout"
        },
        {
          "output_type": "stream",
          "text": [
            "Sample 10/100: 100%|██████████| 34/34 [01:21<00:00,  2.39s/it]\n",
            "Sample 11/100:   0%|          | 0/33 [00:00<?, ?it/s]"
          ],
          "name": "stderr"
        },
        {
          "output_type": "stream",
          "text": [
            "--> Threshold 0.8900000000000003\n"
          ],
          "name": "stdout"
        },
        {
          "output_type": "stream",
          "text": [
            "Sample 11/100: 100%|██████████| 33/33 [01:15<00:00,  2.30s/it]\n",
            "Sample 12/100:   0%|          | 0/32 [00:00<?, ?it/s]"
          ],
          "name": "stderr"
        },
        {
          "output_type": "stream",
          "text": [
            "--> Threshold 0.8800000000000003\n"
          ],
          "name": "stdout"
        },
        {
          "output_type": "stream",
          "text": [
            "Sample 12/100: 100%|██████████| 32/32 [01:11<00:00,  2.24s/it]\n",
            "Sample 13/100:   0%|          | 0/29 [00:00<?, ?it/s]"
          ],
          "name": "stderr"
        },
        {
          "output_type": "stream",
          "text": [
            "--> Threshold 0.8700000000000003\n"
          ],
          "name": "stdout"
        },
        {
          "output_type": "stream",
          "text": [
            "Sample 13/100: 100%|██████████| 29/29 [01:01<00:00,  2.12s/it]\n",
            "Sample 14/100:   0%|          | 0/26 [00:00<?, ?it/s]"
          ],
          "name": "stderr"
        },
        {
          "output_type": "stream",
          "text": [
            "--> Threshold 0.8600000000000003\n"
          ],
          "name": "stdout"
        },
        {
          "output_type": "stream",
          "text": [
            "Sample 14/100: 100%|██████████| 26/26 [00:55<00:00,  2.13s/it]\n",
            "Sample 15/100:   0%|          | 0/23 [00:00<?, ?it/s]"
          ],
          "name": "stderr"
        },
        {
          "output_type": "stream",
          "text": [
            "--> Threshold 0.8500000000000003\n"
          ],
          "name": "stdout"
        },
        {
          "output_type": "stream",
          "text": [
            "Sample 15/100: 100%|██████████| 23/23 [00:46<00:00,  2.03s/it]\n",
            "Sample 16/100:   0%|          | 0/22 [00:00<?, ?it/s]"
          ],
          "name": "stderr"
        },
        {
          "output_type": "stream",
          "text": [
            "--> Threshold 0.8400000000000003\n"
          ],
          "name": "stdout"
        },
        {
          "output_type": "stream",
          "text": [
            "Sample 16/100: 100%|██████████| 22/22 [00:45<00:00,  2.07s/it]\n",
            "Sample 17/100:   0%|          | 0/21 [00:00<?, ?it/s]"
          ],
          "name": "stderr"
        },
        {
          "output_type": "stream",
          "text": [
            "--> Threshold 0.8300000000000003\n"
          ],
          "name": "stdout"
        },
        {
          "output_type": "stream",
          "text": [
            "Sample 17/100: 100%|██████████| 21/21 [00:44<00:00,  2.14s/it]\n",
            "Sample 18/100:   0%|          | 0/21 [00:00<?, ?it/s]"
          ],
          "name": "stderr"
        },
        {
          "output_type": "stream",
          "text": [
            "--> Threshold 0.8200000000000003\n"
          ],
          "name": "stdout"
        },
        {
          "output_type": "stream",
          "text": [
            "Sample 18/100: 100%|██████████| 21/21 [00:43<00:00,  2.05s/it]\n",
            "Sample 19/100:   0%|          | 0/19 [00:00<?, ?it/s]"
          ],
          "name": "stderr"
        },
        {
          "output_type": "stream",
          "text": [
            "--> Threshold 0.8100000000000003\n"
          ],
          "name": "stdout"
        },
        {
          "output_type": "stream",
          "text": [
            "Sample 19/100: 100%|██████████| 19/19 [00:37<00:00,  1.96s/it]\n",
            "Sample 20/100:   0%|          | 0/17 [00:00<?, ?it/s]"
          ],
          "name": "stderr"
        },
        {
          "output_type": "stream",
          "text": [
            "--> Threshold 0.8000000000000003\n"
          ],
          "name": "stdout"
        },
        {
          "output_type": "stream",
          "text": [
            "Sample 20/100: 100%|██████████| 17/17 [00:29<00:00,  1.75s/it]\n",
            "Sample 21/100:   0%|          | 0/16 [00:00<?, ?it/s]"
          ],
          "name": "stderr"
        },
        {
          "output_type": "stream",
          "text": [
            "--> Threshold 0.7900000000000003\n"
          ],
          "name": "stdout"
        },
        {
          "output_type": "stream",
          "text": [
            "Sample 21/100: 100%|██████████| 16/16 [00:26<00:00,  1.67s/it]\n",
            "Sample 22/100:   0%|          | 0/13 [00:00<?, ?it/s]"
          ],
          "name": "stderr"
        },
        {
          "output_type": "stream",
          "text": [
            "--> Threshold 0.7800000000000002\n"
          ],
          "name": "stdout"
        },
        {
          "output_type": "stream",
          "text": [
            "Sample 22/100: 100%|██████████| 13/13 [00:21<00:00,  1.65s/it]\n",
            "Sample 23/100:   0%|          | 0/11 [00:00<?, ?it/s]"
          ],
          "name": "stderr"
        },
        {
          "output_type": "stream",
          "text": [
            "--> Threshold 0.7700000000000002\n"
          ],
          "name": "stdout"
        },
        {
          "output_type": "stream",
          "text": [
            "Sample 23/100: 100%|██████████| 11/11 [00:16<00:00,  1.49s/it]\n",
            "Sample 24/100:   0%|          | 0/10 [00:00<?, ?it/s]"
          ],
          "name": "stderr"
        },
        {
          "output_type": "stream",
          "text": [
            "--> Threshold 0.7600000000000002\n"
          ],
          "name": "stdout"
        },
        {
          "output_type": "stream",
          "text": [
            "Sample 24/100: 100%|██████████| 10/10 [00:14<00:00,  1.46s/it]\n",
            "Sample 25/100:   0%|          | 0/10 [00:00<?, ?it/s]"
          ],
          "name": "stderr"
        },
        {
          "output_type": "stream",
          "text": [
            "--> Threshold 0.7500000000000002\n"
          ],
          "name": "stdout"
        },
        {
          "output_type": "stream",
          "text": [
            "Sample 25/100: 100%|██████████| 10/10 [00:14<00:00,  1.46s/it]\n",
            "Sample 26/100:   0%|          | 0/10 [00:00<?, ?it/s]"
          ],
          "name": "stderr"
        },
        {
          "output_type": "stream",
          "text": [
            "--> Threshold 0.7400000000000002\n"
          ],
          "name": "stdout"
        },
        {
          "output_type": "stream",
          "text": [
            "Sample 26/100: 100%|██████████| 10/10 [00:13<00:00,  1.37s/it]\n",
            "Sample 27/100:   0%|          | 0/9 [00:00<?, ?it/s]"
          ],
          "name": "stderr"
        },
        {
          "output_type": "stream",
          "text": [
            "--> Threshold 0.7300000000000002\n"
          ],
          "name": "stdout"
        },
        {
          "output_type": "stream",
          "text": [
            "Sample 27/100: 100%|██████████| 9/9 [00:10<00:00,  1.19s/it]\n",
            "Sample 28/100:   0%|          | 0/9 [00:00<?, ?it/s]"
          ],
          "name": "stderr"
        },
        {
          "output_type": "stream",
          "text": [
            "--> Threshold 0.7200000000000002\n"
          ],
          "name": "stdout"
        },
        {
          "output_type": "stream",
          "text": [
            "Sample 28/100: 100%|██████████| 9/9 [00:10<00:00,  1.20s/it]\n",
            "Sample 29/100:   0%|          | 0/9 [00:00<?, ?it/s]"
          ],
          "name": "stderr"
        },
        {
          "output_type": "stream",
          "text": [
            "--> Threshold 0.7100000000000002\n"
          ],
          "name": "stdout"
        },
        {
          "output_type": "stream",
          "text": [
            "Sample 29/100: 100%|██████████| 9/9 [00:10<00:00,  1.21s/it]\n",
            "Sample 30/100:   0%|          | 0/9 [00:00<?, ?it/s]"
          ],
          "name": "stderr"
        },
        {
          "output_type": "stream",
          "text": [
            "--> Threshold 0.7000000000000002\n"
          ],
          "name": "stdout"
        },
        {
          "output_type": "stream",
          "text": [
            "Sample 30/100: 100%|██████████| 9/9 [00:10<00:00,  1.21s/it]\n",
            "Sample 31/100:   0%|          | 0/9 [00:00<?, ?it/s]"
          ],
          "name": "stderr"
        },
        {
          "output_type": "stream",
          "text": [
            "--> Threshold 0.6900000000000002\n"
          ],
          "name": "stdout"
        },
        {
          "output_type": "stream",
          "text": [
            "Sample 31/100: 100%|██████████| 9/9 [00:10<00:00,  1.21s/it]\n",
            "Sample 32/100:   0%|          | 0/9 [00:00<?, ?it/s]"
          ],
          "name": "stderr"
        },
        {
          "output_type": "stream",
          "text": [
            "--> Threshold 0.6800000000000002\n"
          ],
          "name": "stdout"
        },
        {
          "output_type": "stream",
          "text": [
            "Sample 32/100: 100%|██████████| 9/9 [00:10<00:00,  1.21s/it]\n",
            "Sample 33/100:   0%|          | 0/9 [00:00<?, ?it/s]"
          ],
          "name": "stderr"
        },
        {
          "output_type": "stream",
          "text": [
            "--> Threshold 0.6700000000000002\n"
          ],
          "name": "stdout"
        },
        {
          "output_type": "stream",
          "text": [
            "Sample 33/100: 100%|██████████| 9/9 [00:10<00:00,  1.21s/it]\n",
            "Sample 34/100:   0%|          | 0/9 [00:00<?, ?it/s]"
          ],
          "name": "stderr"
        },
        {
          "output_type": "stream",
          "text": [
            "--> Threshold 0.6600000000000001\n"
          ],
          "name": "stdout"
        },
        {
          "output_type": "stream",
          "text": [
            "Sample 34/100: 100%|██████████| 9/9 [00:10<00:00,  1.19s/it]\n",
            "Sample 35/100:   0%|          | 0/9 [00:00<?, ?it/s]"
          ],
          "name": "stderr"
        },
        {
          "output_type": "stream",
          "text": [
            "--> Threshold 0.6500000000000001\n"
          ],
          "name": "stdout"
        },
        {
          "output_type": "stream",
          "text": [
            "Sample 35/100: 100%|██████████| 9/9 [00:10<00:00,  1.22s/it]\n",
            "Sample 36/100:   0%|          | 0/9 [00:00<?, ?it/s]"
          ],
          "name": "stderr"
        },
        {
          "output_type": "stream",
          "text": [
            "--> Threshold 0.6400000000000001\n"
          ],
          "name": "stdout"
        },
        {
          "output_type": "stream",
          "text": [
            "Sample 36/100: 100%|██████████| 9/9 [00:11<00:00,  1.24s/it]\n",
            "Sample 37/100:   0%|          | 0/9 [00:00<?, ?it/s]"
          ],
          "name": "stderr"
        },
        {
          "output_type": "stream",
          "text": [
            "--> Threshold 0.6300000000000001\n"
          ],
          "name": "stdout"
        },
        {
          "output_type": "stream",
          "text": [
            "Sample 37/100: 100%|██████████| 9/9 [00:11<00:00,  1.25s/it]\n",
            "Sample 38/100:   0%|          | 0/9 [00:00<?, ?it/s]"
          ],
          "name": "stderr"
        },
        {
          "output_type": "stream",
          "text": [
            "--> Threshold 0.6200000000000001\n"
          ],
          "name": "stdout"
        },
        {
          "output_type": "stream",
          "text": [
            "Sample 38/100: 100%|██████████| 9/9 [00:11<00:00,  1.23s/it]\n",
            "Sample 39/100:   0%|          | 0/9 [00:00<?, ?it/s]"
          ],
          "name": "stderr"
        },
        {
          "output_type": "stream",
          "text": [
            "--> Threshold 0.6100000000000001\n"
          ],
          "name": "stdout"
        },
        {
          "output_type": "stream",
          "text": [
            "Sample 39/100: 100%|██████████| 9/9 [00:11<00:00,  1.25s/it]\n",
            "Sample 40/100:   0%|          | 0/9 [00:00<?, ?it/s]"
          ],
          "name": "stderr"
        },
        {
          "output_type": "stream",
          "text": [
            "--> Threshold 0.6000000000000001\n"
          ],
          "name": "stdout"
        },
        {
          "output_type": "stream",
          "text": [
            "Sample 40/100: 100%|██████████| 9/9 [00:11<00:00,  1.25s/it]\n",
            "Sample 41/100:   0%|          | 0/9 [00:00<?, ?it/s]"
          ],
          "name": "stderr"
        },
        {
          "output_type": "stream",
          "text": [
            "--> Threshold 0.5900000000000001\n"
          ],
          "name": "stdout"
        },
        {
          "output_type": "stream",
          "text": [
            "Sample 41/100: 100%|██████████| 9/9 [00:11<00:00,  1.25s/it]\n",
            "Sample 42/100:   0%|          | 0/9 [00:00<?, ?it/s]"
          ],
          "name": "stderr"
        },
        {
          "output_type": "stream",
          "text": [
            "--> Threshold 0.5800000000000001\n"
          ],
          "name": "stdout"
        },
        {
          "output_type": "stream",
          "text": [
            "Sample 42/100: 100%|██████████| 9/9 [00:11<00:00,  1.23s/it]\n",
            "Sample 43/100:   0%|          | 0/9 [00:00<?, ?it/s]"
          ],
          "name": "stderr"
        },
        {
          "output_type": "stream",
          "text": [
            "--> Threshold 0.5700000000000001\n"
          ],
          "name": "stdout"
        },
        {
          "output_type": "stream",
          "text": [
            "Sample 43/100: 100%|██████████| 9/9 [00:11<00:00,  1.23s/it]\n",
            "Sample 44/100:   0%|          | 0/9 [00:00<?, ?it/s]"
          ],
          "name": "stderr"
        },
        {
          "output_type": "stream",
          "text": [
            "--> Threshold 0.56\n"
          ],
          "name": "stdout"
        },
        {
          "output_type": "stream",
          "text": [
            "Sample 44/100: 100%|██████████| 9/9 [00:11<00:00,  1.23s/it]\n",
            "Sample 45/100:   0%|          | 0/9 [00:00<?, ?it/s]"
          ],
          "name": "stderr"
        },
        {
          "output_type": "stream",
          "text": [
            "--> Threshold 0.55\n"
          ],
          "name": "stdout"
        },
        {
          "output_type": "stream",
          "text": [
            "Sample 45/100: 100%|██████████| 9/9 [00:11<00:00,  1.22s/it]\n",
            "Sample 46/100:   0%|          | 0/9 [00:00<?, ?it/s]"
          ],
          "name": "stderr"
        },
        {
          "output_type": "stream",
          "text": [
            "--> Threshold 0.54\n"
          ],
          "name": "stdout"
        },
        {
          "output_type": "stream",
          "text": [
            "Sample 46/100: 100%|██████████| 9/9 [00:11<00:00,  1.23s/it]\n",
            "Sample 47/100:   0%|          | 0/9 [00:00<?, ?it/s]"
          ],
          "name": "stderr"
        },
        {
          "output_type": "stream",
          "text": [
            "--> Threshold 0.53\n"
          ],
          "name": "stdout"
        },
        {
          "output_type": "stream",
          "text": [
            "Sample 47/100: 100%|██████████| 9/9 [00:11<00:00,  1.24s/it]\n",
            "Sample 48/100:   0%|          | 0/9 [00:00<?, ?it/s]"
          ],
          "name": "stderr"
        },
        {
          "output_type": "stream",
          "text": [
            "--> Threshold 0.52\n"
          ],
          "name": "stdout"
        },
        {
          "output_type": "stream",
          "text": [
            "Sample 48/100: 100%|██████████| 9/9 [00:11<00:00,  1.23s/it]\n",
            "Sample 49/100:   0%|          | 0/9 [00:00<?, ?it/s]"
          ],
          "name": "stderr"
        },
        {
          "output_type": "stream",
          "text": [
            "--> Threshold 0.51\n"
          ],
          "name": "stdout"
        },
        {
          "output_type": "stream",
          "text": [
            "Sample 49/100: 100%|██████████| 9/9 [00:10<00:00,  1.22s/it]\n",
            "Sample 50/100:   0%|          | 0/9 [00:00<?, ?it/s]"
          ],
          "name": "stderr"
        },
        {
          "output_type": "stream",
          "text": [
            "--> Threshold 0.5\n"
          ],
          "name": "stdout"
        },
        {
          "output_type": "stream",
          "text": [
            "Sample 50/100: 100%|██████████| 9/9 [00:11<00:00,  1.22s/it]\n"
          ],
          "name": "stderr"
        },
        {
          "output_type": "stream",
          "text": [
            "----> constraint use\n"
          ],
          "name": "stdout"
        },
        {
          "output_type": "stream",
          "text": [
            "\rSample 51/100:   0%|          | 0/50 [00:00<?, ?it/s]"
          ],
          "name": "stderr"
        },
        {
          "output_type": "stream",
          "text": [
            "--> Threshold 0.9900000000000004\n"
          ],
          "name": "stdout"
        },
        {
          "output_type": "stream",
          "text": [
            "Sample 51/100: 100%|██████████| 50/50 [01:18<00:00,  1.57s/it]\n",
            "Sample 52/100:   0%|          | 0/50 [00:00<?, ?it/s]"
          ],
          "name": "stderr"
        },
        {
          "output_type": "stream",
          "text": [
            "--> Threshold 0.9800000000000004\n"
          ],
          "name": "stdout"
        },
        {
          "output_type": "stream",
          "text": [
            "Sample 52/100: 100%|██████████| 50/50 [01:18<00:00,  1.56s/it]\n",
            "Sample 53/100:   0%|          | 0/50 [00:00<?, ?it/s]"
          ],
          "name": "stderr"
        },
        {
          "output_type": "stream",
          "text": [
            "--> Threshold 0.9700000000000004\n"
          ],
          "name": "stdout"
        },
        {
          "output_type": "stream",
          "text": [
            "Sample 53/100: 100%|██████████| 50/50 [01:18<00:00,  1.56s/it]\n",
            "Sample 54/100:   0%|          | 0/50 [00:00<?, ?it/s]"
          ],
          "name": "stderr"
        },
        {
          "output_type": "stream",
          "text": [
            "--> Threshold 0.9600000000000004\n"
          ],
          "name": "stdout"
        },
        {
          "output_type": "stream",
          "text": [
            "Sample 54/100: 100%|██████████| 50/50 [01:19<00:00,  1.58s/it]\n",
            "Sample 55/100:   0%|          | 0/50 [00:00<?, ?it/s]"
          ],
          "name": "stderr"
        },
        {
          "output_type": "stream",
          "text": [
            "--> Threshold 0.9500000000000004\n"
          ],
          "name": "stdout"
        },
        {
          "output_type": "stream",
          "text": [
            "Sample 55/100: 100%|██████████| 50/50 [01:17<00:00,  1.55s/it]\n",
            "Sample 56/100:   0%|          | 0/49 [00:00<?, ?it/s]"
          ],
          "name": "stderr"
        },
        {
          "output_type": "stream",
          "text": [
            "--> Threshold 0.9400000000000004\n"
          ],
          "name": "stdout"
        },
        {
          "output_type": "stream",
          "text": [
            "Sample 56/100: 100%|██████████| 49/49 [01:15<00:00,  1.54s/it]\n",
            "Sample 57/100:   0%|          | 0/48 [00:00<?, ?it/s]"
          ],
          "name": "stderr"
        },
        {
          "output_type": "stream",
          "text": [
            "--> Threshold 0.9300000000000004\n"
          ],
          "name": "stdout"
        },
        {
          "output_type": "stream",
          "text": [
            "Sample 57/100: 100%|██████████| 48/48 [01:14<00:00,  1.55s/it]\n",
            "Sample 58/100:   0%|          | 0/47 [00:00<?, ?it/s]"
          ],
          "name": "stderr"
        },
        {
          "output_type": "stream",
          "text": [
            "--> Threshold 0.9200000000000004\n"
          ],
          "name": "stdout"
        },
        {
          "output_type": "stream",
          "text": [
            "Sample 58/100: 100%|██████████| 47/47 [01:12<00:00,  1.53s/it]\n",
            "Sample 59/100:   0%|          | 0/45 [00:00<?, ?it/s]"
          ],
          "name": "stderr"
        },
        {
          "output_type": "stream",
          "text": [
            "--> Threshold 0.9100000000000004\n"
          ],
          "name": "stdout"
        },
        {
          "output_type": "stream",
          "text": [
            "Sample 59/100: 100%|██████████| 45/45 [01:09<00:00,  1.54s/it]\n",
            "Sample 60/100:   0%|          | 0/44 [00:00<?, ?it/s]"
          ],
          "name": "stderr"
        },
        {
          "output_type": "stream",
          "text": [
            "--> Threshold 0.9000000000000004\n"
          ],
          "name": "stdout"
        },
        {
          "output_type": "stream",
          "text": [
            "Sample 60/100: 100%|██████████| 44/44 [01:07<00:00,  1.54s/it]\n",
            "Sample 61/100:   0%|          | 0/42 [00:00<?, ?it/s]"
          ],
          "name": "stderr"
        },
        {
          "output_type": "stream",
          "text": [
            "--> Threshold 0.8900000000000003\n"
          ],
          "name": "stdout"
        },
        {
          "output_type": "stream",
          "text": [
            "Sample 61/100: 100%|██████████| 42/42 [01:07<00:00,  1.62s/it]\n",
            "Sample 62/100:   0%|          | 0/42 [00:00<?, ?it/s]"
          ],
          "name": "stderr"
        },
        {
          "output_type": "stream",
          "text": [
            "--> Threshold 0.8800000000000003\n"
          ],
          "name": "stdout"
        },
        {
          "output_type": "stream",
          "text": [
            "Sample 62/100: 100%|██████████| 42/42 [01:06<00:00,  1.59s/it]\n",
            "Sample 63/100:   0%|          | 0/40 [00:00<?, ?it/s]"
          ],
          "name": "stderr"
        },
        {
          "output_type": "stream",
          "text": [
            "--> Threshold 0.8700000000000003\n"
          ],
          "name": "stdout"
        },
        {
          "output_type": "stream",
          "text": [
            "Sample 63/100: 100%|██████████| 40/40 [01:01<00:00,  1.54s/it]\n",
            "Sample 64/100:   0%|          | 0/37 [00:00<?, ?it/s]"
          ],
          "name": "stderr"
        },
        {
          "output_type": "stream",
          "text": [
            "--> Threshold 0.8600000000000003\n"
          ],
          "name": "stdout"
        },
        {
          "output_type": "stream",
          "text": [
            "Sample 64/100: 100%|██████████| 37/37 [00:53<00:00,  1.44s/it]\n",
            "Sample 65/100:   0%|          | 0/30 [00:00<?, ?it/s]"
          ],
          "name": "stderr"
        },
        {
          "output_type": "stream",
          "text": [
            "--> Threshold 0.8500000000000003\n"
          ],
          "name": "stdout"
        },
        {
          "output_type": "stream",
          "text": [
            "Sample 65/100: 100%|██████████| 30/30 [00:44<00:00,  1.49s/it]\n",
            "Sample 66/100:   0%|          | 0/29 [00:00<?, ?it/s]"
          ],
          "name": "stderr"
        },
        {
          "output_type": "stream",
          "text": [
            "--> Threshold 0.8400000000000003\n"
          ],
          "name": "stdout"
        },
        {
          "output_type": "stream",
          "text": [
            "Sample 66/100: 100%|██████████| 29/29 [00:43<00:00,  1.51s/it]\n",
            "Sample 67/100:   0%|          | 0/27 [00:00<?, ?it/s]"
          ],
          "name": "stderr"
        },
        {
          "output_type": "stream",
          "text": [
            "--> Threshold 0.8300000000000003\n"
          ],
          "name": "stdout"
        },
        {
          "output_type": "stream",
          "text": [
            "Sample 67/100: 100%|██████████| 27/27 [00:37<00:00,  1.39s/it]\n",
            "Sample 68/100:   0%|          | 0/24 [00:00<?, ?it/s]"
          ],
          "name": "stderr"
        },
        {
          "output_type": "stream",
          "text": [
            "--> Threshold 0.8200000000000003\n"
          ],
          "name": "stdout"
        },
        {
          "output_type": "stream",
          "text": [
            "Sample 68/100: 100%|██████████| 24/24 [00:30<00:00,  1.25s/it]\n",
            "Sample 69/100:   0%|          | 0/23 [00:00<?, ?it/s]"
          ],
          "name": "stderr"
        },
        {
          "output_type": "stream",
          "text": [
            "--> Threshold 0.8100000000000003\n"
          ],
          "name": "stdout"
        },
        {
          "output_type": "stream",
          "text": [
            "Sample 69/100: 100%|██████████| 23/23 [00:27<00:00,  1.18s/it]\n",
            "Sample 70/100:   0%|          | 0/21 [00:00<?, ?it/s]"
          ],
          "name": "stderr"
        },
        {
          "output_type": "stream",
          "text": [
            "--> Threshold 0.8000000000000003\n"
          ],
          "name": "stdout"
        },
        {
          "output_type": "stream",
          "text": [
            "Sample 70/100: 100%|██████████| 21/21 [00:24<00:00,  1.17s/it]\n",
            "Sample 71/100:   0%|          | 0/19 [00:00<?, ?it/s]"
          ],
          "name": "stderr"
        },
        {
          "output_type": "stream",
          "text": [
            "--> Threshold 0.7900000000000003\n"
          ],
          "name": "stdout"
        },
        {
          "output_type": "stream",
          "text": [
            "Sample 71/100: 100%|██████████| 19/19 [00:21<00:00,  1.11s/it]\n",
            "Sample 72/100:   0%|          | 0/17 [00:00<?, ?it/s]"
          ],
          "name": "stderr"
        },
        {
          "output_type": "stream",
          "text": [
            "--> Threshold 0.7800000000000002\n"
          ],
          "name": "stdout"
        },
        {
          "output_type": "stream",
          "text": [
            "Sample 72/100: 100%|██████████| 17/17 [00:18<00:00,  1.09s/it]\n",
            "Sample 73/100:   0%|          | 0/15 [00:00<?, ?it/s]"
          ],
          "name": "stderr"
        },
        {
          "output_type": "stream",
          "text": [
            "--> Threshold 0.7700000000000002\n"
          ],
          "name": "stdout"
        },
        {
          "output_type": "stream",
          "text": [
            "Sample 73/100: 100%|██████████| 15/15 [00:16<00:00,  1.12s/it]\n",
            "Sample 74/100:   0%|          | 0/15 [00:00<?, ?it/s]"
          ],
          "name": "stderr"
        },
        {
          "output_type": "stream",
          "text": [
            "--> Threshold 0.7600000000000002\n"
          ],
          "name": "stdout"
        },
        {
          "output_type": "stream",
          "text": [
            "Sample 74/100: 100%|██████████| 15/15 [00:17<00:00,  1.15s/it]\n",
            "Sample 75/100:   0%|          | 0/14 [00:00<?, ?it/s]"
          ],
          "name": "stderr"
        },
        {
          "output_type": "stream",
          "text": [
            "--> Threshold 0.7500000000000002\n"
          ],
          "name": "stdout"
        },
        {
          "output_type": "stream",
          "text": [
            "Sample 75/100: 100%|██████████| 14/14 [00:14<00:00,  1.01s/it]\n",
            "Sample 76/100:   0%|          | 0/13 [00:00<?, ?it/s]"
          ],
          "name": "stderr"
        },
        {
          "output_type": "stream",
          "text": [
            "--> Threshold 0.7400000000000002\n"
          ],
          "name": "stdout"
        },
        {
          "output_type": "stream",
          "text": [
            "Sample 76/100: 100%|██████████| 13/13 [00:12<00:00,  1.02it/s]\n",
            "Sample 77/100:   0%|          | 0/13 [00:00<?, ?it/s]"
          ],
          "name": "stderr"
        },
        {
          "output_type": "stream",
          "text": [
            "--> Threshold 0.7300000000000002\n"
          ],
          "name": "stdout"
        },
        {
          "output_type": "stream",
          "text": [
            "Sample 77/100: 100%|██████████| 13/13 [00:12<00:00,  1.02it/s]\n",
            "Sample 78/100:   0%|          | 0/11 [00:00<?, ?it/s]"
          ],
          "name": "stderr"
        },
        {
          "output_type": "stream",
          "text": [
            "--> Threshold 0.7200000000000002\n"
          ],
          "name": "stdout"
        },
        {
          "output_type": "stream",
          "text": [
            "Sample 78/100: 100%|██████████| 11/11 [00:10<00:00,  1.10it/s]\n",
            "Sample 79/100:   0%|          | 0/11 [00:00<?, ?it/s]"
          ],
          "name": "stderr"
        },
        {
          "output_type": "stream",
          "text": [
            "--> Threshold 0.7100000000000002\n"
          ],
          "name": "stdout"
        },
        {
          "output_type": "stream",
          "text": [
            "Sample 79/100: 100%|██████████| 11/11 [00:10<00:00,  1.08it/s]\n",
            "Sample 80/100:   0%|          | 0/11 [00:00<?, ?it/s]"
          ],
          "name": "stderr"
        },
        {
          "output_type": "stream",
          "text": [
            "--> Threshold 0.7000000000000002\n"
          ],
          "name": "stdout"
        },
        {
          "output_type": "stream",
          "text": [
            "Sample 80/100: 100%|██████████| 11/11 [00:10<00:00,  1.08it/s]\n",
            "Sample 81/100:   0%|          | 0/10 [00:00<?, ?it/s]"
          ],
          "name": "stderr"
        },
        {
          "output_type": "stream",
          "text": [
            "--> Threshold 0.6900000000000002\n"
          ],
          "name": "stdout"
        },
        {
          "output_type": "stream",
          "text": [
            "Sample 81/100: 100%|██████████| 10/10 [00:09<00:00,  1.06it/s]\n",
            "Sample 82/100:   0%|          | 0/10 [00:00<?, ?it/s]"
          ],
          "name": "stderr"
        },
        {
          "output_type": "stream",
          "text": [
            "--> Threshold 0.6800000000000002\n"
          ],
          "name": "stdout"
        },
        {
          "output_type": "stream",
          "text": [
            "Sample 82/100: 100%|██████████| 10/10 [00:09<00:00,  1.04it/s]\n",
            "Sample 83/100:   0%|          | 0/9 [00:00<?, ?it/s]"
          ],
          "name": "stderr"
        },
        {
          "output_type": "stream",
          "text": [
            "--> Threshold 0.6700000000000002\n"
          ],
          "name": "stdout"
        },
        {
          "output_type": "stream",
          "text": [
            "Sample 83/100: 100%|██████████| 9/9 [00:08<00:00,  1.12it/s]\n",
            "Sample 84/100:   0%|          | 0/9 [00:00<?, ?it/s]"
          ],
          "name": "stderr"
        },
        {
          "output_type": "stream",
          "text": [
            "--> Threshold 0.6600000000000001\n"
          ],
          "name": "stdout"
        },
        {
          "output_type": "stream",
          "text": [
            "Sample 84/100: 100%|██████████| 9/9 [00:08<00:00,  1.11it/s]\n",
            "Sample 85/100:   0%|          | 0/9 [00:00<?, ?it/s]"
          ],
          "name": "stderr"
        },
        {
          "output_type": "stream",
          "text": [
            "--> Threshold 0.6500000000000001\n"
          ],
          "name": "stdout"
        },
        {
          "output_type": "stream",
          "text": [
            "Sample 85/100: 100%|██████████| 9/9 [00:08<00:00,  1.09it/s]\n",
            "Sample 86/100:   0%|          | 0/9 [00:00<?, ?it/s]"
          ],
          "name": "stderr"
        },
        {
          "output_type": "stream",
          "text": [
            "--> Threshold 0.6400000000000001\n"
          ],
          "name": "stdout"
        },
        {
          "output_type": "stream",
          "text": [
            "Sample 86/100: 100%|██████████| 9/9 [00:08<00:00,  1.09it/s]\n",
            "Sample 87/100:   0%|          | 0/9 [00:00<?, ?it/s]"
          ],
          "name": "stderr"
        },
        {
          "output_type": "stream",
          "text": [
            "--> Threshold 0.6300000000000001\n"
          ],
          "name": "stdout"
        },
        {
          "output_type": "stream",
          "text": [
            "Sample 87/100: 100%|██████████| 9/9 [00:08<00:00,  1.08it/s]\n",
            "Sample 88/100:   0%|          | 0/9 [00:00<?, ?it/s]"
          ],
          "name": "stderr"
        },
        {
          "output_type": "stream",
          "text": [
            "--> Threshold 0.6200000000000001\n"
          ],
          "name": "stdout"
        },
        {
          "output_type": "stream",
          "text": [
            "Sample 88/100: 100%|██████████| 9/9 [00:08<00:00,  1.09it/s]\n",
            "Sample 89/100:   0%|          | 0/9 [00:00<?, ?it/s]"
          ],
          "name": "stderr"
        },
        {
          "output_type": "stream",
          "text": [
            "--> Threshold 0.6100000000000001\n"
          ],
          "name": "stdout"
        },
        {
          "output_type": "stream",
          "text": [
            "Sample 89/100: 100%|██████████| 9/9 [00:08<00:00,  1.09it/s]\n",
            "Sample 90/100:   0%|          | 0/9 [00:00<?, ?it/s]"
          ],
          "name": "stderr"
        },
        {
          "output_type": "stream",
          "text": [
            "--> Threshold 0.6000000000000001\n"
          ],
          "name": "stdout"
        },
        {
          "output_type": "stream",
          "text": [
            "Sample 90/100: 100%|██████████| 9/9 [00:08<00:00,  1.09it/s]\n",
            "Sample 91/100:   0%|          | 0/9 [00:00<?, ?it/s]"
          ],
          "name": "stderr"
        },
        {
          "output_type": "stream",
          "text": [
            "--> Threshold 0.5900000000000001\n"
          ],
          "name": "stdout"
        },
        {
          "output_type": "stream",
          "text": [
            "Sample 91/100: 100%|██████████| 9/9 [00:08<00:00,  1.09it/s]\n",
            "Sample 92/100:   0%|          | 0/9 [00:00<?, ?it/s]"
          ],
          "name": "stderr"
        },
        {
          "output_type": "stream",
          "text": [
            "--> Threshold 0.5800000000000001\n"
          ],
          "name": "stdout"
        },
        {
          "output_type": "stream",
          "text": [
            "Sample 92/100: 100%|██████████| 9/9 [00:08<00:00,  1.09it/s]\n",
            "Sample 93/100:   0%|          | 0/9 [00:00<?, ?it/s]"
          ],
          "name": "stderr"
        },
        {
          "output_type": "stream",
          "text": [
            "--> Threshold 0.5700000000000001\n"
          ],
          "name": "stdout"
        },
        {
          "output_type": "stream",
          "text": [
            "Sample 93/100: 100%|██████████| 9/9 [00:08<00:00,  1.09it/s]\n",
            "Sample 94/100:   0%|          | 0/9 [00:00<?, ?it/s]"
          ],
          "name": "stderr"
        },
        {
          "output_type": "stream",
          "text": [
            "--> Threshold 0.56\n"
          ],
          "name": "stdout"
        },
        {
          "output_type": "stream",
          "text": [
            "Sample 94/100: 100%|██████████| 9/9 [00:08<00:00,  1.09it/s]\n",
            "Sample 95/100:   0%|          | 0/9 [00:00<?, ?it/s]"
          ],
          "name": "stderr"
        },
        {
          "output_type": "stream",
          "text": [
            "--> Threshold 0.55\n"
          ],
          "name": "stdout"
        },
        {
          "output_type": "stream",
          "text": [
            "Sample 95/100: 100%|██████████| 9/9 [00:08<00:00,  1.09it/s]\n",
            "Sample 96/100:   0%|          | 0/9 [00:00<?, ?it/s]"
          ],
          "name": "stderr"
        },
        {
          "output_type": "stream",
          "text": [
            "--> Threshold 0.54\n"
          ],
          "name": "stdout"
        },
        {
          "output_type": "stream",
          "text": [
            "Sample 96/100: 100%|██████████| 9/9 [00:08<00:00,  1.09it/s]\n",
            "Sample 97/100:   0%|          | 0/9 [00:00<?, ?it/s]"
          ],
          "name": "stderr"
        },
        {
          "output_type": "stream",
          "text": [
            "--> Threshold 0.53\n"
          ],
          "name": "stdout"
        },
        {
          "output_type": "stream",
          "text": [
            "Sample 97/100: 100%|██████████| 9/9 [00:08<00:00,  1.09it/s]\n",
            "Sample 98/100:   0%|          | 0/9 [00:00<?, ?it/s]"
          ],
          "name": "stderr"
        },
        {
          "output_type": "stream",
          "text": [
            "--> Threshold 0.52\n"
          ],
          "name": "stdout"
        },
        {
          "output_type": "stream",
          "text": [
            "Sample 98/100: 100%|██████████| 9/9 [00:08<00:00,  1.09it/s]\n",
            "Sample 99/100:   0%|          | 0/9 [00:00<?, ?it/s]"
          ],
          "name": "stderr"
        },
        {
          "output_type": "stream",
          "text": [
            "--> Threshold 0.51\n"
          ],
          "name": "stdout"
        },
        {
          "output_type": "stream",
          "text": [
            "Sample 99/100: 100%|██████████| 9/9 [00:08<00:00,  1.09it/s]\n",
            "Sample 100/100:   0%|          | 0/9 [00:00<?, ?it/s]"
          ],
          "name": "stderr"
        },
        {
          "output_type": "stream",
          "text": [
            "--> Threshold 0.5\n"
          ],
          "name": "stdout"
        },
        {
          "output_type": "stream",
          "text": [
            "Sample 100/100: 100%|██████████| 9/9 [00:08<00:00,  1.07it/s]\n"
          ],
          "name": "stderr"
        },
        {
          "output_type": "stream",
          "text": [
            "Model --> textattack/distilbert-base-cased-SST-2\n"
          ],
          "name": "stdout"
        },
        {
          "output_type": "display_data",
          "data": {
            "application/vnd.jupyter.widget-view+json": {
              "model_id": "124845c85d4a454e8dcea0eff0056d64",
              "version_minor": 0,
              "version_major": 2
            },
            "text/plain": [
              "HBox(children=(FloatProgress(value=0.0, description='Downloading', max=509.0, style=ProgressStyle(description_…"
            ]
          },
          "metadata": {
            "tags": []
          }
        },
        {
          "output_type": "stream",
          "text": [
            "\n"
          ],
          "name": "stdout"
        },
        {
          "output_type": "display_data",
          "data": {
            "application/vnd.jupyter.widget-view+json": {
              "model_id": "e9fd456483264bb39dbb64595a4363f6",
              "version_minor": 0,
              "version_major": 2
            },
            "text/plain": [
              "HBox(children=(FloatProgress(value=0.0, description='Downloading', max=213450.0, style=ProgressStyle(descripti…"
            ]
          },
          "metadata": {
            "tags": []
          }
        },
        {
          "output_type": "stream",
          "text": [
            "\n"
          ],
          "name": "stdout"
        },
        {
          "output_type": "display_data",
          "data": {
            "application/vnd.jupyter.widget-view+json": {
              "model_id": "7840155ddf4043f2812abb6f8c4e0146",
              "version_minor": 0,
              "version_major": 2
            },
            "text/plain": [
              "HBox(children=(FloatProgress(value=0.0, description='Downloading', max=112.0, style=ProgressStyle(description_…"
            ]
          },
          "metadata": {
            "tags": []
          }
        },
        {
          "output_type": "stream",
          "text": [
            "\n"
          ],
          "name": "stdout"
        },
        {
          "output_type": "display_data",
          "data": {
            "application/vnd.jupyter.widget-view+json": {
              "model_id": "976d5d1f80884ed18ac6b1c3e5b02a7e",
              "version_minor": 0,
              "version_major": 2
            },
            "text/plain": [
              "HBox(children=(FloatProgress(value=0.0, description='Downloading', max=49.0, style=ProgressStyle(description_w…"
            ]
          },
          "metadata": {
            "tags": []
          }
        },
        {
          "output_type": "stream",
          "text": [
            "\n"
          ],
          "name": "stdout"
        },
        {
          "output_type": "display_data",
          "data": {
            "application/vnd.jupyter.widget-view+json": {
              "model_id": "5cee71e0d900444d958e0a16764a810c",
              "version_minor": 0,
              "version_major": 2
            },
            "text/plain": [
              "HBox(children=(FloatProgress(value=0.0, description='Downloading', max=263157278.0, style=ProgressStyle(descri…"
            ]
          },
          "metadata": {
            "tags": []
          }
        },
        {
          "output_type": "stream",
          "text": [
            "\n"
          ],
          "name": "stdout"
        },
        {
          "output_type": "stream",
          "text": [
            "\u001b[34;1mtextattack\u001b[0m: Unknown if model of class <class 'textattack.models.wrappers.huggingface_model_wrapper.HuggingFaceModelWrapper'> compatible with goal function <class 'textattack.goal_functions.classification.untargeted_classification.UntargetedClassification'>.\n"
          ],
          "name": "stderr"
        },
        {
          "output_type": "stream",
          "text": [
            "----> constraint bertscore\n"
          ],
          "name": "stdout"
        },
        {
          "output_type": "stream",
          "text": [
            "\rSample 1/100:   0%|          | 0/50 [00:00<?, ?it/s]"
          ],
          "name": "stderr"
        },
        {
          "output_type": "stream",
          "text": [
            "--> Threshold 0.9900000000000004\n"
          ],
          "name": "stdout"
        },
        {
          "output_type": "stream",
          "text": [
            "Sample 1/100: 100%|██████████| 50/50 [01:54<00:00,  2.28s/it]\n",
            "Sample 2/100:   0%|          | 0/50 [00:00<?, ?it/s]"
          ],
          "name": "stderr"
        },
        {
          "output_type": "stream",
          "text": [
            "--> Threshold 0.9800000000000004\n"
          ],
          "name": "stdout"
        },
        {
          "output_type": "stream",
          "text": [
            "Sample 2/100:  50%|█████     | 25/50 [01:05<00:59,  2.37s/it]Exception ignored in: <bound method CapturableResourceDeleter.__del__ of <tensorflow.python.training.tracking.tracking.CapturableResourceDeleter object at 0x7f412b80ca20>>\n",
            "Traceback (most recent call last):\n",
            "  File \"/usr/local/lib/python3.6/dist-packages/tensorflow/python/training/tracking/tracking.py\", line 202, in __del__\n",
            "    self._destroy_resource()\n",
            "  File \"/usr/local/lib/python3.6/dist-packages/tensorflow/python/eager/def_function.py\", line 780, in __call__\n",
            "    result = self._call(*args, **kwds)\n",
            "  File \"/usr/local/lib/python3.6/dist-packages/tensorflow/python/eager/def_function.py\", line 823, in _call\n",
            "    self._initialize(args, kwds, add_initializers_to=initializers)\n",
            "  File \"/usr/local/lib/python3.6/dist-packages/tensorflow/python/eager/def_function.py\", line 697, in _initialize\n",
            "    *args, **kwds))\n",
            "  File \"/usr/local/lib/python3.6/dist-packages/tensorflow/python/eager/function.py\", line 2855, in _get_concrete_function_internal_garbage_collected\n",
            "    graph_function, _, _ = self._maybe_define_function(args, kwargs)\n",
            "  File \"/usr/local/lib/python3.6/dist-packages/tensorflow/python/eager/function.py\", line 3213, in _maybe_define_function\n",
            "    graph_function = self._create_graph_function(args, kwargs)\n",
            "  File \"/usr/local/lib/python3.6/dist-packages/tensorflow/python/eager/function.py\", line 3075, in _create_graph_function\n",
            "    capture_by_value=self._capture_by_value),\n",
            "  File \"/usr/local/lib/python3.6/dist-packages/tensorflow/python/framework/func_graph.py\", line 986, in func_graph_from_py_func\n",
            "    func_outputs = python_func(*func_args, **func_kwargs)\n",
            "  File \"/usr/local/lib/python3.6/dist-packages/tensorflow/python/eager/def_function.py\", line 600, in wrapped_fn\n",
            "    return weak_wrapped_fn().__wrapped__(*args, **kwds)\n",
            "  File \"/usr/local/lib/python3.6/dist-packages/tensorflow/python/saved_model/function_deserialization.py\", line 237, in restored_function_body\n",
            "    return _call_concrete_function(function, inputs)\n",
            "  File \"/usr/local/lib/python3.6/dist-packages/tensorflow/python/saved_model/function_deserialization.py\", line 74, in _call_concrete_function\n",
            "    result = function._call_flat(tensor_inputs, function._captured_inputs)  # pylint: disable=protected-access\n",
            "  File \"/usr/local/lib/python3.6/dist-packages/tensorflow/python/saved_model/load.py\", line 106, in _call_flat\n",
            "    cancellation_manager)\n",
            "  File \"/usr/local/lib/python3.6/dist-packages/tensorflow/python/eager/function.py\", line 1938, in _call_flat\n",
            "    flat_outputs = forward_function.call(ctx, args_with_tangents)\n",
            "  File \"/usr/local/lib/python3.6/dist-packages/tensorflow/python/eager/function.py\", line 579, in call\n",
            "    executor_type=executor_type)\n",
            "  File \"/usr/local/lib/python3.6/dist-packages/tensorflow/python/ops/functional_ops.py\", line 1192, in partitioned_call\n",
            "    f.add_to_graph(graph)\n",
            "  File \"/usr/local/lib/python3.6/dist-packages/tensorflow/python/eager/function.py\", line 495, in add_to_graph\n",
            "    g._add_function(self)\n",
            "  File \"/usr/local/lib/python3.6/dist-packages/tensorflow/python/framework/ops.py\", line 3345, in _add_function\n",
            "    gradient)\n",
            "tensorflow.python.framework.errors_impl.InvalidArgumentError: 'func' argument to TF_GraphCopyFunction cannot be null\n",
            "Sample 2/100: 100%|██████████| 50/50 [01:55<00:00,  2.30s/it]\n",
            "Sample 3/100:   0%|          | 0/50 [00:00<?, ?it/s]"
          ],
          "name": "stderr"
        },
        {
          "output_type": "stream",
          "text": [
            "--> Threshold 0.9700000000000004\n"
          ],
          "name": "stdout"
        },
        {
          "output_type": "stream",
          "text": [
            "Sample 3/100: 100%|██████████| 50/50 [01:45<00:00,  2.10s/it]\n",
            "Sample 4/100:   0%|          | 0/46 [00:00<?, ?it/s]"
          ],
          "name": "stderr"
        },
        {
          "output_type": "stream",
          "text": [
            "--> Threshold 0.9600000000000004\n"
          ],
          "name": "stdout"
        },
        {
          "output_type": "stream",
          "text": [
            "Sample 4/100: 100%|██████████| 46/46 [01:34<00:00,  2.06s/it]\n",
            "Sample 5/100:   0%|          | 0/42 [00:00<?, ?it/s]"
          ],
          "name": "stderr"
        },
        {
          "output_type": "stream",
          "text": [
            "--> Threshold 0.9500000000000004\n"
          ],
          "name": "stdout"
        },
        {
          "output_type": "stream",
          "text": [
            "Sample 5/100: 100%|██████████| 42/42 [01:28<00:00,  2.11s/it]\n",
            "Sample 6/100:   0%|          | 0/40 [00:00<?, ?it/s]"
          ],
          "name": "stderr"
        },
        {
          "output_type": "stream",
          "text": [
            "--> Threshold 0.9400000000000004\n"
          ],
          "name": "stdout"
        },
        {
          "output_type": "stream",
          "text": [
            "Sample 6/100: 100%|██████████| 40/40 [01:22<00:00,  2.05s/it]\n",
            "Sample 7/100:   0%|          | 0/37 [00:00<?, ?it/s]"
          ],
          "name": "stderr"
        },
        {
          "output_type": "stream",
          "text": [
            "--> Threshold 0.9300000000000004\n"
          ],
          "name": "stdout"
        },
        {
          "output_type": "stream",
          "text": [
            "Sample 7/100: 100%|██████████| 37/37 [01:13<00:00,  1.98s/it]\n",
            "Sample 8/100:   0%|          | 0/34 [00:00<?, ?it/s]"
          ],
          "name": "stderr"
        },
        {
          "output_type": "stream",
          "text": [
            "--> Threshold 0.9200000000000004\n"
          ],
          "name": "stdout"
        },
        {
          "output_type": "stream",
          "text": [
            "Sample 8/100: 100%|██████████| 34/34 [01:06<00:00,  1.96s/it]\n",
            "Sample 9/100:   0%|          | 0/32 [00:00<?, ?it/s]"
          ],
          "name": "stderr"
        },
        {
          "output_type": "stream",
          "text": [
            "--> Threshold 0.9100000000000004\n"
          ],
          "name": "stdout"
        },
        {
          "output_type": "stream",
          "text": [
            "Sample 9/100: 100%|██████████| 32/32 [01:03<00:00,  1.98s/it]\n",
            "Sample 10/100:   0%|          | 0/31 [00:00<?, ?it/s]"
          ],
          "name": "stderr"
        },
        {
          "output_type": "stream",
          "text": [
            "--> Threshold 0.9000000000000004\n"
          ],
          "name": "stdout"
        },
        {
          "output_type": "stream",
          "text": [
            "Sample 10/100: 100%|██████████| 31/31 [01:01<00:00,  1.98s/it]\n",
            "Sample 11/100:   0%|          | 0/29 [00:00<?, ?it/s]"
          ],
          "name": "stderr"
        },
        {
          "output_type": "stream",
          "text": [
            "--> Threshold 0.8900000000000003\n"
          ],
          "name": "stdout"
        },
        {
          "output_type": "stream",
          "text": [
            "Sample 11/100: 100%|██████████| 29/29 [00:55<00:00,  1.93s/it]\n",
            "Sample 12/100:   0%|          | 0/28 [00:00<?, ?it/s]"
          ],
          "name": "stderr"
        },
        {
          "output_type": "stream",
          "text": [
            "--> Threshold 0.8800000000000003\n"
          ],
          "name": "stdout"
        },
        {
          "output_type": "stream",
          "text": [
            "Sample 12/100: 100%|██████████| 28/28 [00:53<00:00,  1.91s/it]\n",
            "Sample 13/100:   0%|          | 0/27 [00:00<?, ?it/s]"
          ],
          "name": "stderr"
        },
        {
          "output_type": "stream",
          "text": [
            "--> Threshold 0.8700000000000003\n"
          ],
          "name": "stdout"
        },
        {
          "output_type": "stream",
          "text": [
            "Sample 13/100: 100%|██████████| 27/27 [00:50<00:00,  1.86s/it]\n",
            "Sample 14/100:   0%|          | 0/24 [00:00<?, ?it/s]"
          ],
          "name": "stderr"
        },
        {
          "output_type": "stream",
          "text": [
            "--> Threshold 0.8600000000000003\n"
          ],
          "name": "stdout"
        },
        {
          "output_type": "stream",
          "text": [
            "Sample 14/100: 100%|██████████| 24/24 [00:45<00:00,  1.91s/it]\n",
            "Sample 15/100:   0%|          | 0/23 [00:00<?, ?it/s]"
          ],
          "name": "stderr"
        },
        {
          "output_type": "stream",
          "text": [
            "--> Threshold 0.8500000000000003\n"
          ],
          "name": "stdout"
        },
        {
          "output_type": "stream",
          "text": [
            "Sample 15/100: 100%|██████████| 23/23 [00:42<00:00,  1.87s/it]\n",
            "Sample 16/100:   0%|          | 0/20 [00:00<?, ?it/s]"
          ],
          "name": "stderr"
        },
        {
          "output_type": "stream",
          "text": [
            "--> Threshold 0.8400000000000003\n"
          ],
          "name": "stdout"
        },
        {
          "output_type": "stream",
          "text": [
            "Sample 16/100: 100%|██████████| 20/20 [00:34<00:00,  1.73s/it]\n",
            "Sample 17/100:   0%|          | 0/18 [00:00<?, ?it/s]"
          ],
          "name": "stderr"
        },
        {
          "output_type": "stream",
          "text": [
            "--> Threshold 0.8300000000000003\n"
          ],
          "name": "stdout"
        },
        {
          "output_type": "stream",
          "text": [
            "Sample 17/100: 100%|██████████| 18/18 [00:30<00:00,  1.72s/it]\n",
            "Sample 18/100:   0%|          | 0/18 [00:00<?, ?it/s]"
          ],
          "name": "stderr"
        },
        {
          "output_type": "stream",
          "text": [
            "--> Threshold 0.8200000000000003\n"
          ],
          "name": "stdout"
        },
        {
          "output_type": "stream",
          "text": [
            "Sample 18/100: 100%|██████████| 18/18 [00:30<00:00,  1.67s/it]\n",
            "Sample 19/100:   0%|          | 0/17 [00:00<?, ?it/s]"
          ],
          "name": "stderr"
        },
        {
          "output_type": "stream",
          "text": [
            "--> Threshold 0.8100000000000003\n"
          ],
          "name": "stdout"
        },
        {
          "output_type": "stream",
          "text": [
            "Sample 19/100: 100%|██████████| 17/17 [00:25<00:00,  1.50s/it]\n",
            "Sample 20/100:   0%|          | 0/15 [00:00<?, ?it/s]"
          ],
          "name": "stderr"
        },
        {
          "output_type": "stream",
          "text": [
            "--> Threshold 0.8000000000000003\n"
          ],
          "name": "stdout"
        },
        {
          "output_type": "stream",
          "text": [
            "Sample 20/100: 100%|██████████| 15/15 [00:20<00:00,  1.39s/it]\n",
            "Sample 21/100:   0%|          | 0/13 [00:00<?, ?it/s]"
          ],
          "name": "stderr"
        },
        {
          "output_type": "stream",
          "text": [
            "--> Threshold 0.7900000000000003\n"
          ],
          "name": "stdout"
        },
        {
          "output_type": "stream",
          "text": [
            "Sample 21/100: 100%|██████████| 13/13 [00:19<00:00,  1.46s/it]\n",
            "Sample 22/100:   0%|          | 0/13 [00:00<?, ?it/s]"
          ],
          "name": "stderr"
        },
        {
          "output_type": "stream",
          "text": [
            "--> Threshold 0.7800000000000002\n"
          ],
          "name": "stdout"
        },
        {
          "output_type": "stream",
          "text": [
            "Sample 22/100: 100%|██████████| 13/13 [00:19<00:00,  1.49s/it]\n",
            "Sample 23/100:   0%|          | 0/13 [00:00<?, ?it/s]"
          ],
          "name": "stderr"
        },
        {
          "output_type": "stream",
          "text": [
            "--> Threshold 0.7700000000000002\n"
          ],
          "name": "stdout"
        },
        {
          "output_type": "stream",
          "text": [
            "Sample 23/100: 100%|██████████| 13/13 [00:19<00:00,  1.49s/it]\n",
            "Sample 24/100:   0%|          | 0/13 [00:00<?, ?it/s]"
          ],
          "name": "stderr"
        },
        {
          "output_type": "stream",
          "text": [
            "--> Threshold 0.7600000000000002\n"
          ],
          "name": "stdout"
        },
        {
          "output_type": "stream",
          "text": [
            "Sample 24/100: 100%|██████████| 13/13 [00:19<00:00,  1.49s/it]\n",
            "Sample 25/100:   0%|          | 0/13 [00:00<?, ?it/s]"
          ],
          "name": "stderr"
        },
        {
          "output_type": "stream",
          "text": [
            "--> Threshold 0.7500000000000002\n"
          ],
          "name": "stdout"
        },
        {
          "output_type": "stream",
          "text": [
            "Sample 25/100: 100%|██████████| 13/13 [00:17<00:00,  1.36s/it]\n",
            "Sample 26/100:   0%|          | 0/11 [00:00<?, ?it/s]"
          ],
          "name": "stderr"
        },
        {
          "output_type": "stream",
          "text": [
            "--> Threshold 0.7400000000000002\n"
          ],
          "name": "stdout"
        },
        {
          "output_type": "stream",
          "text": [
            "Sample 26/100: 100%|██████████| 11/11 [00:12<00:00,  1.13s/it]\n",
            "Sample 27/100:   0%|          | 0/11 [00:00<?, ?it/s]"
          ],
          "name": "stderr"
        },
        {
          "output_type": "stream",
          "text": [
            "--> Threshold 0.7300000000000002\n"
          ],
          "name": "stdout"
        },
        {
          "output_type": "stream",
          "text": [
            "Sample 27/100: 100%|██████████| 11/11 [00:12<00:00,  1.16s/it]\n",
            "Sample 28/100:   0%|          | 0/11 [00:00<?, ?it/s]"
          ],
          "name": "stderr"
        },
        {
          "output_type": "stream",
          "text": [
            "--> Threshold 0.7200000000000002\n"
          ],
          "name": "stdout"
        },
        {
          "output_type": "stream",
          "text": [
            "Sample 28/100: 100%|██████████| 11/11 [00:12<00:00,  1.16s/it]\n",
            "Sample 29/100:   0%|          | 0/10 [00:00<?, ?it/s]"
          ],
          "name": "stderr"
        },
        {
          "output_type": "stream",
          "text": [
            "--> Threshold 0.7100000000000002\n"
          ],
          "name": "stdout"
        },
        {
          "output_type": "stream",
          "text": [
            "Sample 29/100: 100%|██████████| 10/10 [00:12<00:00,  1.21s/it]\n",
            "Sample 30/100:   0%|          | 0/9 [00:00<?, ?it/s]"
          ],
          "name": "stderr"
        },
        {
          "output_type": "stream",
          "text": [
            "--> Threshold 0.7000000000000002\n"
          ],
          "name": "stdout"
        },
        {
          "output_type": "stream",
          "text": [
            "Sample 30/100: 100%|██████████| 9/9 [00:10<00:00,  1.13s/it]\n",
            "Sample 31/100:   0%|          | 0/9 [00:00<?, ?it/s]"
          ],
          "name": "stderr"
        },
        {
          "output_type": "stream",
          "text": [
            "--> Threshold 0.6900000000000002\n"
          ],
          "name": "stdout"
        },
        {
          "output_type": "stream",
          "text": [
            "Sample 31/100: 100%|██████████| 9/9 [00:10<00:00,  1.12s/it]\n",
            "Sample 32/100:   0%|          | 0/9 [00:00<?, ?it/s]"
          ],
          "name": "stderr"
        },
        {
          "output_type": "stream",
          "text": [
            "--> Threshold 0.6800000000000002\n"
          ],
          "name": "stdout"
        },
        {
          "output_type": "stream",
          "text": [
            "Sample 32/100: 100%|██████████| 9/9 [00:10<00:00,  1.13s/it]\n",
            "Sample 33/100:   0%|          | 0/9 [00:00<?, ?it/s]"
          ],
          "name": "stderr"
        },
        {
          "output_type": "stream",
          "text": [
            "--> Threshold 0.6700000000000002\n"
          ],
          "name": "stdout"
        },
        {
          "output_type": "stream",
          "text": [
            "Sample 33/100: 100%|██████████| 9/9 [00:10<00:00,  1.14s/it]\n",
            "Sample 34/100:   0%|          | 0/8 [00:00<?, ?it/s]"
          ],
          "name": "stderr"
        },
        {
          "output_type": "stream",
          "text": [
            "--> Threshold 0.6600000000000001\n"
          ],
          "name": "stdout"
        },
        {
          "output_type": "stream",
          "text": [
            "Sample 34/100: 100%|██████████| 8/8 [00:06<00:00,  1.25it/s]\n",
            "Sample 35/100:   0%|          | 0/8 [00:00<?, ?it/s]"
          ],
          "name": "stderr"
        },
        {
          "output_type": "stream",
          "text": [
            "--> Threshold 0.6500000000000001\n"
          ],
          "name": "stdout"
        },
        {
          "output_type": "stream",
          "text": [
            "Sample 35/100: 100%|██████████| 8/8 [00:06<00:00,  1.25it/s]\n",
            "Sample 36/100:   0%|          | 0/8 [00:00<?, ?it/s]"
          ],
          "name": "stderr"
        },
        {
          "output_type": "stream",
          "text": [
            "--> Threshold 0.6400000000000001\n"
          ],
          "name": "stdout"
        },
        {
          "output_type": "stream",
          "text": [
            "Sample 36/100: 100%|██████████| 8/8 [00:06<00:00,  1.23it/s]\n",
            "Sample 37/100:   0%|          | 0/8 [00:00<?, ?it/s]"
          ],
          "name": "stderr"
        },
        {
          "output_type": "stream",
          "text": [
            "--> Threshold 0.6300000000000001\n"
          ],
          "name": "stdout"
        },
        {
          "output_type": "stream",
          "text": [
            "Sample 37/100: 100%|██████████| 8/8 [00:06<00:00,  1.25it/s]\n",
            "Sample 38/100:   0%|          | 0/8 [00:00<?, ?it/s]"
          ],
          "name": "stderr"
        },
        {
          "output_type": "stream",
          "text": [
            "--> Threshold 0.6200000000000001\n"
          ],
          "name": "stdout"
        },
        {
          "output_type": "stream",
          "text": [
            "Sample 38/100: 100%|██████████| 8/8 [00:06<00:00,  1.25it/s]\n",
            "Sample 39/100:   0%|          | 0/8 [00:00<?, ?it/s]"
          ],
          "name": "stderr"
        },
        {
          "output_type": "stream",
          "text": [
            "--> Threshold 0.6100000000000001\n"
          ],
          "name": "stdout"
        },
        {
          "output_type": "stream",
          "text": [
            "Sample 39/100: 100%|██████████| 8/8 [00:06<00:00,  1.22it/s]\n",
            "Sample 40/100:   0%|          | 0/8 [00:00<?, ?it/s]"
          ],
          "name": "stderr"
        },
        {
          "output_type": "stream",
          "text": [
            "--> Threshold 0.6000000000000001\n"
          ],
          "name": "stdout"
        },
        {
          "output_type": "stream",
          "text": [
            "Sample 40/100: 100%|██████████| 8/8 [00:06<00:00,  1.21it/s]\n",
            "Sample 41/100:   0%|          | 0/8 [00:00<?, ?it/s]"
          ],
          "name": "stderr"
        },
        {
          "output_type": "stream",
          "text": [
            "--> Threshold 0.5900000000000001\n"
          ],
          "name": "stdout"
        },
        {
          "output_type": "stream",
          "text": [
            "Sample 41/100: 100%|██████████| 8/8 [00:06<00:00,  1.24it/s]\n",
            "Sample 42/100:   0%|          | 0/8 [00:00<?, ?it/s]"
          ],
          "name": "stderr"
        },
        {
          "output_type": "stream",
          "text": [
            "--> Threshold 0.5800000000000001\n"
          ],
          "name": "stdout"
        },
        {
          "output_type": "stream",
          "text": [
            "Sample 42/100: 100%|██████████| 8/8 [00:06<00:00,  1.20it/s]\n",
            "Sample 43/100:   0%|          | 0/8 [00:00<?, ?it/s]"
          ],
          "name": "stderr"
        },
        {
          "output_type": "stream",
          "text": [
            "--> Threshold 0.5700000000000001\n"
          ],
          "name": "stdout"
        },
        {
          "output_type": "stream",
          "text": [
            "Sample 43/100: 100%|██████████| 8/8 [00:06<00:00,  1.19it/s]\n",
            "Sample 44/100:   0%|          | 0/8 [00:00<?, ?it/s]"
          ],
          "name": "stderr"
        },
        {
          "output_type": "stream",
          "text": [
            "--> Threshold 0.56\n"
          ],
          "name": "stdout"
        },
        {
          "output_type": "stream",
          "text": [
            "Sample 44/100: 100%|██████████| 8/8 [00:06<00:00,  1.20it/s]\n",
            "Sample 45/100:   0%|          | 0/8 [00:00<?, ?it/s]"
          ],
          "name": "stderr"
        },
        {
          "output_type": "stream",
          "text": [
            "--> Threshold 0.55\n"
          ],
          "name": "stdout"
        },
        {
          "output_type": "stream",
          "text": [
            "Sample 45/100: 100%|██████████| 8/8 [00:06<00:00,  1.21it/s]\n",
            "Sample 46/100:   0%|          | 0/8 [00:00<?, ?it/s]"
          ],
          "name": "stderr"
        },
        {
          "output_type": "stream",
          "text": [
            "--> Threshold 0.54\n"
          ],
          "name": "stdout"
        },
        {
          "output_type": "stream",
          "text": [
            "Sample 46/100: 100%|██████████| 8/8 [00:06<00:00,  1.20it/s]\n",
            "Sample 47/100:   0%|          | 0/8 [00:00<?, ?it/s]"
          ],
          "name": "stderr"
        },
        {
          "output_type": "stream",
          "text": [
            "--> Threshold 0.53\n"
          ],
          "name": "stdout"
        },
        {
          "output_type": "stream",
          "text": [
            "Sample 47/100: 100%|██████████| 8/8 [00:06<00:00,  1.18it/s]\n",
            "Sample 48/100:   0%|          | 0/8 [00:00<?, ?it/s]"
          ],
          "name": "stderr"
        },
        {
          "output_type": "stream",
          "text": [
            "--> Threshold 0.52\n"
          ],
          "name": "stdout"
        },
        {
          "output_type": "stream",
          "text": [
            "Sample 48/100: 100%|██████████| 8/8 [00:06<00:00,  1.17it/s]\n",
            "Sample 49/100:   0%|          | 0/8 [00:00<?, ?it/s]"
          ],
          "name": "stderr"
        },
        {
          "output_type": "stream",
          "text": [
            "--> Threshold 0.51\n"
          ],
          "name": "stdout"
        },
        {
          "output_type": "stream",
          "text": [
            "Sample 49/100: 100%|██████████| 8/8 [00:06<00:00,  1.19it/s]\n",
            "Sample 50/100:   0%|          | 0/8 [00:00<?, ?it/s]"
          ],
          "name": "stderr"
        },
        {
          "output_type": "stream",
          "text": [
            "--> Threshold 0.5\n"
          ],
          "name": "stdout"
        },
        {
          "output_type": "stream",
          "text": [
            "Sample 50/100: 100%|██████████| 8/8 [00:06<00:00,  1.18it/s]\n"
          ],
          "name": "stderr"
        },
        {
          "output_type": "stream",
          "text": [
            "----> constraint use\n"
          ],
          "name": "stdout"
        },
        {
          "output_type": "stream",
          "text": [
            "\rSample 51/100:   0%|          | 0/50 [00:00<?, ?it/s]"
          ],
          "name": "stderr"
        },
        {
          "output_type": "stream",
          "text": [
            "--> Threshold 0.9900000000000004\n"
          ],
          "name": "stdout"
        },
        {
          "output_type": "stream",
          "text": [
            "Sample 51/100: 100%|██████████| 50/50 [01:11<00:00,  1.42s/it]\n",
            "Sample 52/100:   0%|          | 0/50 [00:00<?, ?it/s]"
          ],
          "name": "stderr"
        },
        {
          "output_type": "stream",
          "text": [
            "--> Threshold 0.9800000000000004\n"
          ],
          "name": "stdout"
        },
        {
          "output_type": "stream",
          "text": [
            "Sample 52/100: 100%|██████████| 50/50 [01:11<00:00,  1.43s/it]\n",
            "Sample 53/100:   0%|          | 0/50 [00:00<?, ?it/s]"
          ],
          "name": "stderr"
        },
        {
          "output_type": "stream",
          "text": [
            "--> Threshold 0.9700000000000004\n"
          ],
          "name": "stdout"
        },
        {
          "output_type": "stream",
          "text": [
            "Sample 53/100: 100%|██████████| 50/50 [01:10<00:00,  1.42s/it]\n",
            "Sample 54/100:   0%|          | 0/50 [00:00<?, ?it/s]"
          ],
          "name": "stderr"
        },
        {
          "output_type": "stream",
          "text": [
            "--> Threshold 0.9600000000000004\n"
          ],
          "name": "stdout"
        },
        {
          "output_type": "stream",
          "text": [
            "Sample 54/100: 100%|██████████| 50/50 [01:11<00:00,  1.42s/it]\n",
            "Sample 55/100:   0%|          | 0/50 [00:00<?, ?it/s]"
          ],
          "name": "stderr"
        },
        {
          "output_type": "stream",
          "text": [
            "--> Threshold 0.9500000000000004\n"
          ],
          "name": "stdout"
        },
        {
          "output_type": "stream",
          "text": [
            "Sample 55/100: 100%|██████████| 50/50 [01:09<00:00,  1.40s/it]\n",
            "Sample 56/100:   0%|          | 0/49 [00:00<?, ?it/s]"
          ],
          "name": "stderr"
        },
        {
          "output_type": "stream",
          "text": [
            "--> Threshold 0.9400000000000004\n"
          ],
          "name": "stdout"
        },
        {
          "output_type": "stream",
          "text": [
            "Sample 56/100: 100%|██████████| 49/49 [01:09<00:00,  1.43s/it]\n",
            "Sample 57/100:   0%|          | 0/49 [00:00<?, ?it/s]"
          ],
          "name": "stderr"
        },
        {
          "output_type": "stream",
          "text": [
            "--> Threshold 0.9300000000000004\n"
          ],
          "name": "stdout"
        },
        {
          "output_type": "stream",
          "text": [
            "Sample 57/100: 100%|██████████| 49/49 [01:07<00:00,  1.37s/it]\n",
            "Sample 58/100:   0%|          | 0/47 [00:00<?, ?it/s]"
          ],
          "name": "stderr"
        },
        {
          "output_type": "stream",
          "text": [
            "--> Threshold 0.9200000000000004\n"
          ],
          "name": "stdout"
        },
        {
          "output_type": "stream",
          "text": [
            "Sample 58/100: 100%|██████████| 47/47 [01:04<00:00,  1.37s/it]\n",
            "Sample 59/100:   0%|          | 0/45 [00:00<?, ?it/s]"
          ],
          "name": "stderr"
        },
        {
          "output_type": "stream",
          "text": [
            "--> Threshold 0.9100000000000004\n"
          ],
          "name": "stdout"
        },
        {
          "output_type": "stream",
          "text": [
            "Sample 59/100: 100%|██████████| 45/45 [01:00<00:00,  1.35s/it]\n",
            "Sample 60/100:   0%|          | 0/43 [00:00<?, ?it/s]"
          ],
          "name": "stderr"
        },
        {
          "output_type": "stream",
          "text": [
            "--> Threshold 0.9000000000000004\n"
          ],
          "name": "stdout"
        },
        {
          "output_type": "stream",
          "text": [
            "Sample 60/100: 100%|██████████| 43/43 [00:58<00:00,  1.36s/it]\n",
            "Sample 61/100:   0%|          | 0/42 [00:00<?, ?it/s]"
          ],
          "name": "stderr"
        },
        {
          "output_type": "stream",
          "text": [
            "--> Threshold 0.8900000000000003\n"
          ],
          "name": "stdout"
        },
        {
          "output_type": "stream",
          "text": [
            "Sample 61/100: 100%|██████████| 42/42 [00:55<00:00,  1.32s/it]\n",
            "Sample 62/100:   0%|          | 0/40 [00:00<?, ?it/s]"
          ],
          "name": "stderr"
        },
        {
          "output_type": "stream",
          "text": [
            "--> Threshold 0.8800000000000003\n"
          ],
          "name": "stdout"
        },
        {
          "output_type": "stream",
          "text": [
            "Sample 62/100: 100%|██████████| 40/40 [00:50<00:00,  1.27s/it]\n",
            "Sample 63/100:   0%|          | 0/37 [00:00<?, ?it/s]"
          ],
          "name": "stderr"
        },
        {
          "output_type": "stream",
          "text": [
            "--> Threshold 0.8700000000000003\n"
          ],
          "name": "stdout"
        },
        {
          "output_type": "stream",
          "text": [
            "Sample 63/100: 100%|██████████| 37/37 [00:43<00:00,  1.16s/it]\n",
            "Sample 64/100:   0%|          | 0/33 [00:00<?, ?it/s]"
          ],
          "name": "stderr"
        },
        {
          "output_type": "stream",
          "text": [
            "--> Threshold 0.8600000000000003\n"
          ],
          "name": "stdout"
        },
        {
          "output_type": "stream",
          "text": [
            "Sample 64/100: 100%|██████████| 33/33 [00:38<00:00,  1.16s/it]\n",
            "Sample 65/100:   0%|          | 0/31 [00:00<?, ?it/s]"
          ],
          "name": "stderr"
        },
        {
          "output_type": "stream",
          "text": [
            "--> Threshold 0.8500000000000003\n"
          ],
          "name": "stdout"
        },
        {
          "output_type": "stream",
          "text": [
            "Sample 65/100: 100%|██████████| 31/31 [00:34<00:00,  1.12s/it]\n",
            "Sample 66/100:   0%|          | 0/28 [00:00<?, ?it/s]"
          ],
          "name": "stderr"
        },
        {
          "output_type": "stream",
          "text": [
            "--> Threshold 0.8400000000000003\n"
          ],
          "name": "stdout"
        },
        {
          "output_type": "stream",
          "text": [
            "Sample 66/100: 100%|██████████| 28/28 [00:30<00:00,  1.09s/it]\n",
            "Sample 67/100:   0%|          | 0/26 [00:00<?, ?it/s]"
          ],
          "name": "stderr"
        },
        {
          "output_type": "stream",
          "text": [
            "--> Threshold 0.8300000000000003\n"
          ],
          "name": "stdout"
        },
        {
          "output_type": "stream",
          "text": [
            "Sample 67/100: 100%|██████████| 26/26 [00:27<00:00,  1.06s/it]\n",
            "Sample 68/100:   0%|          | 0/26 [00:00<?, ?it/s]"
          ],
          "name": "stderr"
        },
        {
          "output_type": "stream",
          "text": [
            "--> Threshold 0.8200000000000003\n"
          ],
          "name": "stdout"
        },
        {
          "output_type": "stream",
          "text": [
            "Sample 68/100: 100%|██████████| 26/26 [00:27<00:00,  1.05s/it]\n",
            "Sample 69/100:   0%|          | 0/26 [00:00<?, ?it/s]"
          ],
          "name": "stderr"
        },
        {
          "output_type": "stream",
          "text": [
            "--> Threshold 0.8100000000000003\n"
          ],
          "name": "stdout"
        },
        {
          "output_type": "stream",
          "text": [
            "Sample 69/100: 100%|██████████| 26/26 [00:26<00:00,  1.02s/it]\n",
            "Sample 70/100:   0%|          | 0/25 [00:00<?, ?it/s]"
          ],
          "name": "stderr"
        },
        {
          "output_type": "stream",
          "text": [
            "--> Threshold 0.8000000000000003\n"
          ],
          "name": "stdout"
        },
        {
          "output_type": "stream",
          "text": [
            "Sample 70/100: 100%|██████████| 25/25 [00:24<00:00,  1.00it/s]\n",
            "Sample 71/100:   0%|          | 0/22 [00:00<?, ?it/s]"
          ],
          "name": "stderr"
        },
        {
          "output_type": "stream",
          "text": [
            "--> Threshold 0.7900000000000003\n"
          ],
          "name": "stdout"
        },
        {
          "output_type": "stream",
          "text": [
            "Sample 71/100: 100%|██████████| 22/22 [00:20<00:00,  1.07it/s]\n",
            "Sample 72/100:   0%|          | 0/18 [00:00<?, ?it/s]"
          ],
          "name": "stderr"
        },
        {
          "output_type": "stream",
          "text": [
            "--> Threshold 0.7800000000000002\n"
          ],
          "name": "stdout"
        },
        {
          "output_type": "stream",
          "text": [
            "Sample 72/100: 100%|██████████| 18/18 [00:16<00:00,  1.07it/s]\n",
            "Sample 73/100:   0%|          | 0/16 [00:00<?, ?it/s]"
          ],
          "name": "stderr"
        },
        {
          "output_type": "stream",
          "text": [
            "--> Threshold 0.7700000000000002\n"
          ],
          "name": "stdout"
        },
        {
          "output_type": "stream",
          "text": [
            "Sample 73/100: 100%|██████████| 16/16 [00:12<00:00,  1.25it/s]\n",
            "Sample 74/100:   0%|          | 0/15 [00:00<?, ?it/s]"
          ],
          "name": "stderr"
        },
        {
          "output_type": "stream",
          "text": [
            "--> Threshold 0.7600000000000002\n"
          ],
          "name": "stdout"
        },
        {
          "output_type": "stream",
          "text": [
            "Sample 74/100: 100%|██████████| 15/15 [00:12<00:00,  1.24it/s]\n",
            "Sample 75/100:   0%|          | 0/15 [00:00<?, ?it/s]"
          ],
          "name": "stderr"
        },
        {
          "output_type": "stream",
          "text": [
            "--> Threshold 0.7500000000000002\n"
          ],
          "name": "stdout"
        },
        {
          "output_type": "stream",
          "text": [
            "Sample 75/100: 100%|██████████| 15/15 [00:12<00:00,  1.24it/s]\n",
            "Sample 76/100:   0%|          | 0/14 [00:00<?, ?it/s]"
          ],
          "name": "stderr"
        },
        {
          "output_type": "stream",
          "text": [
            "--> Threshold 0.7400000000000002\n"
          ],
          "name": "stdout"
        },
        {
          "output_type": "stream",
          "text": [
            "Sample 76/100: 100%|██████████| 14/14 [00:11<00:00,  1.21it/s]\n",
            "Sample 77/100:   0%|          | 0/13 [00:00<?, ?it/s]"
          ],
          "name": "stderr"
        },
        {
          "output_type": "stream",
          "text": [
            "--> Threshold 0.7300000000000002\n"
          ],
          "name": "stdout"
        },
        {
          "output_type": "stream",
          "text": [
            "Sample 77/100: 100%|██████████| 13/13 [00:10<00:00,  1.28it/s]\n",
            "Sample 78/100:   0%|          | 0/11 [00:00<?, ?it/s]"
          ],
          "name": "stderr"
        },
        {
          "output_type": "stream",
          "text": [
            "--> Threshold 0.7200000000000002\n"
          ],
          "name": "stdout"
        },
        {
          "output_type": "stream",
          "text": [
            "Sample 78/100: 100%|██████████| 11/11 [00:06<00:00,  1.76it/s]\n",
            "Sample 79/100:   0%|          | 0/11 [00:00<?, ?it/s]"
          ],
          "name": "stderr"
        },
        {
          "output_type": "stream",
          "text": [
            "--> Threshold 0.7100000000000002\n"
          ],
          "name": "stdout"
        },
        {
          "output_type": "stream",
          "text": [
            "Sample 79/100: 100%|██████████| 11/11 [00:06<00:00,  1.72it/s]\n",
            "Sample 80/100:   0%|          | 0/11 [00:00<?, ?it/s]"
          ],
          "name": "stderr"
        },
        {
          "output_type": "stream",
          "text": [
            "--> Threshold 0.7000000000000002\n"
          ],
          "name": "stdout"
        },
        {
          "output_type": "stream",
          "text": [
            "Sample 80/100: 100%|██████████| 11/11 [00:06<00:00,  1.72it/s]\n",
            "Sample 81/100:   0%|          | 0/11 [00:00<?, ?it/s]"
          ],
          "name": "stderr"
        },
        {
          "output_type": "stream",
          "text": [
            "--> Threshold 0.6900000000000002\n"
          ],
          "name": "stdout"
        },
        {
          "output_type": "stream",
          "text": [
            "Sample 81/100: 100%|██████████| 11/11 [00:06<00:00,  1.69it/s]\n",
            "Sample 82/100:   0%|          | 0/11 [00:00<?, ?it/s]"
          ],
          "name": "stderr"
        },
        {
          "output_type": "stream",
          "text": [
            "--> Threshold 0.6800000000000002\n"
          ],
          "name": "stdout"
        },
        {
          "output_type": "stream",
          "text": [
            "Sample 82/100: 100%|██████████| 11/11 [00:06<00:00,  1.67it/s]\n",
            "Sample 83/100:   0%|          | 0/11 [00:00<?, ?it/s]"
          ],
          "name": "stderr"
        },
        {
          "output_type": "stream",
          "text": [
            "--> Threshold 0.6700000000000002\n"
          ],
          "name": "stdout"
        },
        {
          "output_type": "stream",
          "text": [
            "Sample 83/100: 100%|██████████| 11/11 [00:06<00:00,  1.66it/s]\n",
            "Sample 84/100:   0%|          | 0/11 [00:00<?, ?it/s]"
          ],
          "name": "stderr"
        },
        {
          "output_type": "stream",
          "text": [
            "--> Threshold 0.6600000000000001\n"
          ],
          "name": "stdout"
        },
        {
          "output_type": "stream",
          "text": [
            "Sample 84/100: 100%|██████████| 11/11 [00:06<00:00,  1.64it/s]\n",
            "Sample 85/100:   0%|          | 0/11 [00:00<?, ?it/s]"
          ],
          "name": "stderr"
        },
        {
          "output_type": "stream",
          "text": [
            "--> Threshold 0.6500000000000001\n"
          ],
          "name": "stdout"
        },
        {
          "output_type": "stream",
          "text": [
            "Sample 85/100: 100%|██████████| 11/11 [00:06<00:00,  1.64it/s]\n",
            "Sample 86/100:   0%|          | 0/9 [00:00<?, ?it/s]"
          ],
          "name": "stderr"
        },
        {
          "output_type": "stream",
          "text": [
            "--> Threshold 0.6400000000000001\n"
          ],
          "name": "stdout"
        },
        {
          "output_type": "stream",
          "text": [
            "Sample 86/100: 100%|██████████| 9/9 [00:04<00:00,  1.84it/s]\n",
            "Sample 87/100:   0%|          | 0/9 [00:00<?, ?it/s]"
          ],
          "name": "stderr"
        },
        {
          "output_type": "stream",
          "text": [
            "--> Threshold 0.6300000000000001\n"
          ],
          "name": "stdout"
        },
        {
          "output_type": "stream",
          "text": [
            "Sample 87/100: 100%|██████████| 9/9 [00:04<00:00,  1.86it/s]\n",
            "Sample 88/100:   0%|          | 0/8 [00:00<?, ?it/s]"
          ],
          "name": "stderr"
        },
        {
          "output_type": "stream",
          "text": [
            "--> Threshold 0.6200000000000001\n"
          ],
          "name": "stdout"
        },
        {
          "output_type": "stream",
          "text": [
            "Sample 88/100: 100%|██████████| 8/8 [00:04<00:00,  1.80it/s]\n",
            "Sample 89/100:   0%|          | 0/8 [00:00<?, ?it/s]"
          ],
          "name": "stderr"
        },
        {
          "output_type": "stream",
          "text": [
            "--> Threshold 0.6100000000000001\n"
          ],
          "name": "stdout"
        },
        {
          "output_type": "stream",
          "text": [
            "Sample 89/100: 100%|██████████| 8/8 [00:04<00:00,  1.81it/s]\n",
            "Sample 90/100:   0%|          | 0/8 [00:00<?, ?it/s]"
          ],
          "name": "stderr"
        },
        {
          "output_type": "stream",
          "text": [
            "--> Threshold 0.6000000000000001\n"
          ],
          "name": "stdout"
        },
        {
          "output_type": "stream",
          "text": [
            "Sample 90/100: 100%|██████████| 8/8 [00:04<00:00,  1.81it/s]\n",
            "Sample 91/100:   0%|          | 0/8 [00:00<?, ?it/s]"
          ],
          "name": "stderr"
        },
        {
          "output_type": "stream",
          "text": [
            "--> Threshold 0.5900000000000001\n"
          ],
          "name": "stdout"
        },
        {
          "output_type": "stream",
          "text": [
            "Sample 91/100: 100%|██████████| 8/8 [00:04<00:00,  1.81it/s]\n",
            "Sample 92/100:   0%|          | 0/8 [00:00<?, ?it/s]"
          ],
          "name": "stderr"
        },
        {
          "output_type": "stream",
          "text": [
            "--> Threshold 0.5800000000000001\n"
          ],
          "name": "stdout"
        },
        {
          "output_type": "stream",
          "text": [
            "Sample 92/100: 100%|██████████| 8/8 [00:05<00:00,  1.53it/s]\n",
            "Sample 93/100:   0%|          | 0/8 [00:00<?, ?it/s]"
          ],
          "name": "stderr"
        },
        {
          "output_type": "stream",
          "text": [
            "--> Threshold 0.5700000000000001\n"
          ],
          "name": "stdout"
        },
        {
          "output_type": "stream",
          "text": [
            "Sample 93/100: 100%|██████████| 8/8 [00:04<00:00,  1.71it/s]\n",
            "Sample 94/100:   0%|          | 0/8 [00:00<?, ?it/s]"
          ],
          "name": "stderr"
        },
        {
          "output_type": "stream",
          "text": [
            "--> Threshold 0.56\n"
          ],
          "name": "stdout"
        },
        {
          "output_type": "stream",
          "text": [
            "Sample 94/100: 100%|██████████| 8/8 [00:04<00:00,  1.79it/s]\n",
            "Sample 95/100:   0%|          | 0/8 [00:00<?, ?it/s]"
          ],
          "name": "stderr"
        },
        {
          "output_type": "stream",
          "text": [
            "--> Threshold 0.55\n"
          ],
          "name": "stdout"
        },
        {
          "output_type": "stream",
          "text": [
            "Sample 95/100: 100%|██████████| 8/8 [00:04<00:00,  1.78it/s]\n",
            "Sample 96/100:   0%|          | 0/8 [00:00<?, ?it/s]"
          ],
          "name": "stderr"
        },
        {
          "output_type": "stream",
          "text": [
            "--> Threshold 0.54\n"
          ],
          "name": "stdout"
        },
        {
          "output_type": "stream",
          "text": [
            "Sample 96/100: 100%|██████████| 8/8 [00:04<00:00,  1.81it/s]\n",
            "Sample 97/100:   0%|          | 0/8 [00:00<?, ?it/s]"
          ],
          "name": "stderr"
        },
        {
          "output_type": "stream",
          "text": [
            "--> Threshold 0.53\n"
          ],
          "name": "stdout"
        },
        {
          "output_type": "stream",
          "text": [
            "Sample 97/100: 100%|██████████| 8/8 [00:04<00:00,  1.81it/s]\n",
            "Sample 98/100:   0%|          | 0/8 [00:00<?, ?it/s]"
          ],
          "name": "stderr"
        },
        {
          "output_type": "stream",
          "text": [
            "--> Threshold 0.52\n"
          ],
          "name": "stdout"
        },
        {
          "output_type": "stream",
          "text": [
            "Sample 98/100: 100%|██████████| 8/8 [00:04<00:00,  1.80it/s]\n",
            "Sample 99/100:   0%|          | 0/8 [00:00<?, ?it/s]"
          ],
          "name": "stderr"
        },
        {
          "output_type": "stream",
          "text": [
            "--> Threshold 0.51\n"
          ],
          "name": "stdout"
        },
        {
          "output_type": "stream",
          "text": [
            "Sample 99/100: 100%|██████████| 8/8 [00:04<00:00,  1.81it/s]\n",
            "Sample 100/100:   0%|          | 0/8 [00:00<?, ?it/s]"
          ],
          "name": "stderr"
        },
        {
          "output_type": "stream",
          "text": [
            "--> Threshold 0.5\n"
          ],
          "name": "stdout"
        },
        {
          "output_type": "stream",
          "text": [
            "Sample 100/100: 100%|██████████| 8/8 [00:04<00:00,  1.82it/s]\n"
          ],
          "name": "stderr"
        }
      ]
    },
    {
      "cell_type": "code",
      "metadata": {
        "id": "K2nOfbvZNVQM",
        "colab_type": "code",
        "colab": {
          "base_uri": "https://localhost:8080/",
          "height": 792
        },
        "outputId": "96e493d6-572b-4e8f-f702-6c798e6c7166"
      },
      "source": [
        "##\n",
        "## PLOT AUC AND STUFF\n",
        "##\n",
        "\n",
        "import matplotlib.pyplot as plt\n",
        "import pandas as pd\n",
        "import seaborn as sns\n",
        "import sklearn\n",
        "\n",
        "sns.set()\n",
        "\n",
        "second_order_df = pd.DataFrame(data) \\\n",
        "                    .rename(columns={'num_successes': 'num_second_order_successes'}) \\\n",
        "                    .drop('num_words_to_swap', axis=1)\n",
        "first_order_df = pd.DataFrame(data2) \\\n",
        "                    .rename(columns={'num_successes': 'num_first_order_successes'})\n",
        "\n",
        "full_df = pd.merge(first_order_df, second_order_df)\n",
        "\n",
        "df_models = full_df['model'].unique()\n",
        "fig, ax = plt.subplots(1, len(df_models), figsize=(24, 6))\n",
        "\n",
        "for model_idx, model in enumerate(df_models):\n",
        "  df = full_df[full_df['model'] == model].reset_index()\n",
        "  # Add datapoints where eps=1.0 and success rate is zero, instead of actually running\n",
        "  # futile attacks.\n",
        "  for constraint in df['constraint'].unique():\n",
        "    zero_data_point = df[df['constraint'] == constraint] \\\n",
        "                         [df['num_first_order_successes'] == 0.0] \\\n",
        "                         [df['num_second_order_successes'] == 0.0]\n",
        "    if zero_data_point.empty:\n",
        "      extra_data_point = { 'constraint': constraint, 'num_first_order_successes': 0.0, 'num_second_order_successes': 0.0 } # The \\eps=1.0 datapoint\n",
        "      extra_data_point_row = [extra_data_point.get(c) for c in df.columns]\n",
        "      df.loc[-1] = extra_data_point_row # add row\n",
        "      df.index = df.index + 1  # shifting index\n",
        "      df.sort_index(inplace=True) \n",
        "\n",
        "  # Calculate rate in terms of num successes\n",
        "  df['first_order_success_rate'] = df['num_first_order_successes'] / num_samples\n",
        "  df['second_order_success_rate'] = df['num_second_order_successes'] / num_samples\n",
        "\n",
        "  labels = []\n",
        "  # Calculate AUC.\n",
        "  for constraint in df['constraint'].unique():\n",
        "    x = df[df['constraint'] == constraint]['second_order_success_rate']\n",
        "    y = df[df['constraint'] == constraint]['first_order_success_rate']\n",
        "    auc = sklearn.metrics.auc(x, y)\n",
        "    accs = auc / (max(x) * max(y))\n",
        "    print(constraint)\n",
        "    print(f'--> AUC: {auc}')\n",
        "    print(f'--> ACCS: {accs}')\n",
        "    \n",
        "    labels.append(f'{constraint} (ACCS = {accs:.3f})')\n",
        "  print('labels', labels)\n",
        "  # Plot curve.\n",
        "  sns.lineplot(df['second_order_success_rate'], df['first_order_success_rate'], \n",
        "                hue=df['constraint'], ci=0, ax=ax[model_idx], lw=4)\n",
        "\n",
        "  ax[model_idx].get_lines()[1].set_linestyle('--')\n",
        "  \n",
        "  ax[model_idx].legend(labels, loc=4, prop={'size': 18}) # bottom right, see https://matplotlib.org/api/_as_gen/matplotlib.axes.Axes.legend.html\n",
        "  ax[model_idx].set_title(model, fontsize=22)\n",
        "  ax[model_idx].set_xlabel('Second-order attack success rate', fontsize=18)\n",
        "  ax[model_idx].set_ylabel('First-order attack success rate',  fontsize=18)\n",
        "  # ax[model_idx].set_xlabel('')\n",
        "  # ax[model_idx].set_ylabel('')\n",
        "\n",
        "plt.tight_layout()\n",
        "plt.savefig('attack_curve_sst2.pdf')"
      ],
      "execution_count": 7,
      "outputs": [
        {
          "output_type": "stream",
          "text": [
            "/usr/local/lib/python3.6/dist-packages/statsmodels/tools/_testing.py:19: FutureWarning: pandas.util.testing is deprecated. Use the functions in the public API at pandas.testing instead.\n",
            "  import pandas.util.testing as tm\n",
            "/usr/local/lib/python3.6/dist-packages/ipykernel_launcher.py:25: UserWarning: Boolean Series key will be reindexed to match DataFrame index.\n"
          ],
          "name": "stderr"
        },
        {
          "output_type": "stream",
          "text": [
            "BERTScore\n",
            "--> AUC: 0.1232\n",
            "--> ACCS: 0.32905982905982906\n",
            "UniversalSentenceEncoder\n",
            "--> AUC: 0.15400000000000003\n",
            "--> ACCS: 0.41132478632478636\n",
            "labels ['BERTScore (ACCS = 0.329)', 'UniversalSentenceEncoder (ACCS = 0.411)']\n"
          ],
          "name": "stdout"
        },
        {
          "output_type": "stream",
          "text": [
            "/usr/local/lib/python3.6/dist-packages/ipykernel_launcher.py:25: UserWarning: Boolean Series key will be reindexed to match DataFrame index.\n"
          ],
          "name": "stderr"
        },
        {
          "output_type": "stream",
          "text": [
            "BERTScore\n",
            "--> AUC: 0.1304\n",
            "--> ACCS: 0.3313008130081301\n",
            "UniversalSentenceEncoder\n",
            "--> AUC: 0.16699999999999998\n",
            "--> ACCS: 0.4242886178861789\n",
            "labels ['BERTScore (ACCS = 0.331)', 'UniversalSentenceEncoder (ACCS = 0.424)']\n"
          ],
          "name": "stdout"
        },
        {
          "output_type": "stream",
          "text": [
            "/usr/local/lib/python3.6/dist-packages/ipykernel_launcher.py:25: UserWarning: Boolean Series key will be reindexed to match DataFrame index.\n"
          ],
          "name": "stderr"
        },
        {
          "output_type": "stream",
          "text": [
            "BERTScore\n",
            "--> AUC: 0.1522\n",
            "--> ACCS: 0.3774801587301588\n",
            "UniversalSentenceEncoder\n",
            "--> AUC: 0.1656\n",
            "--> ACCS: 0.41071428571428575\n",
            "labels ['BERTScore (ACCS = 0.377)', 'UniversalSentenceEncoder (ACCS = 0.411)']\n"
          ],
          "name": "stdout"
        },
        {
          "output_type": "display_data",
          "data": {
            "image/png": "[encoded data removed]",
            "text/plain": [
              "<Figure size 1728x432 with 3 Axes>"
            ]
          },
          "metadata": {
            "tags": []
          }
        }
      ]
    },
    {
      "cell_type": "code",
      "metadata": {
        "id": "5WnNGk__sXGb",
        "colab_type": "code",
        "colab": {
          "base_uri": "https://localhost:8080/",
          "height": 304
        },
        "outputId": "432a38fd-ba7a-4792-9462-dda8feb43a8b"
      },
      "source": [
        "df.plot(x='threshold', y='num_second_order_successes')"
      ],
      "execution_count": 8,
      "outputs": [
        {
          "output_type": "execute_result",
          "data": {
            "text/plain": [
              "<matplotlib.axes._subplots.AxesSubplot at 0x7f412acf3080>"
            ]
          },
          "metadata": {
            "tags": []
          },
          "execution_count": 8
        },
        {
          "output_type": "display_data",
          "data": {
            "image/png": "[encoded data removed]",
            "text/plain": [
              "<Figure size 432x288 with 1 Axes>"
            ]
          },
          "metadata": {
            "tags": []
          }
        }
      ]
    },
    {
      "cell_type": "code",
      "metadata": {
        "id": "r6M0nd0cKapq",
        "colab_type": "code",
        "colab": {
          "base_uri": "https://localhost:8080/",
          "height": 437
        },
        "outputId": "d4fbf024-f0bb-47b8-d2e9-cbe23665f5af"
      },
      "source": [
        "##\n",
        "## PLOT ATTACK SUCCESS AND STUFF\n",
        "##\n",
        "\n",
        "import matplotlib.pyplot as plt\n",
        "import pandas as pd\n",
        "import seaborn as sns\n",
        "import sklearn\n",
        "\n",
        "df_models = full_df['model'].unique()\n",
        "fig, ax = plt.subplots(1, len(df_models), figsize=(24, 6))\n",
        "\n",
        "LINE_WIDTH = 2.5    # thickish\n",
        "COLOR_1 = \"#9b59b6\" # purplish\n",
        "COLOR_2 = \"#34495e\" # blackish\n",
        "\n",
        "print('models -> ', df_models)\n",
        "for model_idx, model in enumerate(df_models):\n",
        "  df = full_df[full_df['model'] == model].reset_index()\n",
        "\n",
        "  # Calculate rate in terms of num successes\n",
        "  df['first_order_success_rate'] = df['num_first_order_successes'] / num_samples\n",
        "  df['second_order_success_rate'] = df['num_second_order_successes'] / num_samples\n",
        "  \n",
        "  # Add datapoints where eps=1.0 and success rate is zero, instead of actually running\n",
        "  # futile attacks.\n",
        "  for constraint in df['constraint'].unique():\n",
        "    zero_data_point = df[df['constraint'] == constraint] \\\n",
        "                         [df['num_first_order_successes'] == 0.0] \\\n",
        "                         [df['num_second_order_successes'] == 0.0]\n",
        "    if zero_data_point.empty:\n",
        "      extra_data_point = { 'constraint': constraint, 'num_first_order_successes': 0.0, 'num_second_order_successes': 0.0 } # The \\eps=1.0 datapoint\n",
        "      extra_data_point_row = [extra_data_point.get(c) for c in df.columns]\n",
        "      df.loc[-1] = extra_data_point_row # add row\n",
        "      df.index = df.index + 1  # shifting index\n",
        "      df.sort_index(inplace=True)\n",
        "\n",
        "  # Plot curve.\n",
        "  sns.lineplot(df['threshold'].astype(float), df['first_order_success_rate'].astype(float), \n",
        "                color=COLOR_1, ci=0, lw=LINE_WIDTH, ax=ax[model_idx])\n",
        "  \n",
        "  sns.lineplot(df['threshold'].astype(float), df['second_order_success_rate'].astype(float), \n",
        "                color=COLOR_2, ci=0, lw=LINE_WIDTH, ax=ax[model_idx])\n",
        "  \n",
        "  # ax[model_idx].get_lines()[-1].set_linestyle('--')\n",
        "  ax[model_idx].legend(['First-order attack', 'Second-order attack'], loc=4) # bottom right, see https://matplotlib.org/api/_as_gen/matplotlib.axes.Axes.legend.html\n",
        "  ax[model_idx].set_title(model)\n",
        "\n",
        "  ax[model_idx].set_xlabel('Threshold (ε)')\n",
        "  ax[model_idx].set_ylabel('Attack Success Rate')\n",
        "\n",
        "  # plt.xlabel('Second-order attack success rate')\n",
        "  # plt.ylabel('First-order attack success rate')\n",
        "  # plt.title('SNLI')\n",
        "  plt.savefig('attack_successes_sst2.pdf')"
      ],
      "execution_count": 9,
      "outputs": [
        {
          "output_type": "stream",
          "text": [
            "models ->  ['textattack/bert-base-uncased-SST-2' 'textattack/albert-base-v2-SST-2'\n",
            " 'textattack/distilbert-base-cased-SST-2']\n"
          ],
          "name": "stdout"
        },
        {
          "output_type": "stream",
          "text": [
            "/usr/local/lib/python3.6/dist-packages/ipykernel_launcher.py:28: UserWarning: Boolean Series key will be reindexed to match DataFrame index.\n",
            "/usr/local/lib/python3.6/dist-packages/ipykernel_launcher.py:28: UserWarning: Boolean Series key will be reindexed to match DataFrame index.\n",
            "/usr/local/lib/python3.6/dist-packages/ipykernel_launcher.py:28: UserWarning: Boolean Series key will be reindexed to match DataFrame index.\n"
          ],
          "name": "stderr"
        },
        {
          "output_type": "display_data",
          "data": {
            "image/png": "[encoded data removed]",
            "text/plain": [
              "<Figure size 1728x432 with 3 Axes>"
            ]
          },
          "metadata": {
            "tags": []
          }
        }
      ]
    }
  ]
}